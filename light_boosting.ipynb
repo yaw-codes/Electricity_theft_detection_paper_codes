{
 "cells": [
  {
   "cell_type": "code",
   "execution_count": 1,
   "id": "8ffe288d-b6ef-403f-a1ce-54fea772cb3d",
   "metadata": {},
   "outputs": [],
   "source": [
    "from sklearn.decomposition import KernelPCA\n",
    "import numpy as np\n",
    "import pandas as pd\n",
    "import matplotlib.pyplot as plt\n",
    "import seaborn as sns\n",
    "%matplotlib inline\n",
    "from sklearn.metrics import classification_report\n",
    "from sklearn.metrics import accuracy_score,precision_score,roc_auc_score,f1_score,recall_score,make_scorer,plot_confusion_matrix\n",
    "from sklearn.model_selection import train_test_split\n",
    "from sklearn.metrics import ConfusionMatrixDisplay,confusion_matrix,roc_curve,auc,accuracy_score\n",
    "from sklearn.model_selection import GridSearchCV\n",
    "from imblearn.over_sampling import SMOTE\n",
    "from sklearn.utils import shuffle\n",
    "from catboost import CatBoostClassifier"
   ]
  },
  {
   "cell_type": "code",
   "execution_count": 2,
   "id": "75be4d8c-f3a8-40d9-96cc-1db6885fd1dd",
   "metadata": {},
   "outputs": [],
   "source": [
    "\n",
    "import lightgbm as lgb\n",
    " \n",
    "# Similarly LGBMRegressor can also be imported for a regression model.\n",
    "from lightgbm import LGBMClassifier"
   ]
  },
  {
   "cell_type": "code",
   "execution_count": null,
   "id": "92eadbe6-56a8-4dab-83b8-1b454f0d7434",
   "metadata": {},
   "outputs": [],
   "source": []
  },
  {
   "cell_type": "code",
   "execution_count": 3,
   "id": "e342f5f5-8694-4e7c-8f0a-8f47ccbd4f8c",
   "metadata": {},
   "outputs": [],
   "source": [
    "df = pd.read_csv(\"./Data_clean/min_max_both_inter_scaled.csv\")"
   ]
  },
  {
   "cell_type": "code",
   "execution_count": 4,
   "id": "0893377c-4e05-4b2b-93e5-172a63587bf4",
   "metadata": {},
   "outputs": [],
   "source": [
    "X = df.drop([\"FLAG\",\"CONS_NO\"],axis=1)"
   ]
  },
  {
   "cell_type": "code",
   "execution_count": 5,
   "id": "3bcaec1c-4672-46d8-8980-61accf59a24d",
   "metadata": {},
   "outputs": [],
   "source": [
    "y= df.FLAG"
   ]
  },
  {
   "cell_type": "code",
   "execution_count": 6,
   "id": "dfa26b43-6ba2-413b-a098-30c191b21f27",
   "metadata": {},
   "outputs": [],
   "source": [
    "X= np.array(X.values)"
   ]
  },
  {
   "cell_type": "code",
   "execution_count": 7,
   "id": "aa714cec-687c-4e91-ad38-0dc418923714",
   "metadata": {},
   "outputs": [],
   "source": [
    "y= np.array(y.values)"
   ]
  },
  {
   "cell_type": "code",
   "execution_count": null,
   "id": "2c141adf-1f5e-4880-bc3a-68005b9779a8",
   "metadata": {},
   "outputs": [],
   "source": []
  },
  {
   "cell_type": "markdown",
   "id": "f452f1cf-3a8d-4480-846f-9e4317ddae29",
   "metadata": {},
   "source": [
    "## building a  model without any over-sampling"
   ]
  },
  {
   "cell_type": "code",
   "execution_count": 8,
   "id": "f386fdde-74b1-49fa-b153-e981cca97cb0",
   "metadata": {},
   "outputs": [],
   "source": [
    "model_light = LGBMClassifier(n_jobs=-1,)"
   ]
  },
  {
   "cell_type": "code",
   "execution_count": 9,
   "id": "63e4e369-3754-48fb-86a6-9a11a6d83691",
   "metadata": {},
   "outputs": [
    {
     "data": {
      "text/plain": [
       "{'boosting_type': 'gbdt',\n",
       " 'class_weight': None,\n",
       " 'colsample_bytree': 1.0,\n",
       " 'importance_type': 'split',\n",
       " 'learning_rate': 0.1,\n",
       " 'max_depth': -1,\n",
       " 'min_child_samples': 20,\n",
       " 'min_child_weight': 0.001,\n",
       " 'min_split_gain': 0.0,\n",
       " 'n_estimators': 100,\n",
       " 'n_jobs': -1,\n",
       " 'num_leaves': 31,\n",
       " 'objective': None,\n",
       " 'random_state': None,\n",
       " 'reg_alpha': 0.0,\n",
       " 'reg_lambda': 0.0,\n",
       " 'silent': 'warn',\n",
       " 'subsample': 1.0,\n",
       " 'subsample_for_bin': 200000,\n",
       " 'subsample_freq': 0}"
      ]
     },
     "execution_count": 9,
     "metadata": {},
     "output_type": "execute_result"
    }
   ],
   "source": [
    "model_light.get_params()"
   ]
  },
  {
   "cell_type": "code",
   "execution_count": null,
   "id": "73ba278b-644a-47e6-964a-4c4e505af2a0",
   "metadata": {},
   "outputs": [],
   "source": []
  },
  {
   "cell_type": "code",
   "execution_count": 12,
   "id": "f81a9c6c-1087-4365-8db7-89db3c659a0b",
   "metadata": {},
   "outputs": [],
   "source": [
    "grid_light = GridSearchCV(\n",
    "    estimator=LGBMClassifier(n_jobs=-1),\n",
    "    param_grid={\"class_weight\":[{0:1,1:v} for v in range(2,5)],\n",
    "               },\n",
    "    scoring={\"precision\": make_scorer(precision_score),\n",
    "            \"recall\":make_scorer(recall_score),\n",
    "            \"f1_score\":make_scorer(f1_score),\n",
    "           \"roc_auc_score\":make_scorer(roc_auc_score)\n",
    "            },\n",
    "    refit=\"roc_auc_score\",\n",
    "    return_train_score=True,\n",
    "    verbose=1,\n",
    "    cv=3,\n",
    "    n_jobs=-1\n",
    "    \n",
    "    \n",
    ")"
   ]
  },
  {
   "cell_type": "code",
   "execution_count": 13,
   "id": "82bbcaa7-db85-48fa-819c-b14eed633be2",
   "metadata": {},
   "outputs": [
    {
     "name": "stdout",
     "output_type": "stream",
     "text": [
      "Fitting 3 folds for each of 3 candidates, totalling 9 fits\n"
     ]
    },
    {
     "data": {
      "text/plain": [
       "GridSearchCV(cv=3, estimator=LGBMClassifier(), n_jobs=-1,\n",
       "             param_grid={'class_weight': [{0: 1, 1: 2}, {0: 1, 1: 3},\n",
       "                                          {0: 1, 1: 4}]},\n",
       "             refit='roc_auc_score', return_train_score=True,\n",
       "             scoring={'f1_score': make_scorer(f1_score),\n",
       "                      'precision': make_scorer(precision_score),\n",
       "                      'recall': make_scorer(recall_score),\n",
       "                      'roc_auc_score': make_scorer(roc_auc_score)},\n",
       "             verbose=1)"
      ]
     },
     "execution_count": 13,
     "metadata": {},
     "output_type": "execute_result"
    }
   ],
   "source": [
    "grid_light.fit(X,y)"
   ]
  },
  {
   "cell_type": "code",
   "execution_count": 15,
   "id": "5a175249-7688-4a0d-82d0-e513b75297b3",
   "metadata": {},
   "outputs": [],
   "source": [
    "results = pd.DataFrame(grid_light.cv_results_)"
   ]
  },
  {
   "cell_type": "code",
   "execution_count": 16,
   "id": "ce704dac-7a11-4c98-8239-3a1853d7ce48",
   "metadata": {},
   "outputs": [
    {
     "data": {
      "text/html": [
       "<div>\n",
       "<style scoped>\n",
       "    .dataframe tbody tr th:only-of-type {\n",
       "        vertical-align: middle;\n",
       "    }\n",
       "\n",
       "    .dataframe tbody tr th {\n",
       "        vertical-align: top;\n",
       "    }\n",
       "\n",
       "    .dataframe thead th {\n",
       "        text-align: right;\n",
       "    }\n",
       "</style>\n",
       "<table border=\"1\" class=\"dataframe\">\n",
       "  <thead>\n",
       "    <tr style=\"text-align: right;\">\n",
       "      <th></th>\n",
       "      <th>mean_fit_time</th>\n",
       "      <th>std_fit_time</th>\n",
       "      <th>mean_score_time</th>\n",
       "      <th>std_score_time</th>\n",
       "      <th>param_class_weight</th>\n",
       "      <th>params</th>\n",
       "      <th>split0_test_precision</th>\n",
       "      <th>split1_test_precision</th>\n",
       "      <th>split2_test_precision</th>\n",
       "      <th>mean_test_precision</th>\n",
       "      <th>...</th>\n",
       "      <th>split1_test_roc_auc_score</th>\n",
       "      <th>split2_test_roc_auc_score</th>\n",
       "      <th>mean_test_roc_auc_score</th>\n",
       "      <th>std_test_roc_auc_score</th>\n",
       "      <th>rank_test_roc_auc_score</th>\n",
       "      <th>split0_train_roc_auc_score</th>\n",
       "      <th>split1_train_roc_auc_score</th>\n",
       "      <th>split2_train_roc_auc_score</th>\n",
       "      <th>mean_train_roc_auc_score</th>\n",
       "      <th>std_train_roc_auc_score</th>\n",
       "    </tr>\n",
       "  </thead>\n",
       "  <tbody>\n",
       "    <tr>\n",
       "      <th>0</th>\n",
       "      <td>84.865551</td>\n",
       "      <td>0.772899</td>\n",
       "      <td>0.396290</td>\n",
       "      <td>0.029188</td>\n",
       "      <td>{0: 1, 1: 2}</td>\n",
       "      <td>{'class_weight': {0: 1, 1: 2}}</td>\n",
       "      <td>0.650655</td>\n",
       "      <td>0.633094</td>\n",
       "      <td>0.632812</td>\n",
       "      <td>0.638854</td>\n",
       "      <td>...</td>\n",
       "      <td>0.569592</td>\n",
       "      <td>0.564051</td>\n",
       "      <td>0.564273</td>\n",
       "      <td>0.004255</td>\n",
       "      <td>3</td>\n",
       "      <td>0.768962</td>\n",
       "      <td>0.767434</td>\n",
       "      <td>0.777079</td>\n",
       "      <td>0.771158</td>\n",
       "      <td>0.004233</td>\n",
       "    </tr>\n",
       "    <tr>\n",
       "      <th>1</th>\n",
       "      <td>86.893450</td>\n",
       "      <td>0.390846</td>\n",
       "      <td>0.448001</td>\n",
       "      <td>0.049421</td>\n",
       "      <td>{0: 1, 1: 3}</td>\n",
       "      <td>{'class_weight': {0: 1, 1: 3}}</td>\n",
       "      <td>0.621693</td>\n",
       "      <td>0.548309</td>\n",
       "      <td>0.584000</td>\n",
       "      <td>0.584667</td>\n",
       "      <td>...</td>\n",
       "      <td>0.587491</td>\n",
       "      <td>0.585405</td>\n",
       "      <td>0.588513</td>\n",
       "      <td>0.003042</td>\n",
       "      <td>2</td>\n",
       "      <td>0.823129</td>\n",
       "      <td>0.828016</td>\n",
       "      <td>0.829595</td>\n",
       "      <td>0.826913</td>\n",
       "      <td>0.002752</td>\n",
       "    </tr>\n",
       "    <tr>\n",
       "      <th>2</th>\n",
       "      <td>72.187414</td>\n",
       "      <td>21.923257</td>\n",
       "      <td>0.301748</td>\n",
       "      <td>0.047051</td>\n",
       "      <td>{0: 1, 1: 4}</td>\n",
       "      <td>{'class_weight': {0: 1, 1: 4}}</td>\n",
       "      <td>0.528195</td>\n",
       "      <td>0.485618</td>\n",
       "      <td>0.490741</td>\n",
       "      <td>0.501518</td>\n",
       "      <td>...</td>\n",
       "      <td>0.607852</td>\n",
       "      <td>0.599817</td>\n",
       "      <td>0.605058</td>\n",
       "      <td>0.003709</td>\n",
       "      <td>1</td>\n",
       "      <td>0.868296</td>\n",
       "      <td>0.869885</td>\n",
       "      <td>0.864800</td>\n",
       "      <td>0.867660</td>\n",
       "      <td>0.002124</td>\n",
       "    </tr>\n",
       "  </tbody>\n",
       "</table>\n",
       "<p>3 rows × 50 columns</p>\n",
       "</div>"
      ],
      "text/plain": [
       "   mean_fit_time  std_fit_time  mean_score_time  std_score_time  \\\n",
       "0      84.865551      0.772899         0.396290        0.029188   \n",
       "1      86.893450      0.390846         0.448001        0.049421   \n",
       "2      72.187414     21.923257         0.301748        0.047051   \n",
       "\n",
       "  param_class_weight                          params  split0_test_precision  \\\n",
       "0       {0: 1, 1: 2}  {'class_weight': {0: 1, 1: 2}}               0.650655   \n",
       "1       {0: 1, 1: 3}  {'class_weight': {0: 1, 1: 3}}               0.621693   \n",
       "2       {0: 1, 1: 4}  {'class_weight': {0: 1, 1: 4}}               0.528195   \n",
       "\n",
       "   split1_test_precision  split2_test_precision  mean_test_precision  ...  \\\n",
       "0               0.633094               0.632812             0.638854  ...   \n",
       "1               0.548309               0.584000             0.584667  ...   \n",
       "2               0.485618               0.490741             0.501518  ...   \n",
       "\n",
       "   split1_test_roc_auc_score  split2_test_roc_auc_score  \\\n",
       "0                   0.569592                   0.564051   \n",
       "1                   0.587491                   0.585405   \n",
       "2                   0.607852                   0.599817   \n",
       "\n",
       "   mean_test_roc_auc_score  std_test_roc_auc_score  rank_test_roc_auc_score  \\\n",
       "0                 0.564273                0.004255                        3   \n",
       "1                 0.588513                0.003042                        2   \n",
       "2                 0.605058                0.003709                        1   \n",
       "\n",
       "   split0_train_roc_auc_score  split1_train_roc_auc_score  \\\n",
       "0                    0.768962                    0.767434   \n",
       "1                    0.823129                    0.828016   \n",
       "2                    0.868296                    0.869885   \n",
       "\n",
       "   split2_train_roc_auc_score  mean_train_roc_auc_score  \\\n",
       "0                    0.777079                  0.771158   \n",
       "1                    0.829595                  0.826913   \n",
       "2                    0.864800                  0.867660   \n",
       "\n",
       "   std_train_roc_auc_score  \n",
       "0                 0.004233  \n",
       "1                 0.002752  \n",
       "2                 0.002124  \n",
       "\n",
       "[3 rows x 50 columns]"
      ]
     },
     "execution_count": 16,
     "metadata": {},
     "output_type": "execute_result"
    }
   ],
   "source": [
    "results"
   ]
  },
  {
   "cell_type": "code",
   "execution_count": null,
   "id": "dac0770d-4a65-4111-861c-19adb15b2c5c",
   "metadata": {},
   "outputs": [],
   "source": []
  },
  {
   "cell_type": "markdown",
   "id": "ecb7a1c9-a725-407b-9a1a-c3f55da5e7f5",
   "metadata": {},
   "source": [
    "## doing the  classification without oversampling"
   ]
  },
  {
   "cell_type": "code",
   "execution_count": 20,
   "id": "f96fdabc-939e-4b69-b61e-db6c08676777",
   "metadata": {},
   "outputs": [],
   "source": [
    "x_train,x_test,y_train,y_test = train_test_split(X,y,test_size=0.20)"
   ]
  },
  {
   "cell_type": "code",
   "execution_count": null,
   "id": "887b1e34-4c0b-43d8-ba62-52b8a8161db2",
   "metadata": {},
   "outputs": [],
   "source": []
  },
  {
   "cell_type": "code",
   "execution_count": null,
   "id": "aecae566-e950-456e-b60d-87c5cb6c7de2",
   "metadata": {},
   "outputs": [],
   "source": []
  },
  {
   "cell_type": "code",
   "execution_count": null,
   "id": "037df339-85ca-4010-b984-d63f4e052185",
   "metadata": {},
   "outputs": [],
   "source": []
  },
  {
   "cell_type": "code",
   "execution_count": 18,
   "id": "80bb1832-6e70-405e-82cc-f4a7f010cf27",
   "metadata": {},
   "outputs": [],
   "source": [
    "model_light = LGBMClassifier(n_jobs=-1,max_depth=10,class_weight={0:1,1:4})\n"
   ]
  },
  {
   "cell_type": "code",
   "execution_count": null,
   "id": "6cf0c485-1f91-4f99-8357-429660a80d2d",
   "metadata": {},
   "outputs": [],
   "source": []
  },
  {
   "cell_type": "code",
   "execution_count": null,
   "id": "94d08019-49e8-41c7-9a7b-a526b9cef0c1",
   "metadata": {},
   "outputs": [],
   "source": []
  },
  {
   "cell_type": "code",
   "execution_count": null,
   "id": "c1c02d54-ff0a-48fd-83a2-849fb6c3effb",
   "metadata": {},
   "outputs": [],
   "source": []
  },
  {
   "cell_type": "code",
   "execution_count": 21,
   "id": "5b027d0c-8d2b-4bc6-9c34-5b079e800086",
   "metadata": {},
   "outputs": [
    {
     "data": {
      "text/plain": [
       "LGBMClassifier(class_weight={0: 1, 1: 4}, max_depth=10)"
      ]
     },
     "execution_count": 21,
     "metadata": {},
     "output_type": "execute_result"
    }
   ],
   "source": [
    "model_light.fit(x_train,y_train)"
   ]
  },
  {
   "cell_type": "code",
   "execution_count": 22,
   "id": "38675d94-0f44-45bf-ae2f-c9d34e9d0237",
   "metadata": {},
   "outputs": [],
   "source": [
    "y_pred =model_light.predict(x_test)"
   ]
  },
  {
   "cell_type": "code",
   "execution_count": 23,
   "id": "bf06ef47-831c-4080-b5ea-c81b025d6269",
   "metadata": {},
   "outputs": [
    {
     "name": "stdout",
     "output_type": "stream",
     "text": [
      "              precision    recall  f1-score   support\n",
      "\n",
      "           0       0.93      0.98      0.95      7320\n",
      "           1       0.51      0.24      0.33       732\n",
      "\n",
      "    accuracy                           0.91      8052\n",
      "   macro avg       0.72      0.61      0.64      8052\n",
      "weighted avg       0.89      0.91      0.90      8052\n",
      "\n"
     ]
    }
   ],
   "source": [
    "print(classification_report(y_test,y_pred))"
   ]
  },
  {
   "cell_type": "code",
   "execution_count": 27,
   "id": "99d84e62-c8e0-4ceb-871b-1d5297167dc5",
   "metadata": {},
   "outputs": [
    {
     "name": "stderr",
     "output_type": "stream",
     "text": [
      "C:\\ProgramData\\Anaconda3\\lib\\site-packages\\sklearn\\utils\\deprecation.py:87: FutureWarning: Function plot_confusion_matrix is deprecated; Function `plot_confusion_matrix` is deprecated in 1.0 and will be removed in 1.2. Use one of the class methods: ConfusionMatrixDisplay.from_predictions or ConfusionMatrixDisplay.from_estimator.\n",
      "  warnings.warn(msg, category=FutureWarning)\n",
      "C:\\ProgramData\\Anaconda3\\lib\\site-packages\\sklearn\\utils\\deprecation.py:87: FutureWarning: Function plot_confusion_matrix is deprecated; Function `plot_confusion_matrix` is deprecated in 1.0 and will be removed in 1.2. Use one of the class methods: ConfusionMatrixDisplay.from_predictions or ConfusionMatrixDisplay.from_estimator.\n",
      "  warnings.warn(msg, category=FutureWarning)\n"
     ]
    },
    {
     "name": "stdout",
     "output_type": "stream",
     "text": [
      "Confusion matrix Lightboost @80\n",
      "[[7152  168]\n",
      " [ 554  178]]\n",
      "Normalized confusion matrix\n",
      "[[0.97704918 0.02295082]\n",
      " [0.7568306  0.2431694 ]]\n"
     ]
    },
    {
     "data": {
      "image/png": "[encoded data removed]",
      "text/plain": [
       "<Figure size 432x288 with 2 Axes>"
      ]
     },
     "metadata": {
      "needs_background": "light"
     },
     "output_type": "display_data"
    },
    {
     "data": {
      "image/png": "[encoded data removed]",
      "text/plain": [
       "<Figure size 432x288 with 2 Axes>"
      ]
     },
     "metadata": {
      "needs_background": "light"
     },
     "output_type": "display_data"
    }
   ],
   "source": [
    "#plotting non-normalized confusion matrix\n",
    "\n",
    "titles = [(\"Confusion matrix Lightboost @80\",None),\n",
    "         (\"Normalized confusion matrix\",\"true\")]\n",
    "\n",
    "for title , normalized in titles:\n",
    "    disp =plot_confusion_matrix(model_light,x_test,y_test,\n",
    "                               display_labels=[\"Normal\",\"Theft\"],\n",
    "                               cmap=plt.cm.Blues,\n",
    "                               normalize=normalized)\n",
    "    disp.ax_.set_title(title)\n",
    "    print(title)\n",
    "    print(disp.confusion_matrix)\n",
    "    \n",
    "plt.show()"
   ]
  },
  {
   "cell_type": "code",
   "execution_count": 28,
   "id": "31b61231-33d5-4cff-89e7-77b00a472dd4",
   "metadata": {},
   "outputs": [],
   "source": [
    "probs = model_light.predict_proba(x_test)\n",
    "preds = probs[:,1]\n",
    "fpr,tpr,thresold = roc_curve(y_test,preds)\n",
    "roc_auc = auc(fpr,tpr)"
   ]
  },
  {
   "cell_type": "code",
   "execution_count": 29,
   "id": "9b1f00c1-97de-4bb5-920d-09cd5411b433",
   "metadata": {},
   "outputs": [
    {
     "data": {
      "image/png": "[encoded data removed]",
      "text/plain": [
       "<Figure size 432x288 with 1 Axes>"
      ]
     },
     "metadata": {
      "needs_background": "light"
     },
     "output_type": "display_data"
    }
   ],
   "source": [
    "plt.title(\"Receiver Operating Characteristic(ROC) lightBoost @80\")\n",
    "plt.plot(fpr,tpr,\"b\",label=\"AUC = %0.4f\" %roc_auc)\n",
    "plt.legend(loc= \"lower right\")\n",
    "plt.plot([0,1],[0,1],\"r--\")\n",
    "plt.xlim([0,1])\n",
    "plt.ylim([0,1])\n",
    "plt.ylabel(\"True Positive Rate\")\n",
    "plt.xlabel(\"False Positive Rate\")\n",
    "plt.show()"
   ]
  },
  {
   "cell_type": "code",
   "execution_count": null,
   "id": "8ce670bd-aa02-4435-b921-145ca672d475",
   "metadata": {},
   "outputs": [],
   "source": []
  },
  {
   "cell_type": "code",
   "execution_count": null,
   "id": "010db890-a85b-4645-8333-97105d296fbf",
   "metadata": {},
   "outputs": [],
   "source": []
  },
  {
   "cell_type": "markdown",
   "id": "4a1fbf79-e0da-475e-8ebc-5e2286806cf2",
   "metadata": {},
   "source": [
    "### Doing Oversampling  100%"
   ]
  },
  {
   "cell_type": "code",
   "execution_count": 30,
   "id": "77fb68af-34f4-493b-aed6-378570f9fee3",
   "metadata": {},
   "outputs": [],
   "source": [
    "#oversampling of minority class (imbalanced learning)\n",
    "over = SMOTE(sampling_strategy=1,random_state=0)\n",
    "over_x_train,over_y_train = over.fit_resample(X,y)"
   ]
  },
  {
   "cell_type": "code",
   "execution_count": 31,
   "id": "438403f2-b525-49c0-87f8-c6d095f74f5a",
   "metadata": {},
   "outputs": [],
   "source": [
    "model_light = LGBMClassifier(n_jobs=-1,max_depth=10,class_weight={0:1,1:4})\n"
   ]
  },
  {
   "cell_type": "code",
   "execution_count": 32,
   "id": "6e4c06b3-19cb-4a14-a4a1-b3b68f4b4a54",
   "metadata": {},
   "outputs": [],
   "source": [
    "x_train,x_test,y_train,y_test = train_test_split(over_x_train,over_y_train,test_size=0.20)"
   ]
  },
  {
   "cell_type": "code",
   "execution_count": 33,
   "id": "3e32015d-4fae-46da-96ce-f7abf99ec2ae",
   "metadata": {},
   "outputs": [
    {
     "data": {
      "text/plain": [
       "LGBMClassifier(class_weight={0: 1, 1: 4}, max_depth=10)"
      ]
     },
     "execution_count": 33,
     "metadata": {},
     "output_type": "execute_result"
    }
   ],
   "source": [
    "model_light.fit(x_train,y_train)"
   ]
  },
  {
   "cell_type": "code",
   "execution_count": 34,
   "id": "87cceaa5-f362-471e-8fa9-465cdb8bb3e8",
   "metadata": {},
   "outputs": [],
   "source": [
    "y_pred =model_light.predict(x_test)"
   ]
  },
  {
   "cell_type": "code",
   "execution_count": null,
   "id": "f65acbbb-da16-4436-9408-5d4d05d1b499",
   "metadata": {},
   "outputs": [],
   "source": []
  },
  {
   "cell_type": "code",
   "execution_count": 35,
   "id": "43a2327f-183b-497a-9d48-2d2c8cbd022b",
   "metadata": {},
   "outputs": [
    {
     "name": "stdout",
     "output_type": "stream",
     "text": [
      "              precision    recall  f1-score   support\n",
      "\n",
      "           0       0.96      0.59      0.73      7348\n",
      "           1       0.71      0.98      0.82      7323\n",
      "\n",
      "    accuracy                           0.78     14671\n",
      "   macro avg       0.83      0.78      0.78     14671\n",
      "weighted avg       0.83      0.78      0.78     14671\n",
      "\n"
     ]
    }
   ],
   "source": [
    "print(classification_report(y_test,y_pred))"
   ]
  },
  {
   "cell_type": "code",
   "execution_count": 36,
   "id": "6d1405b2-4798-4f7d-906e-ddaa82a135a8",
   "metadata": {},
   "outputs": [
    {
     "name": "stderr",
     "output_type": "stream",
     "text": [
      "C:\\ProgramData\\Anaconda3\\lib\\site-packages\\sklearn\\utils\\deprecation.py:87: FutureWarning: Function plot_confusion_matrix is deprecated; Function `plot_confusion_matrix` is deprecated in 1.0 and will be removed in 1.2. Use one of the class methods: ConfusionMatrixDisplay.from_predictions or ConfusionMatrixDisplay.from_estimator.\n",
      "  warnings.warn(msg, category=FutureWarning)\n",
      "C:\\ProgramData\\Anaconda3\\lib\\site-packages\\sklearn\\utils\\deprecation.py:87: FutureWarning: Function plot_confusion_matrix is deprecated; Function `plot_confusion_matrix` is deprecated in 1.0 and will be removed in 1.2. Use one of the class methods: ConfusionMatrixDisplay.from_predictions or ConfusionMatrixDisplay.from_estimator.\n",
      "  warnings.warn(msg, category=FutureWarning)\n"
     ]
    },
    {
     "name": "stdout",
     "output_type": "stream",
     "text": [
      "Confusion matrix Lightboost @80\n",
      "[[4356 2992]\n",
      " [ 170 7153]]\n",
      "Normalized confusion matrix\n",
      "[[0.59281437 0.40718563]\n",
      " [0.02321453 0.97678547]]\n"
     ]
    },
    {
     "data": {
      "image/png": "[encoded data removed]",
      "text/plain": [
       "<Figure size 432x288 with 2 Axes>"
      ]
     },
     "metadata": {
      "needs_background": "light"
     },
     "output_type": "display_data"
    },
    {
     "data": {
      "image/png": "[encoded data removed]",
      "text/plain": [
       "<Figure size 432x288 with 2 Axes>"
      ]
     },
     "metadata": {
      "needs_background": "light"
     },
     "output_type": "display_data"
    }
   ],
   "source": [
    "#plotting non-normalized confusion matrix\n",
    "\n",
    "titles = [(\"Confusion matrix Lightboost @80\",None),\n",
    "         (\"Normalized confusion matrix\",\"true\")]\n",
    "\n",
    "for title , normalized in titles:\n",
    "    disp =plot_confusion_matrix(model_light,x_test,y_test,\n",
    "                               display_labels=[\"Normal\",\"Theft\"],\n",
    "                               cmap=plt.cm.Blues,\n",
    "                               normalize=normalized)\n",
    "    disp.ax_.set_title(title)\n",
    "    print(title)\n",
    "    print(disp.confusion_matrix)\n",
    "    \n",
    "plt.show()"
   ]
  },
  {
   "cell_type": "code",
   "execution_count": null,
   "id": "ab430d99-8ce0-47bf-beb6-5813d4145ccb",
   "metadata": {},
   "outputs": [],
   "source": []
  },
  {
   "cell_type": "code",
   "execution_count": 37,
   "id": "a822a593-1bf5-48ca-b7a1-2b1502f72b9c",
   "metadata": {},
   "outputs": [],
   "source": [
    "probs = model_light.predict_proba(x_test)\n",
    "preds = probs[:,1]\n",
    "fpr,tpr,thresold = roc_curve(y_test,preds)\n",
    "roc_auc = auc(fpr,tpr)"
   ]
  },
  {
   "cell_type": "code",
   "execution_count": 38,
   "id": "6459cd68-cf7f-48ed-9800-51e77461c2f8",
   "metadata": {},
   "outputs": [
    {
     "data": {
      "image/png": "[encoded data removed]",
      "text/plain": [
       "<Figure size 432x288 with 1 Axes>"
      ]
     },
     "metadata": {
      "needs_background": "light"
     },
     "output_type": "display_data"
    }
   ],
   "source": [
    "plt.title(\"Receiver Operating Characteristic(ROC) lightBoost @80\")\n",
    "plt.plot(fpr,tpr,\"b\",label=\"AUC = %0.4f\" %roc_auc)\n",
    "plt.legend(loc= \"lower right\")\n",
    "plt.plot([0,1],[0,1],\"r--\")\n",
    "plt.xlim([0,1])\n",
    "plt.ylim([0,1])\n",
    "plt.ylabel(\"True Positive Rate\")\n",
    "plt.xlabel(\"False Positive Rate\")\n",
    "plt.show()"
   ]
  },
  {
   "cell_type": "code",
   "execution_count": null,
   "id": "3a4d910d-45e0-4ec1-98ba-40a81b5744d6",
   "metadata": {},
   "outputs": [],
   "source": []
  },
  {
   "cell_type": "code",
   "execution_count": null,
   "id": "1fd23329-6c9a-44c3-82ac-a4e3022aad2d",
   "metadata": {},
   "outputs": [],
   "source": []
  },
  {
   "cell_type": "markdown",
   "id": "e6ad8a10-2be6-49e4-ae70-3e37b5c87283",
   "metadata": {},
   "source": [
    "## doing "
   ]
  },
  {
   "cell_type": "code",
   "execution_count": 39,
   "id": "4ee6324b-fa16-4170-9934-5bda66b270f2",
   "metadata": {},
   "outputs": [],
   "source": [
    "model_light = LGBMClassifier(n_jobs=-1,max_depth=10)\n"
   ]
  },
  {
   "cell_type": "code",
   "execution_count": 40,
   "id": "cc57cac9-e4a3-43c9-a4b1-4bf3d15899a5",
   "metadata": {},
   "outputs": [
    {
     "data": {
      "text/plain": [
       "LGBMClassifier(max_depth=10)"
      ]
     },
     "execution_count": 40,
     "metadata": {},
     "output_type": "execute_result"
    }
   ],
   "source": [
    "model_light.fit(x_train,y_train)"
   ]
  },
  {
   "cell_type": "code",
   "execution_count": 41,
   "id": "7b623b1a-236c-470a-a003-b36368d734d2",
   "metadata": {},
   "outputs": [],
   "source": [
    "y_pred =model_light.predict(x_test)"
   ]
  },
  {
   "cell_type": "code",
   "execution_count": null,
   "id": "9cee44bd-22c9-4a02-9511-f4b497bf5fe6",
   "metadata": {},
   "outputs": [],
   "source": []
  },
  {
   "cell_type": "code",
   "execution_count": 42,
   "id": "63f86929-c8b6-447e-8794-53897958fccb",
   "metadata": {},
   "outputs": [
    {
     "name": "stdout",
     "output_type": "stream",
     "text": [
      "              precision    recall  f1-score   support\n",
      "\n",
      "           0       0.88      0.86      0.87      7348\n",
      "           1       0.86      0.88      0.87      7323\n",
      "\n",
      "    accuracy                           0.87     14671\n",
      "   macro avg       0.87      0.87      0.87     14671\n",
      "weighted avg       0.87      0.87      0.87     14671\n",
      "\n"
     ]
    }
   ],
   "source": [
    "print(classification_report(y_test,y_pred))"
   ]
  },
  {
   "cell_type": "code",
   "execution_count": null,
   "id": "84157460-9ebb-4e3a-a5f8-e5b6220bfb8f",
   "metadata": {},
   "outputs": [],
   "source": []
  },
  {
   "cell_type": "code",
   "execution_count": 43,
   "id": "5ebcbe85-b752-4e4b-bc90-3596f697d81e",
   "metadata": {},
   "outputs": [
    {
     "name": "stderr",
     "output_type": "stream",
     "text": [
      "C:\\ProgramData\\Anaconda3\\lib\\site-packages\\sklearn\\utils\\deprecation.py:87: FutureWarning: Function plot_confusion_matrix is deprecated; Function `plot_confusion_matrix` is deprecated in 1.0 and will be removed in 1.2. Use one of the class methods: ConfusionMatrixDisplay.from_predictions or ConfusionMatrixDisplay.from_estimator.\n",
      "  warnings.warn(msg, category=FutureWarning)\n",
      "C:\\ProgramData\\Anaconda3\\lib\\site-packages\\sklearn\\utils\\deprecation.py:87: FutureWarning: Function plot_confusion_matrix is deprecated; Function `plot_confusion_matrix` is deprecated in 1.0 and will be removed in 1.2. Use one of the class methods: ConfusionMatrixDisplay.from_predictions or ConfusionMatrixDisplay.from_estimator.\n",
      "  warnings.warn(msg, category=FutureWarning)\n"
     ]
    },
    {
     "name": "stdout",
     "output_type": "stream",
     "text": [
      "Confusion matrix Lightboost @80\n",
      "[[6332 1016]\n",
      " [ 851 6472]]\n",
      "Normalized confusion matrix\n",
      "[[0.86173108 0.13826892]\n",
      " [0.1162092  0.8837908 ]]\n"
     ]
    },
    {
     "data": {
      "image/png": "[encoded data removed]",
      "text/plain": [
       "<Figure size 432x288 with 2 Axes>"
      ]
     },
     "metadata": {
      "needs_background": "light"
     },
     "output_type": "display_data"
    },
    {
     "data": {
      "image/png": "[encoded data removed]",
      "text/plain": [
       "<Figure size 432x288 with 2 Axes>"
      ]
     },
     "metadata": {
      "needs_background": "light"
     },
     "output_type": "display_data"
    }
   ],
   "source": [
    "#plotting non-normalized confusion matrix\n",
    "\n",
    "titles = [(\"Confusion matrix Lightboost @80\",None),\n",
    "         (\"Normalized confusion matrix\",\"true\")]\n",
    "\n",
    "for title , normalized in titles:\n",
    "    disp =plot_confusion_matrix(model_light,x_test,y_test,\n",
    "                               display_labels=[\"Normal\",\"Theft\"],\n",
    "                               cmap=plt.cm.Blues,\n",
    "                               normalize=normalized)\n",
    "    disp.ax_.set_title(title)\n",
    "    print(title)\n",
    "    print(disp.confusion_matrix)\n",
    "    \n",
    "plt.show()"
   ]
  },
  {
   "cell_type": "code",
   "execution_count": null,
   "id": "55327f07-f6f8-4237-bdf8-0673f4d0d4e3",
   "metadata": {},
   "outputs": [],
   "source": []
  }
 ],
 "metadata": {
  "kernelspec": {
   "display_name": "Python 3 (ipykernel)",
   "language": "python",
   "name": "python3"
  },
  "language_info": {
   "codemirror_mode": {
    "name": "ipython",
    "version": 3
   },
   "file_extension": ".py",
   "mimetype": "text/x-python",
   "name": "python",
   "nbconvert_exporter": "python",
   "pygments_lexer": "ipython3",
   "version": "3.9.15"
  }
 },
 "nbformat": 4,
 "nbformat_minor": 5
}
