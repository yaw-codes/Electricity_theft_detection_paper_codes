{
 "cells": [
  {
   "cell_type": "code",
   "execution_count": 11,
   "id": "32dfcc0e-7a19-47c9-9cb2-c64498b72792",
   "metadata": {},
   "outputs": [],
   "source": [
    "import numpy as np\n",
    "import pandas as pd\n",
    "import matplotlib.pyplot as plt\n",
    "import seaborn as sns\n",
    "%matplotlib inline\n",
    "from sklearn.metrics import classification_report\n",
    "from sklearn.metrics import accuracy_score,precision_score,roc_auc_score,f1_score,recall_score,make_scorer,plot_confusion_matrix\n",
    "from sklearn.model_selection import train_test_split\n",
    "from sklearn.metrics import ConfusionMatrixDisplay,confusion_matrix,roc_curve,auc,accuracy_score\n",
    "from sklearn.svm import SVC\n",
    "from sklearn.model_selection import GridSearchCV\n",
    "from imblearn.over_sampling import SMOTE\n",
    "from sklearn.utils import shuffle"
   ]
  },
  {
   "cell_type": "code",
   "execution_count": 2,
   "id": "99ea0160-afb5-4460-ba4b-70acf53107db",
   "metadata": {},
   "outputs": [],
   "source": [
    "df =pd.read_csv(\"./Data_clean/min_max_both_inter_scaled.csv\")"
   ]
  },
  {
   "cell_type": "code",
   "execution_count": null,
   "id": "0603c328-c7e0-4a87-9a63-68f06674ea77",
   "metadata": {},
   "outputs": [],
   "source": []
  },
  {
   "cell_type": "code",
   "execution_count": 3,
   "id": "e4d04acf-e7e0-4199-b221-39a2257187c3",
   "metadata": {},
   "outputs": [],
   "source": [
    "X = df.drop([\"FLAG\", \"CONS_NO\"],axis=1)"
   ]
  },
  {
   "cell_type": "code",
   "execution_count": null,
   "id": "85989f6b-be30-44b9-8f29-526989844d37",
   "metadata": {},
   "outputs": [],
   "source": []
  },
  {
   "cell_type": "code",
   "execution_count": 4,
   "id": "2f3e4a17-f1a5-4124-b95d-d34ab1d8f9b6",
   "metadata": {},
   "outputs": [],
   "source": [
    "y = df.FLAG"
   ]
  },
  {
   "cell_type": "code",
   "execution_count": 5,
   "id": "b4f4d3e4-556d-4e6e-a302-3ea33db05696",
   "metadata": {},
   "outputs": [],
   "source": [
    "X = np.array(X)"
   ]
  },
  {
   "cell_type": "code",
   "execution_count": 6,
   "id": "2020c76c-72d3-42a9-bbdd-3cf4a0136c4c",
   "metadata": {},
   "outputs": [],
   "source": [
    "y = np.array(y)"
   ]
  },
  {
   "cell_type": "code",
   "execution_count": null,
   "id": "2664b707-f04e-4aeb-b21b-d3e9168771de",
   "metadata": {},
   "outputs": [],
   "source": []
  },
  {
   "cell_type": "code",
   "execution_count": 7,
   "id": "f80ea8f5-0219-4a6b-be2d-a73d7b5f4b1a",
   "metadata": {},
   "outputs": [],
   "source": [
    "x_train,x_test,y_train,y_test = train_test_split(X,y,test_size=0.2)"
   ]
  },
  {
   "cell_type": "code",
   "execution_count": 8,
   "id": "e9e44f12-573d-412a-bd90-64b3dc4c3adc",
   "metadata": {},
   "outputs": [
    {
     "name": "stdout",
     "output_type": "stream",
     "text": [
      "(32204, 1034)\n",
      "(32204,)\n",
      "(8052, 1034)\n",
      "(8052,)\n"
     ]
    }
   ],
   "source": [
    "print(x_train.shape)\n",
    "print(y_train.shape)\n",
    "print(x_test.shape)\n",
    "print(y_test.shape)"
   ]
  },
  {
   "cell_type": "code",
   "execution_count": 9,
   "id": "6fc3a37b-006c-49dd-8fee-e839cbff425e",
   "metadata": {},
   "outputs": [],
   "source": [
    "model = SVC()"
   ]
  },
  {
   "cell_type": "code",
   "execution_count": 10,
   "id": "5078535f-4aa2-474f-acb2-37e93617b37c",
   "metadata": {},
   "outputs": [
    {
     "data": {
      "text/plain": [
       "{'C': 1.0,\n",
       " 'break_ties': False,\n",
       " 'cache_size': 200,\n",
       " 'class_weight': None,\n",
       " 'coef0': 0.0,\n",
       " 'decision_function_shape': 'ovr',\n",
       " 'degree': 3,\n",
       " 'gamma': 'scale',\n",
       " 'kernel': 'rbf',\n",
       " 'max_iter': -1,\n",
       " 'probability': False,\n",
       " 'random_state': None,\n",
       " 'shrinking': True,\n",
       " 'tol': 0.001,\n",
       " 'verbose': False}"
      ]
     },
     "execution_count": 10,
     "metadata": {},
     "output_type": "execute_result"
    }
   ],
   "source": [
    "model.get_params()"
   ]
  },
  {
   "cell_type": "code",
   "execution_count": null,
   "id": "b9bf4b91-fe4d-47ff-abd7-d1dfd1259165",
   "metadata": {},
   "outputs": [],
   "source": []
  },
  {
   "cell_type": "code",
   "execution_count": null,
   "id": "6a30105b-5ca2-436f-8370-681462da71ea",
   "metadata": {},
   "outputs": [],
   "source": []
  },
  {
   "cell_type": "markdown",
   "id": "7728b8ee-97e4-4fa7-b977-cba49acff7b6",
   "metadata": {},
   "source": [
    "### Don't touch this from here"
   ]
  },
  {
   "cell_type": "code",
   "execution_count": 12,
   "id": "3c162564-bc57-4813-8f32-6215299beb9c",
   "metadata": {},
   "outputs": [
    {
     "data": {
      "text/html": [
       "<style>#sk-container-id-1 {color: black;background-color: white;}#sk-container-id-1 pre{padding: 0;}#sk-container-id-1 div.sk-toggleable {background-color: white;}#sk-container-id-1 label.sk-toggleable__label {cursor: pointer;display: block;width: 100%;margin-bottom: 0;padding: 0.3em;box-sizing: border-box;text-align: center;}#sk-container-id-1 label.sk-toggleable__label-arrow:before {content: \"▸\";float: left;margin-right: 0.25em;color: #696969;}#sk-container-id-1 label.sk-toggleable__label-arrow:hover:before {color: black;}#sk-container-id-1 div.sk-estimator:hover label.sk-toggleable__label-arrow:before {color: black;}#sk-container-id-1 div.sk-toggleable__content {max-height: 0;max-width: 0;overflow: hidden;text-align: left;background-color: #f0f8ff;}#sk-container-id-1 div.sk-toggleable__content pre {margin: 0.2em;color: black;border-radius: 0.25em;background-color: #f0f8ff;}#sk-container-id-1 input.sk-toggleable__control:checked~div.sk-toggleable__content {max-height: 200px;max-width: 100%;overflow: auto;}#sk-container-id-1 input.sk-toggleable__control:checked~label.sk-toggleable__label-arrow:before {content: \"▾\";}#sk-container-id-1 div.sk-estimator input.sk-toggleable__control:checked~label.sk-toggleable__label {background-color: #d4ebff;}#sk-container-id-1 div.sk-label input.sk-toggleable__control:checked~label.sk-toggleable__label {background-color: #d4ebff;}#sk-container-id-1 input.sk-hidden--visually {border: 0;clip: rect(1px 1px 1px 1px);clip: rect(1px, 1px, 1px, 1px);height: 1px;margin: -1px;overflow: hidden;padding: 0;position: absolute;width: 1px;}#sk-container-id-1 div.sk-estimator {font-family: monospace;background-color: #f0f8ff;border: 1px dotted black;border-radius: 0.25em;box-sizing: border-box;margin-bottom: 0.5em;}#sk-container-id-1 div.sk-estimator:hover {background-color: #d4ebff;}#sk-container-id-1 div.sk-parallel-item::after {content: \"\";width: 100%;border-bottom: 1px solid gray;flex-grow: 1;}#sk-container-id-1 div.sk-label:hover label.sk-toggleable__label {background-color: #d4ebff;}#sk-container-id-1 div.sk-serial::before {content: \"\";position: absolute;border-left: 1px solid gray;box-sizing: border-box;top: 0;bottom: 0;left: 50%;z-index: 0;}#sk-container-id-1 div.sk-serial {display: flex;flex-direction: column;align-items: center;background-color: white;padding-right: 0.2em;padding-left: 0.2em;position: relative;}#sk-container-id-1 div.sk-item {position: relative;z-index: 1;}#sk-container-id-1 div.sk-parallel {display: flex;align-items: stretch;justify-content: center;background-color: white;position: relative;}#sk-container-id-1 div.sk-item::before, #sk-container-id-1 div.sk-parallel-item::before {content: \"\";position: absolute;border-left: 1px solid gray;box-sizing: border-box;top: 0;bottom: 0;left: 50%;z-index: -1;}#sk-container-id-1 div.sk-parallel-item {display: flex;flex-direction: column;z-index: 1;position: relative;background-color: white;}#sk-container-id-1 div.sk-parallel-item:first-child::after {align-self: flex-end;width: 50%;}#sk-container-id-1 div.sk-parallel-item:last-child::after {align-self: flex-start;width: 50%;}#sk-container-id-1 div.sk-parallel-item:only-child::after {width: 0;}#sk-container-id-1 div.sk-dashed-wrapped {border: 1px dashed gray;margin: 0 0.4em 0.5em 0.4em;box-sizing: border-box;padding-bottom: 0.4em;background-color: white;}#sk-container-id-1 div.sk-label label {font-family: monospace;font-weight: bold;display: inline-block;line-height: 1.2em;}#sk-container-id-1 div.sk-label-container {text-align: center;}#sk-container-id-1 div.sk-container {/* jupyter's `normalize.less` sets `[hidden] { display: none; }` but bootstrap.min.css set `[hidden] { display: none !important; }` so we also need the `!important` here to be able to override the default hidden behavior on the sphinx rendered scikit-learn.org. See: https://github.com/scikit-learn/scikit-learn/issues/21755 */display: inline-block !important;position: relative;}#sk-container-id-1 div.sk-text-repr-fallback {display: none;}</style><div id=\"sk-container-id-1\" class=\"sk-top-container\"><div class=\"sk-text-repr-fallback\"><pre>SVC()</pre><b>In a Jupyter environment, please rerun this cell to show the HTML representation or trust the notebook. <br />On GitHub, the HTML representation is unable to render, please try loading this page with nbviewer.org.</b></div><div class=\"sk-container\" hidden><div class=\"sk-item\"><div class=\"sk-estimator sk-toggleable\"><input class=\"sk-toggleable__control sk-hidden--visually\" id=\"sk-estimator-id-1\" type=\"checkbox\" checked><label for=\"sk-estimator-id-1\" class=\"sk-toggleable__label sk-toggleable__label-arrow\">SVC</label><div class=\"sk-toggleable__content\"><pre>SVC()</pre></div></div></div></div></div>"
      ],
      "text/plain": [
       "SVC()"
      ]
     },
     "execution_count": 12,
     "metadata": {},
     "output_type": "execute_result"
    }
   ],
   "source": [
    "model.fit(x_train,y_train)"
   ]
  },
  {
   "cell_type": "code",
   "execution_count": 13,
   "id": "ad0e86f6-6c09-43b7-9554-184bfeeb5912",
   "metadata": {},
   "outputs": [],
   "source": [
    "y_pred = model.predict(x_test)"
   ]
  },
  {
   "cell_type": "code",
   "execution_count": null,
   "id": "97375c04-a3f6-4ab1-9134-3a83c066f5da",
   "metadata": {},
   "outputs": [],
   "source": []
  },
  {
   "cell_type": "code",
   "execution_count": 14,
   "id": "71b8ca9c-a568-453a-91b7-6389e2d11494",
   "metadata": {},
   "outputs": [
    {
     "name": "stdout",
     "output_type": "stream",
     "text": [
      "              precision    recall  f1-score   support\n",
      "\n",
      "           0       0.91      1.00      0.95      7346\n",
      "           1       0.75      0.00      0.01       706\n",
      "\n",
      "    accuracy                           0.91      8052\n",
      "   macro avg       0.83      0.50      0.48      8052\n",
      "weighted avg       0.90      0.91      0.87      8052\n",
      "\n"
     ]
    }
   ],
   "source": [
    "print(classification_report(y_test,y_pred))"
   ]
  },
  {
   "cell_type": "code",
   "execution_count": 15,
   "id": "bae83074-4831-4c53-80a7-8fcdcdb22788",
   "metadata": {},
   "outputs": [
    {
     "data": {
      "text/plain": [
       "0.912568306010929"
      ]
     },
     "execution_count": 15,
     "metadata": {},
     "output_type": "execute_result"
    }
   ],
   "source": [
    "accuracy_score(y_test,y_pred)"
   ]
  },
  {
   "cell_type": "code",
   "execution_count": 17,
   "id": "ea868652-6e24-4d38-bbf9-6cf9b4b4eb42",
   "metadata": {},
   "outputs": [],
   "source": [
    "#normalized false gives the no of corryectly classifies out of sample\n",
    "#normalized True gives percentage accuracy\n",
    "count = accuracy_score(y_test,y_pred,normalize=False)"
   ]
  },
  {
   "cell_type": "code",
   "execution_count": 18,
   "id": "aa39ef68-770f-4aa0-8b1f-99b893045260",
   "metadata": {},
   "outputs": [
    {
     "name": "stdout",
     "output_type": "stream",
     "text": [
      "No of correctly classified samples 7348 out of 8052\n"
     ]
    }
   ],
   "source": [
    "print(f\"No of correctly classified samples {count} out of {len(y_test)}\")"
   ]
  },
  {
   "cell_type": "code",
   "execution_count": 20,
   "id": "a34d366d-322b-4cf2-a2cd-b78fc49482dd",
   "metadata": {},
   "outputs": [],
   "source": [
    "cm = confusion_matrix(y_test,y_pred,labels=model.classes_)"
   ]
  },
  {
   "cell_type": "code",
   "execution_count": 22,
   "id": "1eb6ba8b-ca6a-4ade-8e33-0366f99646b6",
   "metadata": {},
   "outputs": [
    {
     "data": {
      "image/png": "[encoded data removed]",
      "text/plain": [
       "<Figure size 432x288 with 2 Axes>"
      ]
     },
     "metadata": {
      "needs_background": "light"
     },
     "output_type": "display_data"
    }
   ],
   "source": [
    "ConfusionMatrixDisplay(cm,display_labels=model.classes_).plot();"
   ]
  },
  {
   "cell_type": "code",
   "execution_count": null,
   "id": "fefefc29-3a10-4edb-9665-5fb8d38a592a",
   "metadata": {},
   "outputs": [],
   "source": []
  },
  {
   "cell_type": "code",
   "execution_count": 3,
   "id": "29bf264d-6a9d-44c7-90c4-ce5a96b40d47",
   "metadata": {},
   "outputs": [],
   "source": [
    "flag_1_calc = df.loc[df[\"FLAG\"]==1]"
   ]
  },
  {
   "cell_type": "code",
   "execution_count": 4,
   "id": "8cced72c-967f-4867-9762-219bae396a03",
   "metadata": {},
   "outputs": [
    {
     "data": {
      "text/html": [
       "<div>\n",
       "<style scoped>\n",
       "    .dataframe tbody tr th:only-of-type {\n",
       "        vertical-align: middle;\n",
       "    }\n",
       "\n",
       "    .dataframe tbody tr th {\n",
       "        vertical-align: top;\n",
       "    }\n",
       "\n",
       "    .dataframe thead th {\n",
       "        text-align: right;\n",
       "    }\n",
       "</style>\n",
       "<table border=\"1\" class=\"dataframe\">\n",
       "  <thead>\n",
       "    <tr style=\"text-align: right;\">\n",
       "      <th></th>\n",
       "      <th>CONS_NO</th>\n",
       "      <th>FLAG</th>\n",
       "      <th>2014-01-01</th>\n",
       "      <th>2014-01-02</th>\n",
       "      <th>2014-01-03</th>\n",
       "      <th>2014-01-04</th>\n",
       "      <th>2014-01-05</th>\n",
       "      <th>2014-01-06</th>\n",
       "      <th>2014-01-07</th>\n",
       "      <th>2014-01-08</th>\n",
       "      <th>...</th>\n",
       "      <th>2016-10-22</th>\n",
       "      <th>2016-10-23</th>\n",
       "      <th>2016-10-24</th>\n",
       "      <th>2016-10-25</th>\n",
       "      <th>2016-10-26</th>\n",
       "      <th>2016-10-27</th>\n",
       "      <th>2016-10-28</th>\n",
       "      <th>2016-10-29</th>\n",
       "      <th>2016-10-30</th>\n",
       "      <th>2016-10-31</th>\n",
       "    </tr>\n",
       "  </thead>\n",
       "  <tbody>\n",
       "    <tr>\n",
       "      <th>0</th>\n",
       "      <td>0387DD8A07E07FDA6271170F86AD9151</td>\n",
       "      <td>1</td>\n",
       "      <td>0.000000</td>\n",
       "      <td>0.000000</td>\n",
       "      <td>0.000000</td>\n",
       "      <td>0.000000</td>\n",
       "      <td>0.000000</td>\n",
       "      <td>0.000000</td>\n",
       "      <td>0.000000</td>\n",
       "      <td>0.000000</td>\n",
       "      <td>...</td>\n",
       "      <td>0.264158</td>\n",
       "      <td>0.296902</td>\n",
       "      <td>0.297637</td>\n",
       "      <td>0.350616</td>\n",
       "      <td>0.201613</td>\n",
       "      <td>0.321919</td>\n",
       "      <td>0.342154</td>\n",
       "      <td>0.277402</td>\n",
       "      <td>0.337003</td>\n",
       "      <td>0.247970</td>\n",
       "    </tr>\n",
       "    <tr>\n",
       "      <th>1</th>\n",
       "      <td>4B75AC4F2D8434CFF62DB64D0BB43103</td>\n",
       "      <td>1</td>\n",
       "      <td>0.000000</td>\n",
       "      <td>0.000000</td>\n",
       "      <td>0.000000</td>\n",
       "      <td>0.000000</td>\n",
       "      <td>0.000000</td>\n",
       "      <td>0.000000</td>\n",
       "      <td>0.000000</td>\n",
       "      <td>0.000000</td>\n",
       "      <td>...</td>\n",
       "      <td>0.333740</td>\n",
       "      <td>0.547089</td>\n",
       "      <td>0.543432</td>\n",
       "      <td>0.527583</td>\n",
       "      <td>0.653459</td>\n",
       "      <td>0.581835</td>\n",
       "      <td>0.565681</td>\n",
       "      <td>0.495276</td>\n",
       "      <td>0.432795</td>\n",
       "      <td>0.416336</td>\n",
       "    </tr>\n",
       "    <tr>\n",
       "      <th>2</th>\n",
       "      <td>B32AC8CC6D5D805AC053557AB05F5343</td>\n",
       "      <td>1</td>\n",
       "      <td>0.000000</td>\n",
       "      <td>0.000000</td>\n",
       "      <td>0.000000</td>\n",
       "      <td>0.000000</td>\n",
       "      <td>0.000000</td>\n",
       "      <td>0.000000</td>\n",
       "      <td>0.000000</td>\n",
       "      <td>0.000000</td>\n",
       "      <td>...</td>\n",
       "      <td>0.242798</td>\n",
       "      <td>0.286581</td>\n",
       "      <td>0.327142</td>\n",
       "      <td>0.282600</td>\n",
       "      <td>0.371304</td>\n",
       "      <td>0.394049</td>\n",
       "      <td>0.340220</td>\n",
       "      <td>0.365049</td>\n",
       "      <td>0.274071</td>\n",
       "      <td>0.222138</td>\n",
       "    </tr>\n",
       "    <tr>\n",
       "      <th>3</th>\n",
       "      <td>EDFC78B07BA2908B3395C4EB2304665E</td>\n",
       "      <td>1</td>\n",
       "      <td>0.048145</td>\n",
       "      <td>0.112494</td>\n",
       "      <td>0.144199</td>\n",
       "      <td>0.058008</td>\n",
       "      <td>0.064819</td>\n",
       "      <td>0.105683</td>\n",
       "      <td>0.091123</td>\n",
       "      <td>0.066463</td>\n",
       "      <td>...</td>\n",
       "      <td>0.313762</td>\n",
       "      <td>0.220056</td>\n",
       "      <td>0.178957</td>\n",
       "      <td>0.123532</td>\n",
       "      <td>0.123297</td>\n",
       "      <td>0.138093</td>\n",
       "      <td>0.156646</td>\n",
       "      <td>0.235791</td>\n",
       "      <td>0.211602</td>\n",
       "      <td>0.184829</td>\n",
       "    </tr>\n",
       "    <tr>\n",
       "      <th>4</th>\n",
       "      <td>6BCFD78138BC72A9BA1BFB0B79382192</td>\n",
       "      <td>1</td>\n",
       "      <td>0.000000</td>\n",
       "      <td>0.000000</td>\n",
       "      <td>0.000000</td>\n",
       "      <td>0.000000</td>\n",
       "      <td>0.000000</td>\n",
       "      <td>0.000000</td>\n",
       "      <td>0.000000</td>\n",
       "      <td>0.000000</td>\n",
       "      <td>...</td>\n",
       "      <td>0.147734</td>\n",
       "      <td>0.174809</td>\n",
       "      <td>0.172454</td>\n",
       "      <td>0.043555</td>\n",
       "      <td>0.024132</td>\n",
       "      <td>0.024720</td>\n",
       "      <td>0.112419</td>\n",
       "      <td>0.024720</td>\n",
       "      <td>0.022366</td>\n",
       "      <td>0.035903</td>\n",
       "    </tr>\n",
       "    <tr>\n",
       "      <th>...</th>\n",
       "      <td>...</td>\n",
       "      <td>...</td>\n",
       "      <td>...</td>\n",
       "      <td>...</td>\n",
       "      <td>...</td>\n",
       "      <td>...</td>\n",
       "      <td>...</td>\n",
       "      <td>...</td>\n",
       "      <td>...</td>\n",
       "      <td>...</td>\n",
       "      <td>...</td>\n",
       "      <td>...</td>\n",
       "      <td>...</td>\n",
       "      <td>...</td>\n",
       "      <td>...</td>\n",
       "      <td>...</td>\n",
       "      <td>...</td>\n",
       "      <td>...</td>\n",
       "      <td>...</td>\n",
       "      <td>...</td>\n",
       "      <td>...</td>\n",
       "    </tr>\n",
       "    <tr>\n",
       "      <th>3574</th>\n",
       "      <td>3ECE4EDBB9D1872BEF3059C20EC22E1F</td>\n",
       "      <td>1</td>\n",
       "      <td>0.000000</td>\n",
       "      <td>0.000000</td>\n",
       "      <td>0.000000</td>\n",
       "      <td>0.000000</td>\n",
       "      <td>0.000000</td>\n",
       "      <td>0.000000</td>\n",
       "      <td>0.000000</td>\n",
       "      <td>0.000000</td>\n",
       "      <td>...</td>\n",
       "      <td>0.000000</td>\n",
       "      <td>0.000000</td>\n",
       "      <td>0.000000</td>\n",
       "      <td>0.000000</td>\n",
       "      <td>0.000000</td>\n",
       "      <td>0.000000</td>\n",
       "      <td>0.000000</td>\n",
       "      <td>0.000000</td>\n",
       "      <td>0.000000</td>\n",
       "      <td>0.000000</td>\n",
       "    </tr>\n",
       "    <tr>\n",
       "      <th>3575</th>\n",
       "      <td>5147B8E84450B2B47551922B768FBBFD</td>\n",
       "      <td>1</td>\n",
       "      <td>0.000000</td>\n",
       "      <td>0.000000</td>\n",
       "      <td>0.000000</td>\n",
       "      <td>0.000000</td>\n",
       "      <td>0.000000</td>\n",
       "      <td>0.000000</td>\n",
       "      <td>0.000000</td>\n",
       "      <td>0.000000</td>\n",
       "      <td>...</td>\n",
       "      <td>0.000000</td>\n",
       "      <td>0.000000</td>\n",
       "      <td>0.000000</td>\n",
       "      <td>0.000000</td>\n",
       "      <td>0.000000</td>\n",
       "      <td>0.000000</td>\n",
       "      <td>0.000000</td>\n",
       "      <td>0.001139</td>\n",
       "      <td>0.000000</td>\n",
       "      <td>0.000000</td>\n",
       "    </tr>\n",
       "    <tr>\n",
       "      <th>3576</th>\n",
       "      <td>1B128CCB5A2708EA3359D9844AFD5B60</td>\n",
       "      <td>1</td>\n",
       "      <td>0.000000</td>\n",
       "      <td>0.000000</td>\n",
       "      <td>0.000000</td>\n",
       "      <td>0.000000</td>\n",
       "      <td>0.000000</td>\n",
       "      <td>0.000000</td>\n",
       "      <td>0.000000</td>\n",
       "      <td>0.000000</td>\n",
       "      <td>...</td>\n",
       "      <td>0.558733</td>\n",
       "      <td>0.752962</td>\n",
       "      <td>0.836167</td>\n",
       "      <td>0.838743</td>\n",
       "      <td>0.956466</td>\n",
       "      <td>0.839773</td>\n",
       "      <td>0.714580</td>\n",
       "      <td>0.896445</td>\n",
       "      <td>0.893612</td>\n",
       "      <td>1.000000</td>\n",
       "    </tr>\n",
       "    <tr>\n",
       "      <th>3577</th>\n",
       "      <td>375F96C23231CC72E2E6AE260F4EC772</td>\n",
       "      <td>1</td>\n",
       "      <td>0.060892</td>\n",
       "      <td>0.179809</td>\n",
       "      <td>0.209911</td>\n",
       "      <td>0.198862</td>\n",
       "      <td>0.168316</td>\n",
       "      <td>0.119473</td>\n",
       "      <td>0.138725</td>\n",
       "      <td>0.190080</td>\n",
       "      <td>...</td>\n",
       "      <td>0.879527</td>\n",
       "      <td>0.793535</td>\n",
       "      <td>0.741202</td>\n",
       "      <td>0.567017</td>\n",
       "      <td>0.555635</td>\n",
       "      <td>0.622352</td>\n",
       "      <td>0.856473</td>\n",
       "      <td>0.745626</td>\n",
       "      <td>0.649919</td>\n",
       "      <td>0.740379</td>\n",
       "    </tr>\n",
       "    <tr>\n",
       "      <th>3578</th>\n",
       "      <td>6078E220C7B299015C731332E8E31AFA</td>\n",
       "      <td>1</td>\n",
       "      <td>0.108724</td>\n",
       "      <td>0.114204</td>\n",
       "      <td>0.084612</td>\n",
       "      <td>0.084393</td>\n",
       "      <td>0.100614</td>\n",
       "      <td>0.097107</td>\n",
       "      <td>0.109382</td>\n",
       "      <td>0.113766</td>\n",
       "      <td>...</td>\n",
       "      <td>0.178431</td>\n",
       "      <td>0.295046</td>\n",
       "      <td>0.241342</td>\n",
       "      <td>0.235423</td>\n",
       "      <td>0.228847</td>\n",
       "      <td>0.174266</td>\n",
       "      <td>0.227532</td>\n",
       "      <td>0.219421</td>\n",
       "      <td>0.193555</td>\n",
       "      <td>0.301184</td>\n",
       "    </tr>\n",
       "  </tbody>\n",
       "</table>\n",
       "<p>3579 rows × 1036 columns</p>\n",
       "</div>"
      ],
      "text/plain": [
       "                               CONS_NO  FLAG  2014-01-01  2014-01-02  \\\n",
       "0     0387DD8A07E07FDA6271170F86AD9151     1    0.000000    0.000000   \n",
       "1     4B75AC4F2D8434CFF62DB64D0BB43103     1    0.000000    0.000000   \n",
       "2     B32AC8CC6D5D805AC053557AB05F5343     1    0.000000    0.000000   \n",
       "3     EDFC78B07BA2908B3395C4EB2304665E     1    0.048145    0.112494   \n",
       "4     6BCFD78138BC72A9BA1BFB0B79382192     1    0.000000    0.000000   \n",
       "...                                ...   ...         ...         ...   \n",
       "3574  3ECE4EDBB9D1872BEF3059C20EC22E1F     1    0.000000    0.000000   \n",
       "3575  5147B8E84450B2B47551922B768FBBFD     1    0.000000    0.000000   \n",
       "3576  1B128CCB5A2708EA3359D9844AFD5B60     1    0.000000    0.000000   \n",
       "3577  375F96C23231CC72E2E6AE260F4EC772     1    0.060892    0.179809   \n",
       "3578  6078E220C7B299015C731332E8E31AFA     1    0.108724    0.114204   \n",
       "\n",
       "      2014-01-03  2014-01-04  2014-01-05  2014-01-06  2014-01-07  2014-01-08  \\\n",
       "0       0.000000    0.000000    0.000000    0.000000    0.000000    0.000000   \n",
       "1       0.000000    0.000000    0.000000    0.000000    0.000000    0.000000   \n",
       "2       0.000000    0.000000    0.000000    0.000000    0.000000    0.000000   \n",
       "3       0.144199    0.058008    0.064819    0.105683    0.091123    0.066463   \n",
       "4       0.000000    0.000000    0.000000    0.000000    0.000000    0.000000   \n",
       "...          ...         ...         ...         ...         ...         ...   \n",
       "3574    0.000000    0.000000    0.000000    0.000000    0.000000    0.000000   \n",
       "3575    0.000000    0.000000    0.000000    0.000000    0.000000    0.000000   \n",
       "3576    0.000000    0.000000    0.000000    0.000000    0.000000    0.000000   \n",
       "3577    0.209911    0.198862    0.168316    0.119473    0.138725    0.190080   \n",
       "3578    0.084612    0.084393    0.100614    0.097107    0.109382    0.113766   \n",
       "\n",
       "      ...  2016-10-22  2016-10-23  2016-10-24  2016-10-25  2016-10-26  \\\n",
       "0     ...    0.264158    0.296902    0.297637    0.350616    0.201613   \n",
       "1     ...    0.333740    0.547089    0.543432    0.527583    0.653459   \n",
       "2     ...    0.242798    0.286581    0.327142    0.282600    0.371304   \n",
       "3     ...    0.313762    0.220056    0.178957    0.123532    0.123297   \n",
       "4     ...    0.147734    0.174809    0.172454    0.043555    0.024132   \n",
       "...   ...         ...         ...         ...         ...         ...   \n",
       "3574  ...    0.000000    0.000000    0.000000    0.000000    0.000000   \n",
       "3575  ...    0.000000    0.000000    0.000000    0.000000    0.000000   \n",
       "3576  ...    0.558733    0.752962    0.836167    0.838743    0.956466   \n",
       "3577  ...    0.879527    0.793535    0.741202    0.567017    0.555635   \n",
       "3578  ...    0.178431    0.295046    0.241342    0.235423    0.228847   \n",
       "\n",
       "      2016-10-27  2016-10-28  2016-10-29  2016-10-30  2016-10-31  \n",
       "0       0.321919    0.342154    0.277402    0.337003    0.247970  \n",
       "1       0.581835    0.565681    0.495276    0.432795    0.416336  \n",
       "2       0.394049    0.340220    0.365049    0.274071    0.222138  \n",
       "3       0.138093    0.156646    0.235791    0.211602    0.184829  \n",
       "4       0.024720    0.112419    0.024720    0.022366    0.035903  \n",
       "...          ...         ...         ...         ...         ...  \n",
       "3574    0.000000    0.000000    0.000000    0.000000    0.000000  \n",
       "3575    0.000000    0.000000    0.001139    0.000000    0.000000  \n",
       "3576    0.839773    0.714580    0.896445    0.893612    1.000000  \n",
       "3577    0.622352    0.856473    0.745626    0.649919    0.740379  \n",
       "3578    0.174266    0.227532    0.219421    0.193555    0.301184  \n",
       "\n",
       "[3579 rows x 1036 columns]"
      ]
     },
     "execution_count": 4,
     "metadata": {},
     "output_type": "execute_result"
    }
   ],
   "source": [
    "flag_1_calc"
   ]
  },
  {
   "cell_type": "code",
   "execution_count": null,
   "id": "17a6a7a8-a926-404d-97d4-ab97f862faef",
   "metadata": {},
   "outputs": [],
   "source": []
  },
  {
   "cell_type": "code",
   "execution_count": 5,
   "id": "6e135dd7-e833-4b95-8722-1ba662c066fc",
   "metadata": {},
   "outputs": [],
   "source": [
    "flag_0_calc = df.loc[df[\"FLAG\"]==0]"
   ]
  },
  {
   "cell_type": "code",
   "execution_count": 6,
   "id": "e1d7fc93-ce6c-4122-b984-d082c20fe98a",
   "metadata": {},
   "outputs": [],
   "source": [
    "num = len(flag_1_calc)"
   ]
  },
  {
   "cell_type": "code",
   "execution_count": 7,
   "id": "ddb73a25-0504-4ab7-976b-777b1ddbd041",
   "metadata": {},
   "outputs": [],
   "source": [
    "flag_0_calc_reduced= flag_0_calc.sample(num)"
   ]
  },
  {
   "cell_type": "code",
   "execution_count": 8,
   "id": "6a32461e-c533-4196-9b19-0b4a703454aa",
   "metadata": {},
   "outputs": [],
   "source": [
    "frames = [flag_1_calc,flag_0_calc_reduced]"
   ]
  },
  {
   "cell_type": "code",
   "execution_count": 9,
   "id": "41486456-70c2-4784-bfc7-d3fa80b42ecb",
   "metadata": {},
   "outputs": [],
   "source": [
    "res_df=pd.concat(frames)"
   ]
  },
  {
   "cell_type": "code",
   "execution_count": 10,
   "id": "49e1551b-3094-4462-9dbb-6f32e816ec34",
   "metadata": {},
   "outputs": [
    {
     "data": {
      "text/html": [
       "<div>\n",
       "<style scoped>\n",
       "    .dataframe tbody tr th:only-of-type {\n",
       "        vertical-align: middle;\n",
       "    }\n",
       "\n",
       "    .dataframe tbody tr th {\n",
       "        vertical-align: top;\n",
       "    }\n",
       "\n",
       "    .dataframe thead th {\n",
       "        text-align: right;\n",
       "    }\n",
       "</style>\n",
       "<table border=\"1\" class=\"dataframe\">\n",
       "  <thead>\n",
       "    <tr style=\"text-align: right;\">\n",
       "      <th></th>\n",
       "      <th>CONS_NO</th>\n",
       "      <th>FLAG</th>\n",
       "      <th>2014-01-01</th>\n",
       "      <th>2014-01-02</th>\n",
       "      <th>2014-01-03</th>\n",
       "      <th>2014-01-04</th>\n",
       "      <th>2014-01-05</th>\n",
       "      <th>2014-01-06</th>\n",
       "      <th>2014-01-07</th>\n",
       "      <th>2014-01-08</th>\n",
       "      <th>...</th>\n",
       "      <th>2016-10-22</th>\n",
       "      <th>2016-10-23</th>\n",
       "      <th>2016-10-24</th>\n",
       "      <th>2016-10-25</th>\n",
       "      <th>2016-10-26</th>\n",
       "      <th>2016-10-27</th>\n",
       "      <th>2016-10-28</th>\n",
       "      <th>2016-10-29</th>\n",
       "      <th>2016-10-30</th>\n",
       "      <th>2016-10-31</th>\n",
       "    </tr>\n",
       "  </thead>\n",
       "  <tbody>\n",
       "    <tr>\n",
       "      <th>0</th>\n",
       "      <td>0387DD8A07E07FDA6271170F86AD9151</td>\n",
       "      <td>1</td>\n",
       "      <td>0.000000</td>\n",
       "      <td>0.000000</td>\n",
       "      <td>0.000000</td>\n",
       "      <td>0.000000</td>\n",
       "      <td>0.000000</td>\n",
       "      <td>0.000000</td>\n",
       "      <td>0.000000</td>\n",
       "      <td>0.000000</td>\n",
       "      <td>...</td>\n",
       "      <td>0.264158</td>\n",
       "      <td>0.296902</td>\n",
       "      <td>0.297637</td>\n",
       "      <td>0.350616</td>\n",
       "      <td>0.201613</td>\n",
       "      <td>0.321919</td>\n",
       "      <td>0.342154</td>\n",
       "      <td>0.277402</td>\n",
       "      <td>0.337003</td>\n",
       "      <td>0.247970</td>\n",
       "    </tr>\n",
       "    <tr>\n",
       "      <th>1</th>\n",
       "      <td>4B75AC4F2D8434CFF62DB64D0BB43103</td>\n",
       "      <td>1</td>\n",
       "      <td>0.000000</td>\n",
       "      <td>0.000000</td>\n",
       "      <td>0.000000</td>\n",
       "      <td>0.000000</td>\n",
       "      <td>0.000000</td>\n",
       "      <td>0.000000</td>\n",
       "      <td>0.000000</td>\n",
       "      <td>0.000000</td>\n",
       "      <td>...</td>\n",
       "      <td>0.333740</td>\n",
       "      <td>0.547089</td>\n",
       "      <td>0.543432</td>\n",
       "      <td>0.527583</td>\n",
       "      <td>0.653459</td>\n",
       "      <td>0.581835</td>\n",
       "      <td>0.565681</td>\n",
       "      <td>0.495276</td>\n",
       "      <td>0.432795</td>\n",
       "      <td>0.416336</td>\n",
       "    </tr>\n",
       "    <tr>\n",
       "      <th>2</th>\n",
       "      <td>B32AC8CC6D5D805AC053557AB05F5343</td>\n",
       "      <td>1</td>\n",
       "      <td>0.000000</td>\n",
       "      <td>0.000000</td>\n",
       "      <td>0.000000</td>\n",
       "      <td>0.000000</td>\n",
       "      <td>0.000000</td>\n",
       "      <td>0.000000</td>\n",
       "      <td>0.000000</td>\n",
       "      <td>0.000000</td>\n",
       "      <td>...</td>\n",
       "      <td>0.242798</td>\n",
       "      <td>0.286581</td>\n",
       "      <td>0.327142</td>\n",
       "      <td>0.282600</td>\n",
       "      <td>0.371304</td>\n",
       "      <td>0.394049</td>\n",
       "      <td>0.340220</td>\n",
       "      <td>0.365049</td>\n",
       "      <td>0.274071</td>\n",
       "      <td>0.222138</td>\n",
       "    </tr>\n",
       "    <tr>\n",
       "      <th>3</th>\n",
       "      <td>EDFC78B07BA2908B3395C4EB2304665E</td>\n",
       "      <td>1</td>\n",
       "      <td>0.048145</td>\n",
       "      <td>0.112494</td>\n",
       "      <td>0.144199</td>\n",
       "      <td>0.058008</td>\n",
       "      <td>0.064819</td>\n",
       "      <td>0.105683</td>\n",
       "      <td>0.091123</td>\n",
       "      <td>0.066463</td>\n",
       "      <td>...</td>\n",
       "      <td>0.313762</td>\n",
       "      <td>0.220056</td>\n",
       "      <td>0.178957</td>\n",
       "      <td>0.123532</td>\n",
       "      <td>0.123297</td>\n",
       "      <td>0.138093</td>\n",
       "      <td>0.156646</td>\n",
       "      <td>0.235791</td>\n",
       "      <td>0.211602</td>\n",
       "      <td>0.184829</td>\n",
       "    </tr>\n",
       "    <tr>\n",
       "      <th>4</th>\n",
       "      <td>6BCFD78138BC72A9BA1BFB0B79382192</td>\n",
       "      <td>1</td>\n",
       "      <td>0.000000</td>\n",
       "      <td>0.000000</td>\n",
       "      <td>0.000000</td>\n",
       "      <td>0.000000</td>\n",
       "      <td>0.000000</td>\n",
       "      <td>0.000000</td>\n",
       "      <td>0.000000</td>\n",
       "      <td>0.000000</td>\n",
       "      <td>...</td>\n",
       "      <td>0.147734</td>\n",
       "      <td>0.174809</td>\n",
       "      <td>0.172454</td>\n",
       "      <td>0.043555</td>\n",
       "      <td>0.024132</td>\n",
       "      <td>0.024720</td>\n",
       "      <td>0.112419</td>\n",
       "      <td>0.024720</td>\n",
       "      <td>0.022366</td>\n",
       "      <td>0.035903</td>\n",
       "    </tr>\n",
       "    <tr>\n",
       "      <th>...</th>\n",
       "      <td>...</td>\n",
       "      <td>...</td>\n",
       "      <td>...</td>\n",
       "      <td>...</td>\n",
       "      <td>...</td>\n",
       "      <td>...</td>\n",
       "      <td>...</td>\n",
       "      <td>...</td>\n",
       "      <td>...</td>\n",
       "      <td>...</td>\n",
       "      <td>...</td>\n",
       "      <td>...</td>\n",
       "      <td>...</td>\n",
       "      <td>...</td>\n",
       "      <td>...</td>\n",
       "      <td>...</td>\n",
       "      <td>...</td>\n",
       "      <td>...</td>\n",
       "      <td>...</td>\n",
       "      <td>...</td>\n",
       "      <td>...</td>\n",
       "    </tr>\n",
       "    <tr>\n",
       "      <th>37388</th>\n",
       "      <td>63D27DB09D3E5E2520F642DB717EE65A</td>\n",
       "      <td>0</td>\n",
       "      <td>0.000000</td>\n",
       "      <td>0.000000</td>\n",
       "      <td>0.000000</td>\n",
       "      <td>0.000000</td>\n",
       "      <td>0.000000</td>\n",
       "      <td>0.000000</td>\n",
       "      <td>0.000000</td>\n",
       "      <td>0.000000</td>\n",
       "      <td>...</td>\n",
       "      <td>0.409185</td>\n",
       "      <td>0.422085</td>\n",
       "      <td>0.311662</td>\n",
       "      <td>0.263158</td>\n",
       "      <td>0.304954</td>\n",
       "      <td>0.322497</td>\n",
       "      <td>0.332817</td>\n",
       "      <td>0.371001</td>\n",
       "      <td>0.508772</td>\n",
       "      <td>0.289474</td>\n",
       "    </tr>\n",
       "    <tr>\n",
       "      <th>18288</th>\n",
       "      <td>B3F76434591916FCCA087EDDF67F748F</td>\n",
       "      <td>0</td>\n",
       "      <td>0.000000</td>\n",
       "      <td>0.000000</td>\n",
       "      <td>0.000000</td>\n",
       "      <td>0.000000</td>\n",
       "      <td>0.000000</td>\n",
       "      <td>0.000000</td>\n",
       "      <td>0.000000</td>\n",
       "      <td>0.000000</td>\n",
       "      <td>...</td>\n",
       "      <td>0.000000</td>\n",
       "      <td>0.001188</td>\n",
       "      <td>0.000000</td>\n",
       "      <td>0.000000</td>\n",
       "      <td>0.000000</td>\n",
       "      <td>0.000000</td>\n",
       "      <td>0.000000</td>\n",
       "      <td>0.000000</td>\n",
       "      <td>0.000000</td>\n",
       "      <td>0.000000</td>\n",
       "    </tr>\n",
       "    <tr>\n",
       "      <th>38473</th>\n",
       "      <td>CC4FAC49232E6237DFBB1A7D980A5946</td>\n",
       "      <td>0</td>\n",
       "      <td>0.000000</td>\n",
       "      <td>0.000000</td>\n",
       "      <td>0.000000</td>\n",
       "      <td>0.000000</td>\n",
       "      <td>0.000000</td>\n",
       "      <td>0.457831</td>\n",
       "      <td>0.000000</td>\n",
       "      <td>0.000000</td>\n",
       "      <td>...</td>\n",
       "      <td>0.251721</td>\n",
       "      <td>0.271084</td>\n",
       "      <td>0.398021</td>\n",
       "      <td>0.340361</td>\n",
       "      <td>0.328313</td>\n",
       "      <td>0.430723</td>\n",
       "      <td>0.329604</td>\n",
       "      <td>0.394148</td>\n",
       "      <td>0.404905</td>\n",
       "      <td>0.344664</td>\n",
       "    </tr>\n",
       "    <tr>\n",
       "      <th>37335</th>\n",
       "      <td>B01B72011D7CDE34F82075C93A87F756</td>\n",
       "      <td>0</td>\n",
       "      <td>0.000000</td>\n",
       "      <td>0.000000</td>\n",
       "      <td>0.000000</td>\n",
       "      <td>0.000000</td>\n",
       "      <td>0.000000</td>\n",
       "      <td>0.000000</td>\n",
       "      <td>0.000000</td>\n",
       "      <td>0.000000</td>\n",
       "      <td>...</td>\n",
       "      <td>0.265667</td>\n",
       "      <td>0.234065</td>\n",
       "      <td>0.198179</td>\n",
       "      <td>0.204071</td>\n",
       "      <td>0.209963</td>\n",
       "      <td>0.238350</td>\n",
       "      <td>0.238350</td>\n",
       "      <td>0.234065</td>\n",
       "      <td>0.169255</td>\n",
       "      <td>0.171398</td>\n",
       "    </tr>\n",
       "    <tr>\n",
       "      <th>31568</th>\n",
       "      <td>18E75DDD4DB18FE103AE81F7556FF02F</td>\n",
       "      <td>0</td>\n",
       "      <td>0.466709</td>\n",
       "      <td>0.317058</td>\n",
       "      <td>0.510463</td>\n",
       "      <td>0.297083</td>\n",
       "      <td>0.309131</td>\n",
       "      <td>0.326886</td>\n",
       "      <td>0.415029</td>\n",
       "      <td>0.393152</td>\n",
       "      <td>...</td>\n",
       "      <td>0.366836</td>\n",
       "      <td>0.629042</td>\n",
       "      <td>0.310399</td>\n",
       "      <td>0.331008</td>\n",
       "      <td>0.414394</td>\n",
       "      <td>0.361446</td>\n",
       "      <td>0.517755</td>\n",
       "      <td>0.279328</td>\n",
       "      <td>0.223526</td>\n",
       "      <td>0.196893</td>\n",
       "    </tr>\n",
       "  </tbody>\n",
       "</table>\n",
       "<p>7158 rows × 1036 columns</p>\n",
       "</div>"
      ],
      "text/plain": [
       "                                CONS_NO  FLAG  2014-01-01  2014-01-02  \\\n",
       "0      0387DD8A07E07FDA6271170F86AD9151     1    0.000000    0.000000   \n",
       "1      4B75AC4F2D8434CFF62DB64D0BB43103     1    0.000000    0.000000   \n",
       "2      B32AC8CC6D5D805AC053557AB05F5343     1    0.000000    0.000000   \n",
       "3      EDFC78B07BA2908B3395C4EB2304665E     1    0.048145    0.112494   \n",
       "4      6BCFD78138BC72A9BA1BFB0B79382192     1    0.000000    0.000000   \n",
       "...                                 ...   ...         ...         ...   \n",
       "37388  63D27DB09D3E5E2520F642DB717EE65A     0    0.000000    0.000000   \n",
       "18288  B3F76434591916FCCA087EDDF67F748F     0    0.000000    0.000000   \n",
       "38473  CC4FAC49232E6237DFBB1A7D980A5946     0    0.000000    0.000000   \n",
       "37335  B01B72011D7CDE34F82075C93A87F756     0    0.000000    0.000000   \n",
       "31568  18E75DDD4DB18FE103AE81F7556FF02F     0    0.466709    0.317058   \n",
       "\n",
       "       2014-01-03  2014-01-04  2014-01-05  2014-01-06  2014-01-07  2014-01-08  \\\n",
       "0        0.000000    0.000000    0.000000    0.000000    0.000000    0.000000   \n",
       "1        0.000000    0.000000    0.000000    0.000000    0.000000    0.000000   \n",
       "2        0.000000    0.000000    0.000000    0.000000    0.000000    0.000000   \n",
       "3        0.144199    0.058008    0.064819    0.105683    0.091123    0.066463   \n",
       "4        0.000000    0.000000    0.000000    0.000000    0.000000    0.000000   \n",
       "...           ...         ...         ...         ...         ...         ...   \n",
       "37388    0.000000    0.000000    0.000000    0.000000    0.000000    0.000000   \n",
       "18288    0.000000    0.000000    0.000000    0.000000    0.000000    0.000000   \n",
       "38473    0.000000    0.000000    0.000000    0.457831    0.000000    0.000000   \n",
       "37335    0.000000    0.000000    0.000000    0.000000    0.000000    0.000000   \n",
       "31568    0.510463    0.297083    0.309131    0.326886    0.415029    0.393152   \n",
       "\n",
       "       ...  2016-10-22  2016-10-23  2016-10-24  2016-10-25  2016-10-26  \\\n",
       "0      ...    0.264158    0.296902    0.297637    0.350616    0.201613   \n",
       "1      ...    0.333740    0.547089    0.543432    0.527583    0.653459   \n",
       "2      ...    0.242798    0.286581    0.327142    0.282600    0.371304   \n",
       "3      ...    0.313762    0.220056    0.178957    0.123532    0.123297   \n",
       "4      ...    0.147734    0.174809    0.172454    0.043555    0.024132   \n",
       "...    ...         ...         ...         ...         ...         ...   \n",
       "37388  ...    0.409185    0.422085    0.311662    0.263158    0.304954   \n",
       "18288  ...    0.000000    0.001188    0.000000    0.000000    0.000000   \n",
       "38473  ...    0.251721    0.271084    0.398021    0.340361    0.328313   \n",
       "37335  ...    0.265667    0.234065    0.198179    0.204071    0.209963   \n",
       "31568  ...    0.366836    0.629042    0.310399    0.331008    0.414394   \n",
       "\n",
       "       2016-10-27  2016-10-28  2016-10-29  2016-10-30  2016-10-31  \n",
       "0        0.321919    0.342154    0.277402    0.337003    0.247970  \n",
       "1        0.581835    0.565681    0.495276    0.432795    0.416336  \n",
       "2        0.394049    0.340220    0.365049    0.274071    0.222138  \n",
       "3        0.138093    0.156646    0.235791    0.211602    0.184829  \n",
       "4        0.024720    0.112419    0.024720    0.022366    0.035903  \n",
       "...           ...         ...         ...         ...         ...  \n",
       "37388    0.322497    0.332817    0.371001    0.508772    0.289474  \n",
       "18288    0.000000    0.000000    0.000000    0.000000    0.000000  \n",
       "38473    0.430723    0.329604    0.394148    0.404905    0.344664  \n",
       "37335    0.238350    0.238350    0.234065    0.169255    0.171398  \n",
       "31568    0.361446    0.517755    0.279328    0.223526    0.196893  \n",
       "\n",
       "[7158 rows x 1036 columns]"
      ]
     },
     "execution_count": 10,
     "metadata": {},
     "output_type": "execute_result"
    }
   ],
   "source": [
    "res_df"
   ]
  },
  {
   "cell_type": "code",
   "execution_count": 11,
   "id": "cf3791f5-acea-438b-9c76-12a78c18935d",
   "metadata": {},
   "outputs": [],
   "source": [
    "res_df = df.sample(frac=1).reset_index(drop=True)"
   ]
  },
  {
   "cell_type": "code",
   "execution_count": 12,
   "id": "8d8c38f4-af33-4326-aa40-8cc00780464a",
   "metadata": {},
   "outputs": [
    {
     "data": {
      "text/html": [
       "<div>\n",
       "<style scoped>\n",
       "    .dataframe tbody tr th:only-of-type {\n",
       "        vertical-align: middle;\n",
       "    }\n",
       "\n",
       "    .dataframe tbody tr th {\n",
       "        vertical-align: top;\n",
       "    }\n",
       "\n",
       "    .dataframe thead th {\n",
       "        text-align: right;\n",
       "    }\n",
       "</style>\n",
       "<table border=\"1\" class=\"dataframe\">\n",
       "  <thead>\n",
       "    <tr style=\"text-align: right;\">\n",
       "      <th></th>\n",
       "      <th>CONS_NO</th>\n",
       "      <th>FLAG</th>\n",
       "      <th>2014-01-01</th>\n",
       "      <th>2014-01-02</th>\n",
       "      <th>2014-01-03</th>\n",
       "      <th>2014-01-04</th>\n",
       "      <th>2014-01-05</th>\n",
       "      <th>2014-01-06</th>\n",
       "      <th>2014-01-07</th>\n",
       "      <th>2014-01-08</th>\n",
       "      <th>...</th>\n",
       "      <th>2016-10-22</th>\n",
       "      <th>2016-10-23</th>\n",
       "      <th>2016-10-24</th>\n",
       "      <th>2016-10-25</th>\n",
       "      <th>2016-10-26</th>\n",
       "      <th>2016-10-27</th>\n",
       "      <th>2016-10-28</th>\n",
       "      <th>2016-10-29</th>\n",
       "      <th>2016-10-30</th>\n",
       "      <th>2016-10-31</th>\n",
       "    </tr>\n",
       "  </thead>\n",
       "  <tbody>\n",
       "    <tr>\n",
       "      <th>0</th>\n",
       "      <td>C2C80129ABBB6884A57E827F736E202C</td>\n",
       "      <td>1</td>\n",
       "      <td>0.141849</td>\n",
       "      <td>0.118005</td>\n",
       "      <td>0.109246</td>\n",
       "      <td>0.068127</td>\n",
       "      <td>0.078102</td>\n",
       "      <td>0.108273</td>\n",
       "      <td>0.083455</td>\n",
       "      <td>0.080049</td>\n",
       "      <td>...</td>\n",
       "      <td>0.314355</td>\n",
       "      <td>0.322384</td>\n",
       "      <td>0.286375</td>\n",
       "      <td>0.264477</td>\n",
       "      <td>0.322871</td>\n",
       "      <td>0.303406</td>\n",
       "      <td>0.327251</td>\n",
       "      <td>0.275912</td>\n",
       "      <td>0.256204</td>\n",
       "      <td>0.298297</td>\n",
       "    </tr>\n",
       "    <tr>\n",
       "      <th>1</th>\n",
       "      <td>419C626DB220918817B66EA550A2FBBA</td>\n",
       "      <td>0</td>\n",
       "      <td>0.000000</td>\n",
       "      <td>0.000000</td>\n",
       "      <td>0.000000</td>\n",
       "      <td>0.000000</td>\n",
       "      <td>0.000000</td>\n",
       "      <td>0.000000</td>\n",
       "      <td>0.000000</td>\n",
       "      <td>0.000000</td>\n",
       "      <td>...</td>\n",
       "      <td>0.112071</td>\n",
       "      <td>0.105972</td>\n",
       "      <td>0.089199</td>\n",
       "      <td>0.091487</td>\n",
       "      <td>0.092757</td>\n",
       "      <td>0.101398</td>\n",
       "      <td>0.103685</td>\n",
       "      <td>0.096823</td>\n",
       "      <td>0.085388</td>\n",
       "      <td>0.086404</td>\n",
       "    </tr>\n",
       "    <tr>\n",
       "      <th>2</th>\n",
       "      <td>729D5960B220417561AF5CD76303CAA0</td>\n",
       "      <td>1</td>\n",
       "      <td>0.264812</td>\n",
       "      <td>0.204910</td>\n",
       "      <td>0.223895</td>\n",
       "      <td>0.000000</td>\n",
       "      <td>0.220622</td>\n",
       "      <td>0.184288</td>\n",
       "      <td>0.000000</td>\n",
       "      <td>0.187561</td>\n",
       "      <td>...</td>\n",
       "      <td>0.504746</td>\n",
       "      <td>0.535188</td>\n",
       "      <td>0.494272</td>\n",
       "      <td>0.560065</td>\n",
       "      <td>0.551555</td>\n",
       "      <td>0.557774</td>\n",
       "      <td>0.587234</td>\n",
       "      <td>0.446154</td>\n",
       "      <td>0.545990</td>\n",
       "      <td>0.476923</td>\n",
       "    </tr>\n",
       "    <tr>\n",
       "      <th>3</th>\n",
       "      <td>A9C521AFCE6117947D62BBCB7DB578D3</td>\n",
       "      <td>0</td>\n",
       "      <td>0.000000</td>\n",
       "      <td>0.000000</td>\n",
       "      <td>0.000000</td>\n",
       "      <td>0.000000</td>\n",
       "      <td>0.268657</td>\n",
       "      <td>0.305970</td>\n",
       "      <td>0.358209</td>\n",
       "      <td>0.320896</td>\n",
       "      <td>...</td>\n",
       "      <td>0.253731</td>\n",
       "      <td>0.298507</td>\n",
       "      <td>0.186567</td>\n",
       "      <td>0.208955</td>\n",
       "      <td>0.171642</td>\n",
       "      <td>0.238806</td>\n",
       "      <td>0.186567</td>\n",
       "      <td>0.199005</td>\n",
       "      <td>0.211443</td>\n",
       "      <td>0.223881</td>\n",
       "    </tr>\n",
       "    <tr>\n",
       "      <th>4</th>\n",
       "      <td>4D1A0ADC24A9ED44F92FD33FAA75B90A</td>\n",
       "      <td>0</td>\n",
       "      <td>0.000000</td>\n",
       "      <td>0.000000</td>\n",
       "      <td>0.000000</td>\n",
       "      <td>0.000000</td>\n",
       "      <td>0.000000</td>\n",
       "      <td>0.000000</td>\n",
       "      <td>0.000000</td>\n",
       "      <td>0.000000</td>\n",
       "      <td>...</td>\n",
       "      <td>0.216687</td>\n",
       "      <td>0.300834</td>\n",
       "      <td>0.260072</td>\n",
       "      <td>0.271275</td>\n",
       "      <td>0.288439</td>\n",
       "      <td>0.266746</td>\n",
       "      <td>0.298927</td>\n",
       "      <td>0.274613</td>\n",
       "      <td>0.239094</td>\n",
       "      <td>0.240048</td>\n",
       "    </tr>\n",
       "    <tr>\n",
       "      <th>...</th>\n",
       "      <td>...</td>\n",
       "      <td>...</td>\n",
       "      <td>...</td>\n",
       "      <td>...</td>\n",
       "      <td>...</td>\n",
       "      <td>...</td>\n",
       "      <td>...</td>\n",
       "      <td>...</td>\n",
       "      <td>...</td>\n",
       "      <td>...</td>\n",
       "      <td>...</td>\n",
       "      <td>...</td>\n",
       "      <td>...</td>\n",
       "      <td>...</td>\n",
       "      <td>...</td>\n",
       "      <td>...</td>\n",
       "      <td>...</td>\n",
       "      <td>...</td>\n",
       "      <td>...</td>\n",
       "      <td>...</td>\n",
       "      <td>...</td>\n",
       "    </tr>\n",
       "    <tr>\n",
       "      <th>40251</th>\n",
       "      <td>5BC70BF0D8D59165659A7DE8072404E9</td>\n",
       "      <td>0</td>\n",
       "      <td>0.319412</td>\n",
       "      <td>0.323733</td>\n",
       "      <td>0.228111</td>\n",
       "      <td>0.283410</td>\n",
       "      <td>0.302707</td>\n",
       "      <td>0.309332</td>\n",
       "      <td>0.282834</td>\n",
       "      <td>0.343318</td>\n",
       "      <td>...</td>\n",
       "      <td>0.242224</td>\n",
       "      <td>0.198157</td>\n",
       "      <td>0.212558</td>\n",
       "      <td>0.219470</td>\n",
       "      <td>0.267281</td>\n",
       "      <td>0.263825</td>\n",
       "      <td>0.307028</td>\n",
       "      <td>0.273618</td>\n",
       "      <td>0.203629</td>\n",
       "      <td>0.208813</td>\n",
       "    </tr>\n",
       "    <tr>\n",
       "      <th>40252</th>\n",
       "      <td>E56467F5A2C7FA82A7B3228B05EC0D9E</td>\n",
       "      <td>1</td>\n",
       "      <td>0.000000</td>\n",
       "      <td>0.000000</td>\n",
       "      <td>0.000000</td>\n",
       "      <td>0.000000</td>\n",
       "      <td>0.000000</td>\n",
       "      <td>0.000000</td>\n",
       "      <td>0.000000</td>\n",
       "      <td>0.000000</td>\n",
       "      <td>...</td>\n",
       "      <td>0.276786</td>\n",
       "      <td>0.260045</td>\n",
       "      <td>0.131696</td>\n",
       "      <td>0.130580</td>\n",
       "      <td>0.239955</td>\n",
       "      <td>0.247768</td>\n",
       "      <td>0.272321</td>\n",
       "      <td>0.301339</td>\n",
       "      <td>0.214286</td>\n",
       "      <td>0.271205</td>\n",
       "    </tr>\n",
       "    <tr>\n",
       "      <th>40253</th>\n",
       "      <td>A9DD5E54799091BCC198051C034B281C</td>\n",
       "      <td>0</td>\n",
       "      <td>0.000000</td>\n",
       "      <td>0.000000</td>\n",
       "      <td>0.000000</td>\n",
       "      <td>0.000000</td>\n",
       "      <td>0.000000</td>\n",
       "      <td>0.000000</td>\n",
       "      <td>0.000000</td>\n",
       "      <td>0.000000</td>\n",
       "      <td>...</td>\n",
       "      <td>0.000000</td>\n",
       "      <td>0.000000</td>\n",
       "      <td>0.000000</td>\n",
       "      <td>0.000000</td>\n",
       "      <td>0.000000</td>\n",
       "      <td>0.000000</td>\n",
       "      <td>0.000000</td>\n",
       "      <td>0.000000</td>\n",
       "      <td>0.000000</td>\n",
       "      <td>0.000000</td>\n",
       "    </tr>\n",
       "    <tr>\n",
       "      <th>40254</th>\n",
       "      <td>AF6160A2F4D1C781F2E53CE3BF20D1FF</td>\n",
       "      <td>1</td>\n",
       "      <td>0.085592</td>\n",
       "      <td>0.069099</td>\n",
       "      <td>0.071855</td>\n",
       "      <td>0.057383</td>\n",
       "      <td>0.068869</td>\n",
       "      <td>0.057980</td>\n",
       "      <td>0.067399</td>\n",
       "      <td>0.056510</td>\n",
       "      <td>...</td>\n",
       "      <td>0.576679</td>\n",
       "      <td>0.594551</td>\n",
       "      <td>0.303914</td>\n",
       "      <td>0.270651</td>\n",
       "      <td>0.307820</td>\n",
       "      <td>0.325737</td>\n",
       "      <td>0.388404</td>\n",
       "      <td>0.545162</td>\n",
       "      <td>0.471837</td>\n",
       "      <td>0.246210</td>\n",
       "    </tr>\n",
       "    <tr>\n",
       "      <th>40255</th>\n",
       "      <td>C181803003A416EE1B2510FDDEF4480F</td>\n",
       "      <td>0</td>\n",
       "      <td>0.000000</td>\n",
       "      <td>0.000000</td>\n",
       "      <td>0.000000</td>\n",
       "      <td>0.000000</td>\n",
       "      <td>0.000000</td>\n",
       "      <td>0.051884</td>\n",
       "      <td>0.050649</td>\n",
       "      <td>0.056208</td>\n",
       "      <td>...</td>\n",
       "      <td>0.021001</td>\n",
       "      <td>0.013589</td>\n",
       "      <td>0.024089</td>\n",
       "      <td>0.012971</td>\n",
       "      <td>0.014206</td>\n",
       "      <td>0.018530</td>\n",
       "      <td>0.030266</td>\n",
       "      <td>0.028413</td>\n",
       "      <td>0.025942</td>\n",
       "      <td>0.020383</td>\n",
       "    </tr>\n",
       "  </tbody>\n",
       "</table>\n",
       "<p>40256 rows × 1036 columns</p>\n",
       "</div>"
      ],
      "text/plain": [
       "                                CONS_NO  FLAG  2014-01-01  2014-01-02  \\\n",
       "0      C2C80129ABBB6884A57E827F736E202C     1    0.141849    0.118005   \n",
       "1      419C626DB220918817B66EA550A2FBBA     0    0.000000    0.000000   \n",
       "2      729D5960B220417561AF5CD76303CAA0     1    0.264812    0.204910   \n",
       "3      A9C521AFCE6117947D62BBCB7DB578D3     0    0.000000    0.000000   \n",
       "4      4D1A0ADC24A9ED44F92FD33FAA75B90A     0    0.000000    0.000000   \n",
       "...                                 ...   ...         ...         ...   \n",
       "40251  5BC70BF0D8D59165659A7DE8072404E9     0    0.319412    0.323733   \n",
       "40252  E56467F5A2C7FA82A7B3228B05EC0D9E     1    0.000000    0.000000   \n",
       "40253  A9DD5E54799091BCC198051C034B281C     0    0.000000    0.000000   \n",
       "40254  AF6160A2F4D1C781F2E53CE3BF20D1FF     1    0.085592    0.069099   \n",
       "40255  C181803003A416EE1B2510FDDEF4480F     0    0.000000    0.000000   \n",
       "\n",
       "       2014-01-03  2014-01-04  2014-01-05  2014-01-06  2014-01-07  2014-01-08  \\\n",
       "0        0.109246    0.068127    0.078102    0.108273    0.083455    0.080049   \n",
       "1        0.000000    0.000000    0.000000    0.000000    0.000000    0.000000   \n",
       "2        0.223895    0.000000    0.220622    0.184288    0.000000    0.187561   \n",
       "3        0.000000    0.000000    0.268657    0.305970    0.358209    0.320896   \n",
       "4        0.000000    0.000000    0.000000    0.000000    0.000000    0.000000   \n",
       "...           ...         ...         ...         ...         ...         ...   \n",
       "40251    0.228111    0.283410    0.302707    0.309332    0.282834    0.343318   \n",
       "40252    0.000000    0.000000    0.000000    0.000000    0.000000    0.000000   \n",
       "40253    0.000000    0.000000    0.000000    0.000000    0.000000    0.000000   \n",
       "40254    0.071855    0.057383    0.068869    0.057980    0.067399    0.056510   \n",
       "40255    0.000000    0.000000    0.000000    0.051884    0.050649    0.056208   \n",
       "\n",
       "       ...  2016-10-22  2016-10-23  2016-10-24  2016-10-25  2016-10-26  \\\n",
       "0      ...    0.314355    0.322384    0.286375    0.264477    0.322871   \n",
       "1      ...    0.112071    0.105972    0.089199    0.091487    0.092757   \n",
       "2      ...    0.504746    0.535188    0.494272    0.560065    0.551555   \n",
       "3      ...    0.253731    0.298507    0.186567    0.208955    0.171642   \n",
       "4      ...    0.216687    0.300834    0.260072    0.271275    0.288439   \n",
       "...    ...         ...         ...         ...         ...         ...   \n",
       "40251  ...    0.242224    0.198157    0.212558    0.219470    0.267281   \n",
       "40252  ...    0.276786    0.260045    0.131696    0.130580    0.239955   \n",
       "40253  ...    0.000000    0.000000    0.000000    0.000000    0.000000   \n",
       "40254  ...    0.576679    0.594551    0.303914    0.270651    0.307820   \n",
       "40255  ...    0.021001    0.013589    0.024089    0.012971    0.014206   \n",
       "\n",
       "       2016-10-27  2016-10-28  2016-10-29  2016-10-30  2016-10-31  \n",
       "0        0.303406    0.327251    0.275912    0.256204    0.298297  \n",
       "1        0.101398    0.103685    0.096823    0.085388    0.086404  \n",
       "2        0.557774    0.587234    0.446154    0.545990    0.476923  \n",
       "3        0.238806    0.186567    0.199005    0.211443    0.223881  \n",
       "4        0.266746    0.298927    0.274613    0.239094    0.240048  \n",
       "...           ...         ...         ...         ...         ...  \n",
       "40251    0.263825    0.307028    0.273618    0.203629    0.208813  \n",
       "40252    0.247768    0.272321    0.301339    0.214286    0.271205  \n",
       "40253    0.000000    0.000000    0.000000    0.000000    0.000000  \n",
       "40254    0.325737    0.388404    0.545162    0.471837    0.246210  \n",
       "40255    0.018530    0.030266    0.028413    0.025942    0.020383  \n",
       "\n",
       "[40256 rows x 1036 columns]"
      ]
     },
     "execution_count": 12,
     "metadata": {},
     "output_type": "execute_result"
    }
   ],
   "source": [
    "res_df"
   ]
  },
  {
   "cell_type": "code",
   "execution_count": 13,
   "id": "5f4c958b-8f5d-4235-8381-287cfdb27df9",
   "metadata": {},
   "outputs": [],
   "source": [
    "X_1 = np.array(res_df.drop([\"CONS_NO\",\"FLAG\"],axis=1))"
   ]
  },
  {
   "cell_type": "code",
   "execution_count": 14,
   "id": "bf77a427-c010-4ca2-b2af-f698755fb80c",
   "metadata": {},
   "outputs": [],
   "source": [
    "y_1 = np.array(res_df.FLAG)"
   ]
  },
  {
   "cell_type": "code",
   "execution_count": null,
   "id": "d368f079-c741-45ef-80a6-dd4adbff26d0",
   "metadata": {},
   "outputs": [],
   "source": []
  },
  {
   "cell_type": "code",
   "execution_count": null,
   "id": "4078a20c-2872-4c13-8207-a76c9603366a",
   "metadata": {},
   "outputs": [],
   "source": []
  },
  {
   "cell_type": "code",
   "execution_count": null,
   "id": "f7912f56-0c28-473e-9db3-07c630670d28",
   "metadata": {},
   "outputs": [],
   "source": []
  },
  {
   "cell_type": "code",
   "execution_count": 15,
   "id": "87b61a5f-17b2-43a1-b1ab-4f203b2af638",
   "metadata": {},
   "outputs": [],
   "source": [
    "x_train1,x_test1,y_train1,y_test1 = train_test_split(X_1,y_1,test_size=0.2)"
   ]
  },
  {
   "cell_type": "code",
   "execution_count": 16,
   "id": "e8a3a94f-cb13-4846-9a9f-67e53110e016",
   "metadata": {},
   "outputs": [],
   "source": [
    "model_red = SVC()"
   ]
  },
  {
   "cell_type": "code",
   "execution_count": 17,
   "id": "f8c205df-7a1d-43b8-995f-da273ab83715",
   "metadata": {},
   "outputs": [
    {
     "data": {
      "text/html": [
       "<style>#sk-container-id-1 {color: black;background-color: white;}#sk-container-id-1 pre{padding: 0;}#sk-container-id-1 div.sk-toggleable {background-color: white;}#sk-container-id-1 label.sk-toggleable__label {cursor: pointer;display: block;width: 100%;margin-bottom: 0;padding: 0.3em;box-sizing: border-box;text-align: center;}#sk-container-id-1 label.sk-toggleable__label-arrow:before {content: \"▸\";float: left;margin-right: 0.25em;color: #696969;}#sk-container-id-1 label.sk-toggleable__label-arrow:hover:before {color: black;}#sk-container-id-1 div.sk-estimator:hover label.sk-toggleable__label-arrow:before {color: black;}#sk-container-id-1 div.sk-toggleable__content {max-height: 0;max-width: 0;overflow: hidden;text-align: left;background-color: #f0f8ff;}#sk-container-id-1 div.sk-toggleable__content pre {margin: 0.2em;color: black;border-radius: 0.25em;background-color: #f0f8ff;}#sk-container-id-1 input.sk-toggleable__control:checked~div.sk-toggleable__content {max-height: 200px;max-width: 100%;overflow: auto;}#sk-container-id-1 input.sk-toggleable__control:checked~label.sk-toggleable__label-arrow:before {content: \"▾\";}#sk-container-id-1 div.sk-estimator input.sk-toggleable__control:checked~label.sk-toggleable__label {background-color: #d4ebff;}#sk-container-id-1 div.sk-label input.sk-toggleable__control:checked~label.sk-toggleable__label {background-color: #d4ebff;}#sk-container-id-1 input.sk-hidden--visually {border: 0;clip: rect(1px 1px 1px 1px);clip: rect(1px, 1px, 1px, 1px);height: 1px;margin: -1px;overflow: hidden;padding: 0;position: absolute;width: 1px;}#sk-container-id-1 div.sk-estimator {font-family: monospace;background-color: #f0f8ff;border: 1px dotted black;border-radius: 0.25em;box-sizing: border-box;margin-bottom: 0.5em;}#sk-container-id-1 div.sk-estimator:hover {background-color: #d4ebff;}#sk-container-id-1 div.sk-parallel-item::after {content: \"\";width: 100%;border-bottom: 1px solid gray;flex-grow: 1;}#sk-container-id-1 div.sk-label:hover label.sk-toggleable__label {background-color: #d4ebff;}#sk-container-id-1 div.sk-serial::before {content: \"\";position: absolute;border-left: 1px solid gray;box-sizing: border-box;top: 0;bottom: 0;left: 50%;z-index: 0;}#sk-container-id-1 div.sk-serial {display: flex;flex-direction: column;align-items: center;background-color: white;padding-right: 0.2em;padding-left: 0.2em;position: relative;}#sk-container-id-1 div.sk-item {position: relative;z-index: 1;}#sk-container-id-1 div.sk-parallel {display: flex;align-items: stretch;justify-content: center;background-color: white;position: relative;}#sk-container-id-1 div.sk-item::before, #sk-container-id-1 div.sk-parallel-item::before {content: \"\";position: absolute;border-left: 1px solid gray;box-sizing: border-box;top: 0;bottom: 0;left: 50%;z-index: -1;}#sk-container-id-1 div.sk-parallel-item {display: flex;flex-direction: column;z-index: 1;position: relative;background-color: white;}#sk-container-id-1 div.sk-parallel-item:first-child::after {align-self: flex-end;width: 50%;}#sk-container-id-1 div.sk-parallel-item:last-child::after {align-self: flex-start;width: 50%;}#sk-container-id-1 div.sk-parallel-item:only-child::after {width: 0;}#sk-container-id-1 div.sk-dashed-wrapped {border: 1px dashed gray;margin: 0 0.4em 0.5em 0.4em;box-sizing: border-box;padding-bottom: 0.4em;background-color: white;}#sk-container-id-1 div.sk-label label {font-family: monospace;font-weight: bold;display: inline-block;line-height: 1.2em;}#sk-container-id-1 div.sk-label-container {text-align: center;}#sk-container-id-1 div.sk-container {/* jupyter's `normalize.less` sets `[hidden] { display: none; }` but bootstrap.min.css set `[hidden] { display: none !important; }` so we also need the `!important` here to be able to override the default hidden behavior on the sphinx rendered scikit-learn.org. See: https://github.com/scikit-learn/scikit-learn/issues/21755 */display: inline-block !important;position: relative;}#sk-container-id-1 div.sk-text-repr-fallback {display: none;}</style><div id=\"sk-container-id-1\" class=\"sk-top-container\"><div class=\"sk-text-repr-fallback\"><pre>SVC()</pre><b>In a Jupyter environment, please rerun this cell to show the HTML representation or trust the notebook. <br />On GitHub, the HTML representation is unable to render, please try loading this page with nbviewer.org.</b></div><div class=\"sk-container\" hidden><div class=\"sk-item\"><div class=\"sk-estimator sk-toggleable\"><input class=\"sk-toggleable__control sk-hidden--visually\" id=\"sk-estimator-id-1\" type=\"checkbox\" checked><label for=\"sk-estimator-id-1\" class=\"sk-toggleable__label sk-toggleable__label-arrow\">SVC</label><div class=\"sk-toggleable__content\"><pre>SVC()</pre></div></div></div></div></div>"
      ],
      "text/plain": [
       "SVC()"
      ]
     },
     "execution_count": 17,
     "metadata": {},
     "output_type": "execute_result"
    }
   ],
   "source": [
    "model_red.fit(x_train1,y_train1)"
   ]
  },
  {
   "cell_type": "code",
   "execution_count": 18,
   "id": "c24c6224-978a-4510-824d-4e5489024c56",
   "metadata": {},
   "outputs": [],
   "source": [
    "y_pred_1=model_red.predict(x_test1)"
   ]
  },
  {
   "cell_type": "code",
   "execution_count": 19,
   "id": "699f7cad-db2d-4b20-8bf9-62ba900d09b8",
   "metadata": {},
   "outputs": [
    {
     "name": "stdout",
     "output_type": "stream",
     "text": [
      "              precision    recall  f1-score   support\n",
      "\n",
      "           0       0.91      1.00      0.95      7337\n",
      "           1       0.67      0.00      0.01       715\n",
      "\n",
      "    accuracy                           0.91      8052\n",
      "   macro avg       0.79      0.50      0.48      8052\n",
      "weighted avg       0.89      0.91      0.87      8052\n",
      "\n"
     ]
    }
   ],
   "source": [
    "print(classification_report(y_test1,y_pred_1))"
   ]
  },
  {
   "cell_type": "code",
   "execution_count": null,
   "id": "b74711b0-46c9-41c9-86e4-2ebff647005a",
   "metadata": {},
   "outputs": [],
   "source": []
  },
  {
   "cell_type": "code",
   "execution_count": 20,
   "id": "5d43c519-4912-451b-99b2-1c4a185d9181",
   "metadata": {},
   "outputs": [],
   "source": [
    "#normalized True gives percentage accuracy\n",
    "count1 = accuracy_score(y_test1,y_pred_1,normalize=False)"
   ]
  },
  {
   "cell_type": "code",
   "execution_count": 24,
   "id": "859218e1-a877-4c76-a9bf-7a898336d938",
   "metadata": {},
   "outputs": [],
   "source": [
    "cm = confusion_matrix(y_test1,y_pred_1,labels=model_red.classes_)"
   ]
  },
  {
   "cell_type": "code",
   "execution_count": 25,
   "id": "4f86003c-eec3-4cfe-b216-7f0d6f9766a9",
   "metadata": {},
   "outputs": [
    {
     "data": {
      "image/png": "[encoded data removed]",
      "text/plain": [
       "<Figure size 432x288 with 2 Axes>"
      ]
     },
     "metadata": {
      "needs_background": "light"
     },
     "output_type": "display_data"
    }
   ],
   "source": [
    "ConfusionMatrixDisplay(cm,display_labels=model_red.classes_).plot();"
   ]
  },
  {
   "cell_type": "code",
   "execution_count": null,
   "id": "33b54b62-de11-49f3-b1f1-4179d6d572cb",
   "metadata": {},
   "outputs": [],
   "source": []
  },
  {
   "cell_type": "code",
   "execution_count": null,
   "id": "d521d058-a08f-4b00-b01c-1fcafe399f6d",
   "metadata": {},
   "outputs": [],
   "source": []
  },
  {
   "cell_type": "code",
   "execution_count": 27,
   "id": "a0137d92-2b1b-46d2-a5c4-4157757e6531",
   "metadata": {},
   "outputs": [
    {
     "data": {
      "text/plain": [
       "0.5013304536542916"
      ]
     },
     "execution_count": 27,
     "metadata": {},
     "output_type": "execute_result"
    }
   ],
   "source": [
    "roc_auc_score(y_test1,y_pred_1)"
   ]
  },
  {
   "cell_type": "code",
   "execution_count": null,
   "id": "16e06060-c7ae-49c3-8500-cf7fb2d9a1ce",
   "metadata": {},
   "outputs": [],
   "source": []
  },
  {
   "cell_type": "code",
   "execution_count": null,
   "id": "14f71fee-b04f-4583-a0c9-f803704d2691",
   "metadata": {},
   "outputs": [],
   "source": []
  },
  {
   "cell_type": "code",
   "execution_count": 7,
   "id": "50b23544-63aa-45fe-9c64-eca0e7986a1e",
   "metadata": {},
   "outputs": [],
   "source": [
    "grid_svm_gamma_low_version = GridSearchCV(\n",
    "    estimator=SVC(verbose=True),\n",
    "    param_grid={\n",
    "        'gamma': [1,10],\n",
    "               },\n",
    "    scoring={\"precision\": make_scorer(precision_score),\n",
    "            \"recall\":make_scorer(recall_score),\n",
    "                \"f1_score\":make_scorer(f1_score),\n",
    "           \"roc_auc_score\":make_scorer(roc_auc_score)\n",
    "            },\n",
    "    refit=\"roc_auc_score\",\n",
    "    return_train_score=True,\n",
    "    verbose=1,\n",
    "    cv=4,\n",
    "    n_jobs=-1\n",
    "    \n",
    "    \n",
    ")"
   ]
  },
  {
   "cell_type": "code",
   "execution_count": null,
   "id": "b46146fd-62c3-4e3a-92fd-d5f776e9e2cf",
   "metadata": {},
   "outputs": [],
   "source": []
  },
  {
   "cell_type": "code",
   "execution_count": null,
   "id": "ae3a37bd-a2e1-4918-9d5e-608b33081678",
   "metadata": {},
   "outputs": [],
   "source": []
  },
  {
   "cell_type": "code",
   "execution_count": null,
   "id": "7e79559c-d8a7-470b-8b33-7d0f3e960145",
   "metadata": {},
   "outputs": [],
   "source": []
  },
  {
   "cell_type": "code",
   "execution_count": null,
   "id": "a4cb0d47-9d71-4922-a6f6-15116d78d3d3",
   "metadata": {},
   "outputs": [],
   "source": []
  },
  {
   "cell_type": "code",
   "execution_count": 8,
   "id": "920e1ae0-5095-44e5-9fa8-98a3a6ea4f82",
   "metadata": {},
   "outputs": [
    {
     "name": "stdout",
     "output_type": "stream",
     "text": [
      "Fitting 4 folds for each of 2 candidates, totalling 8 fits\n",
      "[LibSVM]"
     ]
    },
    {
     "data": {
      "text/html": [
       "<style>#sk-container-id-1 {color: black;background-color: white;}#sk-container-id-1 pre{padding: 0;}#sk-container-id-1 div.sk-toggleable {background-color: white;}#sk-container-id-1 label.sk-toggleable__label {cursor: pointer;display: block;width: 100%;margin-bottom: 0;padding: 0.3em;box-sizing: border-box;text-align: center;}#sk-container-id-1 label.sk-toggleable__label-arrow:before {content: \"▸\";float: left;margin-right: 0.25em;color: #696969;}#sk-container-id-1 label.sk-toggleable__label-arrow:hover:before {color: black;}#sk-container-id-1 div.sk-estimator:hover label.sk-toggleable__label-arrow:before {color: black;}#sk-container-id-1 div.sk-toggleable__content {max-height: 0;max-width: 0;overflow: hidden;text-align: left;background-color: #f0f8ff;}#sk-container-id-1 div.sk-toggleable__content pre {margin: 0.2em;color: black;border-radius: 0.25em;background-color: #f0f8ff;}#sk-container-id-1 input.sk-toggleable__control:checked~div.sk-toggleable__content {max-height: 200px;max-width: 100%;overflow: auto;}#sk-container-id-1 input.sk-toggleable__control:checked~label.sk-toggleable__label-arrow:before {content: \"▾\";}#sk-container-id-1 div.sk-estimator input.sk-toggleable__control:checked~label.sk-toggleable__label {background-color: #d4ebff;}#sk-container-id-1 div.sk-label input.sk-toggleable__control:checked~label.sk-toggleable__label {background-color: #d4ebff;}#sk-container-id-1 input.sk-hidden--visually {border: 0;clip: rect(1px 1px 1px 1px);clip: rect(1px, 1px, 1px, 1px);height: 1px;margin: -1px;overflow: hidden;padding: 0;position: absolute;width: 1px;}#sk-container-id-1 div.sk-estimator {font-family: monospace;background-color: #f0f8ff;border: 1px dotted black;border-radius: 0.25em;box-sizing: border-box;margin-bottom: 0.5em;}#sk-container-id-1 div.sk-estimator:hover {background-color: #d4ebff;}#sk-container-id-1 div.sk-parallel-item::after {content: \"\";width: 100%;border-bottom: 1px solid gray;flex-grow: 1;}#sk-container-id-1 div.sk-label:hover label.sk-toggleable__label {background-color: #d4ebff;}#sk-container-id-1 div.sk-serial::before {content: \"\";position: absolute;border-left: 1px solid gray;box-sizing: border-box;top: 0;bottom: 0;left: 50%;z-index: 0;}#sk-container-id-1 div.sk-serial {display: flex;flex-direction: column;align-items: center;background-color: white;padding-right: 0.2em;padding-left: 0.2em;position: relative;}#sk-container-id-1 div.sk-item {position: relative;z-index: 1;}#sk-container-id-1 div.sk-parallel {display: flex;align-items: stretch;justify-content: center;background-color: white;position: relative;}#sk-container-id-1 div.sk-item::before, #sk-container-id-1 div.sk-parallel-item::before {content: \"\";position: absolute;border-left: 1px solid gray;box-sizing: border-box;top: 0;bottom: 0;left: 50%;z-index: -1;}#sk-container-id-1 div.sk-parallel-item {display: flex;flex-direction: column;z-index: 1;position: relative;background-color: white;}#sk-container-id-1 div.sk-parallel-item:first-child::after {align-self: flex-end;width: 50%;}#sk-container-id-1 div.sk-parallel-item:last-child::after {align-self: flex-start;width: 50%;}#sk-container-id-1 div.sk-parallel-item:only-child::after {width: 0;}#sk-container-id-1 div.sk-dashed-wrapped {border: 1px dashed gray;margin: 0 0.4em 0.5em 0.4em;box-sizing: border-box;padding-bottom: 0.4em;background-color: white;}#sk-container-id-1 div.sk-label label {font-family: monospace;font-weight: bold;display: inline-block;line-height: 1.2em;}#sk-container-id-1 div.sk-label-container {text-align: center;}#sk-container-id-1 div.sk-container {/* jupyter's `normalize.less` sets `[hidden] { display: none; }` but bootstrap.min.css set `[hidden] { display: none !important; }` so we also need the `!important` here to be able to override the default hidden behavior on the sphinx rendered scikit-learn.org. See: https://github.com/scikit-learn/scikit-learn/issues/21755 */display: inline-block !important;position: relative;}#sk-container-id-1 div.sk-text-repr-fallback {display: none;}</style><div id=\"sk-container-id-1\" class=\"sk-top-container\"><div class=\"sk-text-repr-fallback\"><pre>GridSearchCV(cv=4, estimator=SVC(verbose=True), n_jobs=-1,\n",
       "             param_grid={&#x27;gamma&#x27;: [1, 10]}, refit=&#x27;roc_auc_score&#x27;,\n",
       "             return_train_score=True,\n",
       "             scoring={&#x27;f1_score&#x27;: make_scorer(f1_score),\n",
       "                      &#x27;precision&#x27;: make_scorer(precision_score),\n",
       "                      &#x27;recall&#x27;: make_scorer(recall_score),\n",
       "                      &#x27;roc_auc_score&#x27;: make_scorer(roc_auc_score)},\n",
       "             verbose=1)</pre><b>In a Jupyter environment, please rerun this cell to show the HTML representation or trust the notebook. <br />On GitHub, the HTML representation is unable to render, please try loading this page with nbviewer.org.</b></div><div class=\"sk-container\" hidden><div class=\"sk-item sk-dashed-wrapped\"><div class=\"sk-label-container\"><div class=\"sk-label sk-toggleable\"><input class=\"sk-toggleable__control sk-hidden--visually\" id=\"sk-estimator-id-1\" type=\"checkbox\" ><label for=\"sk-estimator-id-1\" class=\"sk-toggleable__label sk-toggleable__label-arrow\">GridSearchCV</label><div class=\"sk-toggleable__content\"><pre>GridSearchCV(cv=4, estimator=SVC(verbose=True), n_jobs=-1,\n",
       "             param_grid={&#x27;gamma&#x27;: [1, 10]}, refit=&#x27;roc_auc_score&#x27;,\n",
       "             return_train_score=True,\n",
       "             scoring={&#x27;f1_score&#x27;: make_scorer(f1_score),\n",
       "                      &#x27;precision&#x27;: make_scorer(precision_score),\n",
       "                      &#x27;recall&#x27;: make_scorer(recall_score),\n",
       "                      &#x27;roc_auc_score&#x27;: make_scorer(roc_auc_score)},\n",
       "             verbose=1)</pre></div></div></div><div class=\"sk-parallel\"><div class=\"sk-parallel-item\"><div class=\"sk-item\"><div class=\"sk-label-container\"><div class=\"sk-label sk-toggleable\"><input class=\"sk-toggleable__control sk-hidden--visually\" id=\"sk-estimator-id-2\" type=\"checkbox\" ><label for=\"sk-estimator-id-2\" class=\"sk-toggleable__label sk-toggleable__label-arrow\">estimator: SVC</label><div class=\"sk-toggleable__content\"><pre>SVC(verbose=True)</pre></div></div></div><div class=\"sk-serial\"><div class=\"sk-item\"><div class=\"sk-estimator sk-toggleable\"><input class=\"sk-toggleable__control sk-hidden--visually\" id=\"sk-estimator-id-3\" type=\"checkbox\" ><label for=\"sk-estimator-id-3\" class=\"sk-toggleable__label sk-toggleable__label-arrow\">SVC</label><div class=\"sk-toggleable__content\"><pre>SVC(verbose=True)</pre></div></div></div></div></div></div></div></div></div></div>"
      ],
      "text/plain": [
       "GridSearchCV(cv=4, estimator=SVC(verbose=True), n_jobs=-1,\n",
       "             param_grid={'gamma': [1, 10]}, refit='roc_auc_score',\n",
       "             return_train_score=True,\n",
       "             scoring={'f1_score': make_scorer(f1_score),\n",
       "                      'precision': make_scorer(precision_score),\n",
       "                      'recall': make_scorer(recall_score),\n",
       "                      'roc_auc_score': make_scorer(roc_auc_score)},\n",
       "             verbose=1)"
      ]
     },
     "execution_count": 8,
     "metadata": {},
     "output_type": "execute_result"
    }
   ],
   "source": [
    "grid_svm_gamma_low_version.fit(X,y)"
   ]
  },
  {
   "cell_type": "code",
   "execution_count": null,
   "id": "5699d296-3894-4b39-b9c3-976c44748b96",
   "metadata": {},
   "outputs": [],
   "source": []
  },
  {
   "cell_type": "code",
   "execution_count": 13,
   "id": "c7a147af-c89a-46ae-94f1-e65fb0bf274a",
   "metadata": {},
   "outputs": [],
   "source": [
    "results = pd.DataFrame(grid_svm_gamma_low_version.cv_results_)"
   ]
  },
  {
   "cell_type": "code",
   "execution_count": 14,
   "id": "a5e54867-d872-4202-91fa-16df1b9806ab",
   "metadata": {},
   "outputs": [
    {
     "data": {
      "text/html": [
       "<div>\n",
       "<style scoped>\n",
       "    .dataframe tbody tr th:only-of-type {\n",
       "        vertical-align: middle;\n",
       "    }\n",
       "\n",
       "    .dataframe tbody tr th {\n",
       "        vertical-align: top;\n",
       "    }\n",
       "\n",
       "    .dataframe thead th {\n",
       "        text-align: right;\n",
       "    }\n",
       "</style>\n",
       "<table border=\"1\" class=\"dataframe\">\n",
       "  <thead>\n",
       "    <tr style=\"text-align: right;\">\n",
       "      <th></th>\n",
       "      <th>mean_fit_time</th>\n",
       "      <th>std_fit_time</th>\n",
       "      <th>mean_score_time</th>\n",
       "      <th>std_score_time</th>\n",
       "      <th>param_gamma</th>\n",
       "      <th>params</th>\n",
       "      <th>split0_test_precision</th>\n",
       "      <th>split1_test_precision</th>\n",
       "      <th>split2_test_precision</th>\n",
       "      <th>split3_test_precision</th>\n",
       "      <th>...</th>\n",
       "      <th>split3_test_roc_auc_score</th>\n",
       "      <th>mean_test_roc_auc_score</th>\n",
       "      <th>std_test_roc_auc_score</th>\n",
       "      <th>rank_test_roc_auc_score</th>\n",
       "      <th>split0_train_roc_auc_score</th>\n",
       "      <th>split1_train_roc_auc_score</th>\n",
       "      <th>split2_train_roc_auc_score</th>\n",
       "      <th>split3_train_roc_auc_score</th>\n",
       "      <th>mean_train_roc_auc_score</th>\n",
       "      <th>std_train_roc_auc_score</th>\n",
       "    </tr>\n",
       "  </thead>\n",
       "  <tbody>\n",
       "    <tr>\n",
       "      <th>0</th>\n",
       "      <td>10427.713081</td>\n",
       "      <td>3513.941330</td>\n",
       "      <td>3962.172650</td>\n",
       "      <td>3138.201986</td>\n",
       "      <td>1</td>\n",
       "      <td>{'gamma': 1}</td>\n",
       "      <td>0.0</td>\n",
       "      <td>0.0</td>\n",
       "      <td>0.0</td>\n",
       "      <td>0.0</td>\n",
       "      <td>...</td>\n",
       "      <td>0.5</td>\n",
       "      <td>0.5</td>\n",
       "      <td>0.0</td>\n",
       "      <td>1</td>\n",
       "      <td>0.990686</td>\n",
       "      <td>0.991990</td>\n",
       "      <td>0.991244</td>\n",
       "      <td>0.991806</td>\n",
       "      <td>0.991431</td>\n",
       "      <td>0.000511</td>\n",
       "    </tr>\n",
       "    <tr>\n",
       "      <th>1</th>\n",
       "      <td>15781.588205</td>\n",
       "      <td>95.853765</td>\n",
       "      <td>677.149324</td>\n",
       "      <td>22.552833</td>\n",
       "      <td>10</td>\n",
       "      <td>{'gamma': 10}</td>\n",
       "      <td>0.0</td>\n",
       "      <td>0.0</td>\n",
       "      <td>0.0</td>\n",
       "      <td>0.0</td>\n",
       "      <td>...</td>\n",
       "      <td>0.5</td>\n",
       "      <td>0.5</td>\n",
       "      <td>0.0</td>\n",
       "      <td>1</td>\n",
       "      <td>0.998882</td>\n",
       "      <td>0.999441</td>\n",
       "      <td>0.998882</td>\n",
       "      <td>0.999441</td>\n",
       "      <td>0.999162</td>\n",
       "      <td>0.000279</td>\n",
       "    </tr>\n",
       "  </tbody>\n",
       "</table>\n",
       "<p>2 rows × 58 columns</p>\n",
       "</div>"
      ],
      "text/plain": [
       "   mean_fit_time  std_fit_time  mean_score_time  std_score_time param_gamma  \\\n",
       "0   10427.713081   3513.941330      3962.172650     3138.201986           1   \n",
       "1   15781.588205     95.853765       677.149324       22.552833          10   \n",
       "\n",
       "          params  split0_test_precision  split1_test_precision  \\\n",
       "0   {'gamma': 1}                    0.0                    0.0   \n",
       "1  {'gamma': 10}                    0.0                    0.0   \n",
       "\n",
       "   split2_test_precision  split3_test_precision  ...  \\\n",
       "0                    0.0                    0.0  ...   \n",
       "1                    0.0                    0.0  ...   \n",
       "\n",
       "   split3_test_roc_auc_score  mean_test_roc_auc_score  std_test_roc_auc_score  \\\n",
       "0                        0.5                      0.5                     0.0   \n",
       "1                        0.5                      0.5                     0.0   \n",
       "\n",
       "   rank_test_roc_auc_score  split0_train_roc_auc_score  \\\n",
       "0                        1                    0.990686   \n",
       "1                        1                    0.998882   \n",
       "\n",
       "   split1_train_roc_auc_score  split2_train_roc_auc_score  \\\n",
       "0                    0.991990                    0.991244   \n",
       "1                    0.999441                    0.998882   \n",
       "\n",
       "   split3_train_roc_auc_score  mean_train_roc_auc_score  \\\n",
       "0                    0.991806                  0.991431   \n",
       "1                    0.999441                  0.999162   \n",
       "\n",
       "   std_train_roc_auc_score  \n",
       "0                 0.000511  \n",
       "1                 0.000279  \n",
       "\n",
       "[2 rows x 58 columns]"
      ]
     },
     "execution_count": 14,
     "metadata": {},
     "output_type": "execute_result"
    }
   ],
   "source": [
    "results"
   ]
  },
  {
   "cell_type": "code",
   "execution_count": null,
   "id": "b301891e-a81e-49d9-842f-cee6a209b3f1",
   "metadata": {},
   "outputs": [],
   "source": []
  },
  {
   "cell_type": "code",
   "execution_count": 11,
   "id": "fd84fe8f-d26a-4766-b54e-ef5cda2fd18c",
   "metadata": {},
   "outputs": [],
   "source": [
    "grid_svm_gamma = GridSearchCV(\n",
    "    estimator=SVC(verbose=True),\n",
    "    param_grid={\n",
    "        'C': [0.1,1.0,10,100],\n",
    "        \"class_weight\":[{0:1,1:v} for v in range(1,5)],\n",
    "        'gamma': [0.1,1,10,100],\n",
    "               },\n",
    "    scoring={\"precision\": make_scorer(precision_score),\n",
    "            \"recall\":make_scorer(recall_score),\n",
    "            \"f1_score\":make_scorer(f1_score),\n",
    "           \"roc_auc_score\":make_scorer(roc_auc_score)\n",
    "            },\n",
    "    refit=\"roc_auc_score\",\n",
    "    return_train_score=True,\n",
    "    verbose=1,\n",
    "    cv=4,\n",
    "    n_jobs=-1\n",
    "    \n",
    "    \n",
    ")"
   ]
  },
  {
   "cell_type": "code",
   "execution_count": 12,
   "id": "3404927d-e464-48cb-b52d-1040d33a36f2",
   "metadata": {},
   "outputs": [
    {
     "ename": "TypeError",
     "evalue": "fit() missing 1 required positional argument: 'X'",
     "output_type": "error",
     "traceback": [
      "\u001b[1;31m---------------------------------------------------------------------------\u001b[0m",
      "\u001b[1;31mTypeError\u001b[0m                                 Traceback (most recent call last)",
      "\u001b[1;32m~\\AppData\\Local\\Temp/ipykernel_18328/4116910387.py\u001b[0m in \u001b[0;36m<module>\u001b[1;34m\u001b[0m\n\u001b[1;32m----> 1\u001b[1;33m \u001b[0mgrid_svm_gamma\u001b[0m\u001b[1;33m.\u001b[0m\u001b[0mfit\u001b[0m\u001b[1;33m(\u001b[0m\u001b[1;33m)\u001b[0m\u001b[1;33m\u001b[0m\u001b[1;33m\u001b[0m\u001b[0m\n\u001b[0m",
      "\u001b[1;31mTypeError\u001b[0m: fit() missing 1 required positional argument: 'X'"
     ]
    }
   ],
   "source": [
    "grid_svm_gamma.fit(X,y)"
   ]
  },
  {
   "cell_type": "code",
   "execution_count": null,
   "id": "53e6ed1e-796d-48c0-a5b3-5e8c612fdf23",
   "metadata": {},
   "outputs": [],
   "source": []
  },
  {
   "cell_type": "code",
   "execution_count": null,
   "id": "83ecfdea-b079-4e35-b9eb-bb9e15ccb965",
   "metadata": {},
   "outputs": [],
   "source": []
  },
  {
   "cell_type": "markdown",
   "id": "b4b30b2b-ce21-4835-b419-cbab13832c8c",
   "metadata": {},
   "source": [
    "## continue from here"
   ]
  },
  {
   "cell_type": "code",
   "execution_count": 15,
   "id": "089da7c3-2e02-420b-b38d-cacdff9fbefb",
   "metadata": {},
   "outputs": [],
   "source": [
    "#oversampling of minority class (imbalanced learning)\n",
    "over = SMOTE(sampling_strategy=0.2,random_state=0)\n",
    "over_x_train,over_y_train = over.fit_resample(X,y)"
   ]
  },
  {
   "cell_type": "code",
   "execution_count": 25,
   "id": "3d066152-b9ab-4e72-8bb0-0cbf48e31ca6",
   "metadata": {},
   "outputs": [],
   "source": [
    "model = SVC(probability = True)"
   ]
  },
  {
   "cell_type": "code",
   "execution_count": 17,
   "id": "a9ef50fa-3928-46d0-829a-df38f9527bba",
   "metadata": {},
   "outputs": [
    {
     "data": {
      "text/plain": [
       "{'C': 1.0,\n",
       " 'break_ties': False,\n",
       " 'cache_size': 200,\n",
       " 'class_weight': None,\n",
       " 'coef0': 0.0,\n",
       " 'decision_function_shape': 'ovr',\n",
       " 'degree': 3,\n",
       " 'gamma': 'scale',\n",
       " 'kernel': 'rbf',\n",
       " 'max_iter': -1,\n",
       " 'probability': True,\n",
       " 'random_state': None,\n",
       " 'shrinking': True,\n",
       " 'tol': 0.001,\n",
       " 'verbose': False}"
      ]
     },
     "execution_count": 17,
     "metadata": {},
     "output_type": "execute_result"
    }
   ],
   "source": [
    "model.get_params()"
   ]
  },
  {
   "cell_type": "code",
   "execution_count": 18,
   "id": "dcac1e1f-cc21-4c99-b15f-3b21fcc5bc80",
   "metadata": {},
   "outputs": [],
   "source": [
    "x_train,x_test,y_train,y_test = train_test_split(over_x_train,over_y_train,test_size=0.20)"
   ]
  },
  {
   "cell_type": "code",
   "execution_count": 19,
   "id": "323730af-cc58-4806-bd99-d574972b7df7",
   "metadata": {},
   "outputs": [
    {
     "data": {
      "text/html": [
       "<style>#sk-container-id-1 {color: black;background-color: white;}#sk-container-id-1 pre{padding: 0;}#sk-container-id-1 div.sk-toggleable {background-color: white;}#sk-container-id-1 label.sk-toggleable__label {cursor: pointer;display: block;width: 100%;margin-bottom: 0;padding: 0.3em;box-sizing: border-box;text-align: center;}#sk-container-id-1 label.sk-toggleable__label-arrow:before {content: \"▸\";float: left;margin-right: 0.25em;color: #696969;}#sk-container-id-1 label.sk-toggleable__label-arrow:hover:before {color: black;}#sk-container-id-1 div.sk-estimator:hover label.sk-toggleable__label-arrow:before {color: black;}#sk-container-id-1 div.sk-toggleable__content {max-height: 0;max-width: 0;overflow: hidden;text-align: left;background-color: #f0f8ff;}#sk-container-id-1 div.sk-toggleable__content pre {margin: 0.2em;color: black;border-radius: 0.25em;background-color: #f0f8ff;}#sk-container-id-1 input.sk-toggleable__control:checked~div.sk-toggleable__content {max-height: 200px;max-width: 100%;overflow: auto;}#sk-container-id-1 input.sk-toggleable__control:checked~label.sk-toggleable__label-arrow:before {content: \"▾\";}#sk-container-id-1 div.sk-estimator input.sk-toggleable__control:checked~label.sk-toggleable__label {background-color: #d4ebff;}#sk-container-id-1 div.sk-label input.sk-toggleable__control:checked~label.sk-toggleable__label {background-color: #d4ebff;}#sk-container-id-1 input.sk-hidden--visually {border: 0;clip: rect(1px 1px 1px 1px);clip: rect(1px, 1px, 1px, 1px);height: 1px;margin: -1px;overflow: hidden;padding: 0;position: absolute;width: 1px;}#sk-container-id-1 div.sk-estimator {font-family: monospace;background-color: #f0f8ff;border: 1px dotted black;border-radius: 0.25em;box-sizing: border-box;margin-bottom: 0.5em;}#sk-container-id-1 div.sk-estimator:hover {background-color: #d4ebff;}#sk-container-id-1 div.sk-parallel-item::after {content: \"\";width: 100%;border-bottom: 1px solid gray;flex-grow: 1;}#sk-container-id-1 div.sk-label:hover label.sk-toggleable__label {background-color: #d4ebff;}#sk-container-id-1 div.sk-serial::before {content: \"\";position: absolute;border-left: 1px solid gray;box-sizing: border-box;top: 0;bottom: 0;left: 50%;z-index: 0;}#sk-container-id-1 div.sk-serial {display: flex;flex-direction: column;align-items: center;background-color: white;padding-right: 0.2em;padding-left: 0.2em;position: relative;}#sk-container-id-1 div.sk-item {position: relative;z-index: 1;}#sk-container-id-1 div.sk-parallel {display: flex;align-items: stretch;justify-content: center;background-color: white;position: relative;}#sk-container-id-1 div.sk-item::before, #sk-container-id-1 div.sk-parallel-item::before {content: \"\";position: absolute;border-left: 1px solid gray;box-sizing: border-box;top: 0;bottom: 0;left: 50%;z-index: -1;}#sk-container-id-1 div.sk-parallel-item {display: flex;flex-direction: column;z-index: 1;position: relative;background-color: white;}#sk-container-id-1 div.sk-parallel-item:first-child::after {align-self: flex-end;width: 50%;}#sk-container-id-1 div.sk-parallel-item:last-child::after {align-self: flex-start;width: 50%;}#sk-container-id-1 div.sk-parallel-item:only-child::after {width: 0;}#sk-container-id-1 div.sk-dashed-wrapped {border: 1px dashed gray;margin: 0 0.4em 0.5em 0.4em;box-sizing: border-box;padding-bottom: 0.4em;background-color: white;}#sk-container-id-1 div.sk-label label {font-family: monospace;font-weight: bold;display: inline-block;line-height: 1.2em;}#sk-container-id-1 div.sk-label-container {text-align: center;}#sk-container-id-1 div.sk-container {/* jupyter's `normalize.less` sets `[hidden] { display: none; }` but bootstrap.min.css set `[hidden] { display: none !important; }` so we also need the `!important` here to be able to override the default hidden behavior on the sphinx rendered scikit-learn.org. See: https://github.com/scikit-learn/scikit-learn/issues/21755 */display: inline-block !important;position: relative;}#sk-container-id-1 div.sk-text-repr-fallback {display: none;}</style><div id=\"sk-container-id-1\" class=\"sk-top-container\"><div class=\"sk-text-repr-fallback\"><pre>SVC(probability=True)</pre><b>In a Jupyter environment, please rerun this cell to show the HTML representation or trust the notebook. <br />On GitHub, the HTML representation is unable to render, please try loading this page with nbviewer.org.</b></div><div class=\"sk-container\" hidden><div class=\"sk-item\"><div class=\"sk-estimator sk-toggleable\"><input class=\"sk-toggleable__control sk-hidden--visually\" id=\"sk-estimator-id-1\" type=\"checkbox\" checked><label for=\"sk-estimator-id-1\" class=\"sk-toggleable__label sk-toggleable__label-arrow\">SVC</label><div class=\"sk-toggleable__content\"><pre>SVC(probability=True)</pre></div></div></div></div></div>"
      ],
      "text/plain": [
       "SVC(probability=True)"
      ]
     },
     "execution_count": 19,
     "metadata": {},
     "output_type": "execute_result"
    }
   ],
   "source": [
    "model.fit(x_train,y_train)"
   ]
  },
  {
   "cell_type": "code",
   "execution_count": 20,
   "id": "c6a9c2b5-cb89-49b8-b347-c80333aa81f4",
   "metadata": {},
   "outputs": [],
   "source": [
    "y_pred =model.predict(x_test)"
   ]
  },
  {
   "cell_type": "code",
   "execution_count": 26,
   "id": "5210be90-f757-4154-b0b9-e0a561456a96",
   "metadata": {},
   "outputs": [
    {
     "data": {
      "text/plain": [
       "0.84687038509599"
      ]
     },
     "execution_count": 26,
     "metadata": {},
     "output_type": "execute_result"
    }
   ],
   "source": [
    "accuracy_score(y_test,y_pred)"
   ]
  },
  {
   "cell_type": "code",
   "execution_count": null,
   "id": "00938a13-e39e-4ffe-96a3-2f308d5ecc54",
   "metadata": {},
   "outputs": [],
   "source": []
  },
  {
   "cell_type": "code",
   "execution_count": 28,
   "id": "ff2c0e38-f375-45ea-96ec-98690ce3f5e8",
   "metadata": {},
   "outputs": [
    {
     "name": "stdout",
     "output_type": "stream",
     "text": [
      "              precision    recall  f1-score   support\n",
      "\n",
      "           0       0.85      1.00      0.91      7277\n",
      "           1       0.86      0.14      0.24      1526\n",
      "\n",
      "    accuracy                           0.85      8803\n",
      "   macro avg       0.85      0.57      0.58      8803\n",
      "weighted avg       0.85      0.85      0.80      8803\n",
      "\n"
     ]
    }
   ],
   "source": [
    "print(classification_report(y_test,y_pred))"
   ]
  },
  {
   "cell_type": "code",
   "execution_count": null,
   "id": "a22f526f-be9b-497c-b9a9-8e98ed9f073f",
   "metadata": {},
   "outputs": [],
   "source": []
  },
  {
   "cell_type": "code",
   "execution_count": 22,
   "id": "d830e881-e1e1-47d3-8148-4adc2f79c6aa",
   "metadata": {},
   "outputs": [
    {
     "name": "stderr",
     "output_type": "stream",
     "text": [
      "C:\\ProgramData\\Anaconda3\\lib\\site-packages\\sklearn\\utils\\deprecation.py:87: FutureWarning: Function plot_confusion_matrix is deprecated; Function `plot_confusion_matrix` is deprecated in 1.0 and will be removed in 1.2. Use one of the class methods: ConfusionMatrixDisplay.from_predictions or ConfusionMatrixDisplay.from_estimator.\n",
      "  warnings.warn(msg, category=FutureWarning)\n"
     ]
    },
    {
     "name": "stdout",
     "output_type": "stream",
     "text": [
      "Confusion matrix SVM @80\n",
      "[[7241   36]\n",
      " [1312  214]]\n"
     ]
    },
    {
     "name": "stderr",
     "output_type": "stream",
     "text": [
      "C:\\ProgramData\\Anaconda3\\lib\\site-packages\\sklearn\\utils\\deprecation.py:87: FutureWarning: Function plot_confusion_matrix is deprecated; Function `plot_confusion_matrix` is deprecated in 1.0 and will be removed in 1.2. Use one of the class methods: ConfusionMatrixDisplay.from_predictions or ConfusionMatrixDisplay.from_estimator.\n",
      "  warnings.warn(msg, category=FutureWarning)\n"
     ]
    },
    {
     "name": "stdout",
     "output_type": "stream",
     "text": [
      "Normalized confusion matrix\n",
      "[[0.99505291 0.00494709]\n",
      " [0.85976409 0.14023591]]\n"
     ]
    },
    {
     "data": {
      "image/png": "[encoded data removed]",
      "text/plain": [
       "<Figure size 432x288 with 2 Axes>"
      ]
     },
     "metadata": {
      "needs_background": "light"
     },
     "output_type": "display_data"
    },
    {
     "data": {
      "image/png": "[encoded data removed]",
      "text/plain": [
       "<Figure size 432x288 with 2 Axes>"
      ]
     },
     "metadata": {
      "needs_background": "light"
     },
     "output_type": "display_data"
    }
   ],
   "source": [
    "#plotting non-normalized confusion matrix\n",
    "\n",
    "titles = [(\"Confusion matrix SVM @80\",None),\n",
    "         (\"Normalized confusion matrix\",\"true\")]\n",
    "\n",
    "for title , normalized in titles:\n",
    "    disp =plot_confusion_matrix(model,x_test,y_test,\n",
    "                               display_labels=[\"Normal\",\"Theft\"],\n",
    "                               cmap=plt.cm.Blues,\n",
    "                               normalize=normalized)\n",
    "    disp.ax_.set_title(title)\n",
    "    print(title)\n",
    "    print(disp.confusion_matrix)\n",
    "    \n",
    "plt.show()"
   ]
  },
  {
   "cell_type": "code",
   "execution_count": 23,
   "id": "e6e78250-d3b6-4197-85b8-faa1f9feba29",
   "metadata": {},
   "outputs": [],
   "source": [
    "probs = model.predict_proba(x_test)\n",
    "preds = probs[:,1]\n",
    "fpr,tpr,thresold = roc_curve(y_test,preds)\n",
    "roc_auc = auc(fpr,tpr)"
   ]
  },
  {
   "cell_type": "code",
   "execution_count": 24,
   "id": "0631e0b4-6df5-48f4-b45a-a8e5f7139c64",
   "metadata": {},
   "outputs": [
    {
     "data": {
      "image/png": "[encoded data removed]",
      "text/plain": [
       "<Figure size 432x288 with 1 Axes>"
      ]
     },
     "metadata": {
      "needs_background": "light"
     },
     "output_type": "display_data"
    }
   ],
   "source": [
    "plt.title(\"Receiver Operating Characteristic(ROC) SVM @20\")\n",
    "plt.plot(fpr,tpr,\"b\",label=\"AUC = %0.4f\" %roc_auc)\n",
    "plt.legend(loc= \"lower right\")\n",
    "plt.plot([0,1],[0,1],\"r--\")\n",
    "plt.xlim([0,1])\n",
    "plt.ylim([0,1])\n",
    "plt.ylabel(\"True Positive Rate\")\n",
    "plt.xlabel(\"False Positive Rate\")\n",
    "plt.show()"
   ]
  }
 ],
 "metadata": {
  "kernelspec": {
   "display_name": "Python 3 (ipykernel)",
   "language": "python",
   "name": "python3"
  },
  "language_info": {
   "codemirror_mode": {
    "name": "ipython",
    "version": 3
   },
   "file_extension": ".py",
   "mimetype": "text/x-python",
   "name": "python",
   "nbconvert_exporter": "python",
   "pygments_lexer": "ipython3",
   "version": "3.9.7"
  }
 },
 "nbformat": 4,
 "nbformat_minor": 5
}
