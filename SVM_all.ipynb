{
 "cells": [
  {
   "cell_type": "code",
   "execution_count": 1,
   "id": "bdbd73b8-b7f5-4d90-b04f-a3ddca8c09ee",
   "metadata": {},
   "outputs": [],
   "source": [
    "import numpy as np\n",
    "import pandas as pd\n",
    "import matplotlib.pyplot as plt\n",
    "import seaborn as sns\n",
    "%matplotlib inline\n",
    "from sklearn.metrics import classification_report\n",
    "from sklearn.metrics import accuracy_score,precision_score,roc_auc_score,f1_score,recall_score,make_scorer,plot_confusion_matrix\n",
    "from sklearn.model_selection import train_test_split\n",
    "from sklearn.metrics import ConfusionMatrixDisplay,confusion_matrix,roc_curve,auc,accuracy_score\n",
    "from sklearn.svm import SVC\n",
    "from sklearn.model_selection import GridSearchCV\n",
    "from sklearn.utils import shuffle"
   ]
  },
  {
   "cell_type": "code",
   "execution_count": 3,
   "id": "e650c4e7-c925-4025-a8f0-5c45c770c6d9",
   "metadata": {},
   "outputs": [],
   "source": [
    "df =pd.read_csv(\"./Data_clean/min_max_both_inter_scaled.csv\")"
   ]
  },
  {
   "cell_type": "code",
   "execution_count": 4,
   "id": "5a4ea0d4-92d4-4f61-a990-6130aea0d48e",
   "metadata": {},
   "outputs": [],
   "source": [
    "X = df.drop([\"FLAG\", \"CONS_NO\"],axis=1)"
   ]
  },
  {
   "cell_type": "code",
   "execution_count": 5,
   "id": "2a62ee78-21da-4c7e-92bd-cbb53765fbf6",
   "metadata": {},
   "outputs": [],
   "source": [
    "y = df.FLAG"
   ]
  },
  {
   "cell_type": "code",
   "execution_count": 6,
   "id": "5d0fa2c9-da05-4652-a622-34ab5d2e209a",
   "metadata": {},
   "outputs": [],
   "source": [
    "model = SVC()"
   ]
  },
  {
   "cell_type": "code",
   "execution_count": 7,
   "id": "95e40ee1-5548-4619-8a66-12751d172a54",
   "metadata": {},
   "outputs": [
    {
     "data": {
      "text/plain": [
       "{'C': 1.0,\n",
       " 'break_ties': False,\n",
       " 'cache_size': 200,\n",
       " 'class_weight': None,\n",
       " 'coef0': 0.0,\n",
       " 'decision_function_shape': 'ovr',\n",
       " 'degree': 3,\n",
       " 'gamma': 'scale',\n",
       " 'kernel': 'rbf',\n",
       " 'max_iter': -1,\n",
       " 'probability': False,\n",
       " 'random_state': None,\n",
       " 'shrinking': True,\n",
       " 'tol': 0.001,\n",
       " 'verbose': False}"
      ]
     },
     "execution_count": 7,
     "metadata": {},
     "output_type": "execute_result"
    }
   ],
   "source": [
    "model.get_params()"
   ]
  },
  {
   "cell_type": "code",
   "execution_count": 8,
   "id": "b31e1b13-ffd3-4721-bf0c-16d9e953cc9a",
   "metadata": {},
   "outputs": [],
   "source": [
    "grid_svm_1_linear = GridSearchCV(\n",
    "    estimator=SVC(kernel=\"poly\",verbose=True),\n",
    "    param_grid={\n",
    "        \"class_weight\":[{0:1,1:v} for v in range(1,5)]\n",
    "               },\n",
    "    scoring={\"precision\": make_scorer(precision_score),\n",
    "            \"recall\":make_scorer(recall_score),\n",
    "            \"f1_score\":make_scorer(f1_score),\n",
    "           \"roc_auc_score\":make_scorer(roc_auc_score)\n",
    "            },\n",
    "    refit=\"roc_auc_score\",\n",
    "    return_train_score=True,\n",
    "    verbose=1,\n",
    "    cv=4,\n",
    "    n_jobs=-1\n",
    "    \n",
    "    \n",
    ")"
   ]
  },
  {
   "cell_type": "code",
   "execution_count": 9,
   "id": "426fb62e-92ec-4c61-82d4-aee38ee6fac4",
   "metadata": {},
   "outputs": [
    {
     "name": "stdout",
     "output_type": "stream",
     "text": [
      "Fitting 4 folds for each of 4 candidates, totalling 16 fits\n",
      "[LibSVM]"
     ]
    },
    {
     "data": {
      "text/html": [
       "<style>#sk-container-id-1 {color: black;background-color: white;}#sk-container-id-1 pre{padding: 0;}#sk-container-id-1 div.sk-toggleable {background-color: white;}#sk-container-id-1 label.sk-toggleable__label {cursor: pointer;display: block;width: 100%;margin-bottom: 0;padding: 0.3em;box-sizing: border-box;text-align: center;}#sk-container-id-1 label.sk-toggleable__label-arrow:before {content: \"▸\";float: left;margin-right: 0.25em;color: #696969;}#sk-container-id-1 label.sk-toggleable__label-arrow:hover:before {color: black;}#sk-container-id-1 div.sk-estimator:hover label.sk-toggleable__label-arrow:before {color: black;}#sk-container-id-1 div.sk-toggleable__content {max-height: 0;max-width: 0;overflow: hidden;text-align: left;background-color: #f0f8ff;}#sk-container-id-1 div.sk-toggleable__content pre {margin: 0.2em;color: black;border-radius: 0.25em;background-color: #f0f8ff;}#sk-container-id-1 input.sk-toggleable__control:checked~div.sk-toggleable__content {max-height: 200px;max-width: 100%;overflow: auto;}#sk-container-id-1 input.sk-toggleable__control:checked~label.sk-toggleable__label-arrow:before {content: \"▾\";}#sk-container-id-1 div.sk-estimator input.sk-toggleable__control:checked~label.sk-toggleable__label {background-color: #d4ebff;}#sk-container-id-1 div.sk-label input.sk-toggleable__control:checked~label.sk-toggleable__label {background-color: #d4ebff;}#sk-container-id-1 input.sk-hidden--visually {border: 0;clip: rect(1px 1px 1px 1px);clip: rect(1px, 1px, 1px, 1px);height: 1px;margin: -1px;overflow: hidden;padding: 0;position: absolute;width: 1px;}#sk-container-id-1 div.sk-estimator {font-family: monospace;background-color: #f0f8ff;border: 1px dotted black;border-radius: 0.25em;box-sizing: border-box;margin-bottom: 0.5em;}#sk-container-id-1 div.sk-estimator:hover {background-color: #d4ebff;}#sk-container-id-1 div.sk-parallel-item::after {content: \"\";width: 100%;border-bottom: 1px solid gray;flex-grow: 1;}#sk-container-id-1 div.sk-label:hover label.sk-toggleable__label {background-color: #d4ebff;}#sk-container-id-1 div.sk-serial::before {content: \"\";position: absolute;border-left: 1px solid gray;box-sizing: border-box;top: 0;bottom: 0;left: 50%;z-index: 0;}#sk-container-id-1 div.sk-serial {display: flex;flex-direction: column;align-items: center;background-color: white;padding-right: 0.2em;padding-left: 0.2em;position: relative;}#sk-container-id-1 div.sk-item {position: relative;z-index: 1;}#sk-container-id-1 div.sk-parallel {display: flex;align-items: stretch;justify-content: center;background-color: white;position: relative;}#sk-container-id-1 div.sk-item::before, #sk-container-id-1 div.sk-parallel-item::before {content: \"\";position: absolute;border-left: 1px solid gray;box-sizing: border-box;top: 0;bottom: 0;left: 50%;z-index: -1;}#sk-container-id-1 div.sk-parallel-item {display: flex;flex-direction: column;z-index: 1;position: relative;background-color: white;}#sk-container-id-1 div.sk-parallel-item:first-child::after {align-self: flex-end;width: 50%;}#sk-container-id-1 div.sk-parallel-item:last-child::after {align-self: flex-start;width: 50%;}#sk-container-id-1 div.sk-parallel-item:only-child::after {width: 0;}#sk-container-id-1 div.sk-dashed-wrapped {border: 1px dashed gray;margin: 0 0.4em 0.5em 0.4em;box-sizing: border-box;padding-bottom: 0.4em;background-color: white;}#sk-container-id-1 div.sk-label label {font-family: monospace;font-weight: bold;display: inline-block;line-height: 1.2em;}#sk-container-id-1 div.sk-label-container {text-align: center;}#sk-container-id-1 div.sk-container {/* jupyter's `normalize.less` sets `[hidden] { display: none; }` but bootstrap.min.css set `[hidden] { display: none !important; }` so we also need the `!important` here to be able to override the default hidden behavior on the sphinx rendered scikit-learn.org. See: https://github.com/scikit-learn/scikit-learn/issues/21755 */display: inline-block !important;position: relative;}#sk-container-id-1 div.sk-text-repr-fallback {display: none;}</style><div id=\"sk-container-id-1\" class=\"sk-top-container\"><div class=\"sk-text-repr-fallback\"><pre>GridSearchCV(cv=4, estimator=SVC(kernel=&#x27;poly&#x27;, verbose=True), n_jobs=-1,\n",
       "             param_grid={&#x27;class_weight&#x27;: [{0: 1, 1: 1}, {0: 1, 1: 2},\n",
       "                                          {0: 1, 1: 3}, {0: 1, 1: 4}]},\n",
       "             refit=&#x27;roc_auc_score&#x27;, return_train_score=True,\n",
       "             scoring={&#x27;f1_score&#x27;: make_scorer(f1_score),\n",
       "                      &#x27;precision&#x27;: make_scorer(precision_score),\n",
       "                      &#x27;recall&#x27;: make_scorer(recall_score),\n",
       "                      &#x27;roc_auc_score&#x27;: make_scorer(roc_auc_score)},\n",
       "             verbose=1)</pre><b>In a Jupyter environment, please rerun this cell to show the HTML representation or trust the notebook. <br />On GitHub, the HTML representation is unable to render, please try loading this page with nbviewer.org.</b></div><div class=\"sk-container\" hidden><div class=\"sk-item sk-dashed-wrapped\"><div class=\"sk-label-container\"><div class=\"sk-label sk-toggleable\"><input class=\"sk-toggleable__control sk-hidden--visually\" id=\"sk-estimator-id-1\" type=\"checkbox\" ><label for=\"sk-estimator-id-1\" class=\"sk-toggleable__label sk-toggleable__label-arrow\">GridSearchCV</label><div class=\"sk-toggleable__content\"><pre>GridSearchCV(cv=4, estimator=SVC(kernel=&#x27;poly&#x27;, verbose=True), n_jobs=-1,\n",
       "             param_grid={&#x27;class_weight&#x27;: [{0: 1, 1: 1}, {0: 1, 1: 2},\n",
       "                                          {0: 1, 1: 3}, {0: 1, 1: 4}]},\n",
       "             refit=&#x27;roc_auc_score&#x27;, return_train_score=True,\n",
       "             scoring={&#x27;f1_score&#x27;: make_scorer(f1_score),\n",
       "                      &#x27;precision&#x27;: make_scorer(precision_score),\n",
       "                      &#x27;recall&#x27;: make_scorer(recall_score),\n",
       "                      &#x27;roc_auc_score&#x27;: make_scorer(roc_auc_score)},\n",
       "             verbose=1)</pre></div></div></div><div class=\"sk-parallel\"><div class=\"sk-parallel-item\"><div class=\"sk-item\"><div class=\"sk-label-container\"><div class=\"sk-label sk-toggleable\"><input class=\"sk-toggleable__control sk-hidden--visually\" id=\"sk-estimator-id-2\" type=\"checkbox\" ><label for=\"sk-estimator-id-2\" class=\"sk-toggleable__label sk-toggleable__label-arrow\">estimator: SVC</label><div class=\"sk-toggleable__content\"><pre>SVC(kernel=&#x27;poly&#x27;, verbose=True)</pre></div></div></div><div class=\"sk-serial\"><div class=\"sk-item\"><div class=\"sk-estimator sk-toggleable\"><input class=\"sk-toggleable__control sk-hidden--visually\" id=\"sk-estimator-id-3\" type=\"checkbox\" ><label for=\"sk-estimator-id-3\" class=\"sk-toggleable__label sk-toggleable__label-arrow\">SVC</label><div class=\"sk-toggleable__content\"><pre>SVC(kernel=&#x27;poly&#x27;, verbose=True)</pre></div></div></div></div></div></div></div></div></div></div>"
      ],
      "text/plain": [
       "GridSearchCV(cv=4, estimator=SVC(kernel='poly', verbose=True), n_jobs=-1,\n",
       "             param_grid={'class_weight': [{0: 1, 1: 1}, {0: 1, 1: 2},\n",
       "                                          {0: 1, 1: 3}, {0: 1, 1: 4}]},\n",
       "             refit='roc_auc_score', return_train_score=True,\n",
       "             scoring={'f1_score': make_scorer(f1_score),\n",
       "                      'precision': make_scorer(precision_score),\n",
       "                      'recall': make_scorer(recall_score),\n",
       "                      'roc_auc_score': make_scorer(roc_auc_score)},\n",
       "             verbose=1)"
      ]
     },
     "execution_count": 9,
     "metadata": {},
     "output_type": "execute_result"
    }
   ],
   "source": [
    "grid_svm_1_linear.fit(X,y)"
   ]
  },
  {
   "cell_type": "code",
   "execution_count": 10,
   "id": "b2525aeb-8c35-4308-8f51-fd4fc0f6a7ba",
   "metadata": {},
   "outputs": [],
   "source": [
    "results= pd.DataFrame(grid_svm_1_linear.cv_results_)"
   ]
  },
  {
   "cell_type": "code",
   "execution_count": 11,
   "id": "97d5c42f-b3d3-4393-bb0e-d64ae14357fd",
   "metadata": {},
   "outputs": [
    {
     "data": {
      "text/html": [
       "<div>\n",
       "<style scoped>\n",
       "    .dataframe tbody tr th:only-of-type {\n",
       "        vertical-align: middle;\n",
       "    }\n",
       "\n",
       "    .dataframe tbody tr th {\n",
       "        vertical-align: top;\n",
       "    }\n",
       "\n",
       "    .dataframe thead th {\n",
       "        text-align: right;\n",
       "    }\n",
       "</style>\n",
       "<table border=\"1\" class=\"dataframe\">\n",
       "  <thead>\n",
       "    <tr style=\"text-align: right;\">\n",
       "      <th></th>\n",
       "      <th>mean_fit_time</th>\n",
       "      <th>std_fit_time</th>\n",
       "      <th>mean_score_time</th>\n",
       "      <th>std_score_time</th>\n",
       "      <th>param_class_weight</th>\n",
       "      <th>params</th>\n",
       "      <th>split0_test_precision</th>\n",
       "      <th>split1_test_precision</th>\n",
       "      <th>split2_test_precision</th>\n",
       "      <th>split3_test_precision</th>\n",
       "      <th>...</th>\n",
       "      <th>split3_test_roc_auc_score</th>\n",
       "      <th>mean_test_roc_auc_score</th>\n",
       "      <th>std_test_roc_auc_score</th>\n",
       "      <th>rank_test_roc_auc_score</th>\n",
       "      <th>split0_train_roc_auc_score</th>\n",
       "      <th>split1_train_roc_auc_score</th>\n",
       "      <th>split2_train_roc_auc_score</th>\n",
       "      <th>split3_train_roc_auc_score</th>\n",
       "      <th>mean_train_roc_auc_score</th>\n",
       "      <th>std_train_roc_auc_score</th>\n",
       "    </tr>\n",
       "  </thead>\n",
       "  <tbody>\n",
       "    <tr>\n",
       "      <th>0</th>\n",
       "      <td>4159.597292</td>\n",
       "      <td>204.812477</td>\n",
       "      <td>200.975563</td>\n",
       "      <td>9.545429</td>\n",
       "      <td>{0: 1, 1: 1}</td>\n",
       "      <td>{'class_weight': {0: 1, 1: 1}}</td>\n",
       "      <td>0.552381</td>\n",
       "      <td>0.467391</td>\n",
       "      <td>0.387097</td>\n",
       "      <td>0.357143</td>\n",
       "      <td>...</td>\n",
       "      <td>0.513834</td>\n",
       "      <td>0.520507</td>\n",
       "      <td>0.006013</td>\n",
       "      <td>4</td>\n",
       "      <td>0.616617</td>\n",
       "      <td>0.615499</td>\n",
       "      <td>0.616244</td>\n",
       "      <td>0.614135</td>\n",
       "      <td>0.615624</td>\n",
       "      <td>0.000949</td>\n",
       "    </tr>\n",
       "    <tr>\n",
       "      <th>1</th>\n",
       "      <td>4439.560227</td>\n",
       "      <td>278.577411</td>\n",
       "      <td>238.772440</td>\n",
       "      <td>6.041024</td>\n",
       "      <td>{0: 1, 1: 2}</td>\n",
       "      <td>{'class_weight': {0: 1, 1: 2}}</td>\n",
       "      <td>0.405063</td>\n",
       "      <td>0.404651</td>\n",
       "      <td>0.377682</td>\n",
       "      <td>0.336245</td>\n",
       "      <td>...</td>\n",
       "      <td>0.534777</td>\n",
       "      <td>0.540899</td>\n",
       "      <td>0.003986</td>\n",
       "      <td>3</td>\n",
       "      <td>0.689760</td>\n",
       "      <td>0.686166</td>\n",
       "      <td>0.688774</td>\n",
       "      <td>0.692242</td>\n",
       "      <td>0.689236</td>\n",
       "      <td>0.002176</td>\n",
       "    </tr>\n",
       "    <tr>\n",
       "      <th>2</th>\n",
       "      <td>4647.516642</td>\n",
       "      <td>36.437047</td>\n",
       "      <td>278.900143</td>\n",
       "      <td>4.198840</td>\n",
       "      <td>{0: 1, 1: 3}</td>\n",
       "      <td>{'class_weight': {0: 1, 1: 3}}</td>\n",
       "      <td>0.394595</td>\n",
       "      <td>0.382436</td>\n",
       "      <td>0.334225</td>\n",
       "      <td>0.326923</td>\n",
       "      <td>...</td>\n",
       "      <td>0.553196</td>\n",
       "      <td>0.560583</td>\n",
       "      <td>0.006302</td>\n",
       "      <td>2</td>\n",
       "      <td>0.738309</td>\n",
       "      <td>0.736987</td>\n",
       "      <td>0.742121</td>\n",
       "      <td>0.742303</td>\n",
       "      <td>0.739930</td>\n",
       "      <td>0.002330</td>\n",
       "    </tr>\n",
       "    <tr>\n",
       "      <th>3</th>\n",
       "      <td>4352.013825</td>\n",
       "      <td>133.546590</td>\n",
       "      <td>332.114913</td>\n",
       "      <td>9.106021</td>\n",
       "      <td>{0: 1, 1: 4}</td>\n",
       "      <td>{'class_weight': {0: 1, 1: 4}}</td>\n",
       "      <td>0.355469</td>\n",
       "      <td>0.352459</td>\n",
       "      <td>0.318786</td>\n",
       "      <td>0.324268</td>\n",
       "      <td>...</td>\n",
       "      <td>0.569077</td>\n",
       "      <td>0.576473</td>\n",
       "      <td>0.005412</td>\n",
       "      <td>1</td>\n",
       "      <td>0.778902</td>\n",
       "      <td>0.771518</td>\n",
       "      <td>0.782196</td>\n",
       "      <td>0.776280</td>\n",
       "      <td>0.777224</td>\n",
       "      <td>0.003904</td>\n",
       "    </tr>\n",
       "  </tbody>\n",
       "</table>\n",
       "<p>4 rows × 58 columns</p>\n",
       "</div>"
      ],
      "text/plain": [
       "   mean_fit_time  std_fit_time  mean_score_time  std_score_time  \\\n",
       "0    4159.597292    204.812477       200.975563        9.545429   \n",
       "1    4439.560227    278.577411       238.772440        6.041024   \n",
       "2    4647.516642     36.437047       278.900143        4.198840   \n",
       "3    4352.013825    133.546590       332.114913        9.106021   \n",
       "\n",
       "  param_class_weight                          params  split0_test_precision  \\\n",
       "0       {0: 1, 1: 1}  {'class_weight': {0: 1, 1: 1}}               0.552381   \n",
       "1       {0: 1, 1: 2}  {'class_weight': {0: 1, 1: 2}}               0.405063   \n",
       "2       {0: 1, 1: 3}  {'class_weight': {0: 1, 1: 3}}               0.394595   \n",
       "3       {0: 1, 1: 4}  {'class_weight': {0: 1, 1: 4}}               0.355469   \n",
       "\n",
       "   split1_test_precision  split2_test_precision  split3_test_precision  ...  \\\n",
       "0               0.467391               0.387097               0.357143  ...   \n",
       "1               0.404651               0.377682               0.336245  ...   \n",
       "2               0.382436               0.334225               0.326923  ...   \n",
       "3               0.352459               0.318786               0.324268  ...   \n",
       "\n",
       "   split3_test_roc_auc_score  mean_test_roc_auc_score  std_test_roc_auc_score  \\\n",
       "0                   0.513834                 0.520507                0.006013   \n",
       "1                   0.534777                 0.540899                0.003986   \n",
       "2                   0.553196                 0.560583                0.006302   \n",
       "3                   0.569077                 0.576473                0.005412   \n",
       "\n",
       "   rank_test_roc_auc_score  split0_train_roc_auc_score  \\\n",
       "0                        4                    0.616617   \n",
       "1                        3                    0.689760   \n",
       "2                        2                    0.738309   \n",
       "3                        1                    0.778902   \n",
       "\n",
       "   split1_train_roc_auc_score  split2_train_roc_auc_score  \\\n",
       "0                    0.615499                    0.616244   \n",
       "1                    0.686166                    0.688774   \n",
       "2                    0.736987                    0.742121   \n",
       "3                    0.771518                    0.782196   \n",
       "\n",
       "   split3_train_roc_auc_score  mean_train_roc_auc_score  \\\n",
       "0                    0.614135                  0.615624   \n",
       "1                    0.692242                  0.689236   \n",
       "2                    0.742303                  0.739930   \n",
       "3                    0.776280                  0.777224   \n",
       "\n",
       "   std_train_roc_auc_score  \n",
       "0                 0.000949  \n",
       "1                 0.002176  \n",
       "2                 0.002330  \n",
       "3                 0.003904  \n",
       "\n",
       "[4 rows x 58 columns]"
      ]
     },
     "execution_count": 11,
     "metadata": {},
     "output_type": "execute_result"
    }
   ],
   "source": [
    "results"
   ]
  },
  {
   "cell_type": "code",
   "execution_count": null,
   "id": "f5a91a39-506c-4a55-bf56-0c081a5c5958",
   "metadata": {},
   "outputs": [],
   "source": []
  }
 ],
 "metadata": {
  "kernelspec": {
   "display_name": "Python 3 (ipykernel)",
   "language": "python",
   "name": "python3"
  },
  "language_info": {
   "codemirror_mode": {
    "name": "ipython",
    "version": 3
   },
   "file_extension": ".py",
   "mimetype": "text/x-python",
   "name": "python",
   "nbconvert_exporter": "python",
   "pygments_lexer": "ipython3",
   "version": "3.9.15"
  }
 },
 "nbformat": 4,
 "nbformat_minor": 5
}
