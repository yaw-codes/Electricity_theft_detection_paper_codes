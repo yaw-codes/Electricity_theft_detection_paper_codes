{
 "cells": [
  {
   "cell_type": "code",
   "execution_count": 1,
   "id": "6782528d-02e2-4ab1-8026-b717bf57f86f",
   "metadata": {},
   "outputs": [],
   "source": [
    "from sklearn.decomposition import KernelPCA\n",
    "import numpy as np\n",
    "import pandas as pd\n",
    "import matplotlib.pyplot as plt\n",
    "import seaborn as sns\n",
    "%matplotlib inline\n",
    "from sklearn.metrics import classification_report\n",
    "from sklearn.metrics import accuracy_score,precision_score,roc_auc_score,f1_score,recall_score,make_scorer,plot_confusion_matrix\n",
    "from sklearn.model_selection import train_test_split\n",
    "from sklearn.metrics import ConfusionMatrixDisplay,confusion_matrix,roc_curve,auc,accuracy_score\n",
    "from sklearn.model_selection import GridSearchCV\n",
    "from imblearn.over_sampling import SMOTE\n",
    "from sklearn.utils import shuffle\n",
    "from sklearn.ensemble import ExtraTreesClassifier\n",
    "from sklearn.metrics import matthews_corrcoef\n",
    "from imblearn.under_sampling import NearMiss\n",
    "from imblearn.under_sampling import RandomUnderSampler\n"
   ]
  },
  {
   "cell_type": "code",
   "execution_count": null,
   "id": "032224da-19b2-4e95-9189-faca146ee525",
   "metadata": {},
   "outputs": [],
   "source": []
  },
  {
   "cell_type": "code",
   "execution_count": 2,
   "id": "d393cfea-577b-45f0-a0d4-1629971eaebe",
   "metadata": {},
   "outputs": [],
   "source": [
    "df = pd.read_csv(\"./Data_clean/min_max_both_inter_scaled.csv\")"
   ]
  },
  {
   "cell_type": "code",
   "execution_count": 3,
   "id": "9251f3ec-bbf2-48f4-ade0-3892c2460f1b",
   "metadata": {},
   "outputs": [
    {
     "data": {
      "text/html": [
       "<div>\n",
       "<style scoped>\n",
       "    .dataframe tbody tr th:only-of-type {\n",
       "        vertical-align: middle;\n",
       "    }\n",
       "\n",
       "    .dataframe tbody tr th {\n",
       "        vertical-align: top;\n",
       "    }\n",
       "\n",
       "    .dataframe thead th {\n",
       "        text-align: right;\n",
       "    }\n",
       "</style>\n",
       "<table border=\"1\" class=\"dataframe\">\n",
       "  <thead>\n",
       "    <tr style=\"text-align: right;\">\n",
       "      <th></th>\n",
       "      <th>CONS_NO</th>\n",
       "      <th>FLAG</th>\n",
       "      <th>2014-01-01</th>\n",
       "      <th>2014-01-02</th>\n",
       "      <th>2014-01-03</th>\n",
       "      <th>2014-01-04</th>\n",
       "      <th>2014-01-05</th>\n",
       "      <th>2014-01-06</th>\n",
       "      <th>2014-01-07</th>\n",
       "      <th>2014-01-08</th>\n",
       "      <th>...</th>\n",
       "      <th>2016-10-22</th>\n",
       "      <th>2016-10-23</th>\n",
       "      <th>2016-10-24</th>\n",
       "      <th>2016-10-25</th>\n",
       "      <th>2016-10-26</th>\n",
       "      <th>2016-10-27</th>\n",
       "      <th>2016-10-28</th>\n",
       "      <th>2016-10-29</th>\n",
       "      <th>2016-10-30</th>\n",
       "      <th>2016-10-31</th>\n",
       "    </tr>\n",
       "  </thead>\n",
       "  <tbody>\n",
       "    <tr>\n",
       "      <th>0</th>\n",
       "      <td>0387DD8A07E07FDA6271170F86AD9151</td>\n",
       "      <td>1</td>\n",
       "      <td>0.000000</td>\n",
       "      <td>0.000000</td>\n",
       "      <td>0.000000</td>\n",
       "      <td>0.000000</td>\n",
       "      <td>0.000000</td>\n",
       "      <td>0.000000</td>\n",
       "      <td>0.000000</td>\n",
       "      <td>0.000000</td>\n",
       "      <td>...</td>\n",
       "      <td>0.264158</td>\n",
       "      <td>0.296902</td>\n",
       "      <td>0.297637</td>\n",
       "      <td>0.350616</td>\n",
       "      <td>0.201613</td>\n",
       "      <td>0.321919</td>\n",
       "      <td>0.342154</td>\n",
       "      <td>0.277402</td>\n",
       "      <td>0.337003</td>\n",
       "      <td>0.247970</td>\n",
       "    </tr>\n",
       "    <tr>\n",
       "      <th>1</th>\n",
       "      <td>4B75AC4F2D8434CFF62DB64D0BB43103</td>\n",
       "      <td>1</td>\n",
       "      <td>0.000000</td>\n",
       "      <td>0.000000</td>\n",
       "      <td>0.000000</td>\n",
       "      <td>0.000000</td>\n",
       "      <td>0.000000</td>\n",
       "      <td>0.000000</td>\n",
       "      <td>0.000000</td>\n",
       "      <td>0.000000</td>\n",
       "      <td>...</td>\n",
       "      <td>0.333740</td>\n",
       "      <td>0.547089</td>\n",
       "      <td>0.543432</td>\n",
       "      <td>0.527583</td>\n",
       "      <td>0.653459</td>\n",
       "      <td>0.581835</td>\n",
       "      <td>0.565681</td>\n",
       "      <td>0.495276</td>\n",
       "      <td>0.432795</td>\n",
       "      <td>0.416336</td>\n",
       "    </tr>\n",
       "    <tr>\n",
       "      <th>2</th>\n",
       "      <td>B32AC8CC6D5D805AC053557AB05F5343</td>\n",
       "      <td>1</td>\n",
       "      <td>0.000000</td>\n",
       "      <td>0.000000</td>\n",
       "      <td>0.000000</td>\n",
       "      <td>0.000000</td>\n",
       "      <td>0.000000</td>\n",
       "      <td>0.000000</td>\n",
       "      <td>0.000000</td>\n",
       "      <td>0.000000</td>\n",
       "      <td>...</td>\n",
       "      <td>0.242798</td>\n",
       "      <td>0.286581</td>\n",
       "      <td>0.327142</td>\n",
       "      <td>0.282600</td>\n",
       "      <td>0.371304</td>\n",
       "      <td>0.394049</td>\n",
       "      <td>0.340220</td>\n",
       "      <td>0.365049</td>\n",
       "      <td>0.274071</td>\n",
       "      <td>0.222138</td>\n",
       "    </tr>\n",
       "    <tr>\n",
       "      <th>3</th>\n",
       "      <td>EDFC78B07BA2908B3395C4EB2304665E</td>\n",
       "      <td>1</td>\n",
       "      <td>0.048145</td>\n",
       "      <td>0.112494</td>\n",
       "      <td>0.144199</td>\n",
       "      <td>0.058008</td>\n",
       "      <td>0.064819</td>\n",
       "      <td>0.105683</td>\n",
       "      <td>0.091123</td>\n",
       "      <td>0.066463</td>\n",
       "      <td>...</td>\n",
       "      <td>0.313762</td>\n",
       "      <td>0.220056</td>\n",
       "      <td>0.178957</td>\n",
       "      <td>0.123532</td>\n",
       "      <td>0.123297</td>\n",
       "      <td>0.138093</td>\n",
       "      <td>0.156646</td>\n",
       "      <td>0.235791</td>\n",
       "      <td>0.211602</td>\n",
       "      <td>0.184829</td>\n",
       "    </tr>\n",
       "    <tr>\n",
       "      <th>4</th>\n",
       "      <td>6BCFD78138BC72A9BA1BFB0B79382192</td>\n",
       "      <td>1</td>\n",
       "      <td>0.000000</td>\n",
       "      <td>0.000000</td>\n",
       "      <td>0.000000</td>\n",
       "      <td>0.000000</td>\n",
       "      <td>0.000000</td>\n",
       "      <td>0.000000</td>\n",
       "      <td>0.000000</td>\n",
       "      <td>0.000000</td>\n",
       "      <td>...</td>\n",
       "      <td>0.147734</td>\n",
       "      <td>0.174809</td>\n",
       "      <td>0.172454</td>\n",
       "      <td>0.043555</td>\n",
       "      <td>0.024132</td>\n",
       "      <td>0.024720</td>\n",
       "      <td>0.112419</td>\n",
       "      <td>0.024720</td>\n",
       "      <td>0.022366</td>\n",
       "      <td>0.035903</td>\n",
       "    </tr>\n",
       "    <tr>\n",
       "      <th>...</th>\n",
       "      <td>...</td>\n",
       "      <td>...</td>\n",
       "      <td>...</td>\n",
       "      <td>...</td>\n",
       "      <td>...</td>\n",
       "      <td>...</td>\n",
       "      <td>...</td>\n",
       "      <td>...</td>\n",
       "      <td>...</td>\n",
       "      <td>...</td>\n",
       "      <td>...</td>\n",
       "      <td>...</td>\n",
       "      <td>...</td>\n",
       "      <td>...</td>\n",
       "      <td>...</td>\n",
       "      <td>...</td>\n",
       "      <td>...</td>\n",
       "      <td>...</td>\n",
       "      <td>...</td>\n",
       "      <td>...</td>\n",
       "      <td>...</td>\n",
       "    </tr>\n",
       "    <tr>\n",
       "      <th>40251</th>\n",
       "      <td>F1472871E1AFF49D4289564B6377D76C</td>\n",
       "      <td>0</td>\n",
       "      <td>0.000000</td>\n",
       "      <td>0.000000</td>\n",
       "      <td>0.000000</td>\n",
       "      <td>0.000000</td>\n",
       "      <td>0.000000</td>\n",
       "      <td>0.000000</td>\n",
       "      <td>0.000000</td>\n",
       "      <td>0.000000</td>\n",
       "      <td>...</td>\n",
       "      <td>0.288360</td>\n",
       "      <td>0.273369</td>\n",
       "      <td>0.242504</td>\n",
       "      <td>0.265432</td>\n",
       "      <td>0.263668</td>\n",
       "      <td>0.249559</td>\n",
       "      <td>0.223986</td>\n",
       "      <td>0.299824</td>\n",
       "      <td>0.316578</td>\n",
       "      <td>0.223986</td>\n",
       "    </tr>\n",
       "    <tr>\n",
       "      <th>40252</th>\n",
       "      <td>F3C8BBCD2DC26C1E0249DEEF6A4256B7</td>\n",
       "      <td>0</td>\n",
       "      <td>0.164334</td>\n",
       "      <td>0.000000</td>\n",
       "      <td>0.000000</td>\n",
       "      <td>0.348144</td>\n",
       "      <td>0.368229</td>\n",
       "      <td>0.353621</td>\n",
       "      <td>0.186853</td>\n",
       "      <td>0.245892</td>\n",
       "      <td>...</td>\n",
       "      <td>0.233719</td>\n",
       "      <td>0.402921</td>\n",
       "      <td>0.189897</td>\n",
       "      <td>0.314060</td>\n",
       "      <td>0.220329</td>\n",
       "      <td>0.282410</td>\n",
       "      <td>0.225806</td>\n",
       "      <td>0.378576</td>\n",
       "      <td>0.368229</td>\n",
       "      <td>0.290323</td>\n",
       "    </tr>\n",
       "    <tr>\n",
       "      <th>40253</th>\n",
       "      <td>A9A0FE83467A680FBFB0DBFC910DF227</td>\n",
       "      <td>0</td>\n",
       "      <td>0.048013</td>\n",
       "      <td>0.096026</td>\n",
       "      <td>0.076159</td>\n",
       "      <td>0.081126</td>\n",
       "      <td>0.127483</td>\n",
       "      <td>0.114238</td>\n",
       "      <td>0.073675</td>\n",
       "      <td>0.057947</td>\n",
       "      <td>...</td>\n",
       "      <td>0.081954</td>\n",
       "      <td>0.050497</td>\n",
       "      <td>0.053808</td>\n",
       "      <td>0.045530</td>\n",
       "      <td>0.040563</td>\n",
       "      <td>0.042219</td>\n",
       "      <td>0.065397</td>\n",
       "      <td>0.054636</td>\n",
       "      <td>0.032285</td>\n",
       "      <td>0.053808</td>\n",
       "    </tr>\n",
       "    <tr>\n",
       "      <th>40254</th>\n",
       "      <td>D9A6ADA018FA46A55D5438370456AA45</td>\n",
       "      <td>0</td>\n",
       "      <td>0.349472</td>\n",
       "      <td>0.313470</td>\n",
       "      <td>0.398924</td>\n",
       "      <td>0.355680</td>\n",
       "      <td>0.347610</td>\n",
       "      <td>0.361680</td>\n",
       "      <td>0.369543</td>\n",
       "      <td>0.496379</td>\n",
       "      <td>...</td>\n",
       "      <td>0.323609</td>\n",
       "      <td>0.340989</td>\n",
       "      <td>0.269812</td>\n",
       "      <td>0.214980</td>\n",
       "      <td>0.248293</td>\n",
       "      <td>0.230706</td>\n",
       "      <td>0.252845</td>\n",
       "      <td>0.272295</td>\n",
       "      <td>0.275812</td>\n",
       "      <td>0.214980</td>\n",
       "    </tr>\n",
       "    <tr>\n",
       "      <th>40255</th>\n",
       "      <td>F3406636BAD1E6E0826E8EDDC9A1BF00</td>\n",
       "      <td>0</td>\n",
       "      <td>0.000000</td>\n",
       "      <td>0.000000</td>\n",
       "      <td>0.000000</td>\n",
       "      <td>0.000000</td>\n",
       "      <td>0.000000</td>\n",
       "      <td>0.000000</td>\n",
       "      <td>0.000000</td>\n",
       "      <td>0.000000</td>\n",
       "      <td>...</td>\n",
       "      <td>0.385120</td>\n",
       "      <td>0.625091</td>\n",
       "      <td>0.304522</td>\n",
       "      <td>0.316557</td>\n",
       "      <td>0.233042</td>\n",
       "      <td>0.290299</td>\n",
       "      <td>0.296499</td>\n",
       "      <td>0.419402</td>\n",
       "      <td>0.261123</td>\n",
       "      <td>0.191466</td>\n",
       "    </tr>\n",
       "  </tbody>\n",
       "</table>\n",
       "<p>40256 rows × 1036 columns</p>\n",
       "</div>"
      ],
      "text/plain": [
       "                                CONS_NO  FLAG  2014-01-01  2014-01-02  \\\n",
       "0      0387DD8A07E07FDA6271170F86AD9151     1    0.000000    0.000000   \n",
       "1      4B75AC4F2D8434CFF62DB64D0BB43103     1    0.000000    0.000000   \n",
       "2      B32AC8CC6D5D805AC053557AB05F5343     1    0.000000    0.000000   \n",
       "3      EDFC78B07BA2908B3395C4EB2304665E     1    0.048145    0.112494   \n",
       "4      6BCFD78138BC72A9BA1BFB0B79382192     1    0.000000    0.000000   \n",
       "...                                 ...   ...         ...         ...   \n",
       "40251  F1472871E1AFF49D4289564B6377D76C     0    0.000000    0.000000   \n",
       "40252  F3C8BBCD2DC26C1E0249DEEF6A4256B7     0    0.164334    0.000000   \n",
       "40253  A9A0FE83467A680FBFB0DBFC910DF227     0    0.048013    0.096026   \n",
       "40254  D9A6ADA018FA46A55D5438370456AA45     0    0.349472    0.313470   \n",
       "40255  F3406636BAD1E6E0826E8EDDC9A1BF00     0    0.000000    0.000000   \n",
       "\n",
       "       2014-01-03  2014-01-04  2014-01-05  2014-01-06  2014-01-07  2014-01-08  \\\n",
       "0        0.000000    0.000000    0.000000    0.000000    0.000000    0.000000   \n",
       "1        0.000000    0.000000    0.000000    0.000000    0.000000    0.000000   \n",
       "2        0.000000    0.000000    0.000000    0.000000    0.000000    0.000000   \n",
       "3        0.144199    0.058008    0.064819    0.105683    0.091123    0.066463   \n",
       "4        0.000000    0.000000    0.000000    0.000000    0.000000    0.000000   \n",
       "...           ...         ...         ...         ...         ...         ...   \n",
       "40251    0.000000    0.000000    0.000000    0.000000    0.000000    0.000000   \n",
       "40252    0.000000    0.348144    0.368229    0.353621    0.186853    0.245892   \n",
       "40253    0.076159    0.081126    0.127483    0.114238    0.073675    0.057947   \n",
       "40254    0.398924    0.355680    0.347610    0.361680    0.369543    0.496379   \n",
       "40255    0.000000    0.000000    0.000000    0.000000    0.000000    0.000000   \n",
       "\n",
       "       ...  2016-10-22  2016-10-23  2016-10-24  2016-10-25  2016-10-26  \\\n",
       "0      ...    0.264158    0.296902    0.297637    0.350616    0.201613   \n",
       "1      ...    0.333740    0.547089    0.543432    0.527583    0.653459   \n",
       "2      ...    0.242798    0.286581    0.327142    0.282600    0.371304   \n",
       "3      ...    0.313762    0.220056    0.178957    0.123532    0.123297   \n",
       "4      ...    0.147734    0.174809    0.172454    0.043555    0.024132   \n",
       "...    ...         ...         ...         ...         ...         ...   \n",
       "40251  ...    0.288360    0.273369    0.242504    0.265432    0.263668   \n",
       "40252  ...    0.233719    0.402921    0.189897    0.314060    0.220329   \n",
       "40253  ...    0.081954    0.050497    0.053808    0.045530    0.040563   \n",
       "40254  ...    0.323609    0.340989    0.269812    0.214980    0.248293   \n",
       "40255  ...    0.385120    0.625091    0.304522    0.316557    0.233042   \n",
       "\n",
       "       2016-10-27  2016-10-28  2016-10-29  2016-10-30  2016-10-31  \n",
       "0        0.321919    0.342154    0.277402    0.337003    0.247970  \n",
       "1        0.581835    0.565681    0.495276    0.432795    0.416336  \n",
       "2        0.394049    0.340220    0.365049    0.274071    0.222138  \n",
       "3        0.138093    0.156646    0.235791    0.211602    0.184829  \n",
       "4        0.024720    0.112419    0.024720    0.022366    0.035903  \n",
       "...           ...         ...         ...         ...         ...  \n",
       "40251    0.249559    0.223986    0.299824    0.316578    0.223986  \n",
       "40252    0.282410    0.225806    0.378576    0.368229    0.290323  \n",
       "40253    0.042219    0.065397    0.054636    0.032285    0.053808  \n",
       "40254    0.230706    0.252845    0.272295    0.275812    0.214980  \n",
       "40255    0.290299    0.296499    0.419402    0.261123    0.191466  \n",
       "\n",
       "[40256 rows x 1036 columns]"
      ]
     },
     "execution_count": 3,
     "metadata": {},
     "output_type": "execute_result"
    }
   ],
   "source": [
    "df"
   ]
  },
  {
   "cell_type": "code",
   "execution_count": 4,
   "id": "e91785e4-97b8-46c4-92c5-a3f5c14e8491",
   "metadata": {},
   "outputs": [],
   "source": [
    "X = df.drop([\"FLAG\",\"CONS_NO\"],axis=1)"
   ]
  },
  {
   "cell_type": "code",
   "execution_count": 5,
   "id": "0a6b5012-50dd-4b43-aeb7-ed71e86e8884",
   "metadata": {},
   "outputs": [],
   "source": [
    "y= df.FLAG"
   ]
  },
  {
   "cell_type": "code",
   "execution_count": 6,
   "id": "3b8763ba-4bf4-421f-b083-cff11509711b",
   "metadata": {},
   "outputs": [],
   "source": [
    "model_extra = ExtraTreesClassifier(verbose=0,n_jobs=-1)"
   ]
  },
  {
   "cell_type": "code",
   "execution_count": 7,
   "id": "513941d1-992c-4656-8518-94fb73f563b7",
   "metadata": {},
   "outputs": [
    {
     "data": {
      "text/plain": [
       "{'bootstrap': False,\n",
       " 'ccp_alpha': 0.0,\n",
       " 'class_weight': None,\n",
       " 'criterion': 'gini',\n",
       " 'max_depth': None,\n",
       " 'max_features': 'auto',\n",
       " 'max_leaf_nodes': None,\n",
       " 'max_samples': None,\n",
       " 'min_impurity_decrease': 0.0,\n",
       " 'min_samples_leaf': 1,\n",
       " 'min_samples_split': 2,\n",
       " 'min_weight_fraction_leaf': 0.0,\n",
       " 'n_estimators': 100,\n",
       " 'n_jobs': -1,\n",
       " 'oob_score': False,\n",
       " 'random_state': None,\n",
       " 'verbose': 0,\n",
       " 'warm_start': False}"
      ]
     },
     "execution_count": 7,
     "metadata": {},
     "output_type": "execute_result"
    }
   ],
   "source": [
    "model_extra.get_params()"
   ]
  },
  {
   "cell_type": "code",
   "execution_count": 8,
   "id": "df6c9c6e-9fc2-451d-bc97-ff425675cde1",
   "metadata": {},
   "outputs": [],
   "source": [
    "X= np.array(X.values)"
   ]
  },
  {
   "cell_type": "code",
   "execution_count": 9,
   "id": "0187b477-12e7-4999-a53b-fc60312e671e",
   "metadata": {},
   "outputs": [],
   "source": [
    "y= np.array(y.values)"
   ]
  },
  {
   "cell_type": "code",
   "execution_count": null,
   "id": "6a2b17c1-1e66-4265-ab45-434f88c1308e",
   "metadata": {},
   "outputs": [],
   "source": []
  },
  {
   "cell_type": "markdown",
   "id": "d8e6d1a3-ddd1-4482-9c95-9fc8a201fda3",
   "metadata": {},
   "source": [
    "## Testing the dataset against original model"
   ]
  },
  {
   "cell_type": "code",
   "execution_count": null,
   "id": "290e903d-190c-4d7b-9174-d3bd8fccf9f6",
   "metadata": {},
   "outputs": [],
   "source": []
  },
  {
   "cell_type": "code",
   "execution_count": 15,
   "id": "ae36700e-6834-41d5-bd7e-23793922a8ef",
   "metadata": {},
   "outputs": [],
   "source": [
    "x_train,x_test,y_train,y_test = train_test_split(X,y,test_size=0.20)"
   ]
  },
  {
   "cell_type": "code",
   "execution_count": 16,
   "id": "1e4bb85a-c4e5-422f-a26b-25861353e459",
   "metadata": {},
   "outputs": [
    {
     "data": {
      "text/plain": [
       "ExtraTreesClassifier(n_jobs=-1)"
      ]
     },
     "execution_count": 16,
     "metadata": {},
     "output_type": "execute_result"
    }
   ],
   "source": [
    "model_extra.fit(x_train,y_train)"
   ]
  },
  {
   "cell_type": "code",
   "execution_count": 17,
   "id": "e4fd7bfe-92cc-447f-90b8-6e2cd4ca1d61",
   "metadata": {},
   "outputs": [],
   "source": [
    "y_pred =model_extra.predict(x_test)"
   ]
  },
  {
   "cell_type": "code",
   "execution_count": 18,
   "id": "b14d5f3c-24e0-41f0-9da8-d4fbf0abf475",
   "metadata": {},
   "outputs": [
    {
     "name": "stdout",
     "output_type": "stream",
     "text": [
      "              precision    recall  f1-score   support\n",
      "\n",
      "           0       0.92      1.00      0.96      7340\n",
      "           1       0.75      0.05      0.09       712\n",
      "\n",
      "    accuracy                           0.91      8052\n",
      "   macro avg       0.83      0.52      0.52      8052\n",
      "weighted avg       0.90      0.91      0.88      8052\n",
      "\n"
     ]
    }
   ],
   "source": [
    "print(classification_report(y_test,y_pred))"
   ]
  },
  {
   "cell_type": "code",
   "execution_count": 19,
   "id": "06f1afbc-58fd-45c0-bc69-8ede3930c470",
   "metadata": {},
   "outputs": [
    {
     "name": "stderr",
     "output_type": "stream",
     "text": [
      "C:\\ProgramData\\Anaconda3\\lib\\site-packages\\sklearn\\utils\\deprecation.py:87: FutureWarning: Function plot_confusion_matrix is deprecated; Function `plot_confusion_matrix` is deprecated in 1.0 and will be removed in 1.2. Use one of the class methods: ConfusionMatrixDisplay.from_predictions or ConfusionMatrixDisplay.from_estimator.\n",
      "  warnings.warn(msg, category=FutureWarning)\n"
     ]
    },
    {
     "name": "stdout",
     "output_type": "stream",
     "text": [
      "Confusion matrix Ex Trees @80\n",
      "[[7329   11]\n",
      " [ 679   33]]\n",
      "Normalized confusion matrix\n"
     ]
    },
    {
     "name": "stderr",
     "output_type": "stream",
     "text": [
      "C:\\ProgramData\\Anaconda3\\lib\\site-packages\\sklearn\\utils\\deprecation.py:87: FutureWarning: Function plot_confusion_matrix is deprecated; Function `plot_confusion_matrix` is deprecated in 1.0 and will be removed in 1.2. Use one of the class methods: ConfusionMatrixDisplay.from_predictions or ConfusionMatrixDisplay.from_estimator.\n",
      "  warnings.warn(msg, category=FutureWarning)\n"
     ]
    },
    {
     "name": "stdout",
     "output_type": "stream",
     "text": [
      "[[0.99850136 0.00149864]\n",
      " [0.95365169 0.04634831]]\n"
     ]
    },
    {
     "data": {
      "image/png": "[encoded data removed]",
      "text/plain": [
       "<Figure size 432x288 with 2 Axes>"
      ]
     },
     "metadata": {
      "needs_background": "light"
     },
     "output_type": "display_data"
    },
    {
     "data": {
      "image/png": "[encoded data removed]",
      "text/plain": [
       "<Figure size 432x288 with 2 Axes>"
      ]
     },
     "metadata": {
      "needs_background": "light"
     },
     "output_type": "display_data"
    }
   ],
   "source": [
    "#plotting non-normalized confusion matrix\n",
    "\n",
    "titles = [(\"Confusion matrix Ex Trees @80\",None),\n",
    "         (\"Normalized confusion matrix\",\"true\")]\n",
    "\n",
    "for title , normalized in titles:\n",
    "    disp =plot_confusion_matrix(model_extra,x_test,y_test,\n",
    "                               display_labels=[\"Normal\",\"Theft\"],\n",
    "                               cmap=plt.cm.Blues,\n",
    "                               normalize=normalized)\n",
    "    disp.ax_.set_title(title)\n",
    "    print(title)\n",
    "    print(disp.confusion_matrix)\n",
    "    \n",
    "plt.show()"
   ]
  },
  {
   "cell_type": "code",
   "execution_count": 20,
   "id": "e6cb9629-6a1e-490b-9295-53798c1fcfb9",
   "metadata": {},
   "outputs": [],
   "source": [
    "probs = model_extra.predict_proba(x_test)\n",
    "preds = probs[:,1]\n",
    "fpr,tpr,thresold = roc_curve(y_test,preds)\n",
    "roc_auc = auc(fpr,tpr)"
   ]
  },
  {
   "cell_type": "code",
   "execution_count": 21,
   "id": "302157a1-7e1b-4529-a2a9-150ecbd0d885",
   "metadata": {},
   "outputs": [
    {
     "data": {
      "image/png": "[encoded data removed]",
      "text/plain": [
       "<Figure size 432x288 with 1 Axes>"
      ]
     },
     "metadata": {
      "needs_background": "light"
     },
     "output_type": "display_data"
    }
   ],
   "source": [
    "plt.title(\"Receiver Operating Characteristic(ROC) Extra_trees @80\")\n",
    "plt.plot(fpr,tpr,\"b\",label=\"AUC = %0.4f\" %roc_auc)\n",
    "plt.legend(loc= \"lower right\")\n",
    "plt.plot([0,1],[0,1],\"r--\")\n",
    "plt.xlim([0,1])\n",
    "plt.ylim([0,1])\n",
    "plt.ylabel(\"True Positive Rate\")\n",
    "plt.xlabel(\"False Positive Rate\")\n",
    "plt.show()"
   ]
  },
  {
   "cell_type": "code",
   "execution_count": null,
   "id": "d9966e12-d788-4aae-88fc-271a46c6dc5c",
   "metadata": {},
   "outputs": [],
   "source": []
  },
  {
   "cell_type": "code",
   "execution_count": null,
   "id": "4f59bb49-4a56-4b2c-a288-af4fd25867e3",
   "metadata": {},
   "outputs": [],
   "source": []
  },
  {
   "cell_type": "code",
   "execution_count": null,
   "id": "ad308f80-a148-4001-91fb-806f2e7460f0",
   "metadata": {},
   "outputs": [],
   "source": []
  },
  {
   "cell_type": "markdown",
   "id": "73b5c689-6d42-4b61-9b64-382c856318e6",
   "metadata": {},
   "source": [
    "## Testing the dataset against SMOTE 100 model"
   ]
  },
  {
   "cell_type": "code",
   "execution_count": 22,
   "id": "2eda09b6-18e7-4165-a8b5-3a51c7930105",
   "metadata": {},
   "outputs": [],
   "source": [
    "#oversampling of minority class (imbalanced learning)\n",
    "over = SMOTE(sampling_strategy=1,random_state=0)\n",
    "over_x_train,over_y_train = over.fit_resample(X,y)"
   ]
  },
  {
   "cell_type": "code",
   "execution_count": 23,
   "id": "622af057-572d-48ab-860c-0c7be8d91e49",
   "metadata": {},
   "outputs": [],
   "source": [
    "x_train,x_test,y_train,y_test = train_test_split(over_x_train,over_y_train,test_size=0.20)"
   ]
  },
  {
   "cell_type": "code",
   "execution_count": 24,
   "id": "d7007ebd-5875-49c3-b525-3e6429c1f566",
   "metadata": {},
   "outputs": [
    {
     "data": {
      "text/plain": [
       "ExtraTreesClassifier(n_jobs=-1)"
      ]
     },
     "execution_count": 24,
     "metadata": {},
     "output_type": "execute_result"
    }
   ],
   "source": [
    "model_extra.fit(x_train,y_train)"
   ]
  },
  {
   "cell_type": "code",
   "execution_count": 25,
   "id": "7c0264af-b750-4a77-93f7-7c1c2d0de9a8",
   "metadata": {},
   "outputs": [],
   "source": [
    "y_pred =model_extra.predict(x_test)"
   ]
  },
  {
   "cell_type": "code",
   "execution_count": 26,
   "id": "2d1a3bd7-f33b-45d5-9476-96655ef4ca18",
   "metadata": {},
   "outputs": [
    {
     "name": "stdout",
     "output_type": "stream",
     "text": [
      "              precision    recall  f1-score   support\n",
      "\n",
      "           0       0.98      0.97      0.97      7381\n",
      "           1       0.97      0.98      0.97      7290\n",
      "\n",
      "    accuracy                           0.97     14671\n",
      "   macro avg       0.97      0.97      0.97     14671\n",
      "weighted avg       0.97      0.97      0.97     14671\n",
      "\n"
     ]
    }
   ],
   "source": [
    "print(classification_report(y_test,y_pred))"
   ]
  },
  {
   "cell_type": "code",
   "execution_count": 27,
   "id": "fcaf1119-3405-48fe-ad4b-3262ff6225dc",
   "metadata": {},
   "outputs": [
    {
     "name": "stderr",
     "output_type": "stream",
     "text": [
      "C:\\ProgramData\\Anaconda3\\lib\\site-packages\\sklearn\\utils\\deprecation.py:87: FutureWarning: Function plot_confusion_matrix is deprecated; Function `plot_confusion_matrix` is deprecated in 1.0 and will be removed in 1.2. Use one of the class methods: ConfusionMatrixDisplay.from_predictions or ConfusionMatrixDisplay.from_estimator.\n",
      "  warnings.warn(msg, category=FutureWarning)\n"
     ]
    },
    {
     "name": "stdout",
     "output_type": "stream",
     "text": [
      "Confusion matrix Ex Trees @80\n",
      "[[7160  221]\n",
      " [ 176 7114]]\n"
     ]
    },
    {
     "name": "stderr",
     "output_type": "stream",
     "text": [
      "C:\\ProgramData\\Anaconda3\\lib\\site-packages\\sklearn\\utils\\deprecation.py:87: FutureWarning: Function plot_confusion_matrix is deprecated; Function `plot_confusion_matrix` is deprecated in 1.0 and will be removed in 1.2. Use one of the class methods: ConfusionMatrixDisplay.from_predictions or ConfusionMatrixDisplay.from_estimator.\n",
      "  warnings.warn(msg, category=FutureWarning)\n"
     ]
    },
    {
     "name": "stdout",
     "output_type": "stream",
     "text": [
      "Normalized confusion matrix\n",
      "[[0.97005826 0.02994174]\n",
      " [0.02414266 0.97585734]]\n"
     ]
    },
    {
     "data": {
      "image/png": "[encoded data removed]",
      "text/plain": [
       "<Figure size 432x288 with 2 Axes>"
      ]
     },
     "metadata": {
      "needs_background": "light"
     },
     "output_type": "display_data"
    },
    {
     "data": {
      "image/png": "[encoded data removed]",
      "text/plain": [
       "<Figure size 432x288 with 2 Axes>"
      ]
     },
     "metadata": {
      "needs_background": "light"
     },
     "output_type": "display_data"
    }
   ],
   "source": [
    "#plotting non-normalized confusion matrix\n",
    "\n",
    "titles = [(\"Confusion matrix Ex Trees @80\",None),\n",
    "         (\"Normalized confusion matrix\",\"true\")]\n",
    "\n",
    "for title , normalized in titles:\n",
    "    disp =plot_confusion_matrix(model_extra,x_test,y_test,\n",
    "                               display_labels=[\"Normal\",\"Theft\"],\n",
    "                               cmap=plt.cm.Blues,\n",
    "                               normalize=normalized)\n",
    "    disp.ax_.set_title(title)\n",
    "    print(title)\n",
    "    print(disp.confusion_matrix)\n",
    "    \n",
    "plt.show()"
   ]
  },
  {
   "cell_type": "code",
   "execution_count": 28,
   "id": "d1933e37-2204-4bc4-98f3-fee97f6f3f3b",
   "metadata": {},
   "outputs": [],
   "source": [
    "probs = model_extra.predict_proba(x_test)\n",
    "preds = probs[:,1]\n",
    "fpr,tpr,thresold = roc_curve(y_test,preds)\n",
    "roc_auc = auc(fpr,tpr)"
   ]
  },
  {
   "cell_type": "code",
   "execution_count": 29,
   "id": "ad399caf-8206-4d55-a6bd-9560ba8271cc",
   "metadata": {},
   "outputs": [
    {
     "data": {
      "image/png": "[encoded data removed]",
      "text/plain": [
       "<Figure size 432x288 with 1 Axes>"
      ]
     },
     "metadata": {
      "needs_background": "light"
     },
     "output_type": "display_data"
    }
   ],
   "source": [
    "plt.title(\"Receiver Operating Characteristic(ROC) Extra_trees @80\")\n",
    "plt.plot(fpr,tpr,\"b\",label=\"AUC = %0.4f\" %roc_auc)\n",
    "plt.legend(loc= \"lower right\")\n",
    "plt.plot([0,1],[0,1],\"r--\")\n",
    "plt.xlim([0,1])\n",
    "plt.ylim([0,1])\n",
    "plt.ylabel(\"True Positive Rate\")\n",
    "plt.xlabel(\"False Positive Rate\")\n",
    "plt.show()"
   ]
  },
  {
   "cell_type": "code",
   "execution_count": null,
   "id": "98205328-b6d3-4ca1-bc58-08a1b24a092a",
   "metadata": {},
   "outputs": [],
   "source": []
  },
  {
   "cell_type": "code",
   "execution_count": null,
   "id": "1798e0ec-6afb-4ff3-9de5-6dd075ca1fe4",
   "metadata": {},
   "outputs": [],
   "source": []
  },
  {
   "cell_type": "code",
   "execution_count": 31,
   "id": "71963ec6-e352-4f07-98a6-2ec40bbc397a",
   "metadata": {},
   "outputs": [
    {
     "data": {
      "text/plain": [
       "0.9458974021201195"
      ]
     },
     "execution_count": 31,
     "metadata": {},
     "output_type": "execute_result"
    }
   ],
   "source": [
    "matthews_corrcoef(y_test,y_pred)"
   ]
  },
  {
   "cell_type": "markdown",
   "id": "2d1f915d-aada-45d5-a1b1-b155e1362878",
   "metadata": {},
   "source": []
  },
  {
   "cell_type": "code",
   "execution_count": 32,
   "id": "e930d85b-b263-4ba7-96d3-11957cc8b341",
   "metadata": {},
   "outputs": [],
   "source": []
  },
  {
   "cell_type": "code",
   "execution_count": 33,
   "id": "8d184be3-4ebb-4b5b-b5ef-2d40801f0485",
   "metadata": {},
   "outputs": [
    {
     "data": {
      "text/plain": [
       "ExtraTreesClassifier(max_depth=10, n_jobs=-1)"
      ]
     },
     "execution_count": 33,
     "metadata": {},
     "output_type": "execute_result"
    }
   ],
   "source": []
  },
  {
   "cell_type": "code",
   "execution_count": 34,
   "id": "69306018-3472-443a-a077-e5cbf9f392d3",
   "metadata": {},
   "outputs": [],
   "source": []
  },
  {
   "cell_type": "code",
   "execution_count": 35,
   "id": "d6aa63a6-507c-4077-8ccf-35fb879d46ca",
   "metadata": {},
   "outputs": [
    {
     "data": {
      "text/plain": [
       "0.541634578297245"
      ]
     },
     "execution_count": 35,
     "metadata": {},
     "output_type": "execute_result"
    }
   ],
   "source": []
  },
  {
   "cell_type": "code",
   "execution_count": 36,
   "id": "cf542112-68a2-4900-bf5f-802a8f2ac508",
   "metadata": {},
   "outputs": [
    {
     "name": "stdout",
     "output_type": "stream",
     "text": [
      "              precision    recall  f1-score   support\n",
      "\n",
      "           0       0.82      0.69      0.75      7381\n",
      "           1       0.73      0.85      0.78      7290\n",
      "\n",
      "    accuracy                           0.77     14671\n",
      "   macro avg       0.77      0.77      0.77     14671\n",
      "weighted avg       0.77      0.77      0.77     14671\n",
      "\n"
     ]
    }
   ],
   "source": []
  },
  {
   "cell_type": "code",
   "execution_count": null,
   "id": "60316312-d883-47c0-88f5-3444872fe1e5",
   "metadata": {},
   "outputs": [],
   "source": []
  },
  {
   "cell_type": "code",
   "execution_count": null,
   "id": "1f997d83-3016-4cc1-9f41-acf31dcc3cde",
   "metadata": {},
   "outputs": [],
   "source": []
  },
  {
   "cell_type": "code",
   "execution_count": null,
   "id": "4bcba903-c4d3-481a-9550-2cb6bdbcd744",
   "metadata": {},
   "outputs": [],
   "source": []
  },
  {
   "cell_type": "markdown",
   "id": "228bc09f-4962-4fb4-9c4a-6a0b05dc9688",
   "metadata": {},
   "source": [
    "## Testing the using Random Under Sampling"
   ]
  },
  {
   "cell_type": "code",
   "execution_count": 11,
   "id": "e2a1a3e3-95b0-46f0-97e2-2041383db924",
   "metadata": {},
   "outputs": [],
   "source": [
    "#oversampling of minority class (imbalanced learning)\n",
    "rus_under = RandomUnderSampler(sampling_strategy=1,random_state=0)\n",
    "rus_x_train,rus_y_train = rus_under.fit_resample(X,y)"
   ]
  },
  {
   "cell_type": "code",
   "execution_count": 12,
   "id": "9894188a-5a1c-4b8f-a245-f82819b2c4b8",
   "metadata": {},
   "outputs": [],
   "source": [
    "x_train,x_test,y_train,y_test = train_test_split(rus_x_train,rus_y_train,test_size=0.20)"
   ]
  },
  {
   "cell_type": "code",
   "execution_count": 13,
   "id": "3eb0f250-9668-449e-b4b9-f0d0a409b85e",
   "metadata": {},
   "outputs": [
    {
     "data": {
      "text/plain": [
       "ExtraTreesClassifier(n_jobs=-1)"
      ]
     },
     "execution_count": 13,
     "metadata": {},
     "output_type": "execute_result"
    }
   ],
   "source": [
    "model_extra.fit(x_train,y_train)"
   ]
  },
  {
   "cell_type": "code",
   "execution_count": 14,
   "id": "2783d1c2-e18b-4988-9e19-8c62dae725e2",
   "metadata": {},
   "outputs": [],
   "source": [
    "y_pred =model_extra.predict(x_test)"
   ]
  },
  {
   "cell_type": "code",
   "execution_count": 15,
   "id": "07f3f392-08bc-4691-8865-9e28fe2e41b9",
   "metadata": {},
   "outputs": [
    {
     "name": "stdout",
     "output_type": "stream",
     "text": [
      "              precision    recall  f1-score   support\n",
      "\n",
      "           0       0.69      0.69      0.69       722\n",
      "           1       0.68      0.68      0.68       710\n",
      "\n",
      "    accuracy                           0.68      1432\n",
      "   macro avg       0.68      0.68      0.68      1432\n",
      "weighted avg       0.68      0.68      0.68      1432\n",
      "\n"
     ]
    }
   ],
   "source": [
    "print(classification_report(y_test,y_pred))"
   ]
  },
  {
   "cell_type": "code",
   "execution_count": 16,
   "id": "d36f2a0c-68a3-4e66-9919-54978ac1cf23",
   "metadata": {},
   "outputs": [
    {
     "name": "stderr",
     "output_type": "stream",
     "text": [
      "C:\\ProgramData\\Anaconda3\\lib\\site-packages\\sklearn\\utils\\deprecation.py:87: FutureWarning: Function plot_confusion_matrix is deprecated; Function `plot_confusion_matrix` is deprecated in 1.0 and will be removed in 1.2. Use one of the class methods: ConfusionMatrixDisplay.from_predictions or ConfusionMatrixDisplay.from_estimator.\n",
      "  warnings.warn(msg, category=FutureWarning)\n",
      "C:\\ProgramData\\Anaconda3\\lib\\site-packages\\sklearn\\utils\\deprecation.py:87: FutureWarning: Function plot_confusion_matrix is deprecated; Function `plot_confusion_matrix` is deprecated in 1.0 and will be removed in 1.2. Use one of the class methods: ConfusionMatrixDisplay.from_predictions or ConfusionMatrixDisplay.from_estimator.\n",
      "  warnings.warn(msg, category=FutureWarning)\n"
     ]
    },
    {
     "name": "stdout",
     "output_type": "stream",
     "text": [
      "Confusion matrix Ex Trees @80\n",
      "[[498 224]\n",
      " [228 482]]\n",
      "Normalized confusion matrix\n",
      "[[0.68975069 0.31024931]\n",
      " [0.32112676 0.67887324]]\n"
     ]
    },
    {
     "data": {
      "image/png": "[encoded data removed]",
      "text/plain": [
       "<Figure size 432x288 with 2 Axes>"
      ]
     },
     "metadata": {
      "needs_background": "light"
     },
     "output_type": "display_data"
    },
    {
     "data": {
      "image/png": "[encoded data removed]",
      "text/plain": [
       "<Figure size 432x288 with 2 Axes>"
      ]
     },
     "metadata": {
      "needs_background": "light"
     },
     "output_type": "display_data"
    }
   ],
   "source": [
    "#plotting non-normalized confusion matrix\n",
    "\n",
    "titles = [(\"Confusion matrix Ex Trees @80\",None),\n",
    "         (\"Normalized confusion matrix\",\"true\")]\n",
    "\n",
    "for title , normalized in titles:\n",
    "    disp =plot_confusion_matrix(model_extra,x_test,y_test,\n",
    "                               display_labels=[\"Normal\",\"Theft\"],\n",
    "                               cmap=plt.cm.Blues,\n",
    "                               normalize=normalized)\n",
    "    disp.ax_.set_title(title)\n",
    "    print(title)\n",
    "    print(disp.confusion_matrix)\n",
    "    \n",
    "plt.show()"
   ]
  },
  {
   "cell_type": "code",
   "execution_count": null,
   "id": "39779c48-1851-44d6-83d2-01c4a8f45239",
   "metadata": {},
   "outputs": [],
   "source": []
  },
  {
   "cell_type": "code",
   "execution_count": 18,
   "id": "58aa4028-20f2-43c9-9c43-a65a2da1fedb",
   "metadata": {},
   "outputs": [],
   "source": [
    "probs = model_extra.predict_proba(x_test)\n",
    "preds = probs[:,1]\n",
    "fpr,tpr,thresold = roc_curve(y_test,preds)\n",
    "roc_auc = auc(fpr,tpr)"
   ]
  },
  {
   "cell_type": "code",
   "execution_count": 19,
   "id": "ca8e084e-910a-420a-ad36-a3816c859f17",
   "metadata": {},
   "outputs": [
    {
     "data": {
      "image/png": "[encoded data removed]",
      "text/plain": [
       "<Figure size 432x288 with 1 Axes>"
      ]
     },
     "metadata": {
      "needs_background": "light"
     },
     "output_type": "display_data"
    }
   ],
   "source": [
    "plt.title(\"Receiver Operating Characteristic(ROC) Extra_trees @80\")\n",
    "plt.plot(fpr,tpr,\"b\",label=\"AUC = %0.4f\" %roc_auc)\n",
    "plt.legend(loc= \"lower right\")\n",
    "plt.plot([0,1],[0,1],\"r--\")\n",
    "plt.xlim([0,1])\n",
    "plt.ylim([0,1])\n",
    "plt.ylabel(\"True Positive Rate\")\n",
    "plt.xlabel(\"False Positive Rate\")\n",
    "plt.show()"
   ]
  },
  {
   "cell_type": "code",
   "execution_count": null,
   "id": "e5394010-cb6e-4661-9e3b-8ad43d868bab",
   "metadata": {},
   "outputs": [],
   "source": []
  },
  {
   "cell_type": "markdown",
   "id": "24af47d4-6caf-41d9-977d-bdd172069afe",
   "metadata": {},
   "source": [
    "## Testing the using Near Miss"
   ]
  },
  {
   "cell_type": "code",
   "execution_count": 22,
   "id": "eb01cedc-daa2-43ac-b51f-d573592c1e92",
   "metadata": {},
   "outputs": [],
   "source": [
    "#oversampling of minority class (imbalanced learning)\n",
    "near_under = NearMiss(sampling_strategy=1,n_jobs=-1)\n",
    "near_x_train,near_y_train = near_under.fit_resample(X,y)"
   ]
  },
  {
   "cell_type": "code",
   "execution_count": 23,
   "id": "c7a76807-f517-4bde-ab82-6502998a3784",
   "metadata": {},
   "outputs": [],
   "source": [
    "x_train,x_test,y_train,y_test = train_test_split(near_x_train,near_y_train,test_size=0.20)"
   ]
  },
  {
   "cell_type": "code",
   "execution_count": 24,
   "id": "d35057a8-6a41-497b-b827-8d73debaf6d9",
   "metadata": {},
   "outputs": [
    {
     "data": {
      "text/plain": [
       "ExtraTreesClassifier(n_jobs=-1)"
      ]
     },
     "execution_count": 24,
     "metadata": {},
     "output_type": "execute_result"
    }
   ],
   "source": [
    "model_extra.fit(x_train,y_train)"
   ]
  },
  {
   "cell_type": "code",
   "execution_count": 25,
   "id": "a3145f18-f63f-4874-b4b4-bcffa8ecde13",
   "metadata": {},
   "outputs": [],
   "source": [
    "y_pred =model_extra.predict(x_test)"
   ]
  },
  {
   "cell_type": "code",
   "execution_count": 26,
   "id": "2e89f6dd-d4a6-471d-9508-c5f960a0116e",
   "metadata": {},
   "outputs": [
    {
     "name": "stdout",
     "output_type": "stream",
     "text": [
      "              precision    recall  f1-score   support\n",
      "\n",
      "           0       0.88      0.98      0.93       740\n",
      "           1       0.97      0.86      0.91       692\n",
      "\n",
      "    accuracy                           0.92      1432\n",
      "   macro avg       0.93      0.92      0.92      1432\n",
      "weighted avg       0.93      0.92      0.92      1432\n",
      "\n"
     ]
    }
   ],
   "source": [
    "print(classification_report(y_test,y_pred))"
   ]
  },
  {
   "cell_type": "code",
   "execution_count": 27,
   "id": "5b6b0700-c6fa-4bcf-93bb-d8c4972bb88b",
   "metadata": {},
   "outputs": [
    {
     "name": "stderr",
     "output_type": "stream",
     "text": [
      "C:\\ProgramData\\Anaconda3\\lib\\site-packages\\sklearn\\utils\\deprecation.py:87: FutureWarning: Function plot_confusion_matrix is deprecated; Function `plot_confusion_matrix` is deprecated in 1.0 and will be removed in 1.2. Use one of the class methods: ConfusionMatrixDisplay.from_predictions or ConfusionMatrixDisplay.from_estimator.\n",
      "  warnings.warn(msg, category=FutureWarning)\n",
      "C:\\ProgramData\\Anaconda3\\lib\\site-packages\\sklearn\\utils\\deprecation.py:87: FutureWarning: Function plot_confusion_matrix is deprecated; Function `plot_confusion_matrix` is deprecated in 1.0 and will be removed in 1.2. Use one of the class methods: ConfusionMatrixDisplay.from_predictions or ConfusionMatrixDisplay.from_estimator.\n",
      "  warnings.warn(msg, category=FutureWarning)\n"
     ]
    },
    {
     "name": "stdout",
     "output_type": "stream",
     "text": [
      "Confusion matrix Ex Trees @80\n",
      "[[723  17]\n",
      " [ 96 596]]\n",
      "Normalized confusion matrix\n",
      "[[0.97702703 0.02297297]\n",
      " [0.13872832 0.86127168]]\n"
     ]
    },
    {
     "data": {
      "image/png": "[encoded data removed]",
      "text/plain": [
       "<Figure size 432x288 with 2 Axes>"
      ]
     },
     "metadata": {
      "needs_background": "light"
     },
     "output_type": "display_data"
    },
    {
     "data": {
      "image/png": "[encoded data removed]",
      "text/plain": [
       "<Figure size 432x288 with 2 Axes>"
      ]
     },
     "metadata": {
      "needs_background": "light"
     },
     "output_type": "display_data"
    }
   ],
   "source": [
    "#plotting non-normalized confusion matrix\n",
    "\n",
    "titles = [(\"Confusion matrix Ex Trees @80\",None),\n",
    "         (\"Normalized confusion matrix\",\"true\")]\n",
    "\n",
    "for title , normalized in titles:\n",
    "    disp =plot_confusion_matrix(model_extra,x_test,y_test,\n",
    "                               display_labels=[\"Normal\",\"Theft\"],\n",
    "                               cmap=plt.cm.Blues,\n",
    "                               normalize=normalized)\n",
    "    disp.ax_.set_title(title)\n",
    "    print(title)\n",
    "    print(disp.confusion_matrix)\n",
    "    \n",
    "plt.show()"
   ]
  },
  {
   "cell_type": "code",
   "execution_count": 28,
   "id": "84cd50ea-7f84-43bf-b96b-8317a338051b",
   "metadata": {},
   "outputs": [],
   "source": [
    "probs = model_extra.predict_proba(x_test)\n",
    "preds = probs[:,1]\n",
    "fpr,tpr,thresold = roc_curve(y_test,preds)\n",
    "roc_auc = auc(fpr,tpr)"
   ]
  },
  {
   "cell_type": "code",
   "execution_count": 29,
   "id": "3d03be4e-322a-4c8f-89e6-bf6ff7f93c76",
   "metadata": {},
   "outputs": [
    {
     "name": "stderr",
     "output_type": "stream",
     "text": [
      "C:\\ProgramData\\Anaconda3\\lib\\site-packages\\sklearn\\utils\\deprecation.py:87: FutureWarning: Function plot_confusion_matrix is deprecated; Function `plot_confusion_matrix` is deprecated in 1.0 and will be removed in 1.2. Use one of the class methods: ConfusionMatrixDisplay.from_predictions or ConfusionMatrixDisplay.from_estimator.\n",
      "  warnings.warn(msg, category=FutureWarning)\n",
      "C:\\ProgramData\\Anaconda3\\lib\\site-packages\\sklearn\\utils\\deprecation.py:87: FutureWarning: Function plot_confusion_matrix is deprecated; Function `plot_confusion_matrix` is deprecated in 1.0 and will be removed in 1.2. Use one of the class methods: ConfusionMatrixDisplay.from_predictions or ConfusionMatrixDisplay.from_estimator.\n",
      "  warnings.warn(msg, category=FutureWarning)\n"
     ]
    },
    {
     "name": "stdout",
     "output_type": "stream",
     "text": [
      "Confusion matrix Ex Trees @80\n",
      "[[723  17]\n",
      " [ 96 596]]\n",
      "Normalized confusion matrix\n",
      "[[0.97702703 0.02297297]\n",
      " [0.13872832 0.86127168]]\n"
     ]
    },
    {
     "data": {
      "image/png": "[encoded data removed]",
      "text/plain": [
       "<Figure size 432x288 with 2 Axes>"
      ]
     },
     "metadata": {
      "needs_background": "light"
     },
     "output_type": "display_data"
    },
    {
     "data": {
      "image/png": "[encoded data removed]",
      "text/plain": [
       "<Figure size 432x288 with 2 Axes>"
      ]
     },
     "metadata": {
      "needs_background": "light"
     },
     "output_type": "display_data"
    }
   ],
   "source": [
    "#plotting non-normalized confusion matrix\n",
    "\n",
    "titles = [(\"Confusion matrix Ex Trees @80\",None),\n",
    "         (\"Normalized confusion matrix\",\"true\")]\n",
    "\n",
    "for title , normalized in titles:\n",
    "    disp =plot_confusion_matrix(model_extra,x_test,y_test,\n",
    "                               display_labels=[\"Normal\",\"Theft\"],\n",
    "                               cmap=plt.cm.Blues,\n",
    "                               normalize=normalized)\n",
    "    disp.ax_.set_title(title)\n",
    "    print(title)\n",
    "    print(disp.confusion_matrix)\n",
    "    \n",
    "plt.show()"
   ]
  },
  {
   "cell_type": "code",
   "execution_count": null,
   "id": "83c36264-a05b-4bd6-90b6-b4048ad96f42",
   "metadata": {},
   "outputs": [],
   "source": []
  }
 ],
 "metadata": {
  "kernelspec": {
   "display_name": "Python 3 (ipykernel)",
   "language": "python",
   "name": "python3"
  },
  "language_info": {
   "codemirror_mode": {
    "name": "ipython",
    "version": 3
   },
   "file_extension": ".py",
   "mimetype": "text/x-python",
   "name": "python",
   "nbconvert_exporter": "python",
   "pygments_lexer": "ipython3",
   "version": "3.9.15"
  }
 },
 "nbformat": 4,
 "nbformat_minor": 5
}
