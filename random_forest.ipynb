{
 "cells": [
  {
   "cell_type": "code",
   "execution_count": 1,
   "id": "1d9f1a6a-8b17-41b5-a185-241ce65796ff",
   "metadata": {},
   "outputs": [],
   "source": [
    "import pandas as pd\n",
    "from sklearn.preprocessing import LabelEncoder\n",
    "import numpy as np\n",
    "import seaborn as sns\n",
    "import matplotlib.pyplot as plt\n",
    "%matplotlib inline\n",
    "from sklearn.model_selection import GridSearchCV\n",
    "from sklearn.ensemble import RandomForestClassifier\n",
    "from sklearn.tree import DecisionTreeClassifier\n",
    "from sklearn.metrics import make_scorer,classification_report,roc_auc_score,plot_precision_recall_curve,plot_confusion_matrix,precision_score,recall_score,f1_score,accuracy_score,roc_curve,auc\n",
    "from sklearn.model_selection import train_test_split\n",
    "from imblearn.over_sampling import SMOTE\n",
    "from sklearn.utils import shuffle"
   ]
  },
  {
   "cell_type": "code",
   "execution_count": 2,
   "id": "8e7b77ad-209e-4d89-af78-c910810715f7",
   "metadata": {},
   "outputs": [],
   "source": [
    "df = pd.read_csv(\"./Data_clean/min_max_both_inter_scaled.csv\")"
   ]
  },
  {
   "cell_type": "code",
   "execution_count": 3,
   "id": "1745b1dc-5f65-470b-96b6-03bd055c85e8",
   "metadata": {},
   "outputs": [
    {
     "data": {
      "text/plain": [
       "(40256, 1036)"
      ]
     },
     "execution_count": 3,
     "metadata": {},
     "output_type": "execute_result"
    }
   ],
   "source": [
    "df.shape"
   ]
  },
  {
   "cell_type": "code",
   "execution_count": 4,
   "id": "3083bba8-f9c1-4489-8da1-7727d5ae9f7a",
   "metadata": {},
   "outputs": [
    {
     "data": {
      "text/html": [
       "<div>\n",
       "<style scoped>\n",
       "    .dataframe tbody tr th:only-of-type {\n",
       "        vertical-align: middle;\n",
       "    }\n",
       "\n",
       "    .dataframe tbody tr th {\n",
       "        vertical-align: top;\n",
       "    }\n",
       "\n",
       "    .dataframe thead th {\n",
       "        text-align: right;\n",
       "    }\n",
       "</style>\n",
       "<table border=\"1\" class=\"dataframe\">\n",
       "  <thead>\n",
       "    <tr style=\"text-align: right;\">\n",
       "      <th></th>\n",
       "      <th>CONS_NO</th>\n",
       "      <th>FLAG</th>\n",
       "      <th>2014-01-01</th>\n",
       "      <th>2014-01-02</th>\n",
       "      <th>2014-01-03</th>\n",
       "      <th>2014-01-04</th>\n",
       "      <th>2014-01-05</th>\n",
       "      <th>2014-01-06</th>\n",
       "      <th>2014-01-07</th>\n",
       "      <th>2014-01-08</th>\n",
       "      <th>...</th>\n",
       "      <th>2016-10-22</th>\n",
       "      <th>2016-10-23</th>\n",
       "      <th>2016-10-24</th>\n",
       "      <th>2016-10-25</th>\n",
       "      <th>2016-10-26</th>\n",
       "      <th>2016-10-27</th>\n",
       "      <th>2016-10-28</th>\n",
       "      <th>2016-10-29</th>\n",
       "      <th>2016-10-30</th>\n",
       "      <th>2016-10-31</th>\n",
       "    </tr>\n",
       "  </thead>\n",
       "  <tbody>\n",
       "    <tr>\n",
       "      <th>0</th>\n",
       "      <td>0387DD8A07E07FDA6271170F86AD9151</td>\n",
       "      <td>1</td>\n",
       "      <td>0.000000</td>\n",
       "      <td>0.000000</td>\n",
       "      <td>0.000000</td>\n",
       "      <td>0.000000</td>\n",
       "      <td>0.000000</td>\n",
       "      <td>0.000000</td>\n",
       "      <td>0.000000</td>\n",
       "      <td>0.000000</td>\n",
       "      <td>...</td>\n",
       "      <td>0.264158</td>\n",
       "      <td>0.296902</td>\n",
       "      <td>0.297637</td>\n",
       "      <td>0.350616</td>\n",
       "      <td>0.201613</td>\n",
       "      <td>0.321919</td>\n",
       "      <td>0.342154</td>\n",
       "      <td>0.277402</td>\n",
       "      <td>0.337003</td>\n",
       "      <td>0.247970</td>\n",
       "    </tr>\n",
       "    <tr>\n",
       "      <th>1</th>\n",
       "      <td>4B75AC4F2D8434CFF62DB64D0BB43103</td>\n",
       "      <td>1</td>\n",
       "      <td>0.000000</td>\n",
       "      <td>0.000000</td>\n",
       "      <td>0.000000</td>\n",
       "      <td>0.000000</td>\n",
       "      <td>0.000000</td>\n",
       "      <td>0.000000</td>\n",
       "      <td>0.000000</td>\n",
       "      <td>0.000000</td>\n",
       "      <td>...</td>\n",
       "      <td>0.333740</td>\n",
       "      <td>0.547089</td>\n",
       "      <td>0.543432</td>\n",
       "      <td>0.527583</td>\n",
       "      <td>0.653459</td>\n",
       "      <td>0.581835</td>\n",
       "      <td>0.565681</td>\n",
       "      <td>0.495276</td>\n",
       "      <td>0.432795</td>\n",
       "      <td>0.416336</td>\n",
       "    </tr>\n",
       "    <tr>\n",
       "      <th>2</th>\n",
       "      <td>B32AC8CC6D5D805AC053557AB05F5343</td>\n",
       "      <td>1</td>\n",
       "      <td>0.000000</td>\n",
       "      <td>0.000000</td>\n",
       "      <td>0.000000</td>\n",
       "      <td>0.000000</td>\n",
       "      <td>0.000000</td>\n",
       "      <td>0.000000</td>\n",
       "      <td>0.000000</td>\n",
       "      <td>0.000000</td>\n",
       "      <td>...</td>\n",
       "      <td>0.242798</td>\n",
       "      <td>0.286581</td>\n",
       "      <td>0.327142</td>\n",
       "      <td>0.282600</td>\n",
       "      <td>0.371304</td>\n",
       "      <td>0.394049</td>\n",
       "      <td>0.340220</td>\n",
       "      <td>0.365049</td>\n",
       "      <td>0.274071</td>\n",
       "      <td>0.222138</td>\n",
       "    </tr>\n",
       "    <tr>\n",
       "      <th>3</th>\n",
       "      <td>EDFC78B07BA2908B3395C4EB2304665E</td>\n",
       "      <td>1</td>\n",
       "      <td>0.048145</td>\n",
       "      <td>0.112494</td>\n",
       "      <td>0.144199</td>\n",
       "      <td>0.058008</td>\n",
       "      <td>0.064819</td>\n",
       "      <td>0.105683</td>\n",
       "      <td>0.091123</td>\n",
       "      <td>0.066463</td>\n",
       "      <td>...</td>\n",
       "      <td>0.313762</td>\n",
       "      <td>0.220056</td>\n",
       "      <td>0.178957</td>\n",
       "      <td>0.123532</td>\n",
       "      <td>0.123297</td>\n",
       "      <td>0.138093</td>\n",
       "      <td>0.156646</td>\n",
       "      <td>0.235791</td>\n",
       "      <td>0.211602</td>\n",
       "      <td>0.184829</td>\n",
       "    </tr>\n",
       "    <tr>\n",
       "      <th>4</th>\n",
       "      <td>6BCFD78138BC72A9BA1BFB0B79382192</td>\n",
       "      <td>1</td>\n",
       "      <td>0.000000</td>\n",
       "      <td>0.000000</td>\n",
       "      <td>0.000000</td>\n",
       "      <td>0.000000</td>\n",
       "      <td>0.000000</td>\n",
       "      <td>0.000000</td>\n",
       "      <td>0.000000</td>\n",
       "      <td>0.000000</td>\n",
       "      <td>...</td>\n",
       "      <td>0.147734</td>\n",
       "      <td>0.174809</td>\n",
       "      <td>0.172454</td>\n",
       "      <td>0.043555</td>\n",
       "      <td>0.024132</td>\n",
       "      <td>0.024720</td>\n",
       "      <td>0.112419</td>\n",
       "      <td>0.024720</td>\n",
       "      <td>0.022366</td>\n",
       "      <td>0.035903</td>\n",
       "    </tr>\n",
       "    <tr>\n",
       "      <th>...</th>\n",
       "      <td>...</td>\n",
       "      <td>...</td>\n",
       "      <td>...</td>\n",
       "      <td>...</td>\n",
       "      <td>...</td>\n",
       "      <td>...</td>\n",
       "      <td>...</td>\n",
       "      <td>...</td>\n",
       "      <td>...</td>\n",
       "      <td>...</td>\n",
       "      <td>...</td>\n",
       "      <td>...</td>\n",
       "      <td>...</td>\n",
       "      <td>...</td>\n",
       "      <td>...</td>\n",
       "      <td>...</td>\n",
       "      <td>...</td>\n",
       "      <td>...</td>\n",
       "      <td>...</td>\n",
       "      <td>...</td>\n",
       "      <td>...</td>\n",
       "    </tr>\n",
       "    <tr>\n",
       "      <th>40251</th>\n",
       "      <td>F1472871E1AFF49D4289564B6377D76C</td>\n",
       "      <td>0</td>\n",
       "      <td>0.000000</td>\n",
       "      <td>0.000000</td>\n",
       "      <td>0.000000</td>\n",
       "      <td>0.000000</td>\n",
       "      <td>0.000000</td>\n",
       "      <td>0.000000</td>\n",
       "      <td>0.000000</td>\n",
       "      <td>0.000000</td>\n",
       "      <td>...</td>\n",
       "      <td>0.288360</td>\n",
       "      <td>0.273369</td>\n",
       "      <td>0.242504</td>\n",
       "      <td>0.265432</td>\n",
       "      <td>0.263668</td>\n",
       "      <td>0.249559</td>\n",
       "      <td>0.223986</td>\n",
       "      <td>0.299824</td>\n",
       "      <td>0.316578</td>\n",
       "      <td>0.223986</td>\n",
       "    </tr>\n",
       "    <tr>\n",
       "      <th>40252</th>\n",
       "      <td>F3C8BBCD2DC26C1E0249DEEF6A4256B7</td>\n",
       "      <td>0</td>\n",
       "      <td>0.164334</td>\n",
       "      <td>0.000000</td>\n",
       "      <td>0.000000</td>\n",
       "      <td>0.348144</td>\n",
       "      <td>0.368229</td>\n",
       "      <td>0.353621</td>\n",
       "      <td>0.186853</td>\n",
       "      <td>0.245892</td>\n",
       "      <td>...</td>\n",
       "      <td>0.233719</td>\n",
       "      <td>0.402921</td>\n",
       "      <td>0.189897</td>\n",
       "      <td>0.314060</td>\n",
       "      <td>0.220329</td>\n",
       "      <td>0.282410</td>\n",
       "      <td>0.225806</td>\n",
       "      <td>0.378576</td>\n",
       "      <td>0.368229</td>\n",
       "      <td>0.290323</td>\n",
       "    </tr>\n",
       "    <tr>\n",
       "      <th>40253</th>\n",
       "      <td>A9A0FE83467A680FBFB0DBFC910DF227</td>\n",
       "      <td>0</td>\n",
       "      <td>0.048013</td>\n",
       "      <td>0.096026</td>\n",
       "      <td>0.076159</td>\n",
       "      <td>0.081126</td>\n",
       "      <td>0.127483</td>\n",
       "      <td>0.114238</td>\n",
       "      <td>0.073675</td>\n",
       "      <td>0.057947</td>\n",
       "      <td>...</td>\n",
       "      <td>0.081954</td>\n",
       "      <td>0.050497</td>\n",
       "      <td>0.053808</td>\n",
       "      <td>0.045530</td>\n",
       "      <td>0.040563</td>\n",
       "      <td>0.042219</td>\n",
       "      <td>0.065397</td>\n",
       "      <td>0.054636</td>\n",
       "      <td>0.032285</td>\n",
       "      <td>0.053808</td>\n",
       "    </tr>\n",
       "    <tr>\n",
       "      <th>40254</th>\n",
       "      <td>D9A6ADA018FA46A55D5438370456AA45</td>\n",
       "      <td>0</td>\n",
       "      <td>0.349472</td>\n",
       "      <td>0.313470</td>\n",
       "      <td>0.398924</td>\n",
       "      <td>0.355680</td>\n",
       "      <td>0.347610</td>\n",
       "      <td>0.361680</td>\n",
       "      <td>0.369543</td>\n",
       "      <td>0.496379</td>\n",
       "      <td>...</td>\n",
       "      <td>0.323609</td>\n",
       "      <td>0.340989</td>\n",
       "      <td>0.269812</td>\n",
       "      <td>0.214980</td>\n",
       "      <td>0.248293</td>\n",
       "      <td>0.230706</td>\n",
       "      <td>0.252845</td>\n",
       "      <td>0.272295</td>\n",
       "      <td>0.275812</td>\n",
       "      <td>0.214980</td>\n",
       "    </tr>\n",
       "    <tr>\n",
       "      <th>40255</th>\n",
       "      <td>F3406636BAD1E6E0826E8EDDC9A1BF00</td>\n",
       "      <td>0</td>\n",
       "      <td>0.000000</td>\n",
       "      <td>0.000000</td>\n",
       "      <td>0.000000</td>\n",
       "      <td>0.000000</td>\n",
       "      <td>0.000000</td>\n",
       "      <td>0.000000</td>\n",
       "      <td>0.000000</td>\n",
       "      <td>0.000000</td>\n",
       "      <td>...</td>\n",
       "      <td>0.385120</td>\n",
       "      <td>0.625091</td>\n",
       "      <td>0.304522</td>\n",
       "      <td>0.316557</td>\n",
       "      <td>0.233042</td>\n",
       "      <td>0.290299</td>\n",
       "      <td>0.296499</td>\n",
       "      <td>0.419402</td>\n",
       "      <td>0.261123</td>\n",
       "      <td>0.191466</td>\n",
       "    </tr>\n",
       "  </tbody>\n",
       "</table>\n",
       "<p>40256 rows × 1036 columns</p>\n",
       "</div>"
      ],
      "text/plain": [
       "                                CONS_NO  FLAG  2014-01-01  2014-01-02  \\\n",
       "0      0387DD8A07E07FDA6271170F86AD9151     1    0.000000    0.000000   \n",
       "1      4B75AC4F2D8434CFF62DB64D0BB43103     1    0.000000    0.000000   \n",
       "2      B32AC8CC6D5D805AC053557AB05F5343     1    0.000000    0.000000   \n",
       "3      EDFC78B07BA2908B3395C4EB2304665E     1    0.048145    0.112494   \n",
       "4      6BCFD78138BC72A9BA1BFB0B79382192     1    0.000000    0.000000   \n",
       "...                                 ...   ...         ...         ...   \n",
       "40251  F1472871E1AFF49D4289564B6377D76C     0    0.000000    0.000000   \n",
       "40252  F3C8BBCD2DC26C1E0249DEEF6A4256B7     0    0.164334    0.000000   \n",
       "40253  A9A0FE83467A680FBFB0DBFC910DF227     0    0.048013    0.096026   \n",
       "40254  D9A6ADA018FA46A55D5438370456AA45     0    0.349472    0.313470   \n",
       "40255  F3406636BAD1E6E0826E8EDDC9A1BF00     0    0.000000    0.000000   \n",
       "\n",
       "       2014-01-03  2014-01-04  2014-01-05  2014-01-06  2014-01-07  2014-01-08  \\\n",
       "0        0.000000    0.000000    0.000000    0.000000    0.000000    0.000000   \n",
       "1        0.000000    0.000000    0.000000    0.000000    0.000000    0.000000   \n",
       "2        0.000000    0.000000    0.000000    0.000000    0.000000    0.000000   \n",
       "3        0.144199    0.058008    0.064819    0.105683    0.091123    0.066463   \n",
       "4        0.000000    0.000000    0.000000    0.000000    0.000000    0.000000   \n",
       "...           ...         ...         ...         ...         ...         ...   \n",
       "40251    0.000000    0.000000    0.000000    0.000000    0.000000    0.000000   \n",
       "40252    0.000000    0.348144    0.368229    0.353621    0.186853    0.245892   \n",
       "40253    0.076159    0.081126    0.127483    0.114238    0.073675    0.057947   \n",
       "40254    0.398924    0.355680    0.347610    0.361680    0.369543    0.496379   \n",
       "40255    0.000000    0.000000    0.000000    0.000000    0.000000    0.000000   \n",
       "\n",
       "       ...  2016-10-22  2016-10-23  2016-10-24  2016-10-25  2016-10-26  \\\n",
       "0      ...    0.264158    0.296902    0.297637    0.350616    0.201613   \n",
       "1      ...    0.333740    0.547089    0.543432    0.527583    0.653459   \n",
       "2      ...    0.242798    0.286581    0.327142    0.282600    0.371304   \n",
       "3      ...    0.313762    0.220056    0.178957    0.123532    0.123297   \n",
       "4      ...    0.147734    0.174809    0.172454    0.043555    0.024132   \n",
       "...    ...         ...         ...         ...         ...         ...   \n",
       "40251  ...    0.288360    0.273369    0.242504    0.265432    0.263668   \n",
       "40252  ...    0.233719    0.402921    0.189897    0.314060    0.220329   \n",
       "40253  ...    0.081954    0.050497    0.053808    0.045530    0.040563   \n",
       "40254  ...    0.323609    0.340989    0.269812    0.214980    0.248293   \n",
       "40255  ...    0.385120    0.625091    0.304522    0.316557    0.233042   \n",
       "\n",
       "       2016-10-27  2016-10-28  2016-10-29  2016-10-30  2016-10-31  \n",
       "0        0.321919    0.342154    0.277402    0.337003    0.247970  \n",
       "1        0.581835    0.565681    0.495276    0.432795    0.416336  \n",
       "2        0.394049    0.340220    0.365049    0.274071    0.222138  \n",
       "3        0.138093    0.156646    0.235791    0.211602    0.184829  \n",
       "4        0.024720    0.112419    0.024720    0.022366    0.035903  \n",
       "...           ...         ...         ...         ...         ...  \n",
       "40251    0.249559    0.223986    0.299824    0.316578    0.223986  \n",
       "40252    0.282410    0.225806    0.378576    0.368229    0.290323  \n",
       "40253    0.042219    0.065397    0.054636    0.032285    0.053808  \n",
       "40254    0.230706    0.252845    0.272295    0.275812    0.214980  \n",
       "40255    0.290299    0.296499    0.419402    0.261123    0.191466  \n",
       "\n",
       "[40256 rows x 1036 columns]"
      ]
     },
     "execution_count": 4,
     "metadata": {},
     "output_type": "execute_result"
    }
   ],
   "source": [
    "df"
   ]
  },
  {
   "cell_type": "code",
   "execution_count": null,
   "id": "47e9d946-77ba-454c-a80c-f295b44138a9",
   "metadata": {},
   "outputs": [],
   "source": []
  },
  {
   "cell_type": "code",
   "execution_count": null,
   "id": "706f7ef1-a152-46d1-b217-c3ee700ae632",
   "metadata": {},
   "outputs": [],
   "source": []
  },
  {
   "cell_type": "code",
   "execution_count": null,
   "id": "825ab3cd-8d98-4111-bc62-4fb014423e5d",
   "metadata": {},
   "outputs": [],
   "source": []
  },
  {
   "cell_type": "code",
   "execution_count": 5,
   "id": "78e767bb-7654-4c8b-901a-bc8a6b1a04e8",
   "metadata": {},
   "outputs": [
    {
     "data": {
      "text/plain": [
       "<AxesSubplot:xlabel='FLAG', ylabel='count'>"
      ]
     },
     "execution_count": 5,
     "metadata": {},
     "output_type": "execute_result"
    },
    {
     "data": {
      "image/png": "[encoded data removed]",
      "text/plain": [
       "<Figure size 432x288 with 1 Axes>"
      ]
     },
     "metadata": {
      "needs_background": "light"
     },
     "output_type": "display_data"
    }
   ],
   "source": [
    "sns.countplot(x= df[\"FLAG\"])"
   ]
  },
  {
   "cell_type": "code",
   "execution_count": null,
   "id": "3982afc2-d17f-4d14-a58b-f8b5292bfe8f",
   "metadata": {},
   "outputs": [],
   "source": []
  },
  {
   "cell_type": "code",
   "execution_count": null,
   "id": "47e788b4-d6e0-41b7-ad08-35a4a2a7496e",
   "metadata": {},
   "outputs": [],
   "source": []
  },
  {
   "cell_type": "code",
   "execution_count": 6,
   "id": "84900b98-457d-4678-acdc-03390cfe365f",
   "metadata": {},
   "outputs": [],
   "source": [
    "model_regres = DecisionTreeClassifier() "
   ]
  },
  {
   "cell_type": "code",
   "execution_count": 7,
   "id": "011b9de1-84a9-49ba-834a-0856cd538dc7",
   "metadata": {},
   "outputs": [
    {
     "data": {
      "text/plain": [
       "{'ccp_alpha': 0.0,\n",
       " 'class_weight': None,\n",
       " 'criterion': 'gini',\n",
       " 'max_depth': None,\n",
       " 'max_features': None,\n",
       " 'max_leaf_nodes': None,\n",
       " 'min_impurity_decrease': 0.0,\n",
       " 'min_samples_leaf': 1,\n",
       " 'min_samples_split': 2,\n",
       " 'min_weight_fraction_leaf': 0.0,\n",
       " 'random_state': None,\n",
       " 'splitter': 'best'}"
      ]
     },
     "execution_count": 7,
     "metadata": {},
     "output_type": "execute_result"
    }
   ],
   "source": [
    "model_regres.get_params()"
   ]
  },
  {
   "cell_type": "code",
   "execution_count": 8,
   "id": "f9f562d9-85fc-4759-8866-02c70549daa5",
   "metadata": {},
   "outputs": [
    {
     "ename": "SyntaxError",
     "evalue": "EOL while scanning string literal (Temp/ipykernel_13924/4247290008.py, line 20)",
     "output_type": "error",
     "traceback": [
      "\u001b[1;36m  File \u001b[1;32m\"C:\\Users\\STANLEY\\AppData\\Local\\Temp/ipykernel_13924/4247290008.py\"\u001b[1;36m, line \u001b[1;32m20\u001b[0m\n\u001b[1;33m    \"\"\"\"\u001b[0m\n\u001b[1;37m        \n^\u001b[0m\n\u001b[1;31mSyntaxError\u001b[0m\u001b[1;31m:\u001b[0m EOL while scanning string literal\n"
     ]
    }
   ],
   "source": [
    "\"\"\"grid_dtree = GridSearchCV(\n",
    "    estimator=DecisionTreeClassifier(),\n",
    "    param_grid={\"class_weight\":[{0:1,1:v} for v in range(2,5)],\n",
    "    \"max_depth\":[2,3,4,5,6],\n",
    "    \"min_samples_leaf\":[10,15]\n",
    "               },\n",
    "     scoring={\"precision\": make_scorer(precision_score),\n",
    "            \"recall\":make_scorer(recall_score),\n",
    "            \"f1_score\":make_scorer(f1_score),\n",
    "           \"roc_auc_score\":make_scorer(roc_auc_score)\n",
    "            },\n",
    "    refit=\"roc_auc_score\",\n",
    "    return_train_score=True,\n",
    "    verbose=1,\n",
    "    cv=3,\n",
    "    n_jobs=-1\n",
    "    \n",
    "    \n",
    "                            )\n",
    "                            \"\"\"\""
   ]
  },
  {
   "cell_type": "code",
   "execution_count": null,
   "id": "f9d1fc98-ff91-441d-84b7-ac35c1a6a8d1",
   "metadata": {},
   "outputs": [],
   "source": []
  },
  {
   "cell_type": "code",
   "execution_count": 10,
   "id": "37f0af50-0897-462a-90ad-0cece352bafc",
   "metadata": {},
   "outputs": [],
   "source": [
    "y = df[\"FLAG\"]"
   ]
  },
  {
   "cell_type": "code",
   "execution_count": null,
   "id": "c1c30105-de45-4265-ac6d-87a0c87d2653",
   "metadata": {},
   "outputs": [],
   "source": []
  },
  {
   "cell_type": "code",
   "execution_count": 11,
   "id": "49c133bf-d103-484a-82ca-e7e4a4b82b53",
   "metadata": {},
   "outputs": [],
   "source": [
    "X = df.drop([\"CONS_NO\",\"FLAG\"],axis=1)"
   ]
  },
  {
   "cell_type": "code",
   "execution_count": null,
   "id": "6158b48d-2963-4fe8-b863-8c5eaad429a3",
   "metadata": {},
   "outputs": [],
   "source": []
  },
  {
   "cell_type": "markdown",
   "id": "479b9f86-0164-4c2b-b7f3-127bcf5aa467",
   "metadata": {},
   "source": [
    "# Don't touch the ones here .. its for reference"
   ]
  },
  {
   "cell_type": "code",
   "execution_count": null,
   "id": "7d982abc-fa3f-4600-aedc-2f2f00f82302",
   "metadata": {},
   "outputs": [],
   "source": []
  },
  {
   "cell_type": "code",
   "execution_count": 40,
   "id": "8c23d46d-51c5-4527-a09a-13c2d6dab8a2",
   "metadata": {},
   "outputs": [
    {
     "name": "stdout",
     "output_type": "stream",
     "text": [
      "Fitting 3 folds for each of 30 candidates, totalling 90 fits\n"
     ]
    },
    {
     "data": {
      "text/html": [
       "<style>#sk-container-id-2 {color: black;background-color: white;}#sk-container-id-2 pre{padding: 0;}#sk-container-id-2 div.sk-toggleable {background-color: white;}#sk-container-id-2 label.sk-toggleable__label {cursor: pointer;display: block;width: 100%;margin-bottom: 0;padding: 0.3em;box-sizing: border-box;text-align: center;}#sk-container-id-2 label.sk-toggleable__label-arrow:before {content: \"▸\";float: left;margin-right: 0.25em;color: #696969;}#sk-container-id-2 label.sk-toggleable__label-arrow:hover:before {color: black;}#sk-container-id-2 div.sk-estimator:hover label.sk-toggleable__label-arrow:before {color: black;}#sk-container-id-2 div.sk-toggleable__content {max-height: 0;max-width: 0;overflow: hidden;text-align: left;background-color: #f0f8ff;}#sk-container-id-2 div.sk-toggleable__content pre {margin: 0.2em;color: black;border-radius: 0.25em;background-color: #f0f8ff;}#sk-container-id-2 input.sk-toggleable__control:checked~div.sk-toggleable__content {max-height: 200px;max-width: 100%;overflow: auto;}#sk-container-id-2 input.sk-toggleable__control:checked~label.sk-toggleable__label-arrow:before {content: \"▾\";}#sk-container-id-2 div.sk-estimator input.sk-toggleable__control:checked~label.sk-toggleable__label {background-color: #d4ebff;}#sk-container-id-2 div.sk-label input.sk-toggleable__control:checked~label.sk-toggleable__label {background-color: #d4ebff;}#sk-container-id-2 input.sk-hidden--visually {border: 0;clip: rect(1px 1px 1px 1px);clip: rect(1px, 1px, 1px, 1px);height: 1px;margin: -1px;overflow: hidden;padding: 0;position: absolute;width: 1px;}#sk-container-id-2 div.sk-estimator {font-family: monospace;background-color: #f0f8ff;border: 1px dotted black;border-radius: 0.25em;box-sizing: border-box;margin-bottom: 0.5em;}#sk-container-id-2 div.sk-estimator:hover {background-color: #d4ebff;}#sk-container-id-2 div.sk-parallel-item::after {content: \"\";width: 100%;border-bottom: 1px solid gray;flex-grow: 1;}#sk-container-id-2 div.sk-label:hover label.sk-toggleable__label {background-color: #d4ebff;}#sk-container-id-2 div.sk-serial::before {content: \"\";position: absolute;border-left: 1px solid gray;box-sizing: border-box;top: 0;bottom: 0;left: 50%;z-index: 0;}#sk-container-id-2 div.sk-serial {display: flex;flex-direction: column;align-items: center;background-color: white;padding-right: 0.2em;padding-left: 0.2em;position: relative;}#sk-container-id-2 div.sk-item {position: relative;z-index: 1;}#sk-container-id-2 div.sk-parallel {display: flex;align-items: stretch;justify-content: center;background-color: white;position: relative;}#sk-container-id-2 div.sk-item::before, #sk-container-id-2 div.sk-parallel-item::before {content: \"\";position: absolute;border-left: 1px solid gray;box-sizing: border-box;top: 0;bottom: 0;left: 50%;z-index: -1;}#sk-container-id-2 div.sk-parallel-item {display: flex;flex-direction: column;z-index: 1;position: relative;background-color: white;}#sk-container-id-2 div.sk-parallel-item:first-child::after {align-self: flex-end;width: 50%;}#sk-container-id-2 div.sk-parallel-item:last-child::after {align-self: flex-start;width: 50%;}#sk-container-id-2 div.sk-parallel-item:only-child::after {width: 0;}#sk-container-id-2 div.sk-dashed-wrapped {border: 1px dashed gray;margin: 0 0.4em 0.5em 0.4em;box-sizing: border-box;padding-bottom: 0.4em;background-color: white;}#sk-container-id-2 div.sk-label label {font-family: monospace;font-weight: bold;display: inline-block;line-height: 1.2em;}#sk-container-id-2 div.sk-label-container {text-align: center;}#sk-container-id-2 div.sk-container {/* jupyter's `normalize.less` sets `[hidden] { display: none; }` but bootstrap.min.css set `[hidden] { display: none !important; }` so we also need the `!important` here to be able to override the default hidden behavior on the sphinx rendered scikit-learn.org. See: https://github.com/scikit-learn/scikit-learn/issues/21755 */display: inline-block !important;position: relative;}#sk-container-id-2 div.sk-text-repr-fallback {display: none;}</style><div id=\"sk-container-id-2\" class=\"sk-top-container\"><div class=\"sk-text-repr-fallback\"><pre>GridSearchCV(cv=3, estimator=DecisionTreeClassifier(), n_jobs=-1,\n",
       "             param_grid={&#x27;class_weight&#x27;: [{0: 1, 1: 2}, {0: 1, 1: 3},\n",
       "                                          {0: 1, 1: 4}],\n",
       "                         &#x27;max_depth&#x27;: [2, 3, 4, 5, 6],\n",
       "                         &#x27;min_samples_leaf&#x27;: [10, 15]},\n",
       "             refit=&#x27;roc_auc_score&#x27;, return_train_score=True,\n",
       "             scoring={&#x27;f1_score&#x27;: make_scorer(f1_score),\n",
       "                      &#x27;precision&#x27;: make_scorer(precision_score),\n",
       "                      &#x27;recall&#x27;: make_scorer(recall_score),\n",
       "                      &#x27;roc_auc_score&#x27;: make_scorer(roc_auc_score)},\n",
       "             verbose=1)</pre><b>In a Jupyter environment, please rerun this cell to show the HTML representation or trust the notebook. <br />On GitHub, the HTML representation is unable to render, please try loading this page with nbviewer.org.</b></div><div class=\"sk-container\" hidden><div class=\"sk-item sk-dashed-wrapped\"><div class=\"sk-label-container\"><div class=\"sk-label sk-toggleable\"><input class=\"sk-toggleable__control sk-hidden--visually\" id=\"sk-estimator-id-4\" type=\"checkbox\" ><label for=\"sk-estimator-id-4\" class=\"sk-toggleable__label sk-toggleable__label-arrow\">GridSearchCV</label><div class=\"sk-toggleable__content\"><pre>GridSearchCV(cv=3, estimator=DecisionTreeClassifier(), n_jobs=-1,\n",
       "             param_grid={&#x27;class_weight&#x27;: [{0: 1, 1: 2}, {0: 1, 1: 3},\n",
       "                                          {0: 1, 1: 4}],\n",
       "                         &#x27;max_depth&#x27;: [2, 3, 4, 5, 6],\n",
       "                         &#x27;min_samples_leaf&#x27;: [10, 15]},\n",
       "             refit=&#x27;roc_auc_score&#x27;, return_train_score=True,\n",
       "             scoring={&#x27;f1_score&#x27;: make_scorer(f1_score),\n",
       "                      &#x27;precision&#x27;: make_scorer(precision_score),\n",
       "                      &#x27;recall&#x27;: make_scorer(recall_score),\n",
       "                      &#x27;roc_auc_score&#x27;: make_scorer(roc_auc_score)},\n",
       "             verbose=1)</pre></div></div></div><div class=\"sk-parallel\"><div class=\"sk-parallel-item\"><div class=\"sk-item\"><div class=\"sk-label-container\"><div class=\"sk-label sk-toggleable\"><input class=\"sk-toggleable__control sk-hidden--visually\" id=\"sk-estimator-id-5\" type=\"checkbox\" ><label for=\"sk-estimator-id-5\" class=\"sk-toggleable__label sk-toggleable__label-arrow\">estimator: DecisionTreeClassifier</label><div class=\"sk-toggleable__content\"><pre>DecisionTreeClassifier()</pre></div></div></div><div class=\"sk-serial\"><div class=\"sk-item\"><div class=\"sk-estimator sk-toggleable\"><input class=\"sk-toggleable__control sk-hidden--visually\" id=\"sk-estimator-id-6\" type=\"checkbox\" ><label for=\"sk-estimator-id-6\" class=\"sk-toggleable__label sk-toggleable__label-arrow\">DecisionTreeClassifier</label><div class=\"sk-toggleable__content\"><pre>DecisionTreeClassifier()</pre></div></div></div></div></div></div></div></div></div></div>"
      ],
      "text/plain": [
       "GridSearchCV(cv=3, estimator=DecisionTreeClassifier(), n_jobs=-1,\n",
       "             param_grid={'class_weight': [{0: 1, 1: 2}, {0: 1, 1: 3},\n",
       "                                          {0: 1, 1: 4}],\n",
       "                         'max_depth': [2, 3, 4, 5, 6],\n",
       "                         'min_samples_leaf': [10, 15]},\n",
       "             refit='roc_auc_score', return_train_score=True,\n",
       "             scoring={'f1_score': make_scorer(f1_score),\n",
       "                      'precision': make_scorer(precision_score),\n",
       "                      'recall': make_scorer(recall_score),\n",
       "                      'roc_auc_score': make_scorer(roc_auc_score)},\n",
       "             verbose=1)"
      ]
     },
     "execution_count": 40,
     "metadata": {},
     "output_type": "execute_result"
    }
   ],
   "source": [
    "grid_dtree.fit(X,y)"
   ]
  },
  {
   "cell_type": "code",
   "execution_count": 44,
   "id": "340c5286-7fe9-4417-88d4-91e460527fcb",
   "metadata": {},
   "outputs": [],
   "source": [
    " results = pd.DataFrame(grid_dtree.cv_results_)"
   ]
  },
  {
   "cell_type": "code",
   "execution_count": 46,
   "id": "ce927464-d72e-404c-808b-6ef7183413a3",
   "metadata": {},
   "outputs": [
    {
     "data": {
      "text/html": [
       "<div>\n",
       "<style scoped>\n",
       "    .dataframe tbody tr th:only-of-type {\n",
       "        vertical-align: middle;\n",
       "    }\n",
       "\n",
       "    .dataframe tbody tr th {\n",
       "        vertical-align: top;\n",
       "    }\n",
       "\n",
       "    .dataframe thead th {\n",
       "        text-align: right;\n",
       "    }\n",
       "</style>\n",
       "<table border=\"1\" class=\"dataframe\">\n",
       "  <thead>\n",
       "    <tr style=\"text-align: right;\">\n",
       "      <th></th>\n",
       "      <th>mean_fit_time</th>\n",
       "      <th>std_fit_time</th>\n",
       "      <th>mean_score_time</th>\n",
       "      <th>std_score_time</th>\n",
       "      <th>param_class_weight</th>\n",
       "      <th>param_max_depth</th>\n",
       "      <th>param_min_samples_leaf</th>\n",
       "      <th>params</th>\n",
       "      <th>split0_test_precision</th>\n",
       "      <th>split1_test_precision</th>\n",
       "      <th>...</th>\n",
       "      <th>split1_test_roc_auc_score</th>\n",
       "      <th>split2_test_roc_auc_score</th>\n",
       "      <th>mean_test_roc_auc_score</th>\n",
       "      <th>std_test_roc_auc_score</th>\n",
       "      <th>rank_test_roc_auc_score</th>\n",
       "      <th>split0_train_roc_auc_score</th>\n",
       "      <th>split1_train_roc_auc_score</th>\n",
       "      <th>split2_train_roc_auc_score</th>\n",
       "      <th>mean_train_roc_auc_score</th>\n",
       "      <th>std_train_roc_auc_score</th>\n",
       "    </tr>\n",
       "  </thead>\n",
       "  <tbody>\n",
       "    <tr>\n",
       "      <th>0</th>\n",
       "      <td>7.172992</td>\n",
       "      <td>0.184489</td>\n",
       "      <td>0.114288</td>\n",
       "      <td>0.006164</td>\n",
       "      <td>{0: 1, 1: 2}</td>\n",
       "      <td>2</td>\n",
       "      <td>10</td>\n",
       "      <td>{'class_weight': {0: 1, 1: 2}, 'max_depth': 2,...</td>\n",
       "      <td>0.000000</td>\n",
       "      <td>0.000000</td>\n",
       "      <td>...</td>\n",
       "      <td>0.500000</td>\n",
       "      <td>0.500000</td>\n",
       "      <td>0.500000</td>\n",
       "      <td>0.000000</td>\n",
       "      <td>25</td>\n",
       "      <td>0.500000</td>\n",
       "      <td>0.500000</td>\n",
       "      <td>0.500000</td>\n",
       "      <td>0.500000</td>\n",
       "      <td>0.000000</td>\n",
       "    </tr>\n",
       "    <tr>\n",
       "      <th>1</th>\n",
       "      <td>7.189961</td>\n",
       "      <td>0.106716</td>\n",
       "      <td>0.115318</td>\n",
       "      <td>0.014865</td>\n",
       "      <td>{0: 1, 1: 2}</td>\n",
       "      <td>2</td>\n",
       "      <td>15</td>\n",
       "      <td>{'class_weight': {0: 1, 1: 2}, 'max_depth': 2,...</td>\n",
       "      <td>0.000000</td>\n",
       "      <td>0.000000</td>\n",
       "      <td>...</td>\n",
       "      <td>0.500000</td>\n",
       "      <td>0.500000</td>\n",
       "      <td>0.500000</td>\n",
       "      <td>0.000000</td>\n",
       "      <td>25</td>\n",
       "      <td>0.500000</td>\n",
       "      <td>0.500000</td>\n",
       "      <td>0.500000</td>\n",
       "      <td>0.500000</td>\n",
       "      <td>0.000000</td>\n",
       "    </tr>\n",
       "    <tr>\n",
       "      <th>2</th>\n",
       "      <td>10.848430</td>\n",
       "      <td>0.083067</td>\n",
       "      <td>0.109695</td>\n",
       "      <td>0.000245</td>\n",
       "      <td>{0: 1, 1: 2}</td>\n",
       "      <td>3</td>\n",
       "      <td>10</td>\n",
       "      <td>{'class_weight': {0: 1, 1: 2}, 'max_depth': 3,...</td>\n",
       "      <td>0.000000</td>\n",
       "      <td>0.279412</td>\n",
       "      <td>...</td>\n",
       "      <td>0.505959</td>\n",
       "      <td>0.500000</td>\n",
       "      <td>0.501986</td>\n",
       "      <td>0.002809</td>\n",
       "      <td>23</td>\n",
       "      <td>0.500000</td>\n",
       "      <td>0.508704</td>\n",
       "      <td>0.500000</td>\n",
       "      <td>0.502901</td>\n",
       "      <td>0.004103</td>\n",
       "    </tr>\n",
       "    <tr>\n",
       "      <th>3</th>\n",
       "      <td>11.010794</td>\n",
       "      <td>0.242498</td>\n",
       "      <td>0.101142</td>\n",
       "      <td>0.006287</td>\n",
       "      <td>{0: 1, 1: 2}</td>\n",
       "      <td>3</td>\n",
       "      <td>15</td>\n",
       "      <td>{'class_weight': {0: 1, 1: 2}, 'max_depth': 3,...</td>\n",
       "      <td>0.000000</td>\n",
       "      <td>0.279412</td>\n",
       "      <td>...</td>\n",
       "      <td>0.505959</td>\n",
       "      <td>0.500000</td>\n",
       "      <td>0.501986</td>\n",
       "      <td>0.002809</td>\n",
       "      <td>23</td>\n",
       "      <td>0.500000</td>\n",
       "      <td>0.508704</td>\n",
       "      <td>0.500000</td>\n",
       "      <td>0.502901</td>\n",
       "      <td>0.004103</td>\n",
       "    </tr>\n",
       "    <tr>\n",
       "      <th>4</th>\n",
       "      <td>15.212731</td>\n",
       "      <td>1.103740</td>\n",
       "      <td>0.120544</td>\n",
       "      <td>0.007478</td>\n",
       "      <td>{0: 1, 1: 2}</td>\n",
       "      <td>4</td>\n",
       "      <td>10</td>\n",
       "      <td>{'class_weight': {0: 1, 1: 2}, 'max_depth': 4,...</td>\n",
       "      <td>0.217391</td>\n",
       "      <td>0.344262</td>\n",
       "      <td>...</td>\n",
       "      <td>0.507165</td>\n",
       "      <td>0.532085</td>\n",
       "      <td>0.513537</td>\n",
       "      <td>0.013328</td>\n",
       "      <td>21</td>\n",
       "      <td>0.505315</td>\n",
       "      <td>0.512522</td>\n",
       "      <td>0.551217</td>\n",
       "      <td>0.523018</td>\n",
       "      <td>0.020155</td>\n",
       "    </tr>\n",
       "    <tr>\n",
       "      <th>5</th>\n",
       "      <td>16.711038</td>\n",
       "      <td>1.699763</td>\n",
       "      <td>0.130742</td>\n",
       "      <td>0.059396</td>\n",
       "      <td>{0: 1, 1: 2}</td>\n",
       "      <td>4</td>\n",
       "      <td>15</td>\n",
       "      <td>{'class_weight': {0: 1, 1: 2}, 'max_depth': 4,...</td>\n",
       "      <td>0.217391</td>\n",
       "      <td>0.384615</td>\n",
       "      <td>...</td>\n",
       "      <td>0.507074</td>\n",
       "      <td>0.532085</td>\n",
       "      <td>0.513506</td>\n",
       "      <td>0.013343</td>\n",
       "      <td>22</td>\n",
       "      <td>0.505315</td>\n",
       "      <td>0.511428</td>\n",
       "      <td>0.551217</td>\n",
       "      <td>0.522653</td>\n",
       "      <td>0.020351</td>\n",
       "    </tr>\n",
       "    <tr>\n",
       "      <th>6</th>\n",
       "      <td>19.117057</td>\n",
       "      <td>0.680824</td>\n",
       "      <td>0.100005</td>\n",
       "      <td>0.006682</td>\n",
       "      <td>{0: 1, 1: 2}</td>\n",
       "      <td>5</td>\n",
       "      <td>10</td>\n",
       "      <td>{'class_weight': {0: 1, 1: 2}, 'max_depth': 5,...</td>\n",
       "      <td>0.298354</td>\n",
       "      <td>0.303719</td>\n",
       "      <td>...</td>\n",
       "      <td>0.547827</td>\n",
       "      <td>0.542970</td>\n",
       "      <td>0.545874</td>\n",
       "      <td>0.002094</td>\n",
       "      <td>16</td>\n",
       "      <td>0.564985</td>\n",
       "      <td>0.568512</td>\n",
       "      <td>0.579562</td>\n",
       "      <td>0.571020</td>\n",
       "      <td>0.006210</td>\n",
       "    </tr>\n",
       "    <tr>\n",
       "      <th>7</th>\n",
       "      <td>19.094595</td>\n",
       "      <td>0.536799</td>\n",
       "      <td>0.097336</td>\n",
       "      <td>0.004643</td>\n",
       "      <td>{0: 1, 1: 2}</td>\n",
       "      <td>5</td>\n",
       "      <td>15</td>\n",
       "      <td>{'class_weight': {0: 1, 1: 2}, 'max_depth': 5,...</td>\n",
       "      <td>0.298354</td>\n",
       "      <td>0.307385</td>\n",
       "      <td>...</td>\n",
       "      <td>0.550352</td>\n",
       "      <td>0.542510</td>\n",
       "      <td>0.546563</td>\n",
       "      <td>0.003207</td>\n",
       "      <td>15</td>\n",
       "      <td>0.564566</td>\n",
       "      <td>0.570490</td>\n",
       "      <td>0.577743</td>\n",
       "      <td>0.570933</td>\n",
       "      <td>0.005389</td>\n",
       "    </tr>\n",
       "    <tr>\n",
       "      <th>8</th>\n",
       "      <td>20.275631</td>\n",
       "      <td>0.274355</td>\n",
       "      <td>0.089001</td>\n",
       "      <td>0.000814</td>\n",
       "      <td>{0: 1, 1: 2}</td>\n",
       "      <td>6</td>\n",
       "      <td>10</td>\n",
       "      <td>{'class_weight': {0: 1, 1: 2}, 'max_depth': 6,...</td>\n",
       "      <td>0.283276</td>\n",
       "      <td>0.331361</td>\n",
       "      <td>...</td>\n",
       "      <td>0.537698</td>\n",
       "      <td>0.560981</td>\n",
       "      <td>0.550358</td>\n",
       "      <td>0.009614</td>\n",
       "      <td>12</td>\n",
       "      <td>0.597006</td>\n",
       "      <td>0.564756</td>\n",
       "      <td>0.608123</td>\n",
       "      <td>0.589962</td>\n",
       "      <td>0.018392</td>\n",
       "    </tr>\n",
       "    <tr>\n",
       "      <th>9</th>\n",
       "      <td>20.963952</td>\n",
       "      <td>0.395553</td>\n",
       "      <td>0.100333</td>\n",
       "      <td>0.008179</td>\n",
       "      <td>{0: 1, 1: 2}</td>\n",
       "      <td>6</td>\n",
       "      <td>15</td>\n",
       "      <td>{'class_weight': {0: 1, 1: 2}, 'max_depth': 6,...</td>\n",
       "      <td>0.286957</td>\n",
       "      <td>0.339339</td>\n",
       "      <td>...</td>\n",
       "      <td>0.538362</td>\n",
       "      <td>0.563270</td>\n",
       "      <td>0.551340</td>\n",
       "      <td>0.010196</td>\n",
       "      <td>9</td>\n",
       "      <td>0.593582</td>\n",
       "      <td>0.561526</td>\n",
       "      <td>0.610474</td>\n",
       "      <td>0.588527</td>\n",
       "      <td>0.020300</td>\n",
       "    </tr>\n",
       "    <tr>\n",
       "      <th>10</th>\n",
       "      <td>7.118746</td>\n",
       "      <td>0.143306</td>\n",
       "      <td>0.103673</td>\n",
       "      <td>0.018058</td>\n",
       "      <td>{0: 1, 1: 3}</td>\n",
       "      <td>2</td>\n",
       "      <td>10</td>\n",
       "      <td>{'class_weight': {0: 1, 1: 3}, 'max_depth': 2,...</td>\n",
       "      <td>0.000000</td>\n",
       "      <td>0.000000</td>\n",
       "      <td>...</td>\n",
       "      <td>0.500000</td>\n",
       "      <td>0.500000</td>\n",
       "      <td>0.500000</td>\n",
       "      <td>0.000000</td>\n",
       "      <td>25</td>\n",
       "      <td>0.500000</td>\n",
       "      <td>0.500000</td>\n",
       "      <td>0.500000</td>\n",
       "      <td>0.500000</td>\n",
       "      <td>0.000000</td>\n",
       "    </tr>\n",
       "    <tr>\n",
       "      <th>11</th>\n",
       "      <td>7.372180</td>\n",
       "      <td>0.135409</td>\n",
       "      <td>0.100677</td>\n",
       "      <td>0.008959</td>\n",
       "      <td>{0: 1, 1: 3}</td>\n",
       "      <td>2</td>\n",
       "      <td>15</td>\n",
       "      <td>{'class_weight': {0: 1, 1: 3}, 'max_depth': 2,...</td>\n",
       "      <td>0.000000</td>\n",
       "      <td>0.000000</td>\n",
       "      <td>...</td>\n",
       "      <td>0.500000</td>\n",
       "      <td>0.500000</td>\n",
       "      <td>0.500000</td>\n",
       "      <td>0.000000</td>\n",
       "      <td>25</td>\n",
       "      <td>0.500000</td>\n",
       "      <td>0.500000</td>\n",
       "      <td>0.500000</td>\n",
       "      <td>0.500000</td>\n",
       "      <td>0.000000</td>\n",
       "    </tr>\n",
       "    <tr>\n",
       "      <th>12</th>\n",
       "      <td>10.635838</td>\n",
       "      <td>0.221649</td>\n",
       "      <td>0.085666</td>\n",
       "      <td>0.000943</td>\n",
       "      <td>{0: 1, 1: 3}</td>\n",
       "      <td>3</td>\n",
       "      <td>10</td>\n",
       "      <td>{'class_weight': {0: 1, 1: 3}, 'max_depth': 3,...</td>\n",
       "      <td>0.000000</td>\n",
       "      <td>0.279412</td>\n",
       "      <td>...</td>\n",
       "      <td>0.505959</td>\n",
       "      <td>0.542846</td>\n",
       "      <td>0.516268</td>\n",
       "      <td>0.018950</td>\n",
       "      <td>19</td>\n",
       "      <td>0.500000</td>\n",
       "      <td>0.508704</td>\n",
       "      <td>0.562413</td>\n",
       "      <td>0.523706</td>\n",
       "      <td>0.027600</td>\n",
       "    </tr>\n",
       "    <tr>\n",
       "      <th>13</th>\n",
       "      <td>11.074003</td>\n",
       "      <td>0.042901</td>\n",
       "      <td>0.090660</td>\n",
       "      <td>0.004115</td>\n",
       "      <td>{0: 1, 1: 3}</td>\n",
       "      <td>3</td>\n",
       "      <td>15</td>\n",
       "      <td>{'class_weight': {0: 1, 1: 3}, 'max_depth': 3,...</td>\n",
       "      <td>0.000000</td>\n",
       "      <td>0.279412</td>\n",
       "      <td>...</td>\n",
       "      <td>0.505959</td>\n",
       "      <td>0.542846</td>\n",
       "      <td>0.516268</td>\n",
       "      <td>0.018950</td>\n",
       "      <td>19</td>\n",
       "      <td>0.500000</td>\n",
       "      <td>0.508704</td>\n",
       "      <td>0.562413</td>\n",
       "      <td>0.523706</td>\n",
       "      <td>0.027600</td>\n",
       "    </tr>\n",
       "    <tr>\n",
       "      <th>14</th>\n",
       "      <td>14.658521</td>\n",
       "      <td>0.137576</td>\n",
       "      <td>0.118669</td>\n",
       "      <td>0.016215</td>\n",
       "      <td>{0: 1, 1: 3}</td>\n",
       "      <td>4</td>\n",
       "      <td>10</td>\n",
       "      <td>{'class_weight': {0: 1, 1: 3}, 'max_depth': 4,...</td>\n",
       "      <td>0.278662</td>\n",
       "      <td>0.303085</td>\n",
       "      <td>...</td>\n",
       "      <td>0.554287</td>\n",
       "      <td>0.532156</td>\n",
       "      <td>0.547087</td>\n",
       "      <td>0.010560</td>\n",
       "      <td>13</td>\n",
       "      <td>0.559628</td>\n",
       "      <td>0.561386</td>\n",
       "      <td>0.549678</td>\n",
       "      <td>0.556897</td>\n",
       "      <td>0.005155</td>\n",
       "    </tr>\n",
       "    <tr>\n",
       "      <th>15</th>\n",
       "      <td>15.054545</td>\n",
       "      <td>0.356645</td>\n",
       "      <td>0.091003</td>\n",
       "      <td>0.005098</td>\n",
       "      <td>{0: 1, 1: 3}</td>\n",
       "      <td>4</td>\n",
       "      <td>15</td>\n",
       "      <td>{'class_weight': {0: 1, 1: 3}, 'max_depth': 4,...</td>\n",
       "      <td>0.278662</td>\n",
       "      <td>0.303085</td>\n",
       "      <td>...</td>\n",
       "      <td>0.554287</td>\n",
       "      <td>0.532156</td>\n",
       "      <td>0.547087</td>\n",
       "      <td>0.010560</td>\n",
       "      <td>13</td>\n",
       "      <td>0.559628</td>\n",
       "      <td>0.561386</td>\n",
       "      <td>0.549678</td>\n",
       "      <td>0.556897</td>\n",
       "      <td>0.005155</td>\n",
       "    </tr>\n",
       "    <tr>\n",
       "      <th>16</th>\n",
       "      <td>17.734058</td>\n",
       "      <td>0.712777</td>\n",
       "      <td>0.104003</td>\n",
       "      <td>0.010232</td>\n",
       "      <td>{0: 1, 1: 3}</td>\n",
       "      <td>5</td>\n",
       "      <td>10</td>\n",
       "      <td>{'class_weight': {0: 1, 1: 3}, 'max_depth': 5,...</td>\n",
       "      <td>0.281304</td>\n",
       "      <td>0.281008</td>\n",
       "      <td>...</td>\n",
       "      <td>0.545599</td>\n",
       "      <td>0.555889</td>\n",
       "      <td>0.551029</td>\n",
       "      <td>0.004220</td>\n",
       "      <td>11</td>\n",
       "      <td>0.568010</td>\n",
       "      <td>0.567806</td>\n",
       "      <td>0.593785</td>\n",
       "      <td>0.576534</td>\n",
       "      <td>0.012199</td>\n",
       "    </tr>\n",
       "    <tr>\n",
       "      <th>17</th>\n",
       "      <td>17.769301</td>\n",
       "      <td>0.662544</td>\n",
       "      <td>0.104676</td>\n",
       "      <td>0.012503</td>\n",
       "      <td>{0: 1, 1: 3}</td>\n",
       "      <td>5</td>\n",
       "      <td>15</td>\n",
       "      <td>{'class_weight': {0: 1, 1: 3}, 'max_depth': 5,...</td>\n",
       "      <td>0.281304</td>\n",
       "      <td>0.285156</td>\n",
       "      <td>...</td>\n",
       "      <td>0.546222</td>\n",
       "      <td>0.555889</td>\n",
       "      <td>0.551237</td>\n",
       "      <td>0.003955</td>\n",
       "      <td>10</td>\n",
       "      <td>0.567591</td>\n",
       "      <td>0.566109</td>\n",
       "      <td>0.593785</td>\n",
       "      <td>0.575829</td>\n",
       "      <td>0.012712</td>\n",
       "    </tr>\n",
       "    <tr>\n",
       "      <th>18</th>\n",
       "      <td>20.549659</td>\n",
       "      <td>0.566897</td>\n",
       "      <td>0.110645</td>\n",
       "      <td>0.021008</td>\n",
       "      <td>{0: 1, 1: 3}</td>\n",
       "      <td>6</td>\n",
       "      <td>10</td>\n",
       "      <td>{'class_weight': {0: 1, 1: 3}, 'max_depth': 6,...</td>\n",
       "      <td>0.256684</td>\n",
       "      <td>0.254438</td>\n",
       "      <td>...</td>\n",
       "      <td>0.564344</td>\n",
       "      <td>0.567716</td>\n",
       "      <td>0.563264</td>\n",
       "      <td>0.004147</td>\n",
       "      <td>6</td>\n",
       "      <td>0.607207</td>\n",
       "      <td>0.608300</td>\n",
       "      <td>0.622592</td>\n",
       "      <td>0.612699</td>\n",
       "      <td>0.007009</td>\n",
       "    </tr>\n",
       "    <tr>\n",
       "      <th>19</th>\n",
       "      <td>20.832296</td>\n",
       "      <td>0.552372</td>\n",
       "      <td>0.084351</td>\n",
       "      <td>0.006155</td>\n",
       "      <td>{0: 1, 1: 3}</td>\n",
       "      <td>6</td>\n",
       "      <td>15</td>\n",
       "      <td>{'class_weight': {0: 1, 1: 3}, 'max_depth': 6,...</td>\n",
       "      <td>0.261164</td>\n",
       "      <td>0.252809</td>\n",
       "      <td>...</td>\n",
       "      <td>0.567104</td>\n",
       "      <td>0.569689</td>\n",
       "      <td>0.565117</td>\n",
       "      <td>0.004756</td>\n",
       "      <td>5</td>\n",
       "      <td>0.605551</td>\n",
       "      <td>0.608504</td>\n",
       "      <td>0.622617</td>\n",
       "      <td>0.612224</td>\n",
       "      <td>0.007447</td>\n",
       "    </tr>\n",
       "    <tr>\n",
       "      <th>20</th>\n",
       "      <td>7.170696</td>\n",
       "      <td>0.185776</td>\n",
       "      <td>0.106434</td>\n",
       "      <td>0.012587</td>\n",
       "      <td>{0: 1, 1: 4}</td>\n",
       "      <td>2</td>\n",
       "      <td>10</td>\n",
       "      <td>{'class_weight': {0: 1, 1: 4}, 'max_depth': 2,...</td>\n",
       "      <td>0.000000</td>\n",
       "      <td>0.000000</td>\n",
       "      <td>...</td>\n",
       "      <td>0.500000</td>\n",
       "      <td>0.500000</td>\n",
       "      <td>0.500000</td>\n",
       "      <td>0.000000</td>\n",
       "      <td>25</td>\n",
       "      <td>0.500000</td>\n",
       "      <td>0.500000</td>\n",
       "      <td>0.500000</td>\n",
       "      <td>0.500000</td>\n",
       "      <td>0.000000</td>\n",
       "    </tr>\n",
       "    <tr>\n",
       "      <th>21</th>\n",
       "      <td>7.400122</td>\n",
       "      <td>0.416683</td>\n",
       "      <td>0.088135</td>\n",
       "      <td>0.005706</td>\n",
       "      <td>{0: 1, 1: 4}</td>\n",
       "      <td>2</td>\n",
       "      <td>15</td>\n",
       "      <td>{'class_weight': {0: 1, 1: 4}, 'max_depth': 2,...</td>\n",
       "      <td>0.000000</td>\n",
       "      <td>0.000000</td>\n",
       "      <td>...</td>\n",
       "      <td>0.500000</td>\n",
       "      <td>0.500000</td>\n",
       "      <td>0.500000</td>\n",
       "      <td>0.000000</td>\n",
       "      <td>25</td>\n",
       "      <td>0.500000</td>\n",
       "      <td>0.500000</td>\n",
       "      <td>0.500000</td>\n",
       "      <td>0.500000</td>\n",
       "      <td>0.000000</td>\n",
       "    </tr>\n",
       "    <tr>\n",
       "      <th>22</th>\n",
       "      <td>10.080853</td>\n",
       "      <td>0.253763</td>\n",
       "      <td>0.086896</td>\n",
       "      <td>0.007395</td>\n",
       "      <td>{0: 1, 1: 4}</td>\n",
       "      <td>3</td>\n",
       "      <td>10</td>\n",
       "      <td>{'class_weight': {0: 1, 1: 4}, 'max_depth': 3,...</td>\n",
       "      <td>0.000000</td>\n",
       "      <td>0.243764</td>\n",
       "      <td>...</td>\n",
       "      <td>0.562831</td>\n",
       "      <td>0.542846</td>\n",
       "      <td>0.535226</td>\n",
       "      <td>0.026210</td>\n",
       "      <td>17</td>\n",
       "      <td>0.500000</td>\n",
       "      <td>0.565202</td>\n",
       "      <td>0.562413</td>\n",
       "      <td>0.542538</td>\n",
       "      <td>0.030101</td>\n",
       "    </tr>\n",
       "    <tr>\n",
       "      <th>23</th>\n",
       "      <td>10.425941</td>\n",
       "      <td>0.463042</td>\n",
       "      <td>0.096232</td>\n",
       "      <td>0.005665</td>\n",
       "      <td>{0: 1, 1: 4}</td>\n",
       "      <td>3</td>\n",
       "      <td>15</td>\n",
       "      <td>{'class_weight': {0: 1, 1: 4}, 'max_depth': 3,...</td>\n",
       "      <td>0.000000</td>\n",
       "      <td>0.243764</td>\n",
       "      <td>...</td>\n",
       "      <td>0.562831</td>\n",
       "      <td>0.542846</td>\n",
       "      <td>0.535226</td>\n",
       "      <td>0.026210</td>\n",
       "      <td>17</td>\n",
       "      <td>0.500000</td>\n",
       "      <td>0.565202</td>\n",
       "      <td>0.562413</td>\n",
       "      <td>0.542538</td>\n",
       "      <td>0.030101</td>\n",
       "    </tr>\n",
       "    <tr>\n",
       "      <th>24</th>\n",
       "      <td>13.271914</td>\n",
       "      <td>0.643321</td>\n",
       "      <td>0.085811</td>\n",
       "      <td>0.004209</td>\n",
       "      <td>{0: 1, 1: 4}</td>\n",
       "      <td>4</td>\n",
       "      <td>10</td>\n",
       "      <td>{'class_weight': {0: 1, 1: 4}, 'max_depth': 4,...</td>\n",
       "      <td>0.289157</td>\n",
       "      <td>0.275430</td>\n",
       "      <td>...</td>\n",
       "      <td>0.554829</td>\n",
       "      <td>0.548477</td>\n",
       "      <td>0.552275</td>\n",
       "      <td>0.002738</td>\n",
       "      <td>7</td>\n",
       "      <td>0.555738</td>\n",
       "      <td>0.565306</td>\n",
       "      <td>0.576468</td>\n",
       "      <td>0.565837</td>\n",
       "      <td>0.008471</td>\n",
       "    </tr>\n",
       "    <tr>\n",
       "      <th>25</th>\n",
       "      <td>13.425269</td>\n",
       "      <td>0.727422</td>\n",
       "      <td>0.097139</td>\n",
       "      <td>0.012674</td>\n",
       "      <td>{0: 1, 1: 4}</td>\n",
       "      <td>4</td>\n",
       "      <td>15</td>\n",
       "      <td>{'class_weight': {0: 1, 1: 4}, 'max_depth': 4,...</td>\n",
       "      <td>0.289157</td>\n",
       "      <td>0.275430</td>\n",
       "      <td>...</td>\n",
       "      <td>0.554829</td>\n",
       "      <td>0.548477</td>\n",
       "      <td>0.552275</td>\n",
       "      <td>0.002738</td>\n",
       "      <td>7</td>\n",
       "      <td>0.555738</td>\n",
       "      <td>0.565306</td>\n",
       "      <td>0.576468</td>\n",
       "      <td>0.565837</td>\n",
       "      <td>0.008471</td>\n",
       "    </tr>\n",
       "    <tr>\n",
       "      <th>26</th>\n",
       "      <td>17.333222</td>\n",
       "      <td>0.598983</td>\n",
       "      <td>0.105136</td>\n",
       "      <td>0.010769</td>\n",
       "      <td>{0: 1, 1: 4}</td>\n",
       "      <td>5</td>\n",
       "      <td>10</td>\n",
       "      <td>{'class_weight': {0: 1, 1: 4}, 'max_depth': 5,...</td>\n",
       "      <td>0.232143</td>\n",
       "      <td>0.220420</td>\n",
       "      <td>...</td>\n",
       "      <td>0.563402</td>\n",
       "      <td>0.579345</td>\n",
       "      <td>0.569722</td>\n",
       "      <td>0.006915</td>\n",
       "      <td>4</td>\n",
       "      <td>0.591804</td>\n",
       "      <td>0.597713</td>\n",
       "      <td>0.618081</td>\n",
       "      <td>0.602533</td>\n",
       "      <td>0.011256</td>\n",
       "    </tr>\n",
       "    <tr>\n",
       "      <th>27</th>\n",
       "      <td>16.026404</td>\n",
       "      <td>0.477092</td>\n",
       "      <td>0.085310</td>\n",
       "      <td>0.004511</td>\n",
       "      <td>{0: 1, 1: 4}</td>\n",
       "      <td>5</td>\n",
       "      <td>15</td>\n",
       "      <td>{'class_weight': {0: 1, 1: 4}, 'max_depth': 5,...</td>\n",
       "      <td>0.231225</td>\n",
       "      <td>0.219191</td>\n",
       "      <td>...</td>\n",
       "      <td>0.563709</td>\n",
       "      <td>0.579345</td>\n",
       "      <td>0.569769</td>\n",
       "      <td>0.006850</td>\n",
       "      <td>3</td>\n",
       "      <td>0.591722</td>\n",
       "      <td>0.597753</td>\n",
       "      <td>0.618081</td>\n",
       "      <td>0.602519</td>\n",
       "      <td>0.011276</td>\n",
       "    </tr>\n",
       "    <tr>\n",
       "      <th>28</th>\n",
       "      <td>18.868740</td>\n",
       "      <td>0.740808</td>\n",
       "      <td>0.072917</td>\n",
       "      <td>0.004829</td>\n",
       "      <td>{0: 1, 1: 4}</td>\n",
       "      <td>6</td>\n",
       "      <td>10</td>\n",
       "      <td>{'class_weight': {0: 1, 1: 4}, 'max_depth': 6,...</td>\n",
       "      <td>0.218873</td>\n",
       "      <td>0.206283</td>\n",
       "      <td>...</td>\n",
       "      <td>0.591090</td>\n",
       "      <td>0.575798</td>\n",
       "      <td>0.586041</td>\n",
       "      <td>0.007243</td>\n",
       "      <td>2</td>\n",
       "      <td>0.652209</td>\n",
       "      <td>0.664306</td>\n",
       "      <td>0.642712</td>\n",
       "      <td>0.653076</td>\n",
       "      <td>0.008837</td>\n",
       "    </tr>\n",
       "    <tr>\n",
       "      <th>29</th>\n",
       "      <td>17.464067</td>\n",
       "      <td>0.554807</td>\n",
       "      <td>0.060394</td>\n",
       "      <td>0.004126</td>\n",
       "      <td>{0: 1, 1: 4}</td>\n",
       "      <td>6</td>\n",
       "      <td>15</td>\n",
       "      <td>{'class_weight': {0: 1, 1: 4}, 'max_depth': 6,...</td>\n",
       "      <td>0.220899</td>\n",
       "      <td>0.204094</td>\n",
       "      <td>...</td>\n",
       "      <td>0.590610</td>\n",
       "      <td>0.576084</td>\n",
       "      <td>0.586167</td>\n",
       "      <td>0.007146</td>\n",
       "      <td>1</td>\n",
       "      <td>0.650400</td>\n",
       "      <td>0.664327</td>\n",
       "      <td>0.642078</td>\n",
       "      <td>0.652268</td>\n",
       "      <td>0.009178</td>\n",
       "    </tr>\n",
       "  </tbody>\n",
       "</table>\n",
       "<p>30 rows × 52 columns</p>\n",
       "</div>"
      ],
      "text/plain": [
       "    mean_fit_time  std_fit_time  mean_score_time  std_score_time  \\\n",
       "0        7.172992      0.184489         0.114288        0.006164   \n",
       "1        7.189961      0.106716         0.115318        0.014865   \n",
       "2       10.848430      0.083067         0.109695        0.000245   \n",
       "3       11.010794      0.242498         0.101142        0.006287   \n",
       "4       15.212731      1.103740         0.120544        0.007478   \n",
       "5       16.711038      1.699763         0.130742        0.059396   \n",
       "6       19.117057      0.680824         0.100005        0.006682   \n",
       "7       19.094595      0.536799         0.097336        0.004643   \n",
       "8       20.275631      0.274355         0.089001        0.000814   \n",
       "9       20.963952      0.395553         0.100333        0.008179   \n",
       "10       7.118746      0.143306         0.103673        0.018058   \n",
       "11       7.372180      0.135409         0.100677        0.008959   \n",
       "12      10.635838      0.221649         0.085666        0.000943   \n",
       "13      11.074003      0.042901         0.090660        0.004115   \n",
       "14      14.658521      0.137576         0.118669        0.016215   \n",
       "15      15.054545      0.356645         0.091003        0.005098   \n",
       "16      17.734058      0.712777         0.104003        0.010232   \n",
       "17      17.769301      0.662544         0.104676        0.012503   \n",
       "18      20.549659      0.566897         0.110645        0.021008   \n",
       "19      20.832296      0.552372         0.084351        0.006155   \n",
       "20       7.170696      0.185776         0.106434        0.012587   \n",
       "21       7.400122      0.416683         0.088135        0.005706   \n",
       "22      10.080853      0.253763         0.086896        0.007395   \n",
       "23      10.425941      0.463042         0.096232        0.005665   \n",
       "24      13.271914      0.643321         0.085811        0.004209   \n",
       "25      13.425269      0.727422         0.097139        0.012674   \n",
       "26      17.333222      0.598983         0.105136        0.010769   \n",
       "27      16.026404      0.477092         0.085310        0.004511   \n",
       "28      18.868740      0.740808         0.072917        0.004829   \n",
       "29      17.464067      0.554807         0.060394        0.004126   \n",
       "\n",
       "   param_class_weight param_max_depth param_min_samples_leaf  \\\n",
       "0        {0: 1, 1: 2}               2                     10   \n",
       "1        {0: 1, 1: 2}               2                     15   \n",
       "2        {0: 1, 1: 2}               3                     10   \n",
       "3        {0: 1, 1: 2}               3                     15   \n",
       "4        {0: 1, 1: 2}               4                     10   \n",
       "5        {0: 1, 1: 2}               4                     15   \n",
       "6        {0: 1, 1: 2}               5                     10   \n",
       "7        {0: 1, 1: 2}               5                     15   \n",
       "8        {0: 1, 1: 2}               6                     10   \n",
       "9        {0: 1, 1: 2}               6                     15   \n",
       "10       {0: 1, 1: 3}               2                     10   \n",
       "11       {0: 1, 1: 3}               2                     15   \n",
       "12       {0: 1, 1: 3}               3                     10   \n",
       "13       {0: 1, 1: 3}               3                     15   \n",
       "14       {0: 1, 1: 3}               4                     10   \n",
       "15       {0: 1, 1: 3}               4                     15   \n",
       "16       {0: 1, 1: 3}               5                     10   \n",
       "17       {0: 1, 1: 3}               5                     15   \n",
       "18       {0: 1, 1: 3}               6                     10   \n",
       "19       {0: 1, 1: 3}               6                     15   \n",
       "20       {0: 1, 1: 4}               2                     10   \n",
       "21       {0: 1, 1: 4}               2                     15   \n",
       "22       {0: 1, 1: 4}               3                     10   \n",
       "23       {0: 1, 1: 4}               3                     15   \n",
       "24       {0: 1, 1: 4}               4                     10   \n",
       "25       {0: 1, 1: 4}               4                     15   \n",
       "26       {0: 1, 1: 4}               5                     10   \n",
       "27       {0: 1, 1: 4}               5                     15   \n",
       "28       {0: 1, 1: 4}               6                     10   \n",
       "29       {0: 1, 1: 4}               6                     15   \n",
       "\n",
       "                                               params  split0_test_precision  \\\n",
       "0   {'class_weight': {0: 1, 1: 2}, 'max_depth': 2,...               0.000000   \n",
       "1   {'class_weight': {0: 1, 1: 2}, 'max_depth': 2,...               0.000000   \n",
       "2   {'class_weight': {0: 1, 1: 2}, 'max_depth': 3,...               0.000000   \n",
       "3   {'class_weight': {0: 1, 1: 2}, 'max_depth': 3,...               0.000000   \n",
       "4   {'class_weight': {0: 1, 1: 2}, 'max_depth': 4,...               0.217391   \n",
       "5   {'class_weight': {0: 1, 1: 2}, 'max_depth': 4,...               0.217391   \n",
       "6   {'class_weight': {0: 1, 1: 2}, 'max_depth': 5,...               0.298354   \n",
       "7   {'class_weight': {0: 1, 1: 2}, 'max_depth': 5,...               0.298354   \n",
       "8   {'class_weight': {0: 1, 1: 2}, 'max_depth': 6,...               0.283276   \n",
       "9   {'class_weight': {0: 1, 1: 2}, 'max_depth': 6,...               0.286957   \n",
       "10  {'class_weight': {0: 1, 1: 3}, 'max_depth': 2,...               0.000000   \n",
       "11  {'class_weight': {0: 1, 1: 3}, 'max_depth': 2,...               0.000000   \n",
       "12  {'class_weight': {0: 1, 1: 3}, 'max_depth': 3,...               0.000000   \n",
       "13  {'class_weight': {0: 1, 1: 3}, 'max_depth': 3,...               0.000000   \n",
       "14  {'class_weight': {0: 1, 1: 3}, 'max_depth': 4,...               0.278662   \n",
       "15  {'class_weight': {0: 1, 1: 3}, 'max_depth': 4,...               0.278662   \n",
       "16  {'class_weight': {0: 1, 1: 3}, 'max_depth': 5,...               0.281304   \n",
       "17  {'class_weight': {0: 1, 1: 3}, 'max_depth': 5,...               0.281304   \n",
       "18  {'class_weight': {0: 1, 1: 3}, 'max_depth': 6,...               0.256684   \n",
       "19  {'class_weight': {0: 1, 1: 3}, 'max_depth': 6,...               0.261164   \n",
       "20  {'class_weight': {0: 1, 1: 4}, 'max_depth': 2,...               0.000000   \n",
       "21  {'class_weight': {0: 1, 1: 4}, 'max_depth': 2,...               0.000000   \n",
       "22  {'class_weight': {0: 1, 1: 4}, 'max_depth': 3,...               0.000000   \n",
       "23  {'class_weight': {0: 1, 1: 4}, 'max_depth': 3,...               0.000000   \n",
       "24  {'class_weight': {0: 1, 1: 4}, 'max_depth': 4,...               0.289157   \n",
       "25  {'class_weight': {0: 1, 1: 4}, 'max_depth': 4,...               0.289157   \n",
       "26  {'class_weight': {0: 1, 1: 4}, 'max_depth': 5,...               0.232143   \n",
       "27  {'class_weight': {0: 1, 1: 4}, 'max_depth': 5,...               0.231225   \n",
       "28  {'class_weight': {0: 1, 1: 4}, 'max_depth': 6,...               0.218873   \n",
       "29  {'class_weight': {0: 1, 1: 4}, 'max_depth': 6,...               0.220899   \n",
       "\n",
       "    split1_test_precision  ...  split1_test_roc_auc_score  \\\n",
       "0                0.000000  ...                   0.500000   \n",
       "1                0.000000  ...                   0.500000   \n",
       "2                0.279412  ...                   0.505959   \n",
       "3                0.279412  ...                   0.505959   \n",
       "4                0.344262  ...                   0.507165   \n",
       "5                0.384615  ...                   0.507074   \n",
       "6                0.303719  ...                   0.547827   \n",
       "7                0.307385  ...                   0.550352   \n",
       "8                0.331361  ...                   0.537698   \n",
       "9                0.339339  ...                   0.538362   \n",
       "10               0.000000  ...                   0.500000   \n",
       "11               0.000000  ...                   0.500000   \n",
       "12               0.279412  ...                   0.505959   \n",
       "13               0.279412  ...                   0.505959   \n",
       "14               0.303085  ...                   0.554287   \n",
       "15               0.303085  ...                   0.554287   \n",
       "16               0.281008  ...                   0.545599   \n",
       "17               0.285156  ...                   0.546222   \n",
       "18               0.254438  ...                   0.564344   \n",
       "19               0.252809  ...                   0.567104   \n",
       "20               0.000000  ...                   0.500000   \n",
       "21               0.000000  ...                   0.500000   \n",
       "22               0.243764  ...                   0.562831   \n",
       "23               0.243764  ...                   0.562831   \n",
       "24               0.275430  ...                   0.554829   \n",
       "25               0.275430  ...                   0.554829   \n",
       "26               0.220420  ...                   0.563402   \n",
       "27               0.219191  ...                   0.563709   \n",
       "28               0.206283  ...                   0.591090   \n",
       "29               0.204094  ...                   0.590610   \n",
       "\n",
       "    split2_test_roc_auc_score  mean_test_roc_auc_score  \\\n",
       "0                    0.500000                 0.500000   \n",
       "1                    0.500000                 0.500000   \n",
       "2                    0.500000                 0.501986   \n",
       "3                    0.500000                 0.501986   \n",
       "4                    0.532085                 0.513537   \n",
       "5                    0.532085                 0.513506   \n",
       "6                    0.542970                 0.545874   \n",
       "7                    0.542510                 0.546563   \n",
       "8                    0.560981                 0.550358   \n",
       "9                    0.563270                 0.551340   \n",
       "10                   0.500000                 0.500000   \n",
       "11                   0.500000                 0.500000   \n",
       "12                   0.542846                 0.516268   \n",
       "13                   0.542846                 0.516268   \n",
       "14                   0.532156                 0.547087   \n",
       "15                   0.532156                 0.547087   \n",
       "16                   0.555889                 0.551029   \n",
       "17                   0.555889                 0.551237   \n",
       "18                   0.567716                 0.563264   \n",
       "19                   0.569689                 0.565117   \n",
       "20                   0.500000                 0.500000   \n",
       "21                   0.500000                 0.500000   \n",
       "22                   0.542846                 0.535226   \n",
       "23                   0.542846                 0.535226   \n",
       "24                   0.548477                 0.552275   \n",
       "25                   0.548477                 0.552275   \n",
       "26                   0.579345                 0.569722   \n",
       "27                   0.579345                 0.569769   \n",
       "28                   0.575798                 0.586041   \n",
       "29                   0.576084                 0.586167   \n",
       "\n",
       "    std_test_roc_auc_score  rank_test_roc_auc_score  \\\n",
       "0                 0.000000                       25   \n",
       "1                 0.000000                       25   \n",
       "2                 0.002809                       23   \n",
       "3                 0.002809                       23   \n",
       "4                 0.013328                       21   \n",
       "5                 0.013343                       22   \n",
       "6                 0.002094                       16   \n",
       "7                 0.003207                       15   \n",
       "8                 0.009614                       12   \n",
       "9                 0.010196                        9   \n",
       "10                0.000000                       25   \n",
       "11                0.000000                       25   \n",
       "12                0.018950                       19   \n",
       "13                0.018950                       19   \n",
       "14                0.010560                       13   \n",
       "15                0.010560                       13   \n",
       "16                0.004220                       11   \n",
       "17                0.003955                       10   \n",
       "18                0.004147                        6   \n",
       "19                0.004756                        5   \n",
       "20                0.000000                       25   \n",
       "21                0.000000                       25   \n",
       "22                0.026210                       17   \n",
       "23                0.026210                       17   \n",
       "24                0.002738                        7   \n",
       "25                0.002738                        7   \n",
       "26                0.006915                        4   \n",
       "27                0.006850                        3   \n",
       "28                0.007243                        2   \n",
       "29                0.007146                        1   \n",
       "\n",
       "    split0_train_roc_auc_score  split1_train_roc_auc_score  \\\n",
       "0                     0.500000                    0.500000   \n",
       "1                     0.500000                    0.500000   \n",
       "2                     0.500000                    0.508704   \n",
       "3                     0.500000                    0.508704   \n",
       "4                     0.505315                    0.512522   \n",
       "5                     0.505315                    0.511428   \n",
       "6                     0.564985                    0.568512   \n",
       "7                     0.564566                    0.570490   \n",
       "8                     0.597006                    0.564756   \n",
       "9                     0.593582                    0.561526   \n",
       "10                    0.500000                    0.500000   \n",
       "11                    0.500000                    0.500000   \n",
       "12                    0.500000                    0.508704   \n",
       "13                    0.500000                    0.508704   \n",
       "14                    0.559628                    0.561386   \n",
       "15                    0.559628                    0.561386   \n",
       "16                    0.568010                    0.567806   \n",
       "17                    0.567591                    0.566109   \n",
       "18                    0.607207                    0.608300   \n",
       "19                    0.605551                    0.608504   \n",
       "20                    0.500000                    0.500000   \n",
       "21                    0.500000                    0.500000   \n",
       "22                    0.500000                    0.565202   \n",
       "23                    0.500000                    0.565202   \n",
       "24                    0.555738                    0.565306   \n",
       "25                    0.555738                    0.565306   \n",
       "26                    0.591804                    0.597713   \n",
       "27                    0.591722                    0.597753   \n",
       "28                    0.652209                    0.664306   \n",
       "29                    0.650400                    0.664327   \n",
       "\n",
       "    split2_train_roc_auc_score  mean_train_roc_auc_score  \\\n",
       "0                     0.500000                  0.500000   \n",
       "1                     0.500000                  0.500000   \n",
       "2                     0.500000                  0.502901   \n",
       "3                     0.500000                  0.502901   \n",
       "4                     0.551217                  0.523018   \n",
       "5                     0.551217                  0.522653   \n",
       "6                     0.579562                  0.571020   \n",
       "7                     0.577743                  0.570933   \n",
       "8                     0.608123                  0.589962   \n",
       "9                     0.610474                  0.588527   \n",
       "10                    0.500000                  0.500000   \n",
       "11                    0.500000                  0.500000   \n",
       "12                    0.562413                  0.523706   \n",
       "13                    0.562413                  0.523706   \n",
       "14                    0.549678                  0.556897   \n",
       "15                    0.549678                  0.556897   \n",
       "16                    0.593785                  0.576534   \n",
       "17                    0.593785                  0.575829   \n",
       "18                    0.622592                  0.612699   \n",
       "19                    0.622617                  0.612224   \n",
       "20                    0.500000                  0.500000   \n",
       "21                    0.500000                  0.500000   \n",
       "22                    0.562413                  0.542538   \n",
       "23                    0.562413                  0.542538   \n",
       "24                    0.576468                  0.565837   \n",
       "25                    0.576468                  0.565837   \n",
       "26                    0.618081                  0.602533   \n",
       "27                    0.618081                  0.602519   \n",
       "28                    0.642712                  0.653076   \n",
       "29                    0.642078                  0.652268   \n",
       "\n",
       "    std_train_roc_auc_score  \n",
       "0                  0.000000  \n",
       "1                  0.000000  \n",
       "2                  0.004103  \n",
       "3                  0.004103  \n",
       "4                  0.020155  \n",
       "5                  0.020351  \n",
       "6                  0.006210  \n",
       "7                  0.005389  \n",
       "8                  0.018392  \n",
       "9                  0.020300  \n",
       "10                 0.000000  \n",
       "11                 0.000000  \n",
       "12                 0.027600  \n",
       "13                 0.027600  \n",
       "14                 0.005155  \n",
       "15                 0.005155  \n",
       "16                 0.012199  \n",
       "17                 0.012712  \n",
       "18                 0.007009  \n",
       "19                 0.007447  \n",
       "20                 0.000000  \n",
       "21                 0.000000  \n",
       "22                 0.030101  \n",
       "23                 0.030101  \n",
       "24                 0.008471  \n",
       "25                 0.008471  \n",
       "26                 0.011256  \n",
       "27                 0.011276  \n",
       "28                 0.008837  \n",
       "29                 0.009178  \n",
       "\n",
       "[30 rows x 52 columns]"
      ]
     },
     "execution_count": 46,
     "metadata": {},
     "output_type": "execute_result"
    }
   ],
   "source": [
    "results"
   ]
  },
  {
   "cell_type": "code",
   "execution_count": 84,
   "id": "50f354ed-7f4d-455c-9fd0-145621fff23b",
   "metadata": {},
   "outputs": [],
   "source": [
    "x_train,x_test,y_train,y_test = train_test_split(X,y,test_size=0.40)"
   ]
  },
  {
   "cell_type": "code",
   "execution_count": 85,
   "id": "ed368b24-6fe2-4efc-b9a9-3eeac3243868",
   "metadata": {},
   "outputs": [
    {
     "ename": "KeyboardInterrupt",
     "evalue": "",
     "output_type": "error",
     "traceback": [
      "\u001b[1;31m---------------------------------------------------------------------------\u001b[0m",
      "\u001b[1;31mKeyboardInterrupt\u001b[0m                         Traceback (most recent call last)",
      "\u001b[1;32m~\\AppData\\Local\\Temp/ipykernel_19112/852661122.py\u001b[0m in \u001b[0;36m<module>\u001b[1;34m\u001b[0m\n\u001b[1;32m----> 1\u001b[1;33m \u001b[0mmodel_regres\u001b[0m\u001b[1;33m.\u001b[0m\u001b[0mfit\u001b[0m\u001b[1;33m(\u001b[0m\u001b[0mx_train\u001b[0m\u001b[1;33m,\u001b[0m\u001b[0my_train\u001b[0m\u001b[1;33m)\u001b[0m\u001b[1;33m\u001b[0m\u001b[1;33m\u001b[0m\u001b[0m\n\u001b[0m",
      "\u001b[1;32mC:\\ProgramData\\Anaconda3\\lib\\site-packages\\sklearn\\tree\\_classes.py\u001b[0m in \u001b[0;36mfit\u001b[1;34m(self, X, y, sample_weight, check_input)\u001b[0m\n\u001b[0;32m    967\u001b[0m             \u001b[0mThe\u001b[0m \u001b[1;32mclass\u001b[0m \u001b[0mprobabilities\u001b[0m \u001b[0mof\u001b[0m \u001b[0mthe\u001b[0m \u001b[0minput\u001b[0m \u001b[0msamples\u001b[0m\u001b[1;33m.\u001b[0m \u001b[0mThe\u001b[0m \u001b[0morder\u001b[0m \u001b[0mof\u001b[0m \u001b[0mthe\u001b[0m\u001b[1;33m\u001b[0m\u001b[1;33m\u001b[0m\u001b[0m\n\u001b[0;32m    968\u001b[0m             \u001b[0mclasses\u001b[0m \u001b[0mcorresponds\u001b[0m \u001b[0mto\u001b[0m \u001b[0mthat\u001b[0m \u001b[1;32min\u001b[0m \u001b[0mthe\u001b[0m \u001b[0mattribute\u001b[0m \u001b[1;33m:\u001b[0m\u001b[0mterm\u001b[0m\u001b[1;33m:\u001b[0m\u001b[0;31m`\u001b[0m\u001b[0mclasses_\u001b[0m\u001b[0;31m`\u001b[0m\u001b[1;33m.\u001b[0m\u001b[1;33m\u001b[0m\u001b[1;33m\u001b[0m\u001b[0m\n\u001b[1;32m--> 969\u001b[1;33m         \"\"\"\n\u001b[0m\u001b[0;32m    970\u001b[0m         \u001b[0mcheck_is_fitted\u001b[0m\u001b[1;33m(\u001b[0m\u001b[0mself\u001b[0m\u001b[1;33m)\u001b[0m\u001b[1;33m\u001b[0m\u001b[1;33m\u001b[0m\u001b[0m\n\u001b[0;32m    971\u001b[0m         \u001b[0mX\u001b[0m \u001b[1;33m=\u001b[0m \u001b[0mself\u001b[0m\u001b[1;33m.\u001b[0m\u001b[0m_validate_X_predict\u001b[0m\u001b[1;33m(\u001b[0m\u001b[0mX\u001b[0m\u001b[1;33m,\u001b[0m \u001b[0mcheck_input\u001b[0m\u001b[1;33m)\u001b[0m\u001b[1;33m\u001b[0m\u001b[1;33m\u001b[0m\u001b[0m\n",
      "\u001b[1;32mC:\\ProgramData\\Anaconda3\\lib\\site-packages\\sklearn\\tree\\_classes.py\u001b[0m in \u001b[0;36mfit\u001b[1;34m(self, X, y, sample_weight, check_input)\u001b[0m\n\u001b[0;32m    456\u001b[0m \u001b[1;33m\u001b[0m\u001b[0m\n\u001b[0;32m    457\u001b[0m         \u001b[0mcheck_input\u001b[0m \u001b[1;33m:\u001b[0m \u001b[0mbool\u001b[0m\u001b[1;33m,\u001b[0m \u001b[0mdefault\u001b[0m\u001b[1;33m=\u001b[0m\u001b[1;32mTrue\u001b[0m\u001b[1;33m\u001b[0m\u001b[1;33m\u001b[0m\u001b[0m\n\u001b[1;32m--> 458\u001b[1;33m             \u001b[0mAllow\u001b[0m \u001b[0mto\u001b[0m \u001b[0mbypass\u001b[0m \u001b[0mseveral\u001b[0m \u001b[0minput\u001b[0m \u001b[0mchecking\u001b[0m\u001b[1;33m.\u001b[0m\u001b[1;33m\u001b[0m\u001b[1;33m\u001b[0m\u001b[0m\n\u001b[0m\u001b[0;32m    459\u001b[0m             \u001b[0mDon\u001b[0m\u001b[0;31m'\u001b[0m\u001b[0mt\u001b[0m \u001b[0muse\u001b[0m \u001b[0mthis\u001b[0m \u001b[0mparameter\u001b[0m \u001b[0munless\u001b[0m \u001b[0myou\u001b[0m \u001b[0mknow\u001b[0m \u001b[0mwhat\u001b[0m \u001b[0myou\u001b[0m \u001b[0mdo\u001b[0m\u001b[1;33m.\u001b[0m\u001b[1;33m\u001b[0m\u001b[1;33m\u001b[0m\u001b[0m\n\u001b[0;32m    460\u001b[0m \u001b[1;33m\u001b[0m\u001b[0m\n",
      "\u001b[1;31mKeyboardInterrupt\u001b[0m: "
     ]
    }
   ],
   "source": [
    "model_regres.fit(x_train,y_train)"
   ]
  },
  {
   "cell_type": "code",
   "execution_count": null,
   "id": "05f70e83-52b8-4bc3-9831-05ce6c1087db",
   "metadata": {},
   "outputs": [],
   "source": [
    "y_pred =model_regres.predict(x_test)"
   ]
  },
  {
   "cell_type": "code",
   "execution_count": null,
   "id": "c054bcab-bccf-4a65-a24b-0c98a83bc47e",
   "metadata": {},
   "outputs": [],
   "source": [
    "print(classification_report(y_test,y_pred))"
   ]
  },
  {
   "cell_type": "code",
   "execution_count": 56,
   "id": "7e056cb8-070c-451b-a0c1-60f3c11a4c87",
   "metadata": {},
   "outputs": [
    {
     "data": {
      "text/plain": [
       "0.8466124324660002"
      ]
     },
     "execution_count": 56,
     "metadata": {},
     "output_type": "execute_result"
    }
   ],
   "source": [
    "accuracy_score(y_test,y_pred)"
   ]
  },
  {
   "cell_type": "code",
   "execution_count": 58,
   "id": "ca88b759-15ea-4a57-8ec0-b6a14414e35b",
   "metadata": {},
   "outputs": [
    {
     "name": "stderr",
     "output_type": "stream",
     "text": [
      "C:\\ProgramData\\Anaconda3\\lib\\site-packages\\sklearn\\utils\\deprecation.py:87: FutureWarning: Function plot_confusion_matrix is deprecated; Function `plot_confusion_matrix` is deprecated in 1.0 and will be removed in 1.2. Use one of the class methods: ConfusionMatrixDisplay.from_predictions or ConfusionMatrixDisplay.from_estimator.\n",
      "  warnings.warn(msg, category=FutureWarning)\n",
      "C:\\ProgramData\\Anaconda3\\lib\\site-packages\\sklearn\\utils\\deprecation.py:87: FutureWarning: Function plot_confusion_matrix is deprecated; Function `plot_confusion_matrix` is deprecated in 1.0 and will be removed in 1.2. Use one of the class methods: ConfusionMatrixDisplay.from_predictions or ConfusionMatrixDisplay.from_estimator.\n",
      "  warnings.warn(msg, category=FutureWarning)\n"
     ]
    },
    {
     "name": "stdout",
     "output_type": "stream",
     "text": [
      "Confusion matrix LDA@60\n",
      "[[13348  1284]\n",
      " [ 1186   285]]\n",
      "Normalized confusion matrix\n",
      "[[0.91224713 0.08775287]\n",
      " [0.80625425 0.19374575]]\n"
     ]
    },
    {
     "data": {
      "image/png": "[encoded data removed]",
      "text/plain": [
       "<Figure size 432x288 with 2 Axes>"
      ]
     },
     "metadata": {
      "needs_background": "light"
     },
     "output_type": "display_data"
    },
    {
     "data": {
      "image/png": "[encoded data removed]",
      "text/plain": [
       "<Figure size 432x288 with 2 Axes>"
      ]
     },
     "metadata": {
      "needs_background": "light"
     },
     "output_type": "display_data"
    }
   ],
   "source": [
    "#plotting non-normalized confusion matrix\n",
    "\n",
    "titles = [(\"Confusion matrix LDA@60\",None),\n",
    "         (\"Normalized confusion matrix\",\"true\")]\n",
    "\n",
    "for title , normalized in titles:\n",
    "    disp =plot_confusion_matrix(model_regres,x_test,y_test,\n",
    "                               display_labels=[\"Normal\",\"Theft\"],\n",
    "                               cmap=plt.cm.Blues,\n",
    "                               normalize=normalized)\n",
    "    disp.ax_.set_title(title)\n",
    "    print(title)\n",
    "    print(disp.confusion_matrix)\n",
    "    \n",
    "plt.show()"
   ]
  },
  {
   "cell_type": "code",
   "execution_count": null,
   "id": "414a647d-6446-4bde-a38c-9e22e1c72577",
   "metadata": {},
   "outputs": [],
   "source": []
  },
  {
   "cell_type": "code",
   "execution_count": 59,
   "id": "2981af02-d71a-4d58-a5e7-a0d0eaa0ffa1",
   "metadata": {},
   "outputs": [],
   "source": [
    "model_rand = RandomForestClassifier()"
   ]
  },
  {
   "cell_type": "code",
   "execution_count": 60,
   "id": "9de93f84-79c9-44c4-8570-150202fba46a",
   "metadata": {},
   "outputs": [
    {
     "data": {
      "text/plain": [
       "{'bootstrap': True,\n",
       " 'ccp_alpha': 0.0,\n",
       " 'class_weight': None,\n",
       " 'criterion': 'gini',\n",
       " 'max_depth': None,\n",
       " 'max_features': 'sqrt',\n",
       " 'max_leaf_nodes': None,\n",
       " 'max_samples': None,\n",
       " 'min_impurity_decrease': 0.0,\n",
       " 'min_samples_leaf': 1,\n",
       " 'min_samples_split': 2,\n",
       " 'min_weight_fraction_leaf': 0.0,\n",
       " 'n_estimators': 100,\n",
       " 'n_jobs': None,\n",
       " 'oob_score': False,\n",
       " 'random_state': None,\n",
       " 'verbose': 0,\n",
       " 'warm_start': False}"
      ]
     },
     "execution_count": 60,
     "metadata": {},
     "output_type": "execute_result"
    }
   ],
   "source": [
    "model_rand.get_params()"
   ]
  },
  {
   "cell_type": "code",
   "execution_count": null,
   "id": "c19aa924-ae40-42f6-9e5c-4127dcbc7628",
   "metadata": {},
   "outputs": [],
   "source": []
  },
  {
   "cell_type": "code",
   "execution_count": 61,
   "id": "3a0fc251-a56e-44f6-b8fc-e79af4f15712",
   "metadata": {},
   "outputs": [],
   "source": [
    "grid_randfor= GridSearchCV(\n",
    "    estimator=RandomForestClassifier(verbose=1),\n",
    "    param_grid={\"class_weight\":[{0:1,1:v} for v in range(2,8)],\n",
    "            \"min_samples_leaf\":[10,15],\n",
    "            'n_estimators': [10,20,30,40,50,100],\n",
    "            \n",
    "           },\n",
    "    scoring={\"precision\": make_scorer(precision_score),\n",
    "            \"recall\":make_scorer(recall_score),\n",
    "            \"f1_score\":make_scorer(f1_score),\n",
    "           \"roc_auc_score\":make_scorer(roc_auc_score)\n",
    "            },\n",
    "    refit=\"roc_auc_score\",\n",
    "    return_train_score=True,\n",
    "    verbose=1,\n",
    "    cv=3,\n",
    "    n_jobs=-1)"
   ]
  },
  {
   "cell_type": "code",
   "execution_count": 63,
   "id": "e147fa6c-a524-43dd-a4c7-586838478253",
   "metadata": {},
   "outputs": [
    {
     "name": "stdout",
     "output_type": "stream",
     "text": [
      "Fitting 3 folds for each of 72 candidates, totalling 216 fits\n"
     ]
    },
    {
     "name": "stderr",
     "output_type": "stream",
     "text": [
      "[Parallel(n_jobs=1)]: Using backend SequentialBackend with 1 concurrent workers.\n",
      "[Parallel(n_jobs=1)]: Done  40 out of  40 | elapsed:   42.0s finished\n"
     ]
    },
    {
     "data": {
      "text/html": [
       "<style>#sk-container-id-5 {color: black;background-color: white;}#sk-container-id-5 pre{padding: 0;}#sk-container-id-5 div.sk-toggleable {background-color: white;}#sk-container-id-5 label.sk-toggleable__label {cursor: pointer;display: block;width: 100%;margin-bottom: 0;padding: 0.3em;box-sizing: border-box;text-align: center;}#sk-container-id-5 label.sk-toggleable__label-arrow:before {content: \"▸\";float: left;margin-right: 0.25em;color: #696969;}#sk-container-id-5 label.sk-toggleable__label-arrow:hover:before {color: black;}#sk-container-id-5 div.sk-estimator:hover label.sk-toggleable__label-arrow:before {color: black;}#sk-container-id-5 div.sk-toggleable__content {max-height: 0;max-width: 0;overflow: hidden;text-align: left;background-color: #f0f8ff;}#sk-container-id-5 div.sk-toggleable__content pre {margin: 0.2em;color: black;border-radius: 0.25em;background-color: #f0f8ff;}#sk-container-id-5 input.sk-toggleable__control:checked~div.sk-toggleable__content {max-height: 200px;max-width: 100%;overflow: auto;}#sk-container-id-5 input.sk-toggleable__control:checked~label.sk-toggleable__label-arrow:before {content: \"▾\";}#sk-container-id-5 div.sk-estimator input.sk-toggleable__control:checked~label.sk-toggleable__label {background-color: #d4ebff;}#sk-container-id-5 div.sk-label input.sk-toggleable__control:checked~label.sk-toggleable__label {background-color: #d4ebff;}#sk-container-id-5 input.sk-hidden--visually {border: 0;clip: rect(1px 1px 1px 1px);clip: rect(1px, 1px, 1px, 1px);height: 1px;margin: -1px;overflow: hidden;padding: 0;position: absolute;width: 1px;}#sk-container-id-5 div.sk-estimator {font-family: monospace;background-color: #f0f8ff;border: 1px dotted black;border-radius: 0.25em;box-sizing: border-box;margin-bottom: 0.5em;}#sk-container-id-5 div.sk-estimator:hover {background-color: #d4ebff;}#sk-container-id-5 div.sk-parallel-item::after {content: \"\";width: 100%;border-bottom: 1px solid gray;flex-grow: 1;}#sk-container-id-5 div.sk-label:hover label.sk-toggleable__label {background-color: #d4ebff;}#sk-container-id-5 div.sk-serial::before {content: \"\";position: absolute;border-left: 1px solid gray;box-sizing: border-box;top: 0;bottom: 0;left: 50%;z-index: 0;}#sk-container-id-5 div.sk-serial {display: flex;flex-direction: column;align-items: center;background-color: white;padding-right: 0.2em;padding-left: 0.2em;position: relative;}#sk-container-id-5 div.sk-item {position: relative;z-index: 1;}#sk-container-id-5 div.sk-parallel {display: flex;align-items: stretch;justify-content: center;background-color: white;position: relative;}#sk-container-id-5 div.sk-item::before, #sk-container-id-5 div.sk-parallel-item::before {content: \"\";position: absolute;border-left: 1px solid gray;box-sizing: border-box;top: 0;bottom: 0;left: 50%;z-index: -1;}#sk-container-id-5 div.sk-parallel-item {display: flex;flex-direction: column;z-index: 1;position: relative;background-color: white;}#sk-container-id-5 div.sk-parallel-item:first-child::after {align-self: flex-end;width: 50%;}#sk-container-id-5 div.sk-parallel-item:last-child::after {align-self: flex-start;width: 50%;}#sk-container-id-5 div.sk-parallel-item:only-child::after {width: 0;}#sk-container-id-5 div.sk-dashed-wrapped {border: 1px dashed gray;margin: 0 0.4em 0.5em 0.4em;box-sizing: border-box;padding-bottom: 0.4em;background-color: white;}#sk-container-id-5 div.sk-label label {font-family: monospace;font-weight: bold;display: inline-block;line-height: 1.2em;}#sk-container-id-5 div.sk-label-container {text-align: center;}#sk-container-id-5 div.sk-container {/* jupyter's `normalize.less` sets `[hidden] { display: none; }` but bootstrap.min.css set `[hidden] { display: none !important; }` so we also need the `!important` here to be able to override the default hidden behavior on the sphinx rendered scikit-learn.org. See: https://github.com/scikit-learn/scikit-learn/issues/21755 */display: inline-block !important;position: relative;}#sk-container-id-5 div.sk-text-repr-fallback {display: none;}</style><div id=\"sk-container-id-5\" class=\"sk-top-container\"><div class=\"sk-text-repr-fallback\"><pre>GridSearchCV(cv=3, estimator=RandomForestClassifier(verbose=1), n_jobs=-1,\n",
       "             param_grid={&#x27;class_weight&#x27;: [{0: 1, 1: 2}, {0: 1, 1: 3},\n",
       "                                          {0: 1, 1: 4}, {0: 1, 1: 5},\n",
       "                                          {0: 1, 1: 6}, {0: 1, 1: 7}],\n",
       "                         &#x27;min_samples_leaf&#x27;: [10, 15],\n",
       "                         &#x27;n_estimators&#x27;: [10, 20, 30, 40, 50, 100]},\n",
       "             refit=&#x27;roc_auc_score&#x27;, return_train_score=True,\n",
       "             scoring={&#x27;f1_score&#x27;: make_scorer(f1_score),\n",
       "                      &#x27;precision&#x27;: make_scorer(precision_score),\n",
       "                      &#x27;recall&#x27;: make_scorer(recall_score),\n",
       "                      &#x27;roc_auc_score&#x27;: make_scorer(roc_auc_score)},\n",
       "             verbose=1)</pre><b>In a Jupyter environment, please rerun this cell to show the HTML representation or trust the notebook. <br />On GitHub, the HTML representation is unable to render, please try loading this page with nbviewer.org.</b></div><div class=\"sk-container\" hidden><div class=\"sk-item sk-dashed-wrapped\"><div class=\"sk-label-container\"><div class=\"sk-label sk-toggleable\"><input class=\"sk-toggleable__control sk-hidden--visually\" id=\"sk-estimator-id-9\" type=\"checkbox\" ><label for=\"sk-estimator-id-9\" class=\"sk-toggleable__label sk-toggleable__label-arrow\">GridSearchCV</label><div class=\"sk-toggleable__content\"><pre>GridSearchCV(cv=3, estimator=RandomForestClassifier(verbose=1), n_jobs=-1,\n",
       "             param_grid={&#x27;class_weight&#x27;: [{0: 1, 1: 2}, {0: 1, 1: 3},\n",
       "                                          {0: 1, 1: 4}, {0: 1, 1: 5},\n",
       "                                          {0: 1, 1: 6}, {0: 1, 1: 7}],\n",
       "                         &#x27;min_samples_leaf&#x27;: [10, 15],\n",
       "                         &#x27;n_estimators&#x27;: [10, 20, 30, 40, 50, 100]},\n",
       "             refit=&#x27;roc_auc_score&#x27;, return_train_score=True,\n",
       "             scoring={&#x27;f1_score&#x27;: make_scorer(f1_score),\n",
       "                      &#x27;precision&#x27;: make_scorer(precision_score),\n",
       "                      &#x27;recall&#x27;: make_scorer(recall_score),\n",
       "                      &#x27;roc_auc_score&#x27;: make_scorer(roc_auc_score)},\n",
       "             verbose=1)</pre></div></div></div><div class=\"sk-parallel\"><div class=\"sk-parallel-item\"><div class=\"sk-item\"><div class=\"sk-label-container\"><div class=\"sk-label sk-toggleable\"><input class=\"sk-toggleable__control sk-hidden--visually\" id=\"sk-estimator-id-10\" type=\"checkbox\" ><label for=\"sk-estimator-id-10\" class=\"sk-toggleable__label sk-toggleable__label-arrow\">estimator: RandomForestClassifier</label><div class=\"sk-toggleable__content\"><pre>RandomForestClassifier(verbose=1)</pre></div></div></div><div class=\"sk-serial\"><div class=\"sk-item\"><div class=\"sk-estimator sk-toggleable\"><input class=\"sk-toggleable__control sk-hidden--visually\" id=\"sk-estimator-id-11\" type=\"checkbox\" ><label for=\"sk-estimator-id-11\" class=\"sk-toggleable__label sk-toggleable__label-arrow\">RandomForestClassifier</label><div class=\"sk-toggleable__content\"><pre>RandomForestClassifier(verbose=1)</pre></div></div></div></div></div></div></div></div></div></div>"
      ],
      "text/plain": [
       "GridSearchCV(cv=3, estimator=RandomForestClassifier(verbose=1), n_jobs=-1,\n",
       "             param_grid={'class_weight': [{0: 1, 1: 2}, {0: 1, 1: 3},\n",
       "                                          {0: 1, 1: 4}, {0: 1, 1: 5},\n",
       "                                          {0: 1, 1: 6}, {0: 1, 1: 7}],\n",
       "                         'min_samples_leaf': [10, 15],\n",
       "                         'n_estimators': [10, 20, 30, 40, 50, 100]},\n",
       "             refit='roc_auc_score', return_train_score=True,\n",
       "             scoring={'f1_score': make_scorer(f1_score),\n",
       "                      'precision': make_scorer(precision_score),\n",
       "                      'recall': make_scorer(recall_score),\n",
       "                      'roc_auc_score': make_scorer(roc_auc_score)},\n",
       "             verbose=1)"
      ]
     },
     "execution_count": 63,
     "metadata": {},
     "output_type": "execute_result"
    }
   ],
   "source": [
    "grid_randfor.fit(X,y)"
   ]
  },
  {
   "cell_type": "code",
   "execution_count": 64,
   "id": "5b4ebdb3-625e-4e48-820f-25120219779e",
   "metadata": {},
   "outputs": [],
   "source": [
    "results = pd.DataFrame(grid_randfor.cv_results_)"
   ]
  },
  {
   "cell_type": "code",
   "execution_count": 65,
   "id": "d4a758ed-8f84-4d6d-bb20-eff49712a1bd",
   "metadata": {},
   "outputs": [
    {
     "data": {
      "text/html": [
       "<div>\n",
       "<style scoped>\n",
       "    .dataframe tbody tr th:only-of-type {\n",
       "        vertical-align: middle;\n",
       "    }\n",
       "\n",
       "    .dataframe tbody tr th {\n",
       "        vertical-align: top;\n",
       "    }\n",
       "\n",
       "    .dataframe thead th {\n",
       "        text-align: right;\n",
       "    }\n",
       "</style>\n",
       "<table border=\"1\" class=\"dataframe\">\n",
       "  <thead>\n",
       "    <tr style=\"text-align: right;\">\n",
       "      <th></th>\n",
       "      <th>mean_fit_time</th>\n",
       "      <th>std_fit_time</th>\n",
       "      <th>mean_score_time</th>\n",
       "      <th>std_score_time</th>\n",
       "      <th>param_class_weight</th>\n",
       "      <th>param_min_samples_leaf</th>\n",
       "      <th>param_n_estimators</th>\n",
       "      <th>params</th>\n",
       "      <th>split0_test_precision</th>\n",
       "      <th>split1_test_precision</th>\n",
       "      <th>...</th>\n",
       "      <th>split1_test_roc_auc_score</th>\n",
       "      <th>split2_test_roc_auc_score</th>\n",
       "      <th>mean_test_roc_auc_score</th>\n",
       "      <th>std_test_roc_auc_score</th>\n",
       "      <th>rank_test_roc_auc_score</th>\n",
       "      <th>split0_train_roc_auc_score</th>\n",
       "      <th>split1_train_roc_auc_score</th>\n",
       "      <th>split2_train_roc_auc_score</th>\n",
       "      <th>mean_train_roc_auc_score</th>\n",
       "      <th>std_train_roc_auc_score</th>\n",
       "    </tr>\n",
       "  </thead>\n",
       "  <tbody>\n",
       "    <tr>\n",
       "      <th>0</th>\n",
       "      <td>8.571523</td>\n",
       "      <td>0.065327</td>\n",
       "      <td>0.168335</td>\n",
       "      <td>0.002214</td>\n",
       "      <td>{0: 1, 1: 2}</td>\n",
       "      <td>10</td>\n",
       "      <td>10</td>\n",
       "      <td>{'class_weight': {0: 1, 1: 2}, 'min_samples_le...</td>\n",
       "      <td>0.579710</td>\n",
       "      <td>0.571429</td>\n",
       "      <td>...</td>\n",
       "      <td>0.540398</td>\n",
       "      <td>0.532997</td>\n",
       "      <td>0.534850</td>\n",
       "      <td>0.003994</td>\n",
       "      <td>61</td>\n",
       "      <td>0.663765</td>\n",
       "      <td>0.661940</td>\n",
       "      <td>0.670614</td>\n",
       "      <td>0.665440</td>\n",
       "      <td>0.003734</td>\n",
       "    </tr>\n",
       "    <tr>\n",
       "      <th>1</th>\n",
       "      <td>16.639040</td>\n",
       "      <td>0.789574</td>\n",
       "      <td>0.231097</td>\n",
       "      <td>0.016850</td>\n",
       "      <td>{0: 1, 1: 2}</td>\n",
       "      <td>10</td>\n",
       "      <td>20</td>\n",
       "      <td>{'class_weight': {0: 1, 1: 2}, 'min_samples_le...</td>\n",
       "      <td>0.788235</td>\n",
       "      <td>0.650000</td>\n",
       "      <td>...</td>\n",
       "      <td>0.530973</td>\n",
       "      <td>0.527037</td>\n",
       "      <td>0.528452</td>\n",
       "      <td>0.001787</td>\n",
       "      <td>66</td>\n",
       "      <td>0.645483</td>\n",
       "      <td>0.650824</td>\n",
       "      <td>0.656339</td>\n",
       "      <td>0.650882</td>\n",
       "      <td>0.004432</td>\n",
       "    </tr>\n",
       "    <tr>\n",
       "      <th>2</th>\n",
       "      <td>24.292052</td>\n",
       "      <td>1.140086</td>\n",
       "      <td>0.277419</td>\n",
       "      <td>0.008584</td>\n",
       "      <td>{0: 1, 1: 2}</td>\n",
       "      <td>10</td>\n",
       "      <td>30</td>\n",
       "      <td>{'class_weight': {0: 1, 1: 2}, 'min_samples_le...</td>\n",
       "      <td>0.685393</td>\n",
       "      <td>0.640000</td>\n",
       "      <td>...</td>\n",
       "      <td>0.531689</td>\n",
       "      <td>0.529286</td>\n",
       "      <td>0.528465</td>\n",
       "      <td>0.003023</td>\n",
       "      <td>65</td>\n",
       "      <td>0.638189</td>\n",
       "      <td>0.643489</td>\n",
       "      <td>0.650303</td>\n",
       "      <td>0.643994</td>\n",
       "      <td>0.004958</td>\n",
       "    </tr>\n",
       "    <tr>\n",
       "      <th>3</th>\n",
       "      <td>32.729306</td>\n",
       "      <td>0.646636</td>\n",
       "      <td>0.343744</td>\n",
       "      <td>0.001209</td>\n",
       "      <td>{0: 1, 1: 2}</td>\n",
       "      <td>10</td>\n",
       "      <td>40</td>\n",
       "      <td>{'class_weight': {0: 1, 1: 2}, 'min_samples_le...</td>\n",
       "      <td>0.781609</td>\n",
       "      <td>0.663934</td>\n",
       "      <td>...</td>\n",
       "      <td>0.532271</td>\n",
       "      <td>0.528438</td>\n",
       "      <td>0.529477</td>\n",
       "      <td>0.001997</td>\n",
       "      <td>63</td>\n",
       "      <td>0.640474</td>\n",
       "      <td>0.640515</td>\n",
       "      <td>0.641772</td>\n",
       "      <td>0.640920</td>\n",
       "      <td>0.000603</td>\n",
       "    </tr>\n",
       "    <tr>\n",
       "      <th>4</th>\n",
       "      <td>41.007770</td>\n",
       "      <td>1.448256</td>\n",
       "      <td>0.415251</td>\n",
       "      <td>0.011162</td>\n",
       "      <td>{0: 1, 1: 2}</td>\n",
       "      <td>10</td>\n",
       "      <td>50</td>\n",
       "      <td>{'class_weight': {0: 1, 1: 2}, 'min_samples_le...</td>\n",
       "      <td>0.708861</td>\n",
       "      <td>0.634146</td>\n",
       "      <td>...</td>\n",
       "      <td>0.530850</td>\n",
       "      <td>0.525300</td>\n",
       "      <td>0.526227</td>\n",
       "      <td>0.003460</td>\n",
       "      <td>72</td>\n",
       "      <td>0.631652</td>\n",
       "      <td>0.638378</td>\n",
       "      <td>0.641624</td>\n",
       "      <td>0.637218</td>\n",
       "      <td>0.004153</td>\n",
       "    </tr>\n",
       "    <tr>\n",
       "      <th>...</th>\n",
       "      <td>...</td>\n",
       "      <td>...</td>\n",
       "      <td>...</td>\n",
       "      <td>...</td>\n",
       "      <td>...</td>\n",
       "      <td>...</td>\n",
       "      <td>...</td>\n",
       "      <td>...</td>\n",
       "      <td>...</td>\n",
       "      <td>...</td>\n",
       "      <td>...</td>\n",
       "      <td>...</td>\n",
       "      <td>...</td>\n",
       "      <td>...</td>\n",
       "      <td>...</td>\n",
       "      <td>...</td>\n",
       "      <td>...</td>\n",
       "      <td>...</td>\n",
       "      <td>...</td>\n",
       "      <td>...</td>\n",
       "      <td>...</td>\n",
       "    </tr>\n",
       "    <tr>\n",
       "      <th>67</th>\n",
       "      <td>15.997880</td>\n",
       "      <td>0.668186</td>\n",
       "      <td>0.236003</td>\n",
       "      <td>0.011345</td>\n",
       "      <td>{0: 1, 1: 7}</td>\n",
       "      <td>15</td>\n",
       "      <td>20</td>\n",
       "      <td>{'class_weight': {0: 1, 1: 7}, 'min_samples_le...</td>\n",
       "      <td>0.420168</td>\n",
       "      <td>0.426386</td>\n",
       "      <td>...</td>\n",
       "      <td>0.581193</td>\n",
       "      <td>0.566370</td>\n",
       "      <td>0.573366</td>\n",
       "      <td>0.006080</td>\n",
       "      <td>2</td>\n",
       "      <td>0.870693</td>\n",
       "      <td>0.875972</td>\n",
       "      <td>0.885786</td>\n",
       "      <td>0.877484</td>\n",
       "      <td>0.006254</td>\n",
       "    </tr>\n",
       "    <tr>\n",
       "      <th>68</th>\n",
       "      <td>22.547865</td>\n",
       "      <td>1.074033</td>\n",
       "      <td>0.303361</td>\n",
       "      <td>0.006763</td>\n",
       "      <td>{0: 1, 1: 7}</td>\n",
       "      <td>15</td>\n",
       "      <td>30</td>\n",
       "      <td>{'class_weight': {0: 1, 1: 7}, 'min_samples_le...</td>\n",
       "      <td>0.450472</td>\n",
       "      <td>0.444915</td>\n",
       "      <td>...</td>\n",
       "      <td>0.577299</td>\n",
       "      <td>0.565675</td>\n",
       "      <td>0.571165</td>\n",
       "      <td>0.004767</td>\n",
       "      <td>5</td>\n",
       "      <td>0.890580</td>\n",
       "      <td>0.891812</td>\n",
       "      <td>0.884820</td>\n",
       "      <td>0.889071</td>\n",
       "      <td>0.003047</td>\n",
       "    </tr>\n",
       "    <tr>\n",
       "      <th>69</th>\n",
       "      <td>30.051928</td>\n",
       "      <td>1.233265</td>\n",
       "      <td>0.355337</td>\n",
       "      <td>0.006130</td>\n",
       "      <td>{0: 1, 1: 7}</td>\n",
       "      <td>15</td>\n",
       "      <td>40</td>\n",
       "      <td>{'class_weight': {0: 1, 1: 7}, 'min_samples_le...</td>\n",
       "      <td>0.481481</td>\n",
       "      <td>0.460526</td>\n",
       "      <td>...</td>\n",
       "      <td>0.577953</td>\n",
       "      <td>0.574160</td>\n",
       "      <td>0.573458</td>\n",
       "      <td>0.003987</td>\n",
       "      <td>1</td>\n",
       "      <td>0.890826</td>\n",
       "      <td>0.895809</td>\n",
       "      <td>0.891618</td>\n",
       "      <td>0.892751</td>\n",
       "      <td>0.002186</td>\n",
       "    </tr>\n",
       "    <tr>\n",
       "      <th>70</th>\n",
       "      <td>35.887946</td>\n",
       "      <td>1.521544</td>\n",
       "      <td>0.383999</td>\n",
       "      <td>0.015520</td>\n",
       "      <td>{0: 1, 1: 7}</td>\n",
       "      <td>15</td>\n",
       "      <td>50</td>\n",
       "      <td>{'class_weight': {0: 1, 1: 7}, 'min_samples_le...</td>\n",
       "      <td>0.509642</td>\n",
       "      <td>0.479319</td>\n",
       "      <td>...</td>\n",
       "      <td>0.573813</td>\n",
       "      <td>0.567434</td>\n",
       "      <td>0.570501</td>\n",
       "      <td>0.002610</td>\n",
       "      <td>7</td>\n",
       "      <td>0.901109</td>\n",
       "      <td>0.895344</td>\n",
       "      <td>0.899387</td>\n",
       "      <td>0.898613</td>\n",
       "      <td>0.002416</td>\n",
       "    </tr>\n",
       "    <tr>\n",
       "      <th>71</th>\n",
       "      <td>60.003339</td>\n",
       "      <td>1.439993</td>\n",
       "      <td>0.555334</td>\n",
       "      <td>0.010659</td>\n",
       "      <td>{0: 1, 1: 7}</td>\n",
       "      <td>15</td>\n",
       "      <td>100</td>\n",
       "      <td>{'class_weight': {0: 1, 1: 7}, 'min_samples_le...</td>\n",
       "      <td>0.538012</td>\n",
       "      <td>0.509756</td>\n",
       "      <td>...</td>\n",
       "      <td>0.579374</td>\n",
       "      <td>0.561985</td>\n",
       "      <td>0.570671</td>\n",
       "      <td>0.007099</td>\n",
       "      <td>6</td>\n",
       "      <td>0.907028</td>\n",
       "      <td>0.912522</td>\n",
       "      <td>0.909609</td>\n",
       "      <td>0.909720</td>\n",
       "      <td>0.002244</td>\n",
       "    </tr>\n",
       "  </tbody>\n",
       "</table>\n",
       "<p>72 rows × 52 columns</p>\n",
       "</div>"
      ],
      "text/plain": [
       "    mean_fit_time  std_fit_time  mean_score_time  std_score_time  \\\n",
       "0        8.571523      0.065327         0.168335        0.002214   \n",
       "1       16.639040      0.789574         0.231097        0.016850   \n",
       "2       24.292052      1.140086         0.277419        0.008584   \n",
       "3       32.729306      0.646636         0.343744        0.001209   \n",
       "4       41.007770      1.448256         0.415251        0.011162   \n",
       "..            ...           ...              ...             ...   \n",
       "67      15.997880      0.668186         0.236003        0.011345   \n",
       "68      22.547865      1.074033         0.303361        0.006763   \n",
       "69      30.051928      1.233265         0.355337        0.006130   \n",
       "70      35.887946      1.521544         0.383999        0.015520   \n",
       "71      60.003339      1.439993         0.555334        0.010659   \n",
       "\n",
       "   param_class_weight param_min_samples_leaf param_n_estimators  \\\n",
       "0        {0: 1, 1: 2}                     10                 10   \n",
       "1        {0: 1, 1: 2}                     10                 20   \n",
       "2        {0: 1, 1: 2}                     10                 30   \n",
       "3        {0: 1, 1: 2}                     10                 40   \n",
       "4        {0: 1, 1: 2}                     10                 50   \n",
       "..                ...                    ...                ...   \n",
       "67       {0: 1, 1: 7}                     15                 20   \n",
       "68       {0: 1, 1: 7}                     15                 30   \n",
       "69       {0: 1, 1: 7}                     15                 40   \n",
       "70       {0: 1, 1: 7}                     15                 50   \n",
       "71       {0: 1, 1: 7}                     15                100   \n",
       "\n",
       "                                               params  split0_test_precision  \\\n",
       "0   {'class_weight': {0: 1, 1: 2}, 'min_samples_le...               0.579710   \n",
       "1   {'class_weight': {0: 1, 1: 2}, 'min_samples_le...               0.788235   \n",
       "2   {'class_weight': {0: 1, 1: 2}, 'min_samples_le...               0.685393   \n",
       "3   {'class_weight': {0: 1, 1: 2}, 'min_samples_le...               0.781609   \n",
       "4   {'class_weight': {0: 1, 1: 2}, 'min_samples_le...               0.708861   \n",
       "..                                                ...                    ...   \n",
       "67  {'class_weight': {0: 1, 1: 7}, 'min_samples_le...               0.420168   \n",
       "68  {'class_weight': {0: 1, 1: 7}, 'min_samples_le...               0.450472   \n",
       "69  {'class_weight': {0: 1, 1: 7}, 'min_samples_le...               0.481481   \n",
       "70  {'class_weight': {0: 1, 1: 7}, 'min_samples_le...               0.509642   \n",
       "71  {'class_weight': {0: 1, 1: 7}, 'min_samples_le...               0.538012   \n",
       "\n",
       "    split1_test_precision  ...  split1_test_roc_auc_score  \\\n",
       "0                0.571429  ...                   0.540398   \n",
       "1                0.650000  ...                   0.530973   \n",
       "2                0.640000  ...                   0.531689   \n",
       "3                0.663934  ...                   0.532271   \n",
       "4                0.634146  ...                   0.530850   \n",
       "..                    ...  ...                        ...   \n",
       "67               0.426386  ...                   0.581193   \n",
       "68               0.444915  ...                   0.577299   \n",
       "69               0.460526  ...                   0.577953   \n",
       "70               0.479319  ...                   0.573813   \n",
       "71               0.509756  ...                   0.579374   \n",
       "\n",
       "    split2_test_roc_auc_score  mean_test_roc_auc_score  \\\n",
       "0                    0.532997                 0.534850   \n",
       "1                    0.527037                 0.528452   \n",
       "2                    0.529286                 0.528465   \n",
       "3                    0.528438                 0.529477   \n",
       "4                    0.525300                 0.526227   \n",
       "..                        ...                      ...   \n",
       "67                   0.566370                 0.573366   \n",
       "68                   0.565675                 0.571165   \n",
       "69                   0.574160                 0.573458   \n",
       "70                   0.567434                 0.570501   \n",
       "71                   0.561985                 0.570671   \n",
       "\n",
       "    std_test_roc_auc_score  rank_test_roc_auc_score  \\\n",
       "0                 0.003994                       61   \n",
       "1                 0.001787                       66   \n",
       "2                 0.003023                       65   \n",
       "3                 0.001997                       63   \n",
       "4                 0.003460                       72   \n",
       "..                     ...                      ...   \n",
       "67                0.006080                        2   \n",
       "68                0.004767                        5   \n",
       "69                0.003987                        1   \n",
       "70                0.002610                        7   \n",
       "71                0.007099                        6   \n",
       "\n",
       "    split0_train_roc_auc_score  split1_train_roc_auc_score  \\\n",
       "0                     0.663765                    0.661940   \n",
       "1                     0.645483                    0.650824   \n",
       "2                     0.638189                    0.643489   \n",
       "3                     0.640474                    0.640515   \n",
       "4                     0.631652                    0.638378   \n",
       "..                         ...                         ...   \n",
       "67                    0.870693                    0.875972   \n",
       "68                    0.890580                    0.891812   \n",
       "69                    0.890826                    0.895809   \n",
       "70                    0.901109                    0.895344   \n",
       "71                    0.907028                    0.912522   \n",
       "\n",
       "    split2_train_roc_auc_score  mean_train_roc_auc_score  \\\n",
       "0                     0.670614                  0.665440   \n",
       "1                     0.656339                  0.650882   \n",
       "2                     0.650303                  0.643994   \n",
       "3                     0.641772                  0.640920   \n",
       "4                     0.641624                  0.637218   \n",
       "..                         ...                       ...   \n",
       "67                    0.885786                  0.877484   \n",
       "68                    0.884820                  0.889071   \n",
       "69                    0.891618                  0.892751   \n",
       "70                    0.899387                  0.898613   \n",
       "71                    0.909609                  0.909720   \n",
       "\n",
       "    std_train_roc_auc_score  \n",
       "0                  0.003734  \n",
       "1                  0.004432  \n",
       "2                  0.004958  \n",
       "3                  0.000603  \n",
       "4                  0.004153  \n",
       "..                      ...  \n",
       "67                 0.006254  \n",
       "68                 0.003047  \n",
       "69                 0.002186  \n",
       "70                 0.002416  \n",
       "71                 0.002244  \n",
       "\n",
       "[72 rows x 52 columns]"
      ]
     },
     "execution_count": 65,
     "metadata": {},
     "output_type": "execute_result"
    }
   ],
   "source": [
    "results"
   ]
  },
  {
   "cell_type": "code",
   "execution_count": null,
   "id": "ab830a4e-3b8f-4383-9699-b34c2b74923f",
   "metadata": {},
   "outputs": [],
   "source": []
  },
  {
   "cell_type": "code",
   "execution_count": null,
   "id": "dc2e1ad7-167b-4cd7-88f2-8f5e5fc02e0a",
   "metadata": {},
   "outputs": [],
   "source": []
  },
  {
   "cell_type": "markdown",
   "id": "45e17872-642f-4fdc-b2e1-0242f71f99f5",
   "metadata": {},
   "source": [
    "# building Different classifiers for the model using the different data things"
   ]
  },
  {
   "cell_type": "code",
   "execution_count": 16,
   "id": "0ca221f1-c8c8-41de-b7cd-55bb3f14b11c",
   "metadata": {},
   "outputs": [
    {
     "data": {
      "text/html": [
       "<div>\n",
       "<style scoped>\n",
       "    .dataframe tbody tr th:only-of-type {\n",
       "        vertical-align: middle;\n",
       "    }\n",
       "\n",
       "    .dataframe tbody tr th {\n",
       "        vertical-align: top;\n",
       "    }\n",
       "\n",
       "    .dataframe thead th {\n",
       "        text-align: right;\n",
       "    }\n",
       "</style>\n",
       "<table border=\"1\" class=\"dataframe\">\n",
       "  <thead>\n",
       "    <tr style=\"text-align: right;\">\n",
       "      <th></th>\n",
       "      <th>2014-01-01</th>\n",
       "      <th>2014-01-02</th>\n",
       "      <th>2014-01-03</th>\n",
       "      <th>2014-01-04</th>\n",
       "      <th>2014-01-05</th>\n",
       "      <th>2014-01-06</th>\n",
       "      <th>2014-01-07</th>\n",
       "      <th>2014-01-08</th>\n",
       "      <th>2014-01-09</th>\n",
       "      <th>2014-01-10</th>\n",
       "      <th>...</th>\n",
       "      <th>2016-10-22</th>\n",
       "      <th>2016-10-23</th>\n",
       "      <th>2016-10-24</th>\n",
       "      <th>2016-10-25</th>\n",
       "      <th>2016-10-26</th>\n",
       "      <th>2016-10-27</th>\n",
       "      <th>2016-10-28</th>\n",
       "      <th>2016-10-29</th>\n",
       "      <th>2016-10-30</th>\n",
       "      <th>2016-10-31</th>\n",
       "    </tr>\n",
       "  </thead>\n",
       "  <tbody>\n",
       "    <tr>\n",
       "      <th>0</th>\n",
       "      <td>0.000000</td>\n",
       "      <td>0.000000</td>\n",
       "      <td>0.000000</td>\n",
       "      <td>0.000000</td>\n",
       "      <td>0.000000</td>\n",
       "      <td>0.000000</td>\n",
       "      <td>0.000000</td>\n",
       "      <td>0.000000</td>\n",
       "      <td>0.000000</td>\n",
       "      <td>0.000000</td>\n",
       "      <td>...</td>\n",
       "      <td>0.264158</td>\n",
       "      <td>0.296902</td>\n",
       "      <td>0.297637</td>\n",
       "      <td>0.350616</td>\n",
       "      <td>0.201613</td>\n",
       "      <td>0.321919</td>\n",
       "      <td>0.342154</td>\n",
       "      <td>0.277402</td>\n",
       "      <td>0.337003</td>\n",
       "      <td>0.247970</td>\n",
       "    </tr>\n",
       "    <tr>\n",
       "      <th>1</th>\n",
       "      <td>0.000000</td>\n",
       "      <td>0.000000</td>\n",
       "      <td>0.000000</td>\n",
       "      <td>0.000000</td>\n",
       "      <td>0.000000</td>\n",
       "      <td>0.000000</td>\n",
       "      <td>0.000000</td>\n",
       "      <td>0.000000</td>\n",
       "      <td>0.000000</td>\n",
       "      <td>0.000000</td>\n",
       "      <td>...</td>\n",
       "      <td>0.333740</td>\n",
       "      <td>0.547089</td>\n",
       "      <td>0.543432</td>\n",
       "      <td>0.527583</td>\n",
       "      <td>0.653459</td>\n",
       "      <td>0.581835</td>\n",
       "      <td>0.565681</td>\n",
       "      <td>0.495276</td>\n",
       "      <td>0.432795</td>\n",
       "      <td>0.416336</td>\n",
       "    </tr>\n",
       "    <tr>\n",
       "      <th>2</th>\n",
       "      <td>0.000000</td>\n",
       "      <td>0.000000</td>\n",
       "      <td>0.000000</td>\n",
       "      <td>0.000000</td>\n",
       "      <td>0.000000</td>\n",
       "      <td>0.000000</td>\n",
       "      <td>0.000000</td>\n",
       "      <td>0.000000</td>\n",
       "      <td>0.000000</td>\n",
       "      <td>0.000000</td>\n",
       "      <td>...</td>\n",
       "      <td>0.242798</td>\n",
       "      <td>0.286581</td>\n",
       "      <td>0.327142</td>\n",
       "      <td>0.282600</td>\n",
       "      <td>0.371304</td>\n",
       "      <td>0.394049</td>\n",
       "      <td>0.340220</td>\n",
       "      <td>0.365049</td>\n",
       "      <td>0.274071</td>\n",
       "      <td>0.222138</td>\n",
       "    </tr>\n",
       "    <tr>\n",
       "      <th>3</th>\n",
       "      <td>0.048145</td>\n",
       "      <td>0.112494</td>\n",
       "      <td>0.144199</td>\n",
       "      <td>0.058008</td>\n",
       "      <td>0.064819</td>\n",
       "      <td>0.105683</td>\n",
       "      <td>0.091123</td>\n",
       "      <td>0.066463</td>\n",
       "      <td>0.062940</td>\n",
       "      <td>0.060357</td>\n",
       "      <td>...</td>\n",
       "      <td>0.313762</td>\n",
       "      <td>0.220056</td>\n",
       "      <td>0.178957</td>\n",
       "      <td>0.123532</td>\n",
       "      <td>0.123297</td>\n",
       "      <td>0.138093</td>\n",
       "      <td>0.156646</td>\n",
       "      <td>0.235791</td>\n",
       "      <td>0.211602</td>\n",
       "      <td>0.184829</td>\n",
       "    </tr>\n",
       "    <tr>\n",
       "      <th>4</th>\n",
       "      <td>0.000000</td>\n",
       "      <td>0.000000</td>\n",
       "      <td>0.000000</td>\n",
       "      <td>0.000000</td>\n",
       "      <td>0.000000</td>\n",
       "      <td>0.000000</td>\n",
       "      <td>0.000000</td>\n",
       "      <td>0.000000</td>\n",
       "      <td>0.000000</td>\n",
       "      <td>0.000000</td>\n",
       "      <td>...</td>\n",
       "      <td>0.147734</td>\n",
       "      <td>0.174809</td>\n",
       "      <td>0.172454</td>\n",
       "      <td>0.043555</td>\n",
       "      <td>0.024132</td>\n",
       "      <td>0.024720</td>\n",
       "      <td>0.112419</td>\n",
       "      <td>0.024720</td>\n",
       "      <td>0.022366</td>\n",
       "      <td>0.035903</td>\n",
       "    </tr>\n",
       "    <tr>\n",
       "      <th>...</th>\n",
       "      <td>...</td>\n",
       "      <td>...</td>\n",
       "      <td>...</td>\n",
       "      <td>...</td>\n",
       "      <td>...</td>\n",
       "      <td>...</td>\n",
       "      <td>...</td>\n",
       "      <td>...</td>\n",
       "      <td>...</td>\n",
       "      <td>...</td>\n",
       "      <td>...</td>\n",
       "      <td>...</td>\n",
       "      <td>...</td>\n",
       "      <td>...</td>\n",
       "      <td>...</td>\n",
       "      <td>...</td>\n",
       "      <td>...</td>\n",
       "      <td>...</td>\n",
       "      <td>...</td>\n",
       "      <td>...</td>\n",
       "      <td>...</td>\n",
       "    </tr>\n",
       "    <tr>\n",
       "      <th>40251</th>\n",
       "      <td>0.000000</td>\n",
       "      <td>0.000000</td>\n",
       "      <td>0.000000</td>\n",
       "      <td>0.000000</td>\n",
       "      <td>0.000000</td>\n",
       "      <td>0.000000</td>\n",
       "      <td>0.000000</td>\n",
       "      <td>0.000000</td>\n",
       "      <td>0.000000</td>\n",
       "      <td>0.000000</td>\n",
       "      <td>...</td>\n",
       "      <td>0.288360</td>\n",
       "      <td>0.273369</td>\n",
       "      <td>0.242504</td>\n",
       "      <td>0.265432</td>\n",
       "      <td>0.263668</td>\n",
       "      <td>0.249559</td>\n",
       "      <td>0.223986</td>\n",
       "      <td>0.299824</td>\n",
       "      <td>0.316578</td>\n",
       "      <td>0.223986</td>\n",
       "    </tr>\n",
       "    <tr>\n",
       "      <th>40252</th>\n",
       "      <td>0.164334</td>\n",
       "      <td>0.000000</td>\n",
       "      <td>0.000000</td>\n",
       "      <td>0.348144</td>\n",
       "      <td>0.368229</td>\n",
       "      <td>0.353621</td>\n",
       "      <td>0.186853</td>\n",
       "      <td>0.245892</td>\n",
       "      <td>0.345709</td>\n",
       "      <td>0.267194</td>\n",
       "      <td>...</td>\n",
       "      <td>0.233719</td>\n",
       "      <td>0.402921</td>\n",
       "      <td>0.189897</td>\n",
       "      <td>0.314060</td>\n",
       "      <td>0.220329</td>\n",
       "      <td>0.282410</td>\n",
       "      <td>0.225806</td>\n",
       "      <td>0.378576</td>\n",
       "      <td>0.368229</td>\n",
       "      <td>0.290323</td>\n",
       "    </tr>\n",
       "    <tr>\n",
       "      <th>40253</th>\n",
       "      <td>0.048013</td>\n",
       "      <td>0.096026</td>\n",
       "      <td>0.076159</td>\n",
       "      <td>0.081126</td>\n",
       "      <td>0.127483</td>\n",
       "      <td>0.114238</td>\n",
       "      <td>0.073675</td>\n",
       "      <td>0.057947</td>\n",
       "      <td>0.101821</td>\n",
       "      <td>0.069536</td>\n",
       "      <td>...</td>\n",
       "      <td>0.081954</td>\n",
       "      <td>0.050497</td>\n",
       "      <td>0.053808</td>\n",
       "      <td>0.045530</td>\n",
       "      <td>0.040563</td>\n",
       "      <td>0.042219</td>\n",
       "      <td>0.065397</td>\n",
       "      <td>0.054636</td>\n",
       "      <td>0.032285</td>\n",
       "      <td>0.053808</td>\n",
       "    </tr>\n",
       "    <tr>\n",
       "      <th>40254</th>\n",
       "      <td>0.349472</td>\n",
       "      <td>0.313470</td>\n",
       "      <td>0.398924</td>\n",
       "      <td>0.355680</td>\n",
       "      <td>0.347610</td>\n",
       "      <td>0.361680</td>\n",
       "      <td>0.369543</td>\n",
       "      <td>0.496379</td>\n",
       "      <td>0.255328</td>\n",
       "      <td>0.286365</td>\n",
       "      <td>...</td>\n",
       "      <td>0.323609</td>\n",
       "      <td>0.340989</td>\n",
       "      <td>0.269812</td>\n",
       "      <td>0.214980</td>\n",
       "      <td>0.248293</td>\n",
       "      <td>0.230706</td>\n",
       "      <td>0.252845</td>\n",
       "      <td>0.272295</td>\n",
       "      <td>0.275812</td>\n",
       "      <td>0.214980</td>\n",
       "    </tr>\n",
       "    <tr>\n",
       "      <th>40255</th>\n",
       "      <td>0.000000</td>\n",
       "      <td>0.000000</td>\n",
       "      <td>0.000000</td>\n",
       "      <td>0.000000</td>\n",
       "      <td>0.000000</td>\n",
       "      <td>0.000000</td>\n",
       "      <td>0.000000</td>\n",
       "      <td>0.000000</td>\n",
       "      <td>0.000000</td>\n",
       "      <td>0.000000</td>\n",
       "      <td>...</td>\n",
       "      <td>0.385120</td>\n",
       "      <td>0.625091</td>\n",
       "      <td>0.304522</td>\n",
       "      <td>0.316557</td>\n",
       "      <td>0.233042</td>\n",
       "      <td>0.290299</td>\n",
       "      <td>0.296499</td>\n",
       "      <td>0.419402</td>\n",
       "      <td>0.261123</td>\n",
       "      <td>0.191466</td>\n",
       "    </tr>\n",
       "  </tbody>\n",
       "</table>\n",
       "<p>40256 rows × 1034 columns</p>\n",
       "</div>"
      ],
      "text/plain": [
       "       2014-01-01  2014-01-02  2014-01-03  2014-01-04  2014-01-05  2014-01-06  \\\n",
       "0        0.000000    0.000000    0.000000    0.000000    0.000000    0.000000   \n",
       "1        0.000000    0.000000    0.000000    0.000000    0.000000    0.000000   \n",
       "2        0.000000    0.000000    0.000000    0.000000    0.000000    0.000000   \n",
       "3        0.048145    0.112494    0.144199    0.058008    0.064819    0.105683   \n",
       "4        0.000000    0.000000    0.000000    0.000000    0.000000    0.000000   \n",
       "...           ...         ...         ...         ...         ...         ...   \n",
       "40251    0.000000    0.000000    0.000000    0.000000    0.000000    0.000000   \n",
       "40252    0.164334    0.000000    0.000000    0.348144    0.368229    0.353621   \n",
       "40253    0.048013    0.096026    0.076159    0.081126    0.127483    0.114238   \n",
       "40254    0.349472    0.313470    0.398924    0.355680    0.347610    0.361680   \n",
       "40255    0.000000    0.000000    0.000000    0.000000    0.000000    0.000000   \n",
       "\n",
       "       2014-01-07  2014-01-08  2014-01-09  2014-01-10  ...  2016-10-22  \\\n",
       "0        0.000000    0.000000    0.000000    0.000000  ...    0.264158   \n",
       "1        0.000000    0.000000    0.000000    0.000000  ...    0.333740   \n",
       "2        0.000000    0.000000    0.000000    0.000000  ...    0.242798   \n",
       "3        0.091123    0.066463    0.062940    0.060357  ...    0.313762   \n",
       "4        0.000000    0.000000    0.000000    0.000000  ...    0.147734   \n",
       "...           ...         ...         ...         ...  ...         ...   \n",
       "40251    0.000000    0.000000    0.000000    0.000000  ...    0.288360   \n",
       "40252    0.186853    0.245892    0.345709    0.267194  ...    0.233719   \n",
       "40253    0.073675    0.057947    0.101821    0.069536  ...    0.081954   \n",
       "40254    0.369543    0.496379    0.255328    0.286365  ...    0.323609   \n",
       "40255    0.000000    0.000000    0.000000    0.000000  ...    0.385120   \n",
       "\n",
       "       2016-10-23  2016-10-24  2016-10-25  2016-10-26  2016-10-27  2016-10-28  \\\n",
       "0        0.296902    0.297637    0.350616    0.201613    0.321919    0.342154   \n",
       "1        0.547089    0.543432    0.527583    0.653459    0.581835    0.565681   \n",
       "2        0.286581    0.327142    0.282600    0.371304    0.394049    0.340220   \n",
       "3        0.220056    0.178957    0.123532    0.123297    0.138093    0.156646   \n",
       "4        0.174809    0.172454    0.043555    0.024132    0.024720    0.112419   \n",
       "...           ...         ...         ...         ...         ...         ...   \n",
       "40251    0.273369    0.242504    0.265432    0.263668    0.249559    0.223986   \n",
       "40252    0.402921    0.189897    0.314060    0.220329    0.282410    0.225806   \n",
       "40253    0.050497    0.053808    0.045530    0.040563    0.042219    0.065397   \n",
       "40254    0.340989    0.269812    0.214980    0.248293    0.230706    0.252845   \n",
       "40255    0.625091    0.304522    0.316557    0.233042    0.290299    0.296499   \n",
       "\n",
       "       2016-10-29  2016-10-30  2016-10-31  \n",
       "0        0.277402    0.337003    0.247970  \n",
       "1        0.495276    0.432795    0.416336  \n",
       "2        0.365049    0.274071    0.222138  \n",
       "3        0.235791    0.211602    0.184829  \n",
       "4        0.024720    0.022366    0.035903  \n",
       "...           ...         ...         ...  \n",
       "40251    0.299824    0.316578    0.223986  \n",
       "40252    0.378576    0.368229    0.290323  \n",
       "40253    0.054636    0.032285    0.053808  \n",
       "40254    0.272295    0.275812    0.214980  \n",
       "40255    0.419402    0.261123    0.191466  \n",
       "\n",
       "[40256 rows x 1034 columns]"
      ]
     },
     "execution_count": 16,
     "metadata": {},
     "output_type": "execute_result"
    }
   ],
   "source": [
    "X"
   ]
  },
  {
   "cell_type": "code",
   "execution_count": 17,
   "id": "c1de932e-98de-4375-ae3e-5f9b41808faa",
   "metadata": {},
   "outputs": [],
   "source": [
    "X = np.array(X.values)"
   ]
  },
  {
   "cell_type": "code",
   "execution_count": 18,
   "id": "91b26cc3-5be4-4121-a9ca-4929cd7c8958",
   "metadata": {},
   "outputs": [],
   "source": [
    "y = np.array(y.values)"
   ]
  },
  {
   "cell_type": "code",
   "execution_count": null,
   "id": "b15be58e-b71e-4fcb-b6c1-31597f42f13e",
   "metadata": {},
   "outputs": [],
   "source": []
  },
  {
   "cell_type": "code",
   "execution_count": null,
   "id": "b395e671-5e32-4f10-b199-1a8aea14b036",
   "metadata": {},
   "outputs": [],
   "source": []
  },
  {
   "cell_type": "markdown",
   "id": "187c4e63-0aac-434b-9488-097243d5c38a",
   "metadata": {},
   "source": [
    "## spliting the data 80 @ 20 without smote"
   ]
  },
  {
   "cell_type": "code",
   "execution_count": null,
   "id": "720b8e41-98ff-4290-8129-a9c422daf8e7",
   "metadata": {},
   "outputs": [],
   "source": []
  },
  {
   "cell_type": "code",
   "execution_count": 19,
   "id": "7687d8f2-dceb-4e69-bfdb-71ca637de6d1",
   "metadata": {},
   "outputs": [],
   "source": [
    " X_train, X_test, y_train, y_test = train_test_split(X, y, test_size=0.2, random_state=0)"
   ]
  },
  {
   "cell_type": "code",
   "execution_count": 20,
   "id": "be15c314-2e5f-4177-b981-2118e0a1376f",
   "metadata": {},
   "outputs": [],
   "source": [
    "model_rand = RandomForestClassifier(n_jobs=-1)"
   ]
  },
  {
   "cell_type": "code",
   "execution_count": 21,
   "id": "b15b5364-7974-41de-a166-6eac1961da44",
   "metadata": {},
   "outputs": [
    {
     "data": {
      "text/plain": [
       "{'bootstrap': True,\n",
       " 'ccp_alpha': 0.0,\n",
       " 'class_weight': None,\n",
       " 'criterion': 'gini',\n",
       " 'max_depth': None,\n",
       " 'max_features': 'sqrt',\n",
       " 'max_leaf_nodes': None,\n",
       " 'max_samples': None,\n",
       " 'min_impurity_decrease': 0.0,\n",
       " 'min_samples_leaf': 1,\n",
       " 'min_samples_split': 2,\n",
       " 'min_weight_fraction_leaf': 0.0,\n",
       " 'n_estimators': 100,\n",
       " 'n_jobs': -1,\n",
       " 'oob_score': False,\n",
       " 'random_state': None,\n",
       " 'verbose': 0,\n",
       " 'warm_start': False}"
      ]
     },
     "execution_count": 21,
     "metadata": {},
     "output_type": "execute_result"
    }
   ],
   "source": [
    "model_rand.get_params()"
   ]
  },
  {
   "cell_type": "code",
   "execution_count": null,
   "id": "51fd1d29-f42d-4f59-8fba-182c317afea0",
   "metadata": {},
   "outputs": [],
   "source": []
  },
  {
   "cell_type": "code",
   "execution_count": 22,
   "id": "21a1ac96-6b45-4aca-b25d-e945a36e2d9b",
   "metadata": {},
   "outputs": [
    {
     "data": {
      "text/html": [
       "<style>#sk-container-id-1 {color: black;background-color: white;}#sk-container-id-1 pre{padding: 0;}#sk-container-id-1 div.sk-toggleable {background-color: white;}#sk-container-id-1 label.sk-toggleable__label {cursor: pointer;display: block;width: 100%;margin-bottom: 0;padding: 0.3em;box-sizing: border-box;text-align: center;}#sk-container-id-1 label.sk-toggleable__label-arrow:before {content: \"▸\";float: left;margin-right: 0.25em;color: #696969;}#sk-container-id-1 label.sk-toggleable__label-arrow:hover:before {color: black;}#sk-container-id-1 div.sk-estimator:hover label.sk-toggleable__label-arrow:before {color: black;}#sk-container-id-1 div.sk-toggleable__content {max-height: 0;max-width: 0;overflow: hidden;text-align: left;background-color: #f0f8ff;}#sk-container-id-1 div.sk-toggleable__content pre {margin: 0.2em;color: black;border-radius: 0.25em;background-color: #f0f8ff;}#sk-container-id-1 input.sk-toggleable__control:checked~div.sk-toggleable__content {max-height: 200px;max-width: 100%;overflow: auto;}#sk-container-id-1 input.sk-toggleable__control:checked~label.sk-toggleable__label-arrow:before {content: \"▾\";}#sk-container-id-1 div.sk-estimator input.sk-toggleable__control:checked~label.sk-toggleable__label {background-color: #d4ebff;}#sk-container-id-1 div.sk-label input.sk-toggleable__control:checked~label.sk-toggleable__label {background-color: #d4ebff;}#sk-container-id-1 input.sk-hidden--visually {border: 0;clip: rect(1px 1px 1px 1px);clip: rect(1px, 1px, 1px, 1px);height: 1px;margin: -1px;overflow: hidden;padding: 0;position: absolute;width: 1px;}#sk-container-id-1 div.sk-estimator {font-family: monospace;background-color: #f0f8ff;border: 1px dotted black;border-radius: 0.25em;box-sizing: border-box;margin-bottom: 0.5em;}#sk-container-id-1 div.sk-estimator:hover {background-color: #d4ebff;}#sk-container-id-1 div.sk-parallel-item::after {content: \"\";width: 100%;border-bottom: 1px solid gray;flex-grow: 1;}#sk-container-id-1 div.sk-label:hover label.sk-toggleable__label {background-color: #d4ebff;}#sk-container-id-1 div.sk-serial::before {content: \"\";position: absolute;border-left: 1px solid gray;box-sizing: border-box;top: 0;bottom: 0;left: 50%;z-index: 0;}#sk-container-id-1 div.sk-serial {display: flex;flex-direction: column;align-items: center;background-color: white;padding-right: 0.2em;padding-left: 0.2em;position: relative;}#sk-container-id-1 div.sk-item {position: relative;z-index: 1;}#sk-container-id-1 div.sk-parallel {display: flex;align-items: stretch;justify-content: center;background-color: white;position: relative;}#sk-container-id-1 div.sk-item::before, #sk-container-id-1 div.sk-parallel-item::before {content: \"\";position: absolute;border-left: 1px solid gray;box-sizing: border-box;top: 0;bottom: 0;left: 50%;z-index: -1;}#sk-container-id-1 div.sk-parallel-item {display: flex;flex-direction: column;z-index: 1;position: relative;background-color: white;}#sk-container-id-1 div.sk-parallel-item:first-child::after {align-self: flex-end;width: 50%;}#sk-container-id-1 div.sk-parallel-item:last-child::after {align-self: flex-start;width: 50%;}#sk-container-id-1 div.sk-parallel-item:only-child::after {width: 0;}#sk-container-id-1 div.sk-dashed-wrapped {border: 1px dashed gray;margin: 0 0.4em 0.5em 0.4em;box-sizing: border-box;padding-bottom: 0.4em;background-color: white;}#sk-container-id-1 div.sk-label label {font-family: monospace;font-weight: bold;display: inline-block;line-height: 1.2em;}#sk-container-id-1 div.sk-label-container {text-align: center;}#sk-container-id-1 div.sk-container {/* jupyter's `normalize.less` sets `[hidden] { display: none; }` but bootstrap.min.css set `[hidden] { display: none !important; }` so we also need the `!important` here to be able to override the default hidden behavior on the sphinx rendered scikit-learn.org. See: https://github.com/scikit-learn/scikit-learn/issues/21755 */display: inline-block !important;position: relative;}#sk-container-id-1 div.sk-text-repr-fallback {display: none;}</style><div id=\"sk-container-id-1\" class=\"sk-top-container\"><div class=\"sk-text-repr-fallback\"><pre>RandomForestClassifier(n_jobs=-1)</pre><b>In a Jupyter environment, please rerun this cell to show the HTML representation or trust the notebook. <br />On GitHub, the HTML representation is unable to render, please try loading this page with nbviewer.org.</b></div><div class=\"sk-container\" hidden><div class=\"sk-item\"><div class=\"sk-estimator sk-toggleable\"><input class=\"sk-toggleable__control sk-hidden--visually\" id=\"sk-estimator-id-1\" type=\"checkbox\" checked><label for=\"sk-estimator-id-1\" class=\"sk-toggleable__label sk-toggleable__label-arrow\">RandomForestClassifier</label><div class=\"sk-toggleable__content\"><pre>RandomForestClassifier(n_jobs=-1)</pre></div></div></div></div></div>"
      ],
      "text/plain": [
       "RandomForestClassifier(n_jobs=-1)"
      ]
     },
     "execution_count": 22,
     "metadata": {},
     "output_type": "execute_result"
    }
   ],
   "source": [
    "model_rand.fit(X_train,y_train)"
   ]
  },
  {
   "cell_type": "code",
   "execution_count": 23,
   "id": "55d54c00-084c-4d43-93b4-22a964402db3",
   "metadata": {},
   "outputs": [],
   "source": [
    "y_pred = model_rand.predict(X_test)"
   ]
  },
  {
   "cell_type": "code",
   "execution_count": 24,
   "id": "801069e0-af4f-4a18-93e9-e1a5b7c953e8",
   "metadata": {},
   "outputs": [
    {
     "name": "stdout",
     "output_type": "stream",
     "text": [
      "              precision    recall  f1-score   support\n",
      "\n",
      "           0       0.91      1.00      0.95      7312\n",
      "           1       0.71      0.06      0.11       740\n",
      "\n",
      "    accuracy                           0.91      8052\n",
      "   macro avg       0.81      0.53      0.53      8052\n",
      "weighted avg       0.89      0.91      0.88      8052\n",
      "\n"
     ]
    }
   ],
   "source": [
    "print(classification_report(y_test,y_pred))"
   ]
  },
  {
   "cell_type": "code",
   "execution_count": 25,
   "id": "48ada0eb-3912-4e36-ac99-ef5de8892c0c",
   "metadata": {},
   "outputs": [
    {
     "name": "stderr",
     "output_type": "stream",
     "text": [
      "C:\\ProgramData\\Anaconda3\\lib\\site-packages\\sklearn\\utils\\deprecation.py:87: FutureWarning: Function plot_confusion_matrix is deprecated; Function `plot_confusion_matrix` is deprecated in 1.0 and will be removed in 1.2. Use one of the class methods: ConfusionMatrixDisplay.from_predictions or ConfusionMatrixDisplay.from_estimator.\n",
      "  warnings.warn(msg, category=FutureWarning)\n"
     ]
    },
    {
     "name": "stdout",
     "output_type": "stream",
     "text": [
      "Confusion matrix Split@20\n",
      "[[7294   18]\n",
      " [ 696   44]]\n"
     ]
    },
    {
     "name": "stderr",
     "output_type": "stream",
     "text": [
      "C:\\ProgramData\\Anaconda3\\lib\\site-packages\\sklearn\\utils\\deprecation.py:87: FutureWarning: Function plot_confusion_matrix is deprecated; Function `plot_confusion_matrix` is deprecated in 1.0 and will be removed in 1.2. Use one of the class methods: ConfusionMatrixDisplay.from_predictions or ConfusionMatrixDisplay.from_estimator.\n",
      "  warnings.warn(msg, category=FutureWarning)\n"
     ]
    },
    {
     "name": "stdout",
     "output_type": "stream",
     "text": [
      "Normalized confusion matrix\n",
      "[[0.99753829 0.00246171]\n",
      " [0.94054054 0.05945946]]\n"
     ]
    },
    {
     "data": {
      "image/png": "[encoded data removed]",
      "text/plain": [
       "<Figure size 432x288 with 2 Axes>"
      ]
     },
     "metadata": {
      "needs_background": "light"
     },
     "output_type": "display_data"
    },
    {
     "data": {
      "image/png": "[encoded data removed]",
      "text/plain": [
       "<Figure size 432x288 with 2 Axes>"
      ]
     },
     "metadata": {
      "needs_background": "light"
     },
     "output_type": "display_data"
    }
   ],
   "source": [
    "#plotting non-normalized confusion matrix\n",
    "\n",
    "titles = [(\"Confusion matrix RF@20\",None),\n",
    "         (\"Normalized confusion matrix\",\"true\")]\n",
    "\n",
    "for title , normalized in titles:\n",
    "    disp =plot_confusion_matrix(model_rand,X_test,y_test,\n",
    "                               display_labels=[\"Normal\",\"Theft\"],\n",
    "                               cmap=plt.cm.Blues,\n",
    "                               normalize=normalized)\n",
    "    disp.ax_.set_title(title)\n",
    "    print(title)\n",
    "    print(disp.confusion_matrix)\n",
    "    \n",
    "plt.show()"
   ]
  },
  {
   "cell_type": "code",
   "execution_count": null,
   "id": "e50e1d75-550c-40b6-b7e0-af871c8db26a",
   "metadata": {},
   "outputs": [],
   "source": []
  },
  {
   "cell_type": "code",
   "execution_count": 26,
   "id": "c26b5c65-12b5-41c2-b6b4-dd817bca9215",
   "metadata": {},
   "outputs": [
    {
     "data": {
      "text/plain": [
       "0.5284988763380448"
      ]
     },
     "execution_count": 26,
     "metadata": {},
     "output_type": "execute_result"
    }
   ],
   "source": [
    "roc_auc_score(y_test,y_pred)"
   ]
  },
  {
   "cell_type": "code",
   "execution_count": 27,
   "id": "8d3c576e-4616-495e-9a72-0b31263e9890",
   "metadata": {},
   "outputs": [],
   "source": [
    "probs = model_rand.predict_proba(X_test)\n",
    "preds = probs[:,1]\n",
    "fpr,tpr,thresold = roc_curve(y_test,preds)\n",
    "roc_auc = auc(fpr,tpr)"
   ]
  },
  {
   "cell_type": "code",
   "execution_count": 28,
   "id": "96756b24-441f-465b-b924-22b251333c6a",
   "metadata": {},
   "outputs": [
    {
     "data": {
      "image/png": "[encoded data removed]",
      "text/plain": [
       "<Figure size 432x288 with 1 Axes>"
      ]
     },
     "metadata": {
      "needs_background": "light"
     },
     "output_type": "display_data"
    }
   ],
   "source": [
    "plt.title(\"Receiver Operating Characteristic(ROC) Random Forest @80\")\n",
    "plt.plot(fpr,tpr,\"b\",label=\"AUC = %0.4f\" %roc_auc)\n",
    "plt.legend(loc= \"lower right\")\n",
    "plt.plot([0,1],[0,1],\"r--\")\n",
    "plt.xlim([0,1])\n",
    "plt.ylim([0,1])\n",
    "plt.ylabel(\"True Positive Rate\")\n",
    "plt.xlabel(\"False Positive Rate\")\n",
    "plt.show()"
   ]
  },
  {
   "cell_type": "code",
   "execution_count": null,
   "id": "49e81b54-33cb-44ac-a560-54e9d0daa31e",
   "metadata": {},
   "outputs": [],
   "source": []
  },
  {
   "cell_type": "code",
   "execution_count": null,
   "id": "a9b6a397-de2c-461c-8d10-e1b9fa56dd8d",
   "metadata": {},
   "outputs": [],
   "source": []
  },
  {
   "cell_type": "markdown",
   "id": "a11cc324-1d52-4427-9853-986f425ce8bf",
   "metadata": {},
   "source": [
    "## spliting the data 60 @ 40 without smote"
   ]
  },
  {
   "cell_type": "code",
   "execution_count": 29,
   "id": "23f18d30-f17f-44e6-8600-eedc109bc7be",
   "metadata": {},
   "outputs": [],
   "source": [
    " X_train, X_test, y_train, y_test = train_test_split(X, y, test_size=0.4, random_state=0)"
   ]
  },
  {
   "cell_type": "code",
   "execution_count": 30,
   "id": "a0447821-5c18-43e0-b59f-93c438a86863",
   "metadata": {},
   "outputs": [
    {
     "data": {
      "text/html": [
       "<style>#sk-container-id-2 {color: black;background-color: white;}#sk-container-id-2 pre{padding: 0;}#sk-container-id-2 div.sk-toggleable {background-color: white;}#sk-container-id-2 label.sk-toggleable__label {cursor: pointer;display: block;width: 100%;margin-bottom: 0;padding: 0.3em;box-sizing: border-box;text-align: center;}#sk-container-id-2 label.sk-toggleable__label-arrow:before {content: \"▸\";float: left;margin-right: 0.25em;color: #696969;}#sk-container-id-2 label.sk-toggleable__label-arrow:hover:before {color: black;}#sk-container-id-2 div.sk-estimator:hover label.sk-toggleable__label-arrow:before {color: black;}#sk-container-id-2 div.sk-toggleable__content {max-height: 0;max-width: 0;overflow: hidden;text-align: left;background-color: #f0f8ff;}#sk-container-id-2 div.sk-toggleable__content pre {margin: 0.2em;color: black;border-radius: 0.25em;background-color: #f0f8ff;}#sk-container-id-2 input.sk-toggleable__control:checked~div.sk-toggleable__content {max-height: 200px;max-width: 100%;overflow: auto;}#sk-container-id-2 input.sk-toggleable__control:checked~label.sk-toggleable__label-arrow:before {content: \"▾\";}#sk-container-id-2 div.sk-estimator input.sk-toggleable__control:checked~label.sk-toggleable__label {background-color: #d4ebff;}#sk-container-id-2 div.sk-label input.sk-toggleable__control:checked~label.sk-toggleable__label {background-color: #d4ebff;}#sk-container-id-2 input.sk-hidden--visually {border: 0;clip: rect(1px 1px 1px 1px);clip: rect(1px, 1px, 1px, 1px);height: 1px;margin: -1px;overflow: hidden;padding: 0;position: absolute;width: 1px;}#sk-container-id-2 div.sk-estimator {font-family: monospace;background-color: #f0f8ff;border: 1px dotted black;border-radius: 0.25em;box-sizing: border-box;margin-bottom: 0.5em;}#sk-container-id-2 div.sk-estimator:hover {background-color: #d4ebff;}#sk-container-id-2 div.sk-parallel-item::after {content: \"\";width: 100%;border-bottom: 1px solid gray;flex-grow: 1;}#sk-container-id-2 div.sk-label:hover label.sk-toggleable__label {background-color: #d4ebff;}#sk-container-id-2 div.sk-serial::before {content: \"\";position: absolute;border-left: 1px solid gray;box-sizing: border-box;top: 0;bottom: 0;left: 50%;z-index: 0;}#sk-container-id-2 div.sk-serial {display: flex;flex-direction: column;align-items: center;background-color: white;padding-right: 0.2em;padding-left: 0.2em;position: relative;}#sk-container-id-2 div.sk-item {position: relative;z-index: 1;}#sk-container-id-2 div.sk-parallel {display: flex;align-items: stretch;justify-content: center;background-color: white;position: relative;}#sk-container-id-2 div.sk-item::before, #sk-container-id-2 div.sk-parallel-item::before {content: \"\";position: absolute;border-left: 1px solid gray;box-sizing: border-box;top: 0;bottom: 0;left: 50%;z-index: -1;}#sk-container-id-2 div.sk-parallel-item {display: flex;flex-direction: column;z-index: 1;position: relative;background-color: white;}#sk-container-id-2 div.sk-parallel-item:first-child::after {align-self: flex-end;width: 50%;}#sk-container-id-2 div.sk-parallel-item:last-child::after {align-self: flex-start;width: 50%;}#sk-container-id-2 div.sk-parallel-item:only-child::after {width: 0;}#sk-container-id-2 div.sk-dashed-wrapped {border: 1px dashed gray;margin: 0 0.4em 0.5em 0.4em;box-sizing: border-box;padding-bottom: 0.4em;background-color: white;}#sk-container-id-2 div.sk-label label {font-family: monospace;font-weight: bold;display: inline-block;line-height: 1.2em;}#sk-container-id-2 div.sk-label-container {text-align: center;}#sk-container-id-2 div.sk-container {/* jupyter's `normalize.less` sets `[hidden] { display: none; }` but bootstrap.min.css set `[hidden] { display: none !important; }` so we also need the `!important` here to be able to override the default hidden behavior on the sphinx rendered scikit-learn.org. See: https://github.com/scikit-learn/scikit-learn/issues/21755 */display: inline-block !important;position: relative;}#sk-container-id-2 div.sk-text-repr-fallback {display: none;}</style><div id=\"sk-container-id-2\" class=\"sk-top-container\"><div class=\"sk-text-repr-fallback\"><pre>RandomForestClassifier(n_jobs=-1)</pre><b>In a Jupyter environment, please rerun this cell to show the HTML representation or trust the notebook. <br />On GitHub, the HTML representation is unable to render, please try loading this page with nbviewer.org.</b></div><div class=\"sk-container\" hidden><div class=\"sk-item\"><div class=\"sk-estimator sk-toggleable\"><input class=\"sk-toggleable__control sk-hidden--visually\" id=\"sk-estimator-id-2\" type=\"checkbox\" checked><label for=\"sk-estimator-id-2\" class=\"sk-toggleable__label sk-toggleable__label-arrow\">RandomForestClassifier</label><div class=\"sk-toggleable__content\"><pre>RandomForestClassifier(n_jobs=-1)</pre></div></div></div></div></div>"
      ],
      "text/plain": [
       "RandomForestClassifier(n_jobs=-1)"
      ]
     },
     "execution_count": 30,
     "metadata": {},
     "output_type": "execute_result"
    }
   ],
   "source": [
    "model_rand.fit(X_train,y_train)"
   ]
  },
  {
   "cell_type": "code",
   "execution_count": 31,
   "id": "4e868fb9-1438-4fae-b41f-eb45949fb858",
   "metadata": {},
   "outputs": [],
   "source": [
    "y_pred = model_rand.predict(X_test)"
   ]
  },
  {
   "cell_type": "code",
   "execution_count": 32,
   "id": "9f71b87b-7249-46b6-bfa7-5475db85829b",
   "metadata": {},
   "outputs": [
    {
     "name": "stdout",
     "output_type": "stream",
     "text": [
      "              precision    recall  f1-score   support\n",
      "\n",
      "           0       0.92      1.00      0.95     14685\n",
      "           1       0.68      0.04      0.08      1418\n",
      "\n",
      "    accuracy                           0.91     16103\n",
      "   macro avg       0.80      0.52      0.52     16103\n",
      "weighted avg       0.89      0.91      0.88     16103\n",
      "\n"
     ]
    }
   ],
   "source": [
    "print(classification_report(y_test,y_pred))"
   ]
  },
  {
   "cell_type": "code",
   "execution_count": null,
   "id": "46422c4c-a4b8-491b-8859-74e36e36839a",
   "metadata": {},
   "outputs": [],
   "source": []
  },
  {
   "cell_type": "code",
   "execution_count": 33,
   "id": "8acde6bb-e9c2-453b-a76f-ba12cf821c1d",
   "metadata": {},
   "outputs": [
    {
     "name": "stderr",
     "output_type": "stream",
     "text": [
      "C:\\ProgramData\\Anaconda3\\lib\\site-packages\\sklearn\\utils\\deprecation.py:87: FutureWarning: Function plot_confusion_matrix is deprecated; Function `plot_confusion_matrix` is deprecated in 1.0 and will be removed in 1.2. Use one of the class methods: ConfusionMatrixDisplay.from_predictions or ConfusionMatrixDisplay.from_estimator.\n",
      "  warnings.warn(msg, category=FutureWarning)\n"
     ]
    },
    {
     "name": "stdout",
     "output_type": "stream",
     "text": [
      "Confusion matrix Split@20\n",
      "[[14658    27]\n",
      " [ 1361    57]]\n"
     ]
    },
    {
     "name": "stderr",
     "output_type": "stream",
     "text": [
      "C:\\ProgramData\\Anaconda3\\lib\\site-packages\\sklearn\\utils\\deprecation.py:87: FutureWarning: Function plot_confusion_matrix is deprecated; Function `plot_confusion_matrix` is deprecated in 1.0 and will be removed in 1.2. Use one of the class methods: ConfusionMatrixDisplay.from_predictions or ConfusionMatrixDisplay.from_estimator.\n",
      "  warnings.warn(msg, category=FutureWarning)\n"
     ]
    },
    {
     "name": "stdout",
     "output_type": "stream",
     "text": [
      "Normalized confusion matrix\n",
      "[[0.99816139 0.00183861]\n",
      " [0.95980254 0.04019746]]\n"
     ]
    },
    {
     "data": {
      "image/png": "[encoded data removed]",
      "text/plain": [
       "<Figure size 432x288 with 2 Axes>"
      ]
     },
     "metadata": {
      "needs_background": "light"
     },
     "output_type": "display_data"
    },
    {
     "data": {
      "image/png": "[encoded data removed]",
      "text/plain": [
       "<Figure size 432x288 with 2 Axes>"
      ]
     },
     "metadata": {
      "needs_background": "light"
     },
     "output_type": "display_data"
    }
   ],
   "source": [
    "#plotting non-normalized confusion matrix\n",
    "\n",
    "titles = [(\"Confusion matrix Split@20\",None),\n",
    "         (\"Normalized confusion matrix\",\"true\")]\n",
    "\n",
    "for title , normalized in titles:\n",
    "    disp =plot_confusion_matrix(model_rand,X_test,y_test,\n",
    "                               display_labels=[\"Normal\",\"Theft\"],\n",
    "                               cmap=plt.cm.Blues,\n",
    "                               normalize=normalized)\n",
    "    disp.ax_.set_title(title)\n",
    "    print(title)\n",
    "    print(disp.confusion_matrix)\n",
    "    \n",
    "plt.show()"
   ]
  },
  {
   "cell_type": "code",
   "execution_count": null,
   "id": "beeeb9f9-f069-4ad0-99ed-9ae034147a3d",
   "metadata": {},
   "outputs": [],
   "source": []
  },
  {
   "cell_type": "code",
   "execution_count": 34,
   "id": "10dec98e-a650-47ab-bb41-714ba567aa76",
   "metadata": {},
   "outputs": [
    {
     "data": {
      "text/plain": [
       "0.5191794251928006"
      ]
     },
     "execution_count": 34,
     "metadata": {},
     "output_type": "execute_result"
    }
   ],
   "source": [
    "roc_auc_score(y_test,y_pred)"
   ]
  },
  {
   "cell_type": "code",
   "execution_count": null,
   "id": "c71f7534-9399-4482-8535-34c45419b4ac",
   "metadata": {},
   "outputs": [],
   "source": []
  },
  {
   "cell_type": "code",
   "execution_count": 35,
   "id": "eabe557c-4a6c-4a4b-82f0-301bf9155ae6",
   "metadata": {},
   "outputs": [],
   "source": [
    "probs = model_rand.predict_proba(X_test)\n",
    "preds = probs[:,1]\n",
    "fpr,tpr,thresold = roc_curve(y_test,preds)\n",
    "roc_auc = auc(fpr,tpr)"
   ]
  },
  {
   "cell_type": "code",
   "execution_count": null,
   "id": "7cf2eb90-a91f-4c8f-b12a-72163e36abe3",
   "metadata": {},
   "outputs": [],
   "source": []
  },
  {
   "cell_type": "code",
   "execution_count": 36,
   "id": "e39c73df-ef6f-45c7-b828-2cbff0f58623",
   "metadata": {},
   "outputs": [
    {
     "data": {
      "image/png": "[encoded data removed]",
      "text/plain": [
       "<Figure size 432x288 with 1 Axes>"
      ]
     },
     "metadata": {
      "needs_background": "light"
     },
     "output_type": "display_data"
    }
   ],
   "source": [
    "plt.title(\"Receiver Operating Characteristic(ROC) Random Forest @20\")\n",
    "plt.plot(fpr,tpr,\"b\",label=\"AUC = %0.4f\" %roc_auc)\n",
    "plt.legend(loc= \"lower right\")\n",
    "plt.plot([0,1],[0,1],\"r--\")\n",
    "plt.xlim([0,1])\n",
    "plt.ylim([0,1])\n",
    "plt.ylabel(\"True Positive Rate\")\n",
    "plt.xlabel(\"False Positive Rate\")\n",
    "plt.show()"
   ]
  },
  {
   "cell_type": "code",
   "execution_count": null,
   "id": "fe1c0cb6-a08c-4bec-b150-66a0bd2ca3dc",
   "metadata": {},
   "outputs": [],
   "source": []
  },
  {
   "cell_type": "code",
   "execution_count": null,
   "id": "1d6c630f-99d7-4e23-9ea2-bf5d655f8ae9",
   "metadata": {},
   "outputs": [],
   "source": []
  },
  {
   "cell_type": "code",
   "execution_count": null,
   "id": "916cd7f8-ad20-4c2d-8321-314c426e3456",
   "metadata": {},
   "outputs": [],
   "source": []
  },
  {
   "cell_type": "markdown",
   "id": "d995ff21-e0e3-4c3a-8e29-b455475d6300",
   "metadata": {},
   "source": [
    "## spliting the data Decision Tree modification "
   ]
  },
  {
   "cell_type": "code",
   "execution_count": null,
   "id": "c1bf3782-b65e-459f-81aa-fa02a0b2feee",
   "metadata": {},
   "outputs": [],
   "source": []
  },
  {
   "cell_type": "markdown",
   "id": "80a96620-8f3c-4588-9bc7-bcd174f994be",
   "metadata": {
    "jp-MarkdownHeadingCollapsed": true,
    "tags": []
   },
   "source": []
  },
  {
   "cell_type": "code",
   "execution_count": 37,
   "id": "19242633-0193-41e9-8e83-b7aff0862d86",
   "metadata": {},
   "outputs": [],
   "source": [
    " X_train, X_test, y_train, y_test = train_test_split(X, y, test_size=0.2, random_state=0)"
   ]
  },
  {
   "cell_type": "code",
   "execution_count": 38,
   "id": "ad58eb5e-fee6-47de-a024-70c4c5588b2c",
   "metadata": {},
   "outputs": [],
   "source": [
    "model_rand1 = RandomForestClassifier()"
   ]
  },
  {
   "cell_type": "code",
   "execution_count": 39,
   "id": "ab7e4409-5af0-422f-808c-65f3cb8e1525",
   "metadata": {},
   "outputs": [
    {
     "data": {
      "text/plain": [
       "{'bootstrap': True,\n",
       " 'ccp_alpha': 0.0,\n",
       " 'class_weight': None,\n",
       " 'criterion': 'gini',\n",
       " 'max_depth': None,\n",
       " 'max_features': 'sqrt',\n",
       " 'max_leaf_nodes': None,\n",
       " 'max_samples': None,\n",
       " 'min_impurity_decrease': 0.0,\n",
       " 'min_samples_leaf': 1,\n",
       " 'min_samples_split': 2,\n",
       " 'min_weight_fraction_leaf': 0.0,\n",
       " 'n_estimators': 100,\n",
       " 'n_jobs': None,\n",
       " 'oob_score': False,\n",
       " 'random_state': None,\n",
       " 'verbose': 0,\n",
       " 'warm_start': False}"
      ]
     },
     "execution_count": 39,
     "metadata": {},
     "output_type": "execute_result"
    }
   ],
   "source": [
    "model_rand1.get_params()"
   ]
  },
  {
   "cell_type": "code",
   "execution_count": 40,
   "id": "d7bdc420-b06e-4d91-997e-5ba8d551612d",
   "metadata": {},
   "outputs": [
    {
     "data": {
      "text/html": [
       "<style>#sk-container-id-3 {color: black;background-color: white;}#sk-container-id-3 pre{padding: 0;}#sk-container-id-3 div.sk-toggleable {background-color: white;}#sk-container-id-3 label.sk-toggleable__label {cursor: pointer;display: block;width: 100%;margin-bottom: 0;padding: 0.3em;box-sizing: border-box;text-align: center;}#sk-container-id-3 label.sk-toggleable__label-arrow:before {content: \"▸\";float: left;margin-right: 0.25em;color: #696969;}#sk-container-id-3 label.sk-toggleable__label-arrow:hover:before {color: black;}#sk-container-id-3 div.sk-estimator:hover label.sk-toggleable__label-arrow:before {color: black;}#sk-container-id-3 div.sk-toggleable__content {max-height: 0;max-width: 0;overflow: hidden;text-align: left;background-color: #f0f8ff;}#sk-container-id-3 div.sk-toggleable__content pre {margin: 0.2em;color: black;border-radius: 0.25em;background-color: #f0f8ff;}#sk-container-id-3 input.sk-toggleable__control:checked~div.sk-toggleable__content {max-height: 200px;max-width: 100%;overflow: auto;}#sk-container-id-3 input.sk-toggleable__control:checked~label.sk-toggleable__label-arrow:before {content: \"▾\";}#sk-container-id-3 div.sk-estimator input.sk-toggleable__control:checked~label.sk-toggleable__label {background-color: #d4ebff;}#sk-container-id-3 div.sk-label input.sk-toggleable__control:checked~label.sk-toggleable__label {background-color: #d4ebff;}#sk-container-id-3 input.sk-hidden--visually {border: 0;clip: rect(1px 1px 1px 1px);clip: rect(1px, 1px, 1px, 1px);height: 1px;margin: -1px;overflow: hidden;padding: 0;position: absolute;width: 1px;}#sk-container-id-3 div.sk-estimator {font-family: monospace;background-color: #f0f8ff;border: 1px dotted black;border-radius: 0.25em;box-sizing: border-box;margin-bottom: 0.5em;}#sk-container-id-3 div.sk-estimator:hover {background-color: #d4ebff;}#sk-container-id-3 div.sk-parallel-item::after {content: \"\";width: 100%;border-bottom: 1px solid gray;flex-grow: 1;}#sk-container-id-3 div.sk-label:hover label.sk-toggleable__label {background-color: #d4ebff;}#sk-container-id-3 div.sk-serial::before {content: \"\";position: absolute;border-left: 1px solid gray;box-sizing: border-box;top: 0;bottom: 0;left: 50%;z-index: 0;}#sk-container-id-3 div.sk-serial {display: flex;flex-direction: column;align-items: center;background-color: white;padding-right: 0.2em;padding-left: 0.2em;position: relative;}#sk-container-id-3 div.sk-item {position: relative;z-index: 1;}#sk-container-id-3 div.sk-parallel {display: flex;align-items: stretch;justify-content: center;background-color: white;position: relative;}#sk-container-id-3 div.sk-item::before, #sk-container-id-3 div.sk-parallel-item::before {content: \"\";position: absolute;border-left: 1px solid gray;box-sizing: border-box;top: 0;bottom: 0;left: 50%;z-index: -1;}#sk-container-id-3 div.sk-parallel-item {display: flex;flex-direction: column;z-index: 1;position: relative;background-color: white;}#sk-container-id-3 div.sk-parallel-item:first-child::after {align-self: flex-end;width: 50%;}#sk-container-id-3 div.sk-parallel-item:last-child::after {align-self: flex-start;width: 50%;}#sk-container-id-3 div.sk-parallel-item:only-child::after {width: 0;}#sk-container-id-3 div.sk-dashed-wrapped {border: 1px dashed gray;margin: 0 0.4em 0.5em 0.4em;box-sizing: border-box;padding-bottom: 0.4em;background-color: white;}#sk-container-id-3 div.sk-label label {font-family: monospace;font-weight: bold;display: inline-block;line-height: 1.2em;}#sk-container-id-3 div.sk-label-container {text-align: center;}#sk-container-id-3 div.sk-container {/* jupyter's `normalize.less` sets `[hidden] { display: none; }` but bootstrap.min.css set `[hidden] { display: none !important; }` so we also need the `!important` here to be able to override the default hidden behavior on the sphinx rendered scikit-learn.org. See: https://github.com/scikit-learn/scikit-learn/issues/21755 */display: inline-block !important;position: relative;}#sk-container-id-3 div.sk-text-repr-fallback {display: none;}</style><div id=\"sk-container-id-3\" class=\"sk-top-container\"><div class=\"sk-text-repr-fallback\"><pre>RandomForestClassifier(n_jobs=-1)</pre><b>In a Jupyter environment, please rerun this cell to show the HTML representation or trust the notebook. <br />On GitHub, the HTML representation is unable to render, please try loading this page with nbviewer.org.</b></div><div class=\"sk-container\" hidden><div class=\"sk-item\"><div class=\"sk-estimator sk-toggleable\"><input class=\"sk-toggleable__control sk-hidden--visually\" id=\"sk-estimator-id-3\" type=\"checkbox\" checked><label for=\"sk-estimator-id-3\" class=\"sk-toggleable__label sk-toggleable__label-arrow\">RandomForestClassifier</label><div class=\"sk-toggleable__content\"><pre>RandomForestClassifier(n_jobs=-1)</pre></div></div></div></div></div>"
      ],
      "text/plain": [
       "RandomForestClassifier(n_jobs=-1)"
      ]
     },
     "execution_count": 40,
     "metadata": {},
     "output_type": "execute_result"
    }
   ],
   "source": [
    "model_rand.fit(X_train,y_train)"
   ]
  },
  {
   "cell_type": "code",
   "execution_count": 41,
   "id": "bdb74ffb-eeaa-4c94-b916-1f39124777c5",
   "metadata": {},
   "outputs": [],
   "source": [
    "y_pred = model_rand.predict(X_test)"
   ]
  },
  {
   "cell_type": "code",
   "execution_count": 42,
   "id": "0a058f81-e154-47a9-a752-a394392ac654",
   "metadata": {},
   "outputs": [
    {
     "name": "stdout",
     "output_type": "stream",
     "text": [
      "              precision    recall  f1-score   support\n",
      "\n",
      "           0       0.91      1.00      0.95      7312\n",
      "           1       0.79      0.06      0.11       740\n",
      "\n",
      "    accuracy                           0.91      8052\n",
      "   macro avg       0.85      0.53      0.53      8052\n",
      "weighted avg       0.90      0.91      0.88      8052\n",
      "\n"
     ]
    }
   ],
   "source": [
    "print(classification_report(y_test,y_pred))"
   ]
  },
  {
   "cell_type": "code",
   "execution_count": 43,
   "id": "aef2ef91-8ddd-41dd-bfe7-c25b78360f8d",
   "metadata": {},
   "outputs": [
    {
     "name": "stderr",
     "output_type": "stream",
     "text": [
      "C:\\ProgramData\\Anaconda3\\lib\\site-packages\\sklearn\\utils\\deprecation.py:87: FutureWarning: Function plot_confusion_matrix is deprecated; Function `plot_confusion_matrix` is deprecated in 1.0 and will be removed in 1.2. Use one of the class methods: ConfusionMatrixDisplay.from_predictions or ConfusionMatrixDisplay.from_estimator.\n",
      "  warnings.warn(msg, category=FutureWarning)\n"
     ]
    },
    {
     "name": "stdout",
     "output_type": "stream",
     "text": [
      "Confusion matrix Split@20\n",
      "[[7301   11]\n",
      " [ 698   42]]\n",
      "Normalized confusion matrix\n",
      "[[0.99849562 0.00150438]\n",
      " [0.94324324 0.05675676]]\n"
     ]
    },
    {
     "name": "stderr",
     "output_type": "stream",
     "text": [
      "C:\\ProgramData\\Anaconda3\\lib\\site-packages\\sklearn\\utils\\deprecation.py:87: FutureWarning: Function plot_confusion_matrix is deprecated; Function `plot_confusion_matrix` is deprecated in 1.0 and will be removed in 1.2. Use one of the class methods: ConfusionMatrixDisplay.from_predictions or ConfusionMatrixDisplay.from_estimator.\n",
      "  warnings.warn(msg, category=FutureWarning)\n"
     ]
    },
    {
     "data": {
      "image/png": "[encoded data removed]",
      "text/plain": [
       "<Figure size 432x288 with 2 Axes>"
      ]
     },
     "metadata": {
      "needs_background": "light"
     },
     "output_type": "display_data"
    },
    {
     "data": {
      "image/png": "[encoded data removed]",
      "text/plain": [
       "<Figure size 432x288 with 2 Axes>"
      ]
     },
     "metadata": {
      "needs_background": "light"
     },
     "output_type": "display_data"
    }
   ],
   "source": [
    "#plotting non-normalized confusion matrix\n",
    "\n",
    "titles = [(\"Confusion matrix Split@20\",None),\n",
    "         (\"Normalized confusion matrix\",\"true\")]\n",
    "\n",
    "for title , normalized in titles:\n",
    "    disp =plot_confusion_matrix(model_rand,X_test,y_test,\n",
    "                               display_labels=[\"Normal\",\"Theft\"],\n",
    "                               cmap=plt.cm.Blues,\n",
    "                               normalize=normalized)\n",
    "    disp.ax_.set_title(title)\n",
    "    print(title)\n",
    "    print(disp.confusion_matrix)\n",
    "    \n",
    "plt.show()"
   ]
  },
  {
   "cell_type": "code",
   "execution_count": null,
   "id": "8c32174a-779b-46e0-b611-458b17b93f5c",
   "metadata": {},
   "outputs": [],
   "source": []
  },
  {
   "cell_type": "code",
   "execution_count": 44,
   "id": "edee3c22-4289-46f0-ba59-5e179534905a",
   "metadata": {},
   "outputs": [
    {
     "data": {
      "text/plain": [
       "0.5276261901945709"
      ]
     },
     "execution_count": 44,
     "metadata": {},
     "output_type": "execute_result"
    }
   ],
   "source": [
    "roc_auc_score(y_test,y_pred)"
   ]
  },
  {
   "cell_type": "code",
   "execution_count": 45,
   "id": "e774c8cf-1a02-496d-9306-bb42ff776f90",
   "metadata": {},
   "outputs": [],
   "source": [
    "probs = model_rand.predict_proba(X_test)\n",
    "preds = probs[:,1]\n",
    "fpr,tpr,thresold = roc_curve(y_test,preds)\n",
    "roc_auc = auc(fpr,tpr)"
   ]
  },
  {
   "cell_type": "code",
   "execution_count": 46,
   "id": "1c8f49f0-4974-40be-a82f-7ed379fbc9b5",
   "metadata": {},
   "outputs": [
    {
     "data": {
      "image/png": "[encoded data removed]",
      "text/plain": [
       "<Figure size 432x288 with 1 Axes>"
      ]
     },
     "metadata": {
      "needs_background": "light"
     },
     "output_type": "display_data"
    }
   ],
   "source": [
    "plt.title(\"Receiver Operating Characteristic(ROC) Random Forest @20\")\n",
    "plt.plot(fpr,tpr,\"b\",label=\"AUC = %0.4f\" %roc_auc)\n",
    "plt.legend(loc= \"lower right\")\n",
    "plt.plot([0,1],[0,1],\"r--\")\n",
    "plt.xlim([0,1])\n",
    "plt.ylim([0,1])\n",
    "plt.ylabel(\"True Positive Rate\")\n",
    "plt.xlabel(\"False Positive Rate\")\n",
    "plt.show()"
   ]
  },
  {
   "cell_type": "code",
   "execution_count": null,
   "id": "ca4d3fed-2a87-4bed-8b75-2ac7057fa73b",
   "metadata": {},
   "outputs": [],
   "source": []
  },
  {
   "cell_type": "code",
   "execution_count": null,
   "id": "069ea05a-984c-4353-a5aa-fef3d99173f8",
   "metadata": {},
   "outputs": [],
   "source": []
  },
  {
   "cell_type": "markdown",
   "id": "963e31fb-ccea-49ae-8048-8f976205314b",
   "metadata": {},
   "source": [
    "# using over_sampling techniques"
   ]
  },
  {
   "cell_type": "code",
   "execution_count": 12,
   "id": "c61af9b0-a473-4a05-b0f8-3114e2f1bfaa",
   "metadata": {},
   "outputs": [],
   "source": [
    "#oversampling of minority class (imbalanced learning)\n",
    "over = SMOTE(sampling_strategy=0.2,random_state=0)\n",
    "over_x_train,over_y_train = over.fit_resample(X,y)"
   ]
  },
  {
   "cell_type": "code",
   "execution_count": null,
   "id": "3fc2f89e-0fd6-4238-b262-a7d6eb51035e",
   "metadata": {},
   "outputs": [],
   "source": []
  },
  {
   "cell_type": "code",
   "execution_count": null,
   "id": "a9b3b099-7dd5-415b-98e1-7d43d6bf9683",
   "metadata": {},
   "outputs": [],
   "source": []
  },
  {
   "cell_type": "code",
   "execution_count": null,
   "id": "6397031d-95ca-413c-98cc-46206a689a4c",
   "metadata": {},
   "outputs": [],
   "source": []
  },
  {
   "cell_type": "code",
   "execution_count": 13,
   "id": "f6838700-c992-4779-9f54-2ba0a243c3e0",
   "metadata": {},
   "outputs": [],
   "source": [
    " X_train, X_test, y_train, y_test = train_test_split(over_x_train, over_y_train, test_size=0.2, random_state=0)"
   ]
  },
  {
   "cell_type": "code",
   "execution_count": 15,
   "id": "cf043b07-588e-4295-998b-6c5ea3d80373",
   "metadata": {},
   "outputs": [],
   "source": [
    "model_rand = RandomForestClassifier()"
   ]
  },
  {
   "cell_type": "code",
   "execution_count": 16,
   "id": "d845162f-ceef-498d-a1b0-eae251bd8b83",
   "metadata": {},
   "outputs": [
    {
     "data": {
      "text/plain": [
       "RandomForestClassifier()"
      ]
     },
     "execution_count": 16,
     "metadata": {},
     "output_type": "execute_result"
    }
   ],
   "source": [
    "model_rand.fit(X_train,y_train)"
   ]
  },
  {
   "cell_type": "code",
   "execution_count": 17,
   "id": "86296e8c-c0d3-4b88-8b10-cfe80953ae1e",
   "metadata": {},
   "outputs": [],
   "source": [
    "y_pred = model_rand.predict(X_test)"
   ]
  },
  {
   "cell_type": "code",
   "execution_count": 18,
   "id": "3329febf-39b5-4919-8198-d1d5ffc09032",
   "metadata": {},
   "outputs": [
    {
     "name": "stdout",
     "output_type": "stream",
     "text": [
      "              precision    recall  f1-score   support\n",
      "\n",
      "           0       0.89      0.99      0.94      7312\n",
      "           1       0.93      0.39      0.55      1491\n",
      "\n",
      "    accuracy                           0.89      8803\n",
      "   macro avg       0.91      0.69      0.75      8803\n",
      "weighted avg       0.90      0.89      0.87      8803\n",
      "\n"
     ]
    }
   ],
   "source": [
    "print(classification_report(y_test,y_pred))"
   ]
  },
  {
   "cell_type": "code",
   "execution_count": 19,
   "id": "e1975aa5-e56f-4a92-a5f9-303a75fb1f02",
   "metadata": {},
   "outputs": [
    {
     "name": "stderr",
     "output_type": "stream",
     "text": [
      "C:\\ProgramData\\Anaconda3\\lib\\site-packages\\sklearn\\utils\\deprecation.py:87: FutureWarning: Function plot_confusion_matrix is deprecated; Function `plot_confusion_matrix` is deprecated in 1.0 and will be removed in 1.2. Use one of the class methods: ConfusionMatrixDisplay.from_predictions or ConfusionMatrixDisplay.from_estimator.\n",
      "  warnings.warn(msg, category=FutureWarning)\n"
     ]
    },
    {
     "name": "stdout",
     "output_type": "stream",
     "text": [
      "Confusion matrix RF@80\n",
      "[[7271   41]\n",
      " [ 903  588]]\n"
     ]
    },
    {
     "name": "stderr",
     "output_type": "stream",
     "text": [
      "C:\\ProgramData\\Anaconda3\\lib\\site-packages\\sklearn\\utils\\deprecation.py:87: FutureWarning: Function plot_confusion_matrix is deprecated; Function `plot_confusion_matrix` is deprecated in 1.0 and will be removed in 1.2. Use one of the class methods: ConfusionMatrixDisplay.from_predictions or ConfusionMatrixDisplay.from_estimator.\n",
      "  warnings.warn(msg, category=FutureWarning)\n"
     ]
    },
    {
     "name": "stdout",
     "output_type": "stream",
     "text": [
      "Normalized confusion matrix\n",
      "[[0.99439278 0.00560722]\n",
      " [0.6056338  0.3943662 ]]\n"
     ]
    },
    {
     "data": {
      "image/png": "[encoded data removed]",
      "text/plain": [
       "<Figure size 432x288 with 2 Axes>"
      ]
     },
     "metadata": {
      "needs_background": "light"
     },
     "output_type": "display_data"
    },
    {
     "data": {
      "image/png": "[encoded data removed]",
      "text/plain": [
       "<Figure size 432x288 with 2 Axes>"
      ]
     },
     "metadata": {
      "needs_background": "light"
     },
     "output_type": "display_data"
    }
   ],
   "source": [
    "#plotting non-normalized confusion matrix\n",
    "\n",
    "titles = [(\"Confusion matrix RF@80\",None),\n",
    "         (\"Normalized confusion matrix\",\"true\")]\n",
    "\n",
    "for title , normalized in titles:\n",
    "    disp =plot_confusion_matrix(model_rand,X_test,y_test,\n",
    "                               display_labels=[\"Normal\",\"Theft\"],\n",
    "                               cmap=plt.cm.Blues,\n",
    "                               normalize=normalized)\n",
    "    disp.ax_.set_title(title)\n",
    "    print(title)\n",
    "    print(disp.confusion_matrix)\n",
    "    \n",
    "plt.show()"
   ]
  },
  {
   "cell_type": "code",
   "execution_count": 20,
   "id": "f66d0a90-b40f-4222-9473-ac191cb1aa6d",
   "metadata": {},
   "outputs": [
    {
     "data": {
      "text/plain": [
       "0.694379488088267"
      ]
     },
     "execution_count": 20,
     "metadata": {},
     "output_type": "execute_result"
    }
   ],
   "source": [
    "roc_auc_score(y_test,y_pred)"
   ]
  },
  {
   "cell_type": "code",
   "execution_count": 21,
   "id": "067d97e5-bb91-4a41-b9b2-504534ed19b7",
   "metadata": {},
   "outputs": [],
   "source": [
    "probs = model_rand.predict_proba(X_test)\n",
    "preds = probs[:,1]\n",
    "fpr,tpr,thresold = roc_curve(y_test,preds)\n",
    "roc_auc = auc(fpr,tpr)"
   ]
  },
  {
   "cell_type": "code",
   "execution_count": 22,
   "id": "ee6fbf42-a33d-4c6d-9e19-8c8f4e311faf",
   "metadata": {},
   "outputs": [
    {
     "data": {
      "image/png": "[encoded data removed]",
      "text/plain": [
       "<Figure size 432x288 with 1 Axes>"
      ]
     },
     "metadata": {
      "needs_background": "light"
     },
     "output_type": "display_data"
    }
   ],
   "source": [
    "plt.title(\"Receiver Operating Characteristic(ROC) Random Forest @80\")\n",
    "plt.plot(fpr,tpr,\"b\",label=\"AUC = %0.4f\" %roc_auc)\n",
    "plt.legend(loc= \"lower right\")\n",
    "plt.plot([0,1],[0,1],\"r--\")\n",
    "plt.xlim([0,1])\n",
    "plt.ylim([0,1])\n",
    "plt.ylabel(\"True Positive Rate\")\n",
    "plt.xlabel(\"False Positive Rate\")\n",
    "plt.show()"
   ]
  },
  {
   "cell_type": "code",
   "execution_count": null,
   "id": "50205f49-6d98-49bd-baa4-05c74071d9ad",
   "metadata": {},
   "outputs": [],
   "source": []
  },
  {
   "cell_type": "code",
   "execution_count": null,
   "id": "3b746e9b-de69-428d-8139-130a282d2661",
   "metadata": {},
   "outputs": [],
   "source": []
  },
  {
   "cell_type": "markdown",
   "id": "c4108c30-1eac-4880-ab2f-884b21427648",
   "metadata": {},
   "source": [
    "### equal percentage\n",
    "influence of  the data equivalence"
   ]
  },
  {
   "cell_type": "code",
   "execution_count": 56,
   "id": "aaaac6d9-6854-42a9-92b5-5e611b53073f",
   "metadata": {},
   "outputs": [],
   "source": [
    "flag_1_calc = df.loc[df[\"FLAG\"]==1]"
   ]
  },
  {
   "cell_type": "code",
   "execution_count": 57,
   "id": "db4f813a-a6ca-4c0d-a7fe-7010694c47d2",
   "metadata": {},
   "outputs": [],
   "source": [
    "flag_0_calc = df.loc[df[\"FLAG\"]==0]"
   ]
  },
  {
   "cell_type": "code",
   "execution_count": 58,
   "id": "d6bb9683-4f6f-42b0-ac41-44bd287ed6f1",
   "metadata": {},
   "outputs": [
    {
     "data": {
      "text/plain": [
       "3579"
      ]
     },
     "execution_count": 58,
     "metadata": {},
     "output_type": "execute_result"
    }
   ],
   "source": [
    "len(flag_1_calc)"
   ]
  },
  {
   "cell_type": "code",
   "execution_count": 59,
   "id": "be2cb10d-482d-4012-a4f8-203e8e5d93ad",
   "metadata": {},
   "outputs": [],
   "source": [
    "flag_sample_0= flag_0_calc.sample(3*len(flag_1_calc))"
   ]
  },
  {
   "cell_type": "code",
   "execution_count": 60,
   "id": "c2626258-94d8-417f-80c6-85dc854597fc",
   "metadata": {},
   "outputs": [],
   "source": [
    "frames = [flag_1_calc,flag_sample_0]"
   ]
  },
  {
   "cell_type": "code",
   "execution_count": 61,
   "id": "02bec033-bf78-4fba-8541-84afeb1e2040",
   "metadata": {},
   "outputs": [],
   "source": [
    "res_df=pd.concat(frames)"
   ]
  },
  {
   "cell_type": "code",
   "execution_count": 62,
   "id": "51c62b4b-7160-4bc8-8ce4-9d82b9f0bfaa",
   "metadata": {},
   "outputs": [],
   "source": [
    "shuf_df= shuffle(res_df,random_state=0)"
   ]
  },
  {
   "cell_type": "code",
   "execution_count": 63,
   "id": "be008709-55bc-4932-a9b6-a8f9fb8c5627",
   "metadata": {},
   "outputs": [],
   "source": [
    "X= shuf_df.drop([\"CONS_NO\",\"FLAG\"],axis=1)"
   ]
  },
  {
   "cell_type": "code",
   "execution_count": 64,
   "id": "2f32e416-0d87-47a1-af14-f17524ef8a78",
   "metadata": {},
   "outputs": [],
   "source": [
    "y= shuf_df.FLAG"
   ]
  },
  {
   "cell_type": "code",
   "execution_count": 65,
   "id": "fd5c28f7-efbb-4238-b49d-36eda5992d79",
   "metadata": {},
   "outputs": [],
   "source": [
    "X = np.array(X.values)"
   ]
  },
  {
   "cell_type": "code",
   "execution_count": 66,
   "id": "3b9bed3e-2e88-47f0-9ce0-85f1a34a7445",
   "metadata": {},
   "outputs": [],
   "source": [
    "y = np.array(y.values)"
   ]
  },
  {
   "cell_type": "code",
   "execution_count": 67,
   "id": "deedde6d-7f98-4d9a-9adb-8ba96c7c6152",
   "metadata": {},
   "outputs": [],
   "source": [
    " X_train, X_test, y_train, y_test = train_test_split(X, y, test_size=0.2, random_state=0)"
   ]
  },
  {
   "cell_type": "code",
   "execution_count": 68,
   "id": "08774ed3-cff1-43af-813a-c2d7cb1a71c9",
   "metadata": {},
   "outputs": [
    {
     "data": {
      "text/html": [
       "<style>#sk-container-id-5 {color: black;background-color: white;}#sk-container-id-5 pre{padding: 0;}#sk-container-id-5 div.sk-toggleable {background-color: white;}#sk-container-id-5 label.sk-toggleable__label {cursor: pointer;display: block;width: 100%;margin-bottom: 0;padding: 0.3em;box-sizing: border-box;text-align: center;}#sk-container-id-5 label.sk-toggleable__label-arrow:before {content: \"▸\";float: left;margin-right: 0.25em;color: #696969;}#sk-container-id-5 label.sk-toggleable__label-arrow:hover:before {color: black;}#sk-container-id-5 div.sk-estimator:hover label.sk-toggleable__label-arrow:before {color: black;}#sk-container-id-5 div.sk-toggleable__content {max-height: 0;max-width: 0;overflow: hidden;text-align: left;background-color: #f0f8ff;}#sk-container-id-5 div.sk-toggleable__content pre {margin: 0.2em;color: black;border-radius: 0.25em;background-color: #f0f8ff;}#sk-container-id-5 input.sk-toggleable__control:checked~div.sk-toggleable__content {max-height: 200px;max-width: 100%;overflow: auto;}#sk-container-id-5 input.sk-toggleable__control:checked~label.sk-toggleable__label-arrow:before {content: \"▾\";}#sk-container-id-5 div.sk-estimator input.sk-toggleable__control:checked~label.sk-toggleable__label {background-color: #d4ebff;}#sk-container-id-5 div.sk-label input.sk-toggleable__control:checked~label.sk-toggleable__label {background-color: #d4ebff;}#sk-container-id-5 input.sk-hidden--visually {border: 0;clip: rect(1px 1px 1px 1px);clip: rect(1px, 1px, 1px, 1px);height: 1px;margin: -1px;overflow: hidden;padding: 0;position: absolute;width: 1px;}#sk-container-id-5 div.sk-estimator {font-family: monospace;background-color: #f0f8ff;border: 1px dotted black;border-radius: 0.25em;box-sizing: border-box;margin-bottom: 0.5em;}#sk-container-id-5 div.sk-estimator:hover {background-color: #d4ebff;}#sk-container-id-5 div.sk-parallel-item::after {content: \"\";width: 100%;border-bottom: 1px solid gray;flex-grow: 1;}#sk-container-id-5 div.sk-label:hover label.sk-toggleable__label {background-color: #d4ebff;}#sk-container-id-5 div.sk-serial::before {content: \"\";position: absolute;border-left: 1px solid gray;box-sizing: border-box;top: 0;bottom: 0;left: 50%;z-index: 0;}#sk-container-id-5 div.sk-serial {display: flex;flex-direction: column;align-items: center;background-color: white;padding-right: 0.2em;padding-left: 0.2em;position: relative;}#sk-container-id-5 div.sk-item {position: relative;z-index: 1;}#sk-container-id-5 div.sk-parallel {display: flex;align-items: stretch;justify-content: center;background-color: white;position: relative;}#sk-container-id-5 div.sk-item::before, #sk-container-id-5 div.sk-parallel-item::before {content: \"\";position: absolute;border-left: 1px solid gray;box-sizing: border-box;top: 0;bottom: 0;left: 50%;z-index: -1;}#sk-container-id-5 div.sk-parallel-item {display: flex;flex-direction: column;z-index: 1;position: relative;background-color: white;}#sk-container-id-5 div.sk-parallel-item:first-child::after {align-self: flex-end;width: 50%;}#sk-container-id-5 div.sk-parallel-item:last-child::after {align-self: flex-start;width: 50%;}#sk-container-id-5 div.sk-parallel-item:only-child::after {width: 0;}#sk-container-id-5 div.sk-dashed-wrapped {border: 1px dashed gray;margin: 0 0.4em 0.5em 0.4em;box-sizing: border-box;padding-bottom: 0.4em;background-color: white;}#sk-container-id-5 div.sk-label label {font-family: monospace;font-weight: bold;display: inline-block;line-height: 1.2em;}#sk-container-id-5 div.sk-label-container {text-align: center;}#sk-container-id-5 div.sk-container {/* jupyter's `normalize.less` sets `[hidden] { display: none; }` but bootstrap.min.css set `[hidden] { display: none !important; }` so we also need the `!important` here to be able to override the default hidden behavior on the sphinx rendered scikit-learn.org. See: https://github.com/scikit-learn/scikit-learn/issues/21755 */display: inline-block !important;position: relative;}#sk-container-id-5 div.sk-text-repr-fallback {display: none;}</style><div id=\"sk-container-id-5\" class=\"sk-top-container\"><div class=\"sk-text-repr-fallback\"><pre>RandomForestClassifier(n_jobs=-1)</pre><b>In a Jupyter environment, please rerun this cell to show the HTML representation or trust the notebook. <br />On GitHub, the HTML representation is unable to render, please try loading this page with nbviewer.org.</b></div><div class=\"sk-container\" hidden><div class=\"sk-item\"><div class=\"sk-estimator sk-toggleable\"><input class=\"sk-toggleable__control sk-hidden--visually\" id=\"sk-estimator-id-5\" type=\"checkbox\" checked><label for=\"sk-estimator-id-5\" class=\"sk-toggleable__label sk-toggleable__label-arrow\">RandomForestClassifier</label><div class=\"sk-toggleable__content\"><pre>RandomForestClassifier(n_jobs=-1)</pre></div></div></div></div></div>"
      ],
      "text/plain": [
       "RandomForestClassifier(n_jobs=-1)"
      ]
     },
     "execution_count": 68,
     "metadata": {},
     "output_type": "execute_result"
    }
   ],
   "source": [
    "model_rand.fit(X_train,y_train)"
   ]
  },
  {
   "cell_type": "code",
   "execution_count": 69,
   "id": "9d95306e-5dd2-4379-bbd8-391f807317bc",
   "metadata": {},
   "outputs": [],
   "source": [
    "y_pred = model_rand.predict(X_test)"
   ]
  },
  {
   "cell_type": "code",
   "execution_count": 70,
   "id": "88e41c2d-f778-4873-899e-383e3dd2634f",
   "metadata": {},
   "outputs": [
    {
     "name": "stdout",
     "output_type": "stream",
     "text": [
      "              precision    recall  f1-score   support\n",
      "\n",
      "           0       0.78      0.97      0.87      2142\n",
      "           1       0.69      0.19      0.30       722\n",
      "\n",
      "    accuracy                           0.77      2864\n",
      "   macro avg       0.74      0.58      0.58      2864\n",
      "weighted avg       0.76      0.77      0.72      2864\n",
      "\n"
     ]
    }
   ],
   "source": [
    "print(classification_report(y_test,y_pred))"
   ]
  },
  {
   "cell_type": "code",
   "execution_count": 71,
   "id": "164f83f6-f7ba-4606-bd19-ff66789aa8d7",
   "metadata": {},
   "outputs": [
    {
     "name": "stdout",
     "output_type": "stream",
     "text": [
      "Confusion matrix Split@20\n",
      "[[2081   61]\n",
      " [ 586  136]]\n"
     ]
    },
    {
     "name": "stderr",
     "output_type": "stream",
     "text": [
      "C:\\ProgramData\\Anaconda3\\lib\\site-packages\\sklearn\\utils\\deprecation.py:87: FutureWarning: Function plot_confusion_matrix is deprecated; Function `plot_confusion_matrix` is deprecated in 1.0 and will be removed in 1.2. Use one of the class methods: ConfusionMatrixDisplay.from_predictions or ConfusionMatrixDisplay.from_estimator.\n",
      "  warnings.warn(msg, category=FutureWarning)\n",
      "C:\\ProgramData\\Anaconda3\\lib\\site-packages\\sklearn\\utils\\deprecation.py:87: FutureWarning: Function plot_confusion_matrix is deprecated; Function `plot_confusion_matrix` is deprecated in 1.0 and will be removed in 1.2. Use one of the class methods: ConfusionMatrixDisplay.from_predictions or ConfusionMatrixDisplay.from_estimator.\n",
      "  warnings.warn(msg, category=FutureWarning)\n"
     ]
    },
    {
     "name": "stdout",
     "output_type": "stream",
     "text": [
      "Normalized confusion matrix\n",
      "[[0.97152194 0.02847806]\n",
      " [0.81163435 0.18836565]]\n"
     ]
    },
    {
     "data": {
      "image/png": "[encoded data removed]",
      "text/plain": [
       "<Figure size 432x288 with 2 Axes>"
      ]
     },
     "metadata": {
      "needs_background": "light"
     },
     "output_type": "display_data"
    },
    {
     "data": {
      "image/png": "[encoded data removed]",
      "text/plain": [
       "<Figure size 432x288 with 2 Axes>"
      ]
     },
     "metadata": {
      "needs_background": "light"
     },
     "output_type": "display_data"
    }
   ],
   "source": [
    "#plotting non-normalized confusion matrix\n",
    "\n",
    "titles = [(\"Confusion matrix Split@20\",None),\n",
    "         (\"Normalized confusion matrix\",\"true\")]\n",
    "\n",
    "for title , normalized in titles:\n",
    "    disp =plot_confusion_matrix(model_rand,X_test,y_test,\n",
    "                               display_labels=[\"Normal\",\"Theft\"],\n",
    "                               cmap=plt.cm.Blues,\n",
    "                               normalize=normalized)\n",
    "    disp.ax_.set_title(title)\n",
    "    print(title)\n",
    "    print(disp.confusion_matrix)\n",
    "    \n",
    "plt.show()"
   ]
  },
  {
   "cell_type": "code",
   "execution_count": 72,
   "id": "66b994d8-ff3a-4c9d-ae5d-b438e7155957",
   "metadata": {},
   "outputs": [
    {
     "data": {
      "text/plain": [
       "0.5799437965398533"
      ]
     },
     "execution_count": 72,
     "metadata": {},
     "output_type": "execute_result"
    }
   ],
   "source": [
    "roc_auc_score(y_test,y_pred)"
   ]
  },
  {
   "cell_type": "code",
   "execution_count": 73,
   "id": "4158873f-c70a-4fb0-bdd4-8660c27b9f30",
   "metadata": {},
   "outputs": [],
   "source": [
    "probs = model_rand.predict_proba(X_test)\n",
    "preds = probs[:,1]\n",
    "fpr,tpr,thresold = roc_curve(y_test,preds)\n",
    "roc_auc = auc(fpr,tpr)"
   ]
  },
  {
   "cell_type": "code",
   "execution_count": 74,
   "id": "5c92af60-3f93-4f47-8798-d272564d6fdf",
   "metadata": {},
   "outputs": [
    {
     "data": {
      "image/png": "[encoded data removed]",
      "text/plain": [
       "<Figure size 432x288 with 1 Axes>"
      ]
     },
     "metadata": {
      "needs_background": "light"
     },
     "output_type": "display_data"
    }
   ],
   "source": [
    "plt.title(\"Receiver Operating Characteristic(ROC) Random Forest @20\")\n",
    "plt.plot(fpr,tpr,\"b\",label=\"AUC = %0.4f\" %roc_auc)\n",
    "plt.legend(loc= \"lower right\")\n",
    "plt.plot([0,1],[0,1],\"r--\")\n",
    "plt.xlim([0,1])\n",
    "plt.ylim([0,1])\n",
    "plt.ylabel(\"True Positive Rate\")\n",
    "plt.xlabel(\"False Positive Rate\")\n",
    "plt.show()"
   ]
  },
  {
   "cell_type": "code",
   "execution_count": null,
   "id": "6a94ab95-da52-4fd1-b9b9-3a401d96224a",
   "metadata": {},
   "outputs": [],
   "source": []
  },
  {
   "cell_type": "code",
   "execution_count": null,
   "id": "a6db4aff-d3bb-4629-99ec-9b3371ba2fd0",
   "metadata": {},
   "outputs": [],
   "source": []
  },
  {
   "cell_type": "code",
   "execution_count": null,
   "id": "e1389d01-6a97-4fb4-a256-53d288edb00a",
   "metadata": {},
   "outputs": [],
   "source": []
  },
  {
   "cell_type": "code",
   "execution_count": null,
   "id": "52cb8293-dc50-49da-b29e-c28e2248b4a1",
   "metadata": {},
   "outputs": [],
   "source": []
  },
  {
   "cell_type": "code",
   "execution_count": null,
   "id": "385a7111-113e-47d1-a3b8-72f419462f28",
   "metadata": {},
   "outputs": [],
   "source": []
  },
  {
   "cell_type": "code",
   "execution_count": null,
   "id": "03d5132a-8a52-42e2-88d1-56f566cca604",
   "metadata": {},
   "outputs": [],
   "source": []
  },
  {
   "cell_type": "markdown",
   "id": "9dfaf484-5ea6-4b5c-b02f-c77d76e91c67",
   "metadata": {},
   "source": [
    "## spliting 60@40"
   ]
  },
  {
   "cell_type": "code",
   "execution_count": 76,
   "id": "734011c4-dc53-4374-a845-e2853d80271d",
   "metadata": {},
   "outputs": [],
   "source": [
    " X_train, X_test, y_train, y_test = train_test_split(X, y, test_size=0.4, random_state=0)"
   ]
  },
  {
   "cell_type": "code",
   "execution_count": 77,
   "id": "f4f61f97-00ef-4e98-9528-6f9bed95f0a6",
   "metadata": {},
   "outputs": [
    {
     "data": {
      "text/html": [
       "<style>#sk-container-id-6 {color: black;background-color: white;}#sk-container-id-6 pre{padding: 0;}#sk-container-id-6 div.sk-toggleable {background-color: white;}#sk-container-id-6 label.sk-toggleable__label {cursor: pointer;display: block;width: 100%;margin-bottom: 0;padding: 0.3em;box-sizing: border-box;text-align: center;}#sk-container-id-6 label.sk-toggleable__label-arrow:before {content: \"▸\";float: left;margin-right: 0.25em;color: #696969;}#sk-container-id-6 label.sk-toggleable__label-arrow:hover:before {color: black;}#sk-container-id-6 div.sk-estimator:hover label.sk-toggleable__label-arrow:before {color: black;}#sk-container-id-6 div.sk-toggleable__content {max-height: 0;max-width: 0;overflow: hidden;text-align: left;background-color: #f0f8ff;}#sk-container-id-6 div.sk-toggleable__content pre {margin: 0.2em;color: black;border-radius: 0.25em;background-color: #f0f8ff;}#sk-container-id-6 input.sk-toggleable__control:checked~div.sk-toggleable__content {max-height: 200px;max-width: 100%;overflow: auto;}#sk-container-id-6 input.sk-toggleable__control:checked~label.sk-toggleable__label-arrow:before {content: \"▾\";}#sk-container-id-6 div.sk-estimator input.sk-toggleable__control:checked~label.sk-toggleable__label {background-color: #d4ebff;}#sk-container-id-6 div.sk-label input.sk-toggleable__control:checked~label.sk-toggleable__label {background-color: #d4ebff;}#sk-container-id-6 input.sk-hidden--visually {border: 0;clip: rect(1px 1px 1px 1px);clip: rect(1px, 1px, 1px, 1px);height: 1px;margin: -1px;overflow: hidden;padding: 0;position: absolute;width: 1px;}#sk-container-id-6 div.sk-estimator {font-family: monospace;background-color: #f0f8ff;border: 1px dotted black;border-radius: 0.25em;box-sizing: border-box;margin-bottom: 0.5em;}#sk-container-id-6 div.sk-estimator:hover {background-color: #d4ebff;}#sk-container-id-6 div.sk-parallel-item::after {content: \"\";width: 100%;border-bottom: 1px solid gray;flex-grow: 1;}#sk-container-id-6 div.sk-label:hover label.sk-toggleable__label {background-color: #d4ebff;}#sk-container-id-6 div.sk-serial::before {content: \"\";position: absolute;border-left: 1px solid gray;box-sizing: border-box;top: 0;bottom: 0;left: 50%;z-index: 0;}#sk-container-id-6 div.sk-serial {display: flex;flex-direction: column;align-items: center;background-color: white;padding-right: 0.2em;padding-left: 0.2em;position: relative;}#sk-container-id-6 div.sk-item {position: relative;z-index: 1;}#sk-container-id-6 div.sk-parallel {display: flex;align-items: stretch;justify-content: center;background-color: white;position: relative;}#sk-container-id-6 div.sk-item::before, #sk-container-id-6 div.sk-parallel-item::before {content: \"\";position: absolute;border-left: 1px solid gray;box-sizing: border-box;top: 0;bottom: 0;left: 50%;z-index: -1;}#sk-container-id-6 div.sk-parallel-item {display: flex;flex-direction: column;z-index: 1;position: relative;background-color: white;}#sk-container-id-6 div.sk-parallel-item:first-child::after {align-self: flex-end;width: 50%;}#sk-container-id-6 div.sk-parallel-item:last-child::after {align-self: flex-start;width: 50%;}#sk-container-id-6 div.sk-parallel-item:only-child::after {width: 0;}#sk-container-id-6 div.sk-dashed-wrapped {border: 1px dashed gray;margin: 0 0.4em 0.5em 0.4em;box-sizing: border-box;padding-bottom: 0.4em;background-color: white;}#sk-container-id-6 div.sk-label label {font-family: monospace;font-weight: bold;display: inline-block;line-height: 1.2em;}#sk-container-id-6 div.sk-label-container {text-align: center;}#sk-container-id-6 div.sk-container {/* jupyter's `normalize.less` sets `[hidden] { display: none; }` but bootstrap.min.css set `[hidden] { display: none !important; }` so we also need the `!important` here to be able to override the default hidden behavior on the sphinx rendered scikit-learn.org. See: https://github.com/scikit-learn/scikit-learn/issues/21755 */display: inline-block !important;position: relative;}#sk-container-id-6 div.sk-text-repr-fallback {display: none;}</style><div id=\"sk-container-id-6\" class=\"sk-top-container\"><div class=\"sk-text-repr-fallback\"><pre>RandomForestClassifier(n_jobs=-1)</pre><b>In a Jupyter environment, please rerun this cell to show the HTML representation or trust the notebook. <br />On GitHub, the HTML representation is unable to render, please try loading this page with nbviewer.org.</b></div><div class=\"sk-container\" hidden><div class=\"sk-item\"><div class=\"sk-estimator sk-toggleable\"><input class=\"sk-toggleable__control sk-hidden--visually\" id=\"sk-estimator-id-6\" type=\"checkbox\" checked><label for=\"sk-estimator-id-6\" class=\"sk-toggleable__label sk-toggleable__label-arrow\">RandomForestClassifier</label><div class=\"sk-toggleable__content\"><pre>RandomForestClassifier(n_jobs=-1)</pre></div></div></div></div></div>"
      ],
      "text/plain": [
       "RandomForestClassifier(n_jobs=-1)"
      ]
     },
     "execution_count": 77,
     "metadata": {},
     "output_type": "execute_result"
    }
   ],
   "source": [
    "model_rand.fit(X_train,y_train)"
   ]
  },
  {
   "cell_type": "code",
   "execution_count": 78,
   "id": "2b3efe4b-fdf1-4ea4-8dd7-00373791ab13",
   "metadata": {},
   "outputs": [],
   "source": [
    "y_pred = model_rand.predict(X_test)"
   ]
  },
  {
   "cell_type": "code",
   "execution_count": 79,
   "id": "49e0189d-d9e4-4b9d-bf8c-97247e591579",
   "metadata": {},
   "outputs": [
    {
     "name": "stdout",
     "output_type": "stream",
     "text": [
      "              precision    recall  f1-score   support\n",
      "\n",
      "           0       0.78      0.97      0.87      4300\n",
      "           1       0.68      0.19      0.30      1427\n",
      "\n",
      "    accuracy                           0.78      5727\n",
      "   macro avg       0.73      0.58      0.58      5727\n",
      "weighted avg       0.76      0.78      0.72      5727\n",
      "\n"
     ]
    }
   ],
   "source": [
    "print(classification_report(y_test,y_pred))"
   ]
  },
  {
   "cell_type": "code",
   "execution_count": 80,
   "id": "ebcde2f6-bfc2-4c66-915f-512d4ca2ccba",
   "metadata": {},
   "outputs": [
    {
     "name": "stderr",
     "output_type": "stream",
     "text": [
      "C:\\ProgramData\\Anaconda3\\lib\\site-packages\\sklearn\\utils\\deprecation.py:87: FutureWarning: Function plot_confusion_matrix is deprecated; Function `plot_confusion_matrix` is deprecated in 1.0 and will be removed in 1.2. Use one of the class methods: ConfusionMatrixDisplay.from_predictions or ConfusionMatrixDisplay.from_estimator.\n",
      "  warnings.warn(msg, category=FutureWarning)\n",
      "C:\\ProgramData\\Anaconda3\\lib\\site-packages\\sklearn\\utils\\deprecation.py:87: FutureWarning: Function plot_confusion_matrix is deprecated; Function `plot_confusion_matrix` is deprecated in 1.0 and will be removed in 1.2. Use one of the class methods: ConfusionMatrixDisplay.from_predictions or ConfusionMatrixDisplay.from_estimator.\n",
      "  warnings.warn(msg, category=FutureWarning)\n"
     ]
    },
    {
     "name": "stdout",
     "output_type": "stream",
     "text": [
      "Confusion matrix Split@20\n",
      "[[4175  125]\n",
      " [1157  270]]\n",
      "Normalized confusion matrix\n",
      "[[0.97093023 0.02906977]\n",
      " [0.81079187 0.18920813]]\n"
     ]
    },
    {
     "data": {
      "image/png": "[encoded data removed]",
      "text/plain": [
       "<Figure size 432x288 with 2 Axes>"
      ]
     },
     "metadata": {
      "needs_background": "light"
     },
     "output_type": "display_data"
    },
    {
     "data": {
      "image/png": "[encoded data removed]",
      "text/plain": [
       "<Figure size 432x288 with 2 Axes>"
      ]
     },
     "metadata": {
      "needs_background": "light"
     },
     "output_type": "display_data"
    }
   ],
   "source": [
    "#plotting non-normalized confusion matrix\n",
    "\n",
    "titles = [(\"Confusion matrix Split@20\",None),\n",
    "         (\"Normalized confusion matrix\",\"true\")]\n",
    "\n",
    "for title , normalized in titles:\n",
    "    disp =plot_confusion_matrix(model_rand,X_test,y_test,\n",
    "                               display_labels=[\"Normal\",\"Theft\"],\n",
    "                               cmap=plt.cm.Blues,\n",
    "                               normalize=normalized)\n",
    "    disp.ax_.set_title(title)\n",
    "    print(title)\n",
    "    print(disp.confusion_matrix)\n",
    "    \n",
    "plt.show()"
   ]
  },
  {
   "cell_type": "code",
   "execution_count": 81,
   "id": "6da3beb5-c87b-4ba3-8b9f-d6f1a46d790c",
   "metadata": {},
   "outputs": [
    {
     "data": {
      "text/plain": [
       "0.5800691807499878"
      ]
     },
     "execution_count": 81,
     "metadata": {},
     "output_type": "execute_result"
    }
   ],
   "source": [
    "roc_auc_score(y_test,y_pred)"
   ]
  },
  {
   "cell_type": "code",
   "execution_count": 82,
   "id": "8f80f414-1438-4642-ad6f-0b6d1ba979f8",
   "metadata": {},
   "outputs": [],
   "source": [
    "probs = model_rand.predict_proba(X_test)\n",
    "preds = probs[:,1]\n",
    "fpr,tpr,thresold = roc_curve(y_test,preds)\n",
    "roc_auc = auc(fpr,tpr)"
   ]
  },
  {
   "cell_type": "code",
   "execution_count": 83,
   "id": "1ec40a7a-a3c7-4203-8f44-8ed0fc7ac5d0",
   "metadata": {},
   "outputs": [
    {
     "data": {
      "image/png": "[encoded data removed]",
      "text/plain": [
       "<Figure size 432x288 with 1 Axes>"
      ]
     },
     "metadata": {
      "needs_background": "light"
     },
     "output_type": "display_data"
    }
   ],
   "source": [
    "plt.title(\"Receiver Operating Characteristic(ROC) Random Forest @20\")\n",
    "plt.plot(fpr,tpr,\"b\",label=\"AUC = %0.4f\" %roc_auc)\n",
    "plt.legend(loc= \"lower right\")\n",
    "plt.plot([0,1],[0,1],\"r--\")\n",
    "plt.xlim([0,1])\n",
    "plt.ylim([0,1])\n",
    "plt.ylabel(\"True Positive Rate\")\n",
    "plt.xlabel(\"False Positive Rate\")\n",
    "plt.show()"
   ]
  },
  {
   "cell_type": "code",
   "execution_count": null,
   "id": "cab1fc0b-0643-44f9-8db1-ff051bd70975",
   "metadata": {},
   "outputs": [],
   "source": []
  }
 ],
 "metadata": {
  "kernelspec": {
   "display_name": "Python 3 (ipykernel)",
   "language": "python",
   "name": "python3"
  },
  "language_info": {
   "codemirror_mode": {
    "name": "ipython",
    "version": 3
   },
   "file_extension": ".py",
   "mimetype": "text/x-python",
   "name": "python",
   "nbconvert_exporter": "python",
   "pygments_lexer": "ipython3",
   "version": "3.9.15"
  }
 },
 "nbformat": 4,
 "nbformat_minor": 5
}
