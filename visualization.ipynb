{
 "cells": [
  {
   "cell_type": "code",
   "execution_count": 3,
   "id": "21cb17b4-21fe-4981-870a-a5d21de151da",
   "metadata": {},
   "outputs": [],
   "source": [
    "import pandas as pd\n",
    "import numpy as np\n",
    "import matplotlib.pyplot as plt\n",
    "%matplotlib inline\n",
    "import seaborn as sns\n",
    "import time\n",
    "from imblearn.over_sampling import SMOTE as SM\n",
    "from sklearn.preprocessing import MinMaxScaler,StandardScaler,MaxAbsScaler"
   ]
  },
  {
   "cell_type": "code",
   "execution_count": 4,
   "id": "26cfdae1-6261-486e-9993-0de34de01b10",
   "metadata": {},
   "outputs": [],
   "source": [
    "#reading the dataset\n",
    "df = pd.read_csv(\"../Datasets/china_data.csv\")"
   ]
  },
  {
   "cell_type": "code",
   "execution_count": 5,
   "id": "fa86c8ca-98cf-4826-bbff-baab17ae84df",
   "metadata": {},
   "outputs": [],
   "source": [
    "#extracting the cons and flag\n",
    "\n",
    "cons_flag_df = df.iloc[:,:2]"
   ]
  },
  {
   "cell_type": "code",
   "execution_count": 6,
   "id": "10c00213-4a33-4930-85bb-d98213b91652",
   "metadata": {},
   "outputs": [],
   "source": [
    "#storing the KWhs in a different dataframe\n",
    "KWhs_df = df.iloc[:,2:]"
   ]
  },
  {
   "cell_type": "code",
   "execution_count": 7,
   "id": "e542bec3-97a0-4b09-a264-423e5a674afe",
   "metadata": {},
   "outputs": [
    {
     "data": {
      "text/html": [
       "<div>\n",
       "<style scoped>\n",
       "    .dataframe tbody tr th:only-of-type {\n",
       "        vertical-align: middle;\n",
       "    }\n",
       "\n",
       "    .dataframe tbody tr th {\n",
       "        vertical-align: top;\n",
       "    }\n",
       "\n",
       "    .dataframe thead th {\n",
       "        text-align: right;\n",
       "    }\n",
       "</style>\n",
       "<table border=\"1\" class=\"dataframe\">\n",
       "  <thead>\n",
       "    <tr style=\"text-align: right;\">\n",
       "      <th></th>\n",
       "      <th>2014/1/1</th>\n",
       "      <th>2014/1/10</th>\n",
       "      <th>2014/1/11</th>\n",
       "      <th>2014/1/12</th>\n",
       "      <th>2014/1/13</th>\n",
       "      <th>2014/1/14</th>\n",
       "      <th>2014/1/15</th>\n",
       "      <th>2014/1/16</th>\n",
       "      <th>2014/1/17</th>\n",
       "      <th>2014/1/18</th>\n",
       "      <th>...</th>\n",
       "      <th>2016/9/28</th>\n",
       "      <th>2016/9/29</th>\n",
       "      <th>2016/9/3</th>\n",
       "      <th>2016/9/30</th>\n",
       "      <th>2016/9/4</th>\n",
       "      <th>2016/9/5</th>\n",
       "      <th>2016/9/6</th>\n",
       "      <th>2016/9/7</th>\n",
       "      <th>2016/9/8</th>\n",
       "      <th>2016/9/9</th>\n",
       "    </tr>\n",
       "  </thead>\n",
       "  <tbody>\n",
       "    <tr>\n",
       "      <th>0</th>\n",
       "      <td>NaN</td>\n",
       "      <td>NaN</td>\n",
       "      <td>NaN</td>\n",
       "      <td>NaN</td>\n",
       "      <td>NaN</td>\n",
       "      <td>NaN</td>\n",
       "      <td>NaN</td>\n",
       "      <td>NaN</td>\n",
       "      <td>NaN</td>\n",
       "      <td>NaN</td>\n",
       "      <td>...</td>\n",
       "      <td>10.12</td>\n",
       "      <td>9.96</td>\n",
       "      <td>16.92</td>\n",
       "      <td>7.60</td>\n",
       "      <td>27.22</td>\n",
       "      <td>18.05</td>\n",
       "      <td>26.47</td>\n",
       "      <td>18.75</td>\n",
       "      <td>17.84</td>\n",
       "      <td>14.92</td>\n",
       "    </tr>\n",
       "    <tr>\n",
       "      <th>1</th>\n",
       "      <td>NaN</td>\n",
       "      <td>NaN</td>\n",
       "      <td>NaN</td>\n",
       "      <td>NaN</td>\n",
       "      <td>NaN</td>\n",
       "      <td>NaN</td>\n",
       "      <td>NaN</td>\n",
       "      <td>NaN</td>\n",
       "      <td>NaN</td>\n",
       "      <td>NaN</td>\n",
       "      <td>...</td>\n",
       "      <td>0.00</td>\n",
       "      <td>0.00</td>\n",
       "      <td>0.00</td>\n",
       "      <td>0.00</td>\n",
       "      <td>0.00</td>\n",
       "      <td>0.00</td>\n",
       "      <td>0.00</td>\n",
       "      <td>0.00</td>\n",
       "      <td>0.00</td>\n",
       "      <td>0.00</td>\n",
       "    </tr>\n",
       "    <tr>\n",
       "      <th>2</th>\n",
       "      <td>NaN</td>\n",
       "      <td>NaN</td>\n",
       "      <td>NaN</td>\n",
       "      <td>NaN</td>\n",
       "      <td>NaN</td>\n",
       "      <td>NaN</td>\n",
       "      <td>NaN</td>\n",
       "      <td>NaN</td>\n",
       "      <td>NaN</td>\n",
       "      <td>NaN</td>\n",
       "      <td>...</td>\n",
       "      <td>NaN</td>\n",
       "      <td>NaN</td>\n",
       "      <td>NaN</td>\n",
       "      <td>NaN</td>\n",
       "      <td>NaN</td>\n",
       "      <td>NaN</td>\n",
       "      <td>NaN</td>\n",
       "      <td>NaN</td>\n",
       "      <td>NaN</td>\n",
       "      <td>NaN</td>\n",
       "    </tr>\n",
       "    <tr>\n",
       "      <th>3</th>\n",
       "      <td>NaN</td>\n",
       "      <td>NaN</td>\n",
       "      <td>NaN</td>\n",
       "      <td>NaN</td>\n",
       "      <td>NaN</td>\n",
       "      <td>NaN</td>\n",
       "      <td>NaN</td>\n",
       "      <td>NaN</td>\n",
       "      <td>NaN</td>\n",
       "      <td>NaN</td>\n",
       "      <td>...</td>\n",
       "      <td>6.50</td>\n",
       "      <td>9.99</td>\n",
       "      <td>11.78</td>\n",
       "      <td>18.59</td>\n",
       "      <td>26.80</td>\n",
       "      <td>18.57</td>\n",
       "      <td>14.59</td>\n",
       "      <td>12.82</td>\n",
       "      <td>19.37</td>\n",
       "      <td>15.92</td>\n",
       "    </tr>\n",
       "    <tr>\n",
       "      <th>4</th>\n",
       "      <td>2.90</td>\n",
       "      <td>3.42</td>\n",
       "      <td>3.81</td>\n",
       "      <td>4.58</td>\n",
       "      <td>3.56</td>\n",
       "      <td>4.25</td>\n",
       "      <td>3.86</td>\n",
       "      <td>3.53</td>\n",
       "      <td>3.41</td>\n",
       "      <td>0.85</td>\n",
       "      <td>...</td>\n",
       "      <td>17.77</td>\n",
       "      <td>10.37</td>\n",
       "      <td>15.32</td>\n",
       "      <td>13.51</td>\n",
       "      <td>12.23</td>\n",
       "      <td>14.68</td>\n",
       "      <td>16.35</td>\n",
       "      <td>18.14</td>\n",
       "      <td>18.41</td>\n",
       "      <td>17.31</td>\n",
       "    </tr>\n",
       "    <tr>\n",
       "      <th>...</th>\n",
       "      <td>...</td>\n",
       "      <td>...</td>\n",
       "      <td>...</td>\n",
       "      <td>...</td>\n",
       "      <td>...</td>\n",
       "      <td>...</td>\n",
       "      <td>...</td>\n",
       "      <td>...</td>\n",
       "      <td>...</td>\n",
       "      <td>...</td>\n",
       "      <td>...</td>\n",
       "      <td>...</td>\n",
       "      <td>...</td>\n",
       "      <td>...</td>\n",
       "      <td>...</td>\n",
       "      <td>...</td>\n",
       "      <td>...</td>\n",
       "      <td>...</td>\n",
       "      <td>...</td>\n",
       "      <td>...</td>\n",
       "      <td>...</td>\n",
       "    </tr>\n",
       "    <tr>\n",
       "      <th>42367</th>\n",
       "      <td>NaN</td>\n",
       "      <td>NaN</td>\n",
       "      <td>NaN</td>\n",
       "      <td>NaN</td>\n",
       "      <td>NaN</td>\n",
       "      <td>NaN</td>\n",
       "      <td>NaN</td>\n",
       "      <td>NaN</td>\n",
       "      <td>NaN</td>\n",
       "      <td>NaN</td>\n",
       "      <td>...</td>\n",
       "      <td>4.25</td>\n",
       "      <td>3.56</td>\n",
       "      <td>3.38</td>\n",
       "      <td>4.39</td>\n",
       "      <td>3.72</td>\n",
       "      <td>3.77</td>\n",
       "      <td>3.96</td>\n",
       "      <td>3.64</td>\n",
       "      <td>3.40</td>\n",
       "      <td>4.38</td>\n",
       "    </tr>\n",
       "    <tr>\n",
       "      <th>42368</th>\n",
       "      <td>2.70</td>\n",
       "      <td>4.39</td>\n",
       "      <td>3.95</td>\n",
       "      <td>0.00</td>\n",
       "      <td>0.00</td>\n",
       "      <td>0.00</td>\n",
       "      <td>0.00</td>\n",
       "      <td>0.00</td>\n",
       "      <td>0.00</td>\n",
       "      <td>0.00</td>\n",
       "      <td>...</td>\n",
       "      <td>4.81</td>\n",
       "      <td>4.87</td>\n",
       "      <td>4.48</td>\n",
       "      <td>3.67</td>\n",
       "      <td>3.31</td>\n",
       "      <td>4.58</td>\n",
       "      <td>3.33</td>\n",
       "      <td>3.19</td>\n",
       "      <td>4.57</td>\n",
       "      <td>4.00</td>\n",
       "    </tr>\n",
       "    <tr>\n",
       "      <th>42369</th>\n",
       "      <td>0.58</td>\n",
       "      <td>0.84</td>\n",
       "      <td>1.61</td>\n",
       "      <td>0.90</td>\n",
       "      <td>0.60</td>\n",
       "      <td>0.82</td>\n",
       "      <td>0.89</td>\n",
       "      <td>0.03</td>\n",
       "      <td>0.73</td>\n",
       "      <td>1.68</td>\n",
       "      <td>...</td>\n",
       "      <td>NaN</td>\n",
       "      <td>0.66</td>\n",
       "      <td>2.92</td>\n",
       "      <td>2.36</td>\n",
       "      <td>3.86</td>\n",
       "      <td>4.28</td>\n",
       "      <td>3.37</td>\n",
       "      <td>6.67</td>\n",
       "      <td>2.44</td>\n",
       "      <td>1.15</td>\n",
       "    </tr>\n",
       "    <tr>\n",
       "      <th>42370</th>\n",
       "      <td>16.89</td>\n",
       "      <td>13.84</td>\n",
       "      <td>13.50</td>\n",
       "      <td>14.60</td>\n",
       "      <td>14.46</td>\n",
       "      <td>12.34</td>\n",
       "      <td>15.37</td>\n",
       "      <td>17.01</td>\n",
       "      <td>13.46</td>\n",
       "      <td>19.56</td>\n",
       "      <td>...</td>\n",
       "      <td>21.13</td>\n",
       "      <td>13.75</td>\n",
       "      <td>22.61</td>\n",
       "      <td>18.83</td>\n",
       "      <td>25.52</td>\n",
       "      <td>18.11</td>\n",
       "      <td>19.31</td>\n",
       "      <td>17.48</td>\n",
       "      <td>17.20</td>\n",
       "      <td>15.28</td>\n",
       "    </tr>\n",
       "    <tr>\n",
       "      <th>42371</th>\n",
       "      <td>NaN</td>\n",
       "      <td>NaN</td>\n",
       "      <td>NaN</td>\n",
       "      <td>NaN</td>\n",
       "      <td>NaN</td>\n",
       "      <td>NaN</td>\n",
       "      <td>NaN</td>\n",
       "      <td>NaN</td>\n",
       "      <td>NaN</td>\n",
       "      <td>NaN</td>\n",
       "      <td>...</td>\n",
       "      <td>2.80</td>\n",
       "      <td>4.45</td>\n",
       "      <td>9.80</td>\n",
       "      <td>5.11</td>\n",
       "      <td>16.69</td>\n",
       "      <td>12.04</td>\n",
       "      <td>9.90</td>\n",
       "      <td>8.23</td>\n",
       "      <td>8.56</td>\n",
       "      <td>9.86</td>\n",
       "    </tr>\n",
       "  </tbody>\n",
       "</table>\n",
       "<p>42372 rows × 1034 columns</p>\n",
       "</div>"
      ],
      "text/plain": [
       "       2014/1/1  2014/1/10  2014/1/11  2014/1/12  2014/1/13  2014/1/14  \\\n",
       "0           NaN        NaN        NaN        NaN        NaN        NaN   \n",
       "1           NaN        NaN        NaN        NaN        NaN        NaN   \n",
       "2           NaN        NaN        NaN        NaN        NaN        NaN   \n",
       "3           NaN        NaN        NaN        NaN        NaN        NaN   \n",
       "4          2.90       3.42       3.81       4.58       3.56       4.25   \n",
       "...         ...        ...        ...        ...        ...        ...   \n",
       "42367       NaN        NaN        NaN        NaN        NaN        NaN   \n",
       "42368      2.70       4.39       3.95       0.00       0.00       0.00   \n",
       "42369      0.58       0.84       1.61       0.90       0.60       0.82   \n",
       "42370     16.89      13.84      13.50      14.60      14.46      12.34   \n",
       "42371       NaN        NaN        NaN        NaN        NaN        NaN   \n",
       "\n",
       "       2014/1/15  2014/1/16  2014/1/17  2014/1/18  ...  2016/9/28  2016/9/29  \\\n",
       "0            NaN        NaN        NaN        NaN  ...      10.12       9.96   \n",
       "1            NaN        NaN        NaN        NaN  ...       0.00       0.00   \n",
       "2            NaN        NaN        NaN        NaN  ...        NaN        NaN   \n",
       "3            NaN        NaN        NaN        NaN  ...       6.50       9.99   \n",
       "4           3.86       3.53       3.41       0.85  ...      17.77      10.37   \n",
       "...          ...        ...        ...        ...  ...        ...        ...   \n",
       "42367        NaN        NaN        NaN        NaN  ...       4.25       3.56   \n",
       "42368       0.00       0.00       0.00       0.00  ...       4.81       4.87   \n",
       "42369       0.89       0.03       0.73       1.68  ...        NaN       0.66   \n",
       "42370      15.37      17.01      13.46      19.56  ...      21.13      13.75   \n",
       "42371        NaN        NaN        NaN        NaN  ...       2.80       4.45   \n",
       "\n",
       "       2016/9/3  2016/9/30  2016/9/4  2016/9/5  2016/9/6  2016/9/7  2016/9/8  \\\n",
       "0         16.92       7.60     27.22     18.05     26.47     18.75     17.84   \n",
       "1          0.00       0.00      0.00      0.00      0.00      0.00      0.00   \n",
       "2           NaN        NaN       NaN       NaN       NaN       NaN       NaN   \n",
       "3         11.78      18.59     26.80     18.57     14.59     12.82     19.37   \n",
       "4         15.32      13.51     12.23     14.68     16.35     18.14     18.41   \n",
       "...         ...        ...       ...       ...       ...       ...       ...   \n",
       "42367      3.38       4.39      3.72      3.77      3.96      3.64      3.40   \n",
       "42368      4.48       3.67      3.31      4.58      3.33      3.19      4.57   \n",
       "42369      2.92       2.36      3.86      4.28      3.37      6.67      2.44   \n",
       "42370     22.61      18.83     25.52     18.11     19.31     17.48     17.20   \n",
       "42371      9.80       5.11     16.69     12.04      9.90      8.23      8.56   \n",
       "\n",
       "       2016/9/9  \n",
       "0         14.92  \n",
       "1          0.00  \n",
       "2           NaN  \n",
       "3         15.92  \n",
       "4         17.31  \n",
       "...         ...  \n",
       "42367      4.38  \n",
       "42368      4.00  \n",
       "42369      1.15  \n",
       "42370     15.28  \n",
       "42371      9.86  \n",
       "\n",
       "[42372 rows x 1034 columns]"
      ]
     },
     "execution_count": 7,
     "metadata": {},
     "output_type": "execute_result"
    }
   ],
   "source": [
    "KWhs_df"
   ]
  },
  {
   "cell_type": "code",
   "execution_count": null,
   "id": "4d97d52b-6273-479d-950b-30052865687f",
   "metadata": {},
   "outputs": [],
   "source": []
  },
  {
   "cell_type": "code",
   "execution_count": 12,
   "id": "08e06775-b26e-4f93-ae81-3fe8cff8b855",
   "metadata": {},
   "outputs": [
    {
     "name": "stdout",
     "output_type": "stream",
     "text": [
      "11233528\n"
     ]
    }
   ],
   "source": [
    "total_null = KWhs_df.isnull().sum().sum()\n",
    "print(total_null)"
   ]
  },
  {
   "cell_type": "code",
   "execution_count": 13,
   "id": "5f72d754-9246-450e-bd4f-bf2a1190966e",
   "metadata": {},
   "outputs": [],
   "source": [
    "null_cns= KWhs_df.isnull().sum()"
   ]
  },
  {
   "cell_type": "code",
   "execution_count": 25,
   "id": "fcae18e4-920c-4a04-afb6-e45b5cb4e121",
   "metadata": {},
   "outputs": [],
   "source": [
    "nUse = pd.DataFrame(null_cns)"
   ]
  },
  {
   "cell_type": "code",
   "execution_count": 35,
   "id": "ec5cbb9f-5be1-491e-bb11-8e400b1e5171",
   "metadata": {},
   "outputs": [
    {
     "data": {
      "text/plain": [
       "pandas.core.indexes.base.Index"
      ]
     },
     "execution_count": 35,
     "metadata": {},
     "output_type": "execute_result"
    }
   ],
   "source": [
    "type(KWhs_df.columns)"
   ]
  },
  {
   "cell_type": "code",
   "execution_count": 34,
   "id": "006784d8-29d3-4f76-a15d-1116b5743872",
   "metadata": {},
   "outputs": [
    {
     "data": {
      "text/plain": [
       "2014/1/1     16502\n",
       "2014/1/10    16460\n",
       "2014/1/11    16461\n",
       "2014/1/12    16460\n",
       "2014/1/13    16460\n",
       "             ...  \n",
       "2016/9/5       499\n",
       "2016/9/6       522\n",
       "2016/9/7       405\n",
       "2016/9/8       328\n",
       "2016/9/9       345\n",
       "Length: 1034, dtype: int64"
      ]
     },
     "execution_count": 34,
     "metadata": {},
     "output_type": "execute_result"
    }
   ],
   "source": [
    "KWhs_df.isnull().sum()"
   ]
  },
  {
   "cell_type": "code",
   "execution_count": null,
   "id": "1f15c875-38ca-454a-b0b2-e3bfbbec6e88",
   "metadata": {},
   "outputs": [],
   "source": []
  },
  {
   "cell_type": "code",
   "execution_count": 24,
   "id": "e0ec10e7-9a25-4865-b290-237bb5ac3991",
   "metadata": {},
   "outputs": [
    {
     "data": {
      "text/plain": [
       "2014/1/1     16502\n",
       "2014/1/10    16460\n",
       "2014/1/11    16461\n",
       "2014/1/12    16460\n",
       "2014/1/13    16460\n",
       "             ...  \n",
       "2016/9/5       499\n",
       "2016/9/6       522\n",
       "2016/9/7       405\n",
       "2016/9/8       328\n",
       "2016/9/9       345\n",
       "Length: 1034, dtype: int64"
      ]
     },
     "execution_count": 24,
     "metadata": {},
     "output_type": "execute_result"
    }
   ],
   "source": [
    "null_cns.iloc[0:]"
   ]
  },
  {
   "cell_type": "code",
   "execution_count": 36,
   "id": "d427bea1-ebf3-401f-8017-7f43451e886c",
   "metadata": {},
   "outputs": [
    {
     "data": {
      "text/plain": [
       "Text(0.5, 1.0, \"Distribution of Non-Null KWhs Before 'NAN'replacement\")"
      ]
     },
     "execution_count": 36,
     "metadata": {},
     "output_type": "execute_result"
    },
    {
     "data": {
      "image/png": "[encoded data removed]",
      "text/plain": [
       "<Figure size 864x432 with 1 Axes>"
      ]
     },
     "metadata": {
      "needs_background": "light"
     },
     "output_type": "display_data"
    }
   ],
   "source": [
    "#using a histogram to visualize non-null counts in data\n",
    "plt.figure(figsize=(12,6))\n",
    "sns.histplot(KWhs_df.isnull().sum(),x=KWhs_df.columns)\n",
    "plt.xlabel(\"Non-Null KWhs\", fontsize = 15)\n",
    "plt.ylabel(\"Frequency\", fontsize = 15)\n",
    "plt.title(\"Distribution of Non-Null KWhs Before 'NAN'replacement\", fontsize = 20)"
   ]
  },
  {
   "cell_type": "code",
   "execution_count": 37,
   "id": "f6c42012-c2e2-4c7f-bf5f-80767f326966",
   "metadata": {},
   "outputs": [
    {
     "name": "stderr",
     "output_type": "stream",
     "text": [
      "WARNING: Ignoring invalid distribution -cikit-learn (c:\\programdata\\anaconda3\\lib\\site-packages)\n",
      "WARNING: Ignoring invalid distribution -cikit-learn (c:\\programdata\\anaconda3\\lib\\site-packages)\n",
      "ERROR: Could not find a version that satisfies the requirement pydoc (from versions: none)\n",
      "ERROR: No matching distribution found for pydoc\n",
      "WARNING: Ignoring invalid distribution -cikit-learn (c:\\programdata\\anaconda3\\lib\\site-packages)\n",
      "WARNING: Ignoring invalid distribution -cikit-learn (c:\\programdata\\anaconda3\\lib\\site-packages)\n",
      "WARNING: Ignoring invalid distribution -cikit-learn (c:\\programdata\\anaconda3\\lib\\site-packages)\n"
     ]
    }
   ],
   "source": [
    "!pip install pydoc"
   ]
  },
  {
   "cell_type": "code",
   "execution_count": 38,
   "id": "3c93b3f2-e7ae-449b-9609-51198b052592",
   "metadata": {},
   "outputs": [
    {
     "name": "stdout",
     "output_type": "stream",
     "text": [
      "Collecting pandoc"
     ]
    },
    {
     "name": "stderr",
     "output_type": "stream",
     "text": [
      "WARNING: Ignoring invalid distribution -cikit-learn (c:\\programdata\\anaconda3\\lib\\site-packages)\n",
      "WARNING: Ignoring invalid distribution -cikit-learn (c:\\programdata\\anaconda3\\lib\\site-packages)\n",
      "WARNING: Ignoring invalid distribution -cikit-learn (c:\\programdata\\anaconda3\\lib\\site-packages)\n",
      "WARNING: Ignoring invalid distribution -cikit-learn (c:\\programdata\\anaconda3\\lib\\site-packages)\n",
      "WARNING: Ignoring invalid distribution -cikit-learn (c:\\programdata\\anaconda3\\lib\\site-packages)\n",
      "WARNING: Ignoring invalid distribution -cikit-learn (c:\\programdata\\anaconda3\\lib\\site-packages)\n",
      "WARNING: Ignoring invalid distribution -cikit-learn (c:\\programdata\\anaconda3\\lib\\site-packages)\n",
      "WARNING: Ignoring invalid distribution -cikit-learn (c:\\programdata\\anaconda3\\lib\\site-packages)\n"
     ]
    },
    {
     "name": "stdout",
     "output_type": "stream",
     "text": [
      "\n",
      "  Downloading pandoc-2.2.tar.gz (29 kB)\n",
      "Collecting plumbum\n",
      "  Downloading plumbum-1.7.2-py2.py3-none-any.whl (117 kB)\n",
      "Requirement already satisfied: ply in c:\\programdata\\anaconda3\\lib\\site-packages (from pandoc) (3.11)\n",
      "Requirement already satisfied: pywin32 in c:\\programdata\\anaconda3\\lib\\site-packages (from plumbum->pandoc) (228)\n",
      "Building wheels for collected packages: pandoc\n",
      "  Building wheel for pandoc (setup.py): started\n",
      "  Building wheel for pandoc (setup.py): finished with status 'done'\n",
      "  Created wheel for pandoc: filename=pandoc-2.2-py3-none-any.whl size=29561 sha256=b49ae8bb51ae46c2015e310b76245f054aa0a08ccbe4dbf2b2d642f0e2c8895a\n",
      "  Stored in directory: c:\\users\\stanley\\appdata\\local\\pip\\cache\\wheels\\2d\\da\\b1\\54ff0401ef9b07b60c7fc9cffe616f243cf27dc3d04bd5d5ef\n",
      "Successfully built pandoc\n",
      "Installing collected packages: plumbum, pandoc\n",
      "Successfully installed pandoc-2.2 plumbum-1.7.2\n"
     ]
    }
   ],
   "source": [
    "!pip install pandoc"
   ]
  },
  {
   "cell_type": "code",
   "execution_count": null,
   "id": "51f1fa07-ebe2-4429-9f88-9097595d4a58",
   "metadata": {},
   "outputs": [],
   "source": []
  }
 ],
 "metadata": {
  "kernelspec": {
   "display_name": "Python 3 (ipykernel)",
   "language": "python",
   "name": "python3"
  },
  "language_info": {
   "codemirror_mode": {
    "name": "ipython",
    "version": 3
   },
   "file_extension": ".py",
   "mimetype": "text/x-python",
   "name": "python",
   "nbconvert_exporter": "python",
   "pygments_lexer": "ipython3",
   "version": "3.9.7"
  }
 },
 "nbformat": 4,
 "nbformat_minor": 5
}
