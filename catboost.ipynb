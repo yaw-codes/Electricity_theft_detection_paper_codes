{
 "cells": [
  {
   "cell_type": "markdown",
   "id": "28e3e699-14bd-4c80-bdc4-4a59f8a7536f",
   "metadata": {},
   "source": [
    "installing stuff\n"
   ]
  },
  {
   "cell_type": "code",
   "execution_count": null,
   "id": "64488166-b7fe-4c2c-a0e3-f2b1d3be8510",
   "metadata": {},
   "outputs": [],
   "source": []
  },
  {
   "cell_type": "code",
   "execution_count": 9,
   "id": "d9194509-b17f-4b24-b4eb-b6fb4d90ec77",
   "metadata": {},
   "outputs": [],
   "source": []
  },
  {
   "cell_type": "code",
   "execution_count": 1,
   "id": "56898092-48e0-4a5a-bd6d-84a916122928",
   "metadata": {},
   "outputs": [],
   "source": [
    "from sklearn.decomposition import KernelPCA\n",
    "import numpy as np\n",
    "import pandas as pd\n",
    "import matplotlib.pyplot as plt\n",
    "import seaborn as sns\n",
    "%matplotlib inline\n",
    "from sklearn.metrics import classification_report\n",
    "from sklearn.metrics import accuracy_score,precision_score,roc_auc_score,f1_score,recall_score,make_scorer,plot_confusion_matrix\n",
    "from sklearn.model_selection import train_test_split\n",
    "from sklearn.metrics import ConfusionMatrixDisplay,confusion_matrix,roc_curve,auc,accuracy_score\n",
    "from sklearn.model_selection import GridSearchCV\n",
    "from imblearn.over_sampling import SMOTE\n",
    "from imblearn.under_sampling import NearMiss\n",
    "from imblearn.under_sampling import RandomUnderSampler\n",
    "from sklearn.utils import shuffle\n",
    "from catboost import CatBoostClassifier\n",
    "from sklearn.metrics import matthews_corrcoef"
   ]
  },
  {
   "cell_type": "code",
   "execution_count": null,
   "id": "a0cd98a2-a932-4999-a445-32834d1220a9",
   "metadata": {},
   "outputs": [],
   "source": []
  },
  {
   "cell_type": "code",
   "execution_count": 4,
   "id": "b44c3e2b-39ec-4098-973a-41c749318deb",
   "metadata": {},
   "outputs": [],
   "source": [
    "df = pd.read_csv(\"./Data_clean/min_max_both_inter_scaled.csv\")"
   ]
  },
  {
   "cell_type": "code",
   "execution_count": 5,
   "id": "f8644c11-b18b-4cef-a45b-10001b6cc6e0",
   "metadata": {},
   "outputs": [
    {
     "data": {
      "text/html": [
       "<div>\n",
       "<style scoped>\n",
       "    .dataframe tbody tr th:only-of-type {\n",
       "        vertical-align: middle;\n",
       "    }\n",
       "\n",
       "    .dataframe tbody tr th {\n",
       "        vertical-align: top;\n",
       "    }\n",
       "\n",
       "    .dataframe thead th {\n",
       "        text-align: right;\n",
       "    }\n",
       "</style>\n",
       "<table border=\"1\" class=\"dataframe\">\n",
       "  <thead>\n",
       "    <tr style=\"text-align: right;\">\n",
       "      <th></th>\n",
       "      <th>CONS_NO</th>\n",
       "      <th>FLAG</th>\n",
       "      <th>2014-01-01</th>\n",
       "      <th>2014-01-02</th>\n",
       "      <th>2014-01-03</th>\n",
       "      <th>2014-01-04</th>\n",
       "      <th>2014-01-05</th>\n",
       "      <th>2014-01-06</th>\n",
       "      <th>2014-01-07</th>\n",
       "      <th>2014-01-08</th>\n",
       "      <th>...</th>\n",
       "      <th>2016-10-22</th>\n",
       "      <th>2016-10-23</th>\n",
       "      <th>2016-10-24</th>\n",
       "      <th>2016-10-25</th>\n",
       "      <th>2016-10-26</th>\n",
       "      <th>2016-10-27</th>\n",
       "      <th>2016-10-28</th>\n",
       "      <th>2016-10-29</th>\n",
       "      <th>2016-10-30</th>\n",
       "      <th>2016-10-31</th>\n",
       "    </tr>\n",
       "  </thead>\n",
       "  <tbody>\n",
       "    <tr>\n",
       "      <th>0</th>\n",
       "      <td>0387DD8A07E07FDA6271170F86AD9151</td>\n",
       "      <td>1</td>\n",
       "      <td>0.000000</td>\n",
       "      <td>0.000000</td>\n",
       "      <td>0.000000</td>\n",
       "      <td>0.000000</td>\n",
       "      <td>0.000000</td>\n",
       "      <td>0.000000</td>\n",
       "      <td>0.000000</td>\n",
       "      <td>0.000000</td>\n",
       "      <td>...</td>\n",
       "      <td>0.264158</td>\n",
       "      <td>0.296902</td>\n",
       "      <td>0.297637</td>\n",
       "      <td>0.350616</td>\n",
       "      <td>0.201613</td>\n",
       "      <td>0.321919</td>\n",
       "      <td>0.342154</td>\n",
       "      <td>0.277402</td>\n",
       "      <td>0.337003</td>\n",
       "      <td>0.247970</td>\n",
       "    </tr>\n",
       "    <tr>\n",
       "      <th>1</th>\n",
       "      <td>4B75AC4F2D8434CFF62DB64D0BB43103</td>\n",
       "      <td>1</td>\n",
       "      <td>0.000000</td>\n",
       "      <td>0.000000</td>\n",
       "      <td>0.000000</td>\n",
       "      <td>0.000000</td>\n",
       "      <td>0.000000</td>\n",
       "      <td>0.000000</td>\n",
       "      <td>0.000000</td>\n",
       "      <td>0.000000</td>\n",
       "      <td>...</td>\n",
       "      <td>0.333740</td>\n",
       "      <td>0.547089</td>\n",
       "      <td>0.543432</td>\n",
       "      <td>0.527583</td>\n",
       "      <td>0.653459</td>\n",
       "      <td>0.581835</td>\n",
       "      <td>0.565681</td>\n",
       "      <td>0.495276</td>\n",
       "      <td>0.432795</td>\n",
       "      <td>0.416336</td>\n",
       "    </tr>\n",
       "    <tr>\n",
       "      <th>2</th>\n",
       "      <td>B32AC8CC6D5D805AC053557AB05F5343</td>\n",
       "      <td>1</td>\n",
       "      <td>0.000000</td>\n",
       "      <td>0.000000</td>\n",
       "      <td>0.000000</td>\n",
       "      <td>0.000000</td>\n",
       "      <td>0.000000</td>\n",
       "      <td>0.000000</td>\n",
       "      <td>0.000000</td>\n",
       "      <td>0.000000</td>\n",
       "      <td>...</td>\n",
       "      <td>0.242798</td>\n",
       "      <td>0.286581</td>\n",
       "      <td>0.327142</td>\n",
       "      <td>0.282600</td>\n",
       "      <td>0.371304</td>\n",
       "      <td>0.394049</td>\n",
       "      <td>0.340220</td>\n",
       "      <td>0.365049</td>\n",
       "      <td>0.274071</td>\n",
       "      <td>0.222138</td>\n",
       "    </tr>\n",
       "    <tr>\n",
       "      <th>3</th>\n",
       "      <td>EDFC78B07BA2908B3395C4EB2304665E</td>\n",
       "      <td>1</td>\n",
       "      <td>0.048145</td>\n",
       "      <td>0.112494</td>\n",
       "      <td>0.144199</td>\n",
       "      <td>0.058008</td>\n",
       "      <td>0.064819</td>\n",
       "      <td>0.105683</td>\n",
       "      <td>0.091123</td>\n",
       "      <td>0.066463</td>\n",
       "      <td>...</td>\n",
       "      <td>0.313762</td>\n",
       "      <td>0.220056</td>\n",
       "      <td>0.178957</td>\n",
       "      <td>0.123532</td>\n",
       "      <td>0.123297</td>\n",
       "      <td>0.138093</td>\n",
       "      <td>0.156646</td>\n",
       "      <td>0.235791</td>\n",
       "      <td>0.211602</td>\n",
       "      <td>0.184829</td>\n",
       "    </tr>\n",
       "    <tr>\n",
       "      <th>4</th>\n",
       "      <td>6BCFD78138BC72A9BA1BFB0B79382192</td>\n",
       "      <td>1</td>\n",
       "      <td>0.000000</td>\n",
       "      <td>0.000000</td>\n",
       "      <td>0.000000</td>\n",
       "      <td>0.000000</td>\n",
       "      <td>0.000000</td>\n",
       "      <td>0.000000</td>\n",
       "      <td>0.000000</td>\n",
       "      <td>0.000000</td>\n",
       "      <td>...</td>\n",
       "      <td>0.147734</td>\n",
       "      <td>0.174809</td>\n",
       "      <td>0.172454</td>\n",
       "      <td>0.043555</td>\n",
       "      <td>0.024132</td>\n",
       "      <td>0.024720</td>\n",
       "      <td>0.112419</td>\n",
       "      <td>0.024720</td>\n",
       "      <td>0.022366</td>\n",
       "      <td>0.035903</td>\n",
       "    </tr>\n",
       "    <tr>\n",
       "      <th>...</th>\n",
       "      <td>...</td>\n",
       "      <td>...</td>\n",
       "      <td>...</td>\n",
       "      <td>...</td>\n",
       "      <td>...</td>\n",
       "      <td>...</td>\n",
       "      <td>...</td>\n",
       "      <td>...</td>\n",
       "      <td>...</td>\n",
       "      <td>...</td>\n",
       "      <td>...</td>\n",
       "      <td>...</td>\n",
       "      <td>...</td>\n",
       "      <td>...</td>\n",
       "      <td>...</td>\n",
       "      <td>...</td>\n",
       "      <td>...</td>\n",
       "      <td>...</td>\n",
       "      <td>...</td>\n",
       "      <td>...</td>\n",
       "      <td>...</td>\n",
       "    </tr>\n",
       "    <tr>\n",
       "      <th>40251</th>\n",
       "      <td>F1472871E1AFF49D4289564B6377D76C</td>\n",
       "      <td>0</td>\n",
       "      <td>0.000000</td>\n",
       "      <td>0.000000</td>\n",
       "      <td>0.000000</td>\n",
       "      <td>0.000000</td>\n",
       "      <td>0.000000</td>\n",
       "      <td>0.000000</td>\n",
       "      <td>0.000000</td>\n",
       "      <td>0.000000</td>\n",
       "      <td>...</td>\n",
       "      <td>0.288360</td>\n",
       "      <td>0.273369</td>\n",
       "      <td>0.242504</td>\n",
       "      <td>0.265432</td>\n",
       "      <td>0.263668</td>\n",
       "      <td>0.249559</td>\n",
       "      <td>0.223986</td>\n",
       "      <td>0.299824</td>\n",
       "      <td>0.316578</td>\n",
       "      <td>0.223986</td>\n",
       "    </tr>\n",
       "    <tr>\n",
       "      <th>40252</th>\n",
       "      <td>F3C8BBCD2DC26C1E0249DEEF6A4256B7</td>\n",
       "      <td>0</td>\n",
       "      <td>0.164334</td>\n",
       "      <td>0.000000</td>\n",
       "      <td>0.000000</td>\n",
       "      <td>0.348144</td>\n",
       "      <td>0.368229</td>\n",
       "      <td>0.353621</td>\n",
       "      <td>0.186853</td>\n",
       "      <td>0.245892</td>\n",
       "      <td>...</td>\n",
       "      <td>0.233719</td>\n",
       "      <td>0.402921</td>\n",
       "      <td>0.189897</td>\n",
       "      <td>0.314060</td>\n",
       "      <td>0.220329</td>\n",
       "      <td>0.282410</td>\n",
       "      <td>0.225806</td>\n",
       "      <td>0.378576</td>\n",
       "      <td>0.368229</td>\n",
       "      <td>0.290323</td>\n",
       "    </tr>\n",
       "    <tr>\n",
       "      <th>40253</th>\n",
       "      <td>A9A0FE83467A680FBFB0DBFC910DF227</td>\n",
       "      <td>0</td>\n",
       "      <td>0.048013</td>\n",
       "      <td>0.096026</td>\n",
       "      <td>0.076159</td>\n",
       "      <td>0.081126</td>\n",
       "      <td>0.127483</td>\n",
       "      <td>0.114238</td>\n",
       "      <td>0.073675</td>\n",
       "      <td>0.057947</td>\n",
       "      <td>...</td>\n",
       "      <td>0.081954</td>\n",
       "      <td>0.050497</td>\n",
       "      <td>0.053808</td>\n",
       "      <td>0.045530</td>\n",
       "      <td>0.040563</td>\n",
       "      <td>0.042219</td>\n",
       "      <td>0.065397</td>\n",
       "      <td>0.054636</td>\n",
       "      <td>0.032285</td>\n",
       "      <td>0.053808</td>\n",
       "    </tr>\n",
       "    <tr>\n",
       "      <th>40254</th>\n",
       "      <td>D9A6ADA018FA46A55D5438370456AA45</td>\n",
       "      <td>0</td>\n",
       "      <td>0.349472</td>\n",
       "      <td>0.313470</td>\n",
       "      <td>0.398924</td>\n",
       "      <td>0.355680</td>\n",
       "      <td>0.347610</td>\n",
       "      <td>0.361680</td>\n",
       "      <td>0.369543</td>\n",
       "      <td>0.496379</td>\n",
       "      <td>...</td>\n",
       "      <td>0.323609</td>\n",
       "      <td>0.340989</td>\n",
       "      <td>0.269812</td>\n",
       "      <td>0.214980</td>\n",
       "      <td>0.248293</td>\n",
       "      <td>0.230706</td>\n",
       "      <td>0.252845</td>\n",
       "      <td>0.272295</td>\n",
       "      <td>0.275812</td>\n",
       "      <td>0.214980</td>\n",
       "    </tr>\n",
       "    <tr>\n",
       "      <th>40255</th>\n",
       "      <td>F3406636BAD1E6E0826E8EDDC9A1BF00</td>\n",
       "      <td>0</td>\n",
       "      <td>0.000000</td>\n",
       "      <td>0.000000</td>\n",
       "      <td>0.000000</td>\n",
       "      <td>0.000000</td>\n",
       "      <td>0.000000</td>\n",
       "      <td>0.000000</td>\n",
       "      <td>0.000000</td>\n",
       "      <td>0.000000</td>\n",
       "      <td>...</td>\n",
       "      <td>0.385120</td>\n",
       "      <td>0.625091</td>\n",
       "      <td>0.304522</td>\n",
       "      <td>0.316557</td>\n",
       "      <td>0.233042</td>\n",
       "      <td>0.290299</td>\n",
       "      <td>0.296499</td>\n",
       "      <td>0.419402</td>\n",
       "      <td>0.261123</td>\n",
       "      <td>0.191466</td>\n",
       "    </tr>\n",
       "  </tbody>\n",
       "</table>\n",
       "<p>40256 rows × 1036 columns</p>\n",
       "</div>"
      ],
      "text/plain": [
       "                                CONS_NO  FLAG  2014-01-01  2014-01-02  \\\n",
       "0      0387DD8A07E07FDA6271170F86AD9151     1    0.000000    0.000000   \n",
       "1      4B75AC4F2D8434CFF62DB64D0BB43103     1    0.000000    0.000000   \n",
       "2      B32AC8CC6D5D805AC053557AB05F5343     1    0.000000    0.000000   \n",
       "3      EDFC78B07BA2908B3395C4EB2304665E     1    0.048145    0.112494   \n",
       "4      6BCFD78138BC72A9BA1BFB0B79382192     1    0.000000    0.000000   \n",
       "...                                 ...   ...         ...         ...   \n",
       "40251  F1472871E1AFF49D4289564B6377D76C     0    0.000000    0.000000   \n",
       "40252  F3C8BBCD2DC26C1E0249DEEF6A4256B7     0    0.164334    0.000000   \n",
       "40253  A9A0FE83467A680FBFB0DBFC910DF227     0    0.048013    0.096026   \n",
       "40254  D9A6ADA018FA46A55D5438370456AA45     0    0.349472    0.313470   \n",
       "40255  F3406636BAD1E6E0826E8EDDC9A1BF00     0    0.000000    0.000000   \n",
       "\n",
       "       2014-01-03  2014-01-04  2014-01-05  2014-01-06  2014-01-07  2014-01-08  \\\n",
       "0        0.000000    0.000000    0.000000    0.000000    0.000000    0.000000   \n",
       "1        0.000000    0.000000    0.000000    0.000000    0.000000    0.000000   \n",
       "2        0.000000    0.000000    0.000000    0.000000    0.000000    0.000000   \n",
       "3        0.144199    0.058008    0.064819    0.105683    0.091123    0.066463   \n",
       "4        0.000000    0.000000    0.000000    0.000000    0.000000    0.000000   \n",
       "...           ...         ...         ...         ...         ...         ...   \n",
       "40251    0.000000    0.000000    0.000000    0.000000    0.000000    0.000000   \n",
       "40252    0.000000    0.348144    0.368229    0.353621    0.186853    0.245892   \n",
       "40253    0.076159    0.081126    0.127483    0.114238    0.073675    0.057947   \n",
       "40254    0.398924    0.355680    0.347610    0.361680    0.369543    0.496379   \n",
       "40255    0.000000    0.000000    0.000000    0.000000    0.000000    0.000000   \n",
       "\n",
       "       ...  2016-10-22  2016-10-23  2016-10-24  2016-10-25  2016-10-26  \\\n",
       "0      ...    0.264158    0.296902    0.297637    0.350616    0.201613   \n",
       "1      ...    0.333740    0.547089    0.543432    0.527583    0.653459   \n",
       "2      ...    0.242798    0.286581    0.327142    0.282600    0.371304   \n",
       "3      ...    0.313762    0.220056    0.178957    0.123532    0.123297   \n",
       "4      ...    0.147734    0.174809    0.172454    0.043555    0.024132   \n",
       "...    ...         ...         ...         ...         ...         ...   \n",
       "40251  ...    0.288360    0.273369    0.242504    0.265432    0.263668   \n",
       "40252  ...    0.233719    0.402921    0.189897    0.314060    0.220329   \n",
       "40253  ...    0.081954    0.050497    0.053808    0.045530    0.040563   \n",
       "40254  ...    0.323609    0.340989    0.269812    0.214980    0.248293   \n",
       "40255  ...    0.385120    0.625091    0.304522    0.316557    0.233042   \n",
       "\n",
       "       2016-10-27  2016-10-28  2016-10-29  2016-10-30  2016-10-31  \n",
       "0        0.321919    0.342154    0.277402    0.337003    0.247970  \n",
       "1        0.581835    0.565681    0.495276    0.432795    0.416336  \n",
       "2        0.394049    0.340220    0.365049    0.274071    0.222138  \n",
       "3        0.138093    0.156646    0.235791    0.211602    0.184829  \n",
       "4        0.024720    0.112419    0.024720    0.022366    0.035903  \n",
       "...           ...         ...         ...         ...         ...  \n",
       "40251    0.249559    0.223986    0.299824    0.316578    0.223986  \n",
       "40252    0.282410    0.225806    0.378576    0.368229    0.290323  \n",
       "40253    0.042219    0.065397    0.054636    0.032285    0.053808  \n",
       "40254    0.230706    0.252845    0.272295    0.275812    0.214980  \n",
       "40255    0.290299    0.296499    0.419402    0.261123    0.191466  \n",
       "\n",
       "[40256 rows x 1036 columns]"
      ]
     },
     "execution_count": 5,
     "metadata": {},
     "output_type": "execute_result"
    }
   ],
   "source": [
    "df"
   ]
  },
  {
   "cell_type": "code",
   "execution_count": null,
   "id": "5e263155-41dd-4489-8909-e5f3b1167854",
   "metadata": {},
   "outputs": [],
   "source": []
  },
  {
   "cell_type": "code",
   "execution_count": null,
   "id": "661eb225-156d-4150-8010-7cc3b8edc65e",
   "metadata": {},
   "outputs": [],
   "source": []
  },
  {
   "cell_type": "code",
   "execution_count": 6,
   "id": "79dbdbab-8f32-4deb-a377-62c0e7d96048",
   "metadata": {},
   "outputs": [],
   "source": [
    "X = df.drop([\"FLAG\",\"CONS_NO\"],axis=1)"
   ]
  },
  {
   "cell_type": "code",
   "execution_count": 7,
   "id": "758b015d-d7df-4e64-ade5-373f054073e4",
   "metadata": {},
   "outputs": [],
   "source": [
    "y= df.FLAG"
   ]
  },
  {
   "cell_type": "code",
   "execution_count": 2,
   "id": "7bf11586-91d9-4ce8-b4c1-62c952383f93",
   "metadata": {},
   "outputs": [],
   "source": [
    "model_grade = CatBoostClassifier(verbose=0)"
   ]
  },
  {
   "cell_type": "code",
   "execution_count": 4,
   "id": "8c970b1f-4bc5-4870-956c-73a843d6ad50",
   "metadata": {},
   "outputs": [
    {
     "data": {
      "text/plain": [
       "<bound method CatBoost.get_all_params of <catboost.core.CatBoostClassifier object at 0x000001F4C1D27490>>"
      ]
     },
     "execution_count": 4,
     "metadata": {},
     "output_type": "execute_result"
    }
   ],
   "source": [
    "CatBoostClassifier(verbose=1,)"
   ]
  },
  {
   "cell_type": "code",
   "execution_count": 9,
   "id": "93b64fbb-1273-487e-8023-52444cda68bd",
   "metadata": {},
   "outputs": [],
   "source": [
    "X= np.array(X.values)"
   ]
  },
  {
   "cell_type": "code",
   "execution_count": 10,
   "id": "95887830-3b3a-44b2-9eed-3a66d6d1c6ee",
   "metadata": {},
   "outputs": [],
   "source": [
    "y= np.array(y.values)"
   ]
  },
  {
   "cell_type": "code",
   "execution_count": null,
   "id": "92f4a56a-6267-4d9c-82fd-005a246ded00",
   "metadata": {},
   "outputs": [],
   "source": [
    "CatBoostClassifier(verbose=1)"
   ]
  },
  {
   "cell_type": "code",
   "execution_count": null,
   "id": "77b3776f-4af5-4047-9059-7085cdfba909",
   "metadata": {},
   "outputs": [],
   "source": []
  },
  {
   "cell_type": "code",
   "execution_count": null,
   "id": "22bc3663-a116-4c7a-b7f0-c398b00af45a",
   "metadata": {},
   "outputs": [],
   "source": []
  },
  {
   "cell_type": "code",
   "execution_count": null,
   "id": "4d153372-c2a2-49de-8ed4-7b8b8e1af82d",
   "metadata": {},
   "outputs": [],
   "source": []
  },
  {
   "cell_type": "markdown",
   "id": "eec8ce43-067b-42e7-8510-18a380370d75",
   "metadata": {},
   "source": [
    "## Testing the dataset against original model"
   ]
  },
  {
   "cell_type": "code",
   "execution_count": null,
   "id": "057c4281-d174-40ff-aa78-5184463f198f",
   "metadata": {},
   "outputs": [],
   "source": []
  },
  {
   "cell_type": "code",
   "execution_count": null,
   "id": "23a0c9a3-0342-4132-acd2-cfe4eda024db",
   "metadata": {},
   "outputs": [],
   "source": []
  },
  {
   "cell_type": "code",
   "execution_count": 12,
   "id": "b71e4436-9186-44a3-a82f-f4b1444cf2be",
   "metadata": {},
   "outputs": [],
   "source": [
    "x_train,x_test,y_train,y_test = train_test_split(X,y,test_size=0.20)"
   ]
  },
  {
   "cell_type": "code",
   "execution_count": 13,
   "id": "b4110fa2-da2d-4a5c-a299-73b1b3344426",
   "metadata": {},
   "outputs": [
    {
     "data": {
      "text/plain": [
       "<catboost.core.CatBoostClassifier at 0x15bdfc36190>"
      ]
     },
     "execution_count": 13,
     "metadata": {},
     "output_type": "execute_result"
    }
   ],
   "source": [
    "model_grade.fit(x_train,y_train)"
   ]
  },
  {
   "cell_type": "code",
   "execution_count": 14,
   "id": "1f60c753-69e4-4382-8ed5-6d8b9755bd3c",
   "metadata": {},
   "outputs": [],
   "source": [
    "y_pred =model_grade.predict(x_test)"
   ]
  },
  {
   "cell_type": "code",
   "execution_count": null,
   "id": "1e5a08a0-8d13-4fd7-9f18-cbf3ae46edff",
   "metadata": {},
   "outputs": [],
   "source": []
  },
  {
   "cell_type": "code",
   "execution_count": 15,
   "id": "bef61389-c671-49ab-963a-f230a7341a71",
   "metadata": {},
   "outputs": [
    {
     "name": "stdout",
     "output_type": "stream",
     "text": [
      "              precision    recall  f1-score   support\n",
      "\n",
      "           0       0.92      1.00      0.96      7343\n",
      "           1       0.78      0.10      0.18       709\n",
      "\n",
      "    accuracy                           0.92      8052\n",
      "   macro avg       0.85      0.55      0.57      8052\n",
      "weighted avg       0.91      0.92      0.89      8052\n",
      "\n"
     ]
    }
   ],
   "source": [
    "print(classification_report(y_test,y_pred))"
   ]
  },
  {
   "cell_type": "code",
   "execution_count": 16,
   "id": "ecf23357-3297-4cd0-b09c-142438595a79",
   "metadata": {},
   "outputs": [
    {
     "data": {
      "text/plain": [
       "0.9184053651266766"
      ]
     },
     "execution_count": 16,
     "metadata": {},
     "output_type": "execute_result"
    }
   ],
   "source": [
    "accuracy_score(y_test,y_pred)"
   ]
  },
  {
   "cell_type": "code",
   "execution_count": null,
   "id": "6f1c17c3-f4c5-4127-981f-a02faaa8b1ae",
   "metadata": {},
   "outputs": [],
   "source": []
  },
  {
   "cell_type": "code",
   "execution_count": 20,
   "id": "8c73cb2a-6a98-40b2-8ce2-2641e4282fce",
   "metadata": {},
   "outputs": [
    {
     "name": "stderr",
     "output_type": "stream",
     "text": [
      "C:\\ProgramData\\Anaconda3\\lib\\site-packages\\sklearn\\utils\\deprecation.py:87: FutureWarning: Function plot_confusion_matrix is deprecated; Function `plot_confusion_matrix` is deprecated in 1.0 and will be removed in 1.2. Use one of the class methods: ConfusionMatrixDisplay.from_predictions or ConfusionMatrixDisplay.from_estimator.\n",
      "  warnings.warn(msg, category=FutureWarning)\n",
      "C:\\ProgramData\\Anaconda3\\lib\\site-packages\\sklearn\\utils\\deprecation.py:87: FutureWarning: Function plot_confusion_matrix is deprecated; Function `plot_confusion_matrix` is deprecated in 1.0 and will be removed in 1.2. Use one of the class methods: ConfusionMatrixDisplay.from_predictions or ConfusionMatrixDisplay.from_estimator.\n",
      "  warnings.warn(msg, category=FutureWarning)\n"
     ]
    },
    {
     "name": "stdout",
     "output_type": "stream",
     "text": [
      "Confusion matrix CatBoost @80\n",
      "[[7323   20]\n",
      " [ 637   72]]\n",
      "Normalized confusion matrix\n",
      "[[0.99727632 0.00272368]\n",
      " [0.89844852 0.10155148]]\n"
     ]
    },
    {
     "data": {
      "image/png": "[encoded data removed]",
      "text/plain": [
       "<Figure size 432x288 with 2 Axes>"
      ]
     },
     "metadata": {
      "needs_background": "light"
     },
     "output_type": "display_data"
    },
    {
     "data": {
      "image/png": "[encoded data removed]",
      "text/plain": [
       "<Figure size 432x288 with 2 Axes>"
      ]
     },
     "metadata": {
      "needs_background": "light"
     },
     "output_type": "display_data"
    }
   ],
   "source": [
    "#plotting non-normalized confusion matrix\n",
    "\n",
    "titles = [(\"Confusion matrix CatBoost @80\",None),\n",
    "         (\"Normalized confusion matrix\",\"true\")]\n",
    "\n",
    "for title , normalized in titles:\n",
    "    disp =plot_confusion_matrix(model_grade,x_test,y_test,\n",
    "                               display_labels=[\"Normal\",\"Theft\"],\n",
    "                               cmap=plt.cm.Blues,\n",
    "                               normalize=normalized)\n",
    "    disp.ax_.set_title(title)\n",
    "    print(title)\n",
    "    print(disp.confusion_matrix)\n",
    "    \n",
    "plt.show()"
   ]
  },
  {
   "cell_type": "code",
   "execution_count": null,
   "id": "ca9d7786-dd67-4ab0-917d-c0736d94776f",
   "metadata": {},
   "outputs": [],
   "source": []
  },
  {
   "cell_type": "code",
   "execution_count": null,
   "id": "7df5eb80-600e-457c-b1c3-c4a8da1d51e5",
   "metadata": {},
   "outputs": [],
   "source": []
  },
  {
   "cell_type": "code",
   "execution_count": 21,
   "id": "445ebf6c-c5a8-4bb4-8e71-5a73cbe0c75c",
   "metadata": {},
   "outputs": [],
   "source": [
    "probs = model_grade.predict_proba(x_test)\n",
    "preds = probs[:,1]\n",
    "fpr,tpr,thresold = roc_curve(y_test,preds)\n",
    "roc_auc = auc(fpr,tpr)"
   ]
  },
  {
   "cell_type": "code",
   "execution_count": 23,
   "id": "3ab5e88e-5be4-48be-a542-d73f1296adb7",
   "metadata": {},
   "outputs": [
    {
     "data": {
      "image/png": "[encoded data removed]",
      "text/plain": [
       "<Figure size 432x288 with 1 Axes>"
      ]
     },
     "metadata": {
      "needs_background": "light"
     },
     "output_type": "display_data"
    }
   ],
   "source": [
    "plt.title(\"Receiver Operating Characteristic(ROC) Catboost @80\")\n",
    "plt.plot(fpr,tpr,\"b\",label=\"AUC = %0.4f\" %roc_auc)\n",
    "plt.legend(loc= \"lower right\")\n",
    "plt.plot([0,1],[0,1],\"r--\")\n",
    "plt.xlim([0,1])\n",
    "plt.ylim([0,1])\n",
    "plt.ylabel(\"True Positive Rate\")\n",
    "plt.xlabel(\"False Positive Rate\")\n",
    "plt.show()"
   ]
  },
  {
   "cell_type": "code",
   "execution_count": null,
   "id": "a9f67994-b47f-4455-a993-74c93eda4409",
   "metadata": {},
   "outputs": [],
   "source": []
  },
  {
   "cell_type": "code",
   "execution_count": null,
   "id": "502cf897-f9a9-4b9e-b532-cb4b6098b222",
   "metadata": {},
   "outputs": [],
   "source": []
  },
  {
   "cell_type": "code",
   "execution_count": null,
   "id": "8ee97e14-769a-4c2a-be5b-26390109d558",
   "metadata": {},
   "outputs": [],
   "source": []
  },
  {
   "cell_type": "markdown",
   "id": "ba012af8-d232-4c28-8c72-37613af2f3ee",
   "metadata": {},
   "source": [
    "## Testing the dataset against SMOTE 100 model"
   ]
  },
  {
   "cell_type": "code",
   "execution_count": 25,
   "id": "538ebe41-7729-4a88-a111-b4692ffb8c41",
   "metadata": {},
   "outputs": [],
   "source": [
    "#oversampling of minority class (imbalanced learning)\n",
    "over = SMOTE(sampling_strategy=1,random_state=0)\n",
    "over_x_train,over_y_train = over.fit_resample(X,y)"
   ]
  },
  {
   "cell_type": "code",
   "execution_count": 26,
   "id": "ce9585c2-2965-4e08-8053-411e1c56281a",
   "metadata": {},
   "outputs": [],
   "source": [
    "model_grade = CatBoostClassifier(max_depth=10,verbose=0)"
   ]
  },
  {
   "cell_type": "code",
   "execution_count": null,
   "id": "324d1ddd-77b7-4800-843f-dfc88bf8e3bf",
   "metadata": {},
   "outputs": [],
   "source": []
  },
  {
   "cell_type": "code",
   "execution_count": 27,
   "id": "afc47e9d-bf6e-417c-9c53-c450321b4e9a",
   "metadata": {},
   "outputs": [],
   "source": [
    "x_train,x_test,y_train,y_test = train_test_split(over_x_train,over_y_train,test_size=0.20)"
   ]
  },
  {
   "cell_type": "code",
   "execution_count": 28,
   "id": "2dc0d1cf-d2f1-4da8-9d86-af41a7db8617",
   "metadata": {},
   "outputs": [
    {
     "data": {
      "text/plain": [
       "<catboost.core.CatBoostClassifier at 0x15ba52f08e0>"
      ]
     },
     "execution_count": 28,
     "metadata": {},
     "output_type": "execute_result"
    }
   ],
   "source": [
    "model_grade.fit(x_train,y_train)"
   ]
  },
  {
   "cell_type": "code",
   "execution_count": 29,
   "id": "8c88be9c-97dd-424c-ae0b-5c9de3199e5d",
   "metadata": {},
   "outputs": [],
   "source": [
    "y_pred =model_grade.predict(x_test)"
   ]
  },
  {
   "cell_type": "code",
   "execution_count": null,
   "id": "9ee43849-6a5a-4877-a69e-5f1cc84d4b7d",
   "metadata": {},
   "outputs": [],
   "source": []
  },
  {
   "cell_type": "code",
   "execution_count": 30,
   "id": "085da1f7-9f6f-4102-a17f-e92a2a18aca8",
   "metadata": {},
   "outputs": [
    {
     "name": "stdout",
     "output_type": "stream",
     "text": [
      "              precision    recall  f1-score   support\n",
      "\n",
      "           0       0.97      0.95      0.96      7282\n",
      "           1       0.95      0.97      0.96      7389\n",
      "\n",
      "    accuracy                           0.96     14671\n",
      "   macro avg       0.96      0.96      0.96     14671\n",
      "weighted avg       0.96      0.96      0.96     14671\n",
      "\n"
     ]
    }
   ],
   "source": [
    "print(classification_report(y_test,y_pred))"
   ]
  },
  {
   "cell_type": "code",
   "execution_count": null,
   "id": "699df395-130f-482d-80c3-15a442a9cd49",
   "metadata": {},
   "outputs": [],
   "source": []
  },
  {
   "cell_type": "code",
   "execution_count": 31,
   "id": "c4e0592b-d03f-4e87-9b5e-10328de4beab",
   "metadata": {},
   "outputs": [
    {
     "name": "stderr",
     "output_type": "stream",
     "text": [
      "C:\\ProgramData\\Anaconda3\\lib\\site-packages\\sklearn\\utils\\deprecation.py:87: FutureWarning: Function plot_confusion_matrix is deprecated; Function `plot_confusion_matrix` is deprecated in 1.0 and will be removed in 1.2. Use one of the class methods: ConfusionMatrixDisplay.from_predictions or ConfusionMatrixDisplay.from_estimator.\n",
      "  warnings.warn(msg, category=FutureWarning)\n"
     ]
    },
    {
     "name": "stdout",
     "output_type": "stream",
     "text": [
      "Confusion matrix CatBoost @80\n",
      "[[6896  386]\n",
      " [ 240 7149]]\n",
      "Normalized confusion matrix\n",
      "[[0.94699258 0.05300742]\n",
      " [0.03248071 0.96751929]]\n"
     ]
    },
    {
     "name": "stderr",
     "output_type": "stream",
     "text": [
      "C:\\ProgramData\\Anaconda3\\lib\\site-packages\\sklearn\\utils\\deprecation.py:87: FutureWarning: Function plot_confusion_matrix is deprecated; Function `plot_confusion_matrix` is deprecated in 1.0 and will be removed in 1.2. Use one of the class methods: ConfusionMatrixDisplay.from_predictions or ConfusionMatrixDisplay.from_estimator.\n",
      "  warnings.warn(msg, category=FutureWarning)\n"
     ]
    },
    {
     "data": {
      "image/png": "[encoded data removed]",
      "text/plain": [
       "<Figure size 432x288 with 2 Axes>"
      ]
     },
     "metadata": {
      "needs_background": "light"
     },
     "output_type": "display_data"
    },
    {
     "data": {
      "image/png": "[encoded data removed]",
      "text/plain": [
       "<Figure size 432x288 with 2 Axes>"
      ]
     },
     "metadata": {
      "needs_background": "light"
     },
     "output_type": "display_data"
    }
   ],
   "source": [
    "#plotting non-normalized confusion matrix\n",
    "\n",
    "titles = [(\"Confusion matrix CatBoost @80\",None),\n",
    "         (\"Normalized confusion matrix\",\"true\")]\n",
    "\n",
    "for title , normalized in titles:\n",
    "    disp =plot_confusion_matrix(model_grade,x_test,y_test,\n",
    "                               display_labels=[\"Normal\",\"Theft\"],\n",
    "                               cmap=plt.cm.Blues,\n",
    "                               normalize=normalized)\n",
    "    disp.ax_.set_title(title)\n",
    "    print(title)\n",
    "    print(disp.confusion_matrix)\n",
    "    \n",
    "plt.show()"
   ]
  },
  {
   "cell_type": "code",
   "execution_count": null,
   "id": "ce1c8605-fd4d-46cf-aea9-470890afb3e9",
   "metadata": {},
   "outputs": [],
   "source": []
  },
  {
   "cell_type": "code",
   "execution_count": 32,
   "id": "204a49e9-0e1b-4142-8333-58f87e8f41ec",
   "metadata": {},
   "outputs": [],
   "source": [
    "probs = model_grade.predict_proba(x_test)\n",
    "preds = probs[:,1]\n",
    "fpr,tpr,thresold = roc_curve(y_test,preds)\n",
    "roc_auc = auc(fpr,tpr)"
   ]
  },
  {
   "cell_type": "code",
   "execution_count": null,
   "id": "18ac7f29-6d79-4882-943e-88c13ff4e805",
   "metadata": {},
   "outputs": [],
   "source": []
  },
  {
   "cell_type": "code",
   "execution_count": 33,
   "id": "e56e56b0-5320-4022-a4fc-7fb5b1820bfe",
   "metadata": {},
   "outputs": [
    {
     "data": {
      "image/png": "[encoded data removed]",
      "text/plain": [
       "<Figure size 432x288 with 1 Axes>"
      ]
     },
     "metadata": {
      "needs_background": "light"
     },
     "output_type": "display_data"
    }
   ],
   "source": [
    "plt.title(\"Receiver Operating Characteristic(ROC) Catboost @80\")\n",
    "plt.plot(fpr,tpr,\"b\",label=\"AUC = %0.4f\" %roc_auc)\n",
    "plt.legend(loc= \"lower right\")\n",
    "plt.plot([0,1],[0,1],\"r--\")\n",
    "plt.xlim([0,1])\n",
    "plt.ylim([0,1])\n",
    "plt.ylabel(\"True Positive Rate\")\n",
    "plt.xlabel(\"False Positive Rate\")\n",
    "plt.show()"
   ]
  },
  {
   "cell_type": "code",
   "execution_count": null,
   "id": "dc9b7ecf-09cb-4015-ab9b-c9c4c6b9721b",
   "metadata": {},
   "outputs": [],
   "source": []
  },
  {
   "cell_type": "markdown",
   "id": "b7babf08-c9d0-4d6e-b403-0fac2924e25e",
   "metadata": {
    "tags": []
   },
   "source": [
    "## doing the sampling without any optimization"
   ]
  },
  {
   "cell_type": "code",
   "execution_count": null,
   "id": "49fee6f1-4bf8-4bbd-818d-a123ea0d9dc2",
   "metadata": {},
   "outputs": [],
   "source": [
    "#oversampling of minority class (imbalanced learning)\n",
    "over = SMOTE(sampling_strategy=1,random_state=0)\n",
    "over_x_train,over_y_train = over.fit_resample(X,y)"
   ]
  },
  {
   "cell_type": "code",
   "execution_count": 34,
   "id": "c0d8f770-c6f7-4c7a-b63b-123110fc9919",
   "metadata": {},
   "outputs": [],
   "source": [
    "model_grade = CatBoostClassifier(verbose=0)"
   ]
  },
  {
   "cell_type": "code",
   "execution_count": 35,
   "id": "d63cc328-de72-4c7f-84e1-55dc5f94dfb9",
   "metadata": {},
   "outputs": [
    {
     "data": {
      "text/plain": [
       "<catboost.core.CatBoostClassifier at 0x15ba52f6b50>"
      ]
     },
     "execution_count": 35,
     "metadata": {},
     "output_type": "execute_result"
    }
   ],
   "source": [
    "model_grade.fit(x_train,y_train)"
   ]
  },
  {
   "cell_type": "code",
   "execution_count": 36,
   "id": "4ffba74f-53d6-47d9-8df8-56320ba8dd53",
   "metadata": {},
   "outputs": [],
   "source": [
    "y_pred =model_grade.predict(x_test)"
   ]
  },
  {
   "cell_type": "code",
   "execution_count": 37,
   "id": "49ada0e8-696a-4c2a-b3b9-ce51a43aa936",
   "metadata": {},
   "outputs": [
    {
     "name": "stderr",
     "output_type": "stream",
     "text": [
      "C:\\ProgramData\\Anaconda3\\lib\\site-packages\\sklearn\\utils\\deprecation.py:87: FutureWarning: Function plot_confusion_matrix is deprecated; Function `plot_confusion_matrix` is deprecated in 1.0 and will be removed in 1.2. Use one of the class methods: ConfusionMatrixDisplay.from_predictions or ConfusionMatrixDisplay.from_estimator.\n",
      "  warnings.warn(msg, category=FutureWarning)\n",
      "C:\\ProgramData\\Anaconda3\\lib\\site-packages\\sklearn\\utils\\deprecation.py:87: FutureWarning: Function plot_confusion_matrix is deprecated; Function `plot_confusion_matrix` is deprecated in 1.0 and will be removed in 1.2. Use one of the class methods: ConfusionMatrixDisplay.from_predictions or ConfusionMatrixDisplay.from_estimator.\n",
      "  warnings.warn(msg, category=FutureWarning)\n"
     ]
    },
    {
     "name": "stdout",
     "output_type": "stream",
     "text": [
      "Confusion matrix CatBoost @80\n",
      "[[6613  669]\n",
      " [ 542 6847]]\n",
      "Normalized confusion matrix\n",
      "[[0.90812963 0.09187037]\n",
      " [0.07335228 0.92664772]]\n"
     ]
    },
    {
     "data": {
      "image/png": "[encoded data removed]",
      "text/plain": [
       "<Figure size 432x288 with 2 Axes>"
      ]
     },
     "metadata": {
      "needs_background": "light"
     },
     "output_type": "display_data"
    },
    {
     "data": {
      "image/png": "[encoded data removed]",
      "text/plain": [
       "<Figure size 432x288 with 2 Axes>"
      ]
     },
     "metadata": {
      "needs_background": "light"
     },
     "output_type": "display_data"
    }
   ],
   "source": [
    "#plotting non-normalized confusion matrix\n",
    "\n",
    "titles = [(\"Confusion matrix CatBoost @80\",None),\n",
    "         (\"Normalized confusion matrix\",\"true\")]\n",
    "\n",
    "for title , normalized in titles:\n",
    "    disp =plot_confusion_matrix(model_grade,x_test,y_test,\n",
    "                               display_labels=[\"Normal\",\"Theft\"],\n",
    "                               cmap=plt.cm.Blues,\n",
    "                               normalize=normalized)\n",
    "    disp.ax_.set_title(title)\n",
    "    print(title)\n",
    "    print(disp.confusion_matrix)\n",
    "    \n",
    "plt.show()"
   ]
  },
  {
   "cell_type": "code",
   "execution_count": 38,
   "id": "7071e023-e254-4699-b87d-cf4f6a142778",
   "metadata": {},
   "outputs": [],
   "source": [
    "probs = model_grade.predict_proba(x_test)\n",
    "preds = probs[:,1]\n",
    "fpr,tpr,thresold = roc_curve(y_test,preds)\n",
    "roc_auc = auc(fpr,tpr)"
   ]
  },
  {
   "cell_type": "code",
   "execution_count": 39,
   "id": "dc3524a2-7e56-44ed-a888-bc6e08f41cba",
   "metadata": {},
   "outputs": [
    {
     "data": {
      "image/png": "[encoded data removed]",
      "text/plain": [
       "<Figure size 432x288 with 1 Axes>"
      ]
     },
     "metadata": {
      "needs_background": "light"
     },
     "output_type": "display_data"
    }
   ],
   "source": [
    "plt.title(\"Receiver Operating Characteristic(ROC) Catboost @80\")\n",
    "plt.plot(fpr,tpr,\"b\",label=\"AUC = %0.4f\" %roc_auc)\n",
    "plt.legend(loc= \"lower right\")\n",
    "plt.plot([0,1],[0,1],\"r--\")\n",
    "plt.xlim([0,1])\n",
    "plt.ylim([0,1])\n",
    "plt.ylabel(\"True Positive Rate\")\n",
    "plt.xlabel(\"False Positive Rate\")\n",
    "plt.show()"
   ]
  },
  {
   "cell_type": "code",
   "execution_count": null,
   "id": "03f3d767-dfea-4c5b-92ee-2794fb76dd3d",
   "metadata": {},
   "outputs": [],
   "source": []
  },
  {
   "cell_type": "markdown",
   "id": "08116324-d1c5-4f47-85d5-dab5049649b1",
   "metadata": {},
   "source": [
    "\n",
    "### doing an SMOTE of 20% in different modes"
   ]
  },
  {
   "cell_type": "code",
   "execution_count": 40,
   "id": "54590e72-bcdb-4cf8-a44a-2f718d083f3f",
   "metadata": {},
   "outputs": [],
   "source": [
    "#oversampling of minority class (imbalanced learning)\n",
    "over = SMOTE(sampling_strategy=0.2,random_state=0)\n",
    "over_x_train,over_y_train = over.fit_resample(X,y)"
   ]
  },
  {
   "cell_type": "code",
   "execution_count": null,
   "id": "5b5ec508-059c-42db-9671-25a8cfb13124",
   "metadata": {},
   "outputs": [],
   "source": []
  },
  {
   "cell_type": "code",
   "execution_count": 41,
   "id": "0c6d6eb0-f19a-4025-b55f-6b23411ef10d",
   "metadata": {},
   "outputs": [],
   "source": [
    "x_train,x_test,y_train,y_test = train_test_split(over_x_train,over_y_train,test_size=0.20)"
   ]
  },
  {
   "cell_type": "code",
   "execution_count": null,
   "id": "3788c4b7-1f2e-4b86-bc71-bb41f149b38c",
   "metadata": {},
   "outputs": [],
   "source": []
  },
  {
   "cell_type": "code",
   "execution_count": null,
   "id": "bba5ffaf-a589-48d2-999e-bc34b67385bb",
   "metadata": {},
   "outputs": [],
   "source": []
  },
  {
   "cell_type": "code",
   "execution_count": 42,
   "id": "f6ee78c9-499c-42b8-ae7d-ae1a38c37635",
   "metadata": {},
   "outputs": [],
   "source": [
    "model_grade = CatBoostClassifier(verbose=0)"
   ]
  },
  {
   "cell_type": "code",
   "execution_count": 43,
   "id": "5d099f4b-e20c-4ba1-9717-a26ae619639e",
   "metadata": {},
   "outputs": [
    {
     "data": {
      "text/plain": [
       "<catboost.core.CatBoostClassifier at 0x15b94f64880>"
      ]
     },
     "execution_count": 43,
     "metadata": {},
     "output_type": "execute_result"
    }
   ],
   "source": [
    "model_grade.fit(x_train,y_train)"
   ]
  },
  {
   "cell_type": "code",
   "execution_count": 44,
   "id": "b294fad2-4810-44c3-a3f0-4e75802710f4",
   "metadata": {},
   "outputs": [],
   "source": [
    "y_pred =model_grade.predict(x_test)"
   ]
  },
  {
   "cell_type": "code",
   "execution_count": null,
   "id": "a278ed91-c534-4dac-8a0b-5587d46b7320",
   "metadata": {},
   "outputs": [],
   "source": []
  },
  {
   "cell_type": "code",
   "execution_count": 45,
   "id": "a636ee52-495c-41b1-91e4-7054d444ad5e",
   "metadata": {},
   "outputs": [
    {
     "name": "stdout",
     "output_type": "stream",
     "text": [
      "              precision    recall  f1-score   support\n",
      "\n",
      "           0       0.89      0.99      0.94      7335\n",
      "           1       0.87      0.42      0.56      1468\n",
      "\n",
      "    accuracy                           0.89      8803\n",
      "   macro avg       0.88      0.70      0.75      8803\n",
      "weighted avg       0.89      0.89      0.88      8803\n",
      "\n"
     ]
    }
   ],
   "source": [
    "print(classification_report(y_test,y_pred))"
   ]
  },
  {
   "cell_type": "code",
   "execution_count": null,
   "id": "55f7ae27-45ee-4699-a170-cbdd14a1d428",
   "metadata": {},
   "outputs": [],
   "source": []
  },
  {
   "cell_type": "code",
   "execution_count": null,
   "id": "4b350725-33a8-4dd2-91df-85cad8a1ea24",
   "metadata": {},
   "outputs": [],
   "source": []
  },
  {
   "cell_type": "code",
   "execution_count": 46,
   "id": "ddafb968-8deb-46a6-ac35-6b113a56ae54",
   "metadata": {},
   "outputs": [
    {
     "name": "stderr",
     "output_type": "stream",
     "text": [
      "C:\\ProgramData\\Anaconda3\\lib\\site-packages\\sklearn\\utils\\deprecation.py:87: FutureWarning: Function plot_confusion_matrix is deprecated; Function `plot_confusion_matrix` is deprecated in 1.0 and will be removed in 1.2. Use one of the class methods: ConfusionMatrixDisplay.from_predictions or ConfusionMatrixDisplay.from_estimator.\n",
      "  warnings.warn(msg, category=FutureWarning)\n",
      "C:\\ProgramData\\Anaconda3\\lib\\site-packages\\sklearn\\utils\\deprecation.py:87: FutureWarning: Function plot_confusion_matrix is deprecated; Function `plot_confusion_matrix` is deprecated in 1.0 and will be removed in 1.2. Use one of the class methods: ConfusionMatrixDisplay.from_predictions or ConfusionMatrixDisplay.from_estimator.\n",
      "  warnings.warn(msg, category=FutureWarning)\n"
     ]
    },
    {
     "name": "stdout",
     "output_type": "stream",
     "text": [
      "Confusion matrix CatBoost @80\n",
      "[[7243   92]\n",
      " [ 854  614]]\n",
      "Normalized confusion matrix\n",
      "[[0.9874574  0.0125426 ]\n",
      " [0.58174387 0.41825613]]\n"
     ]
    },
    {
     "data": {
      "image/png": "[encoded data removed]",
      "text/plain": [
       "<Figure size 432x288 with 2 Axes>"
      ]
     },
     "metadata": {
      "needs_background": "light"
     },
     "output_type": "display_data"
    },
    {
     "data": {
      "image/png": "[encoded data removed]",
      "text/plain": [
       "<Figure size 432x288 with 2 Axes>"
      ]
     },
     "metadata": {
      "needs_background": "light"
     },
     "output_type": "display_data"
    }
   ],
   "source": [
    "#plotting non-normalized confusion matrix\n",
    "\n",
    "titles = [(\"Confusion matrix CatBoost @80\",None),\n",
    "         (\"Normalized confusion matrix\",\"true\")]\n",
    "\n",
    "for title , normalized in titles:\n",
    "    disp =plot_confusion_matrix(model_grade,x_test,y_test,\n",
    "                               display_labels=[\"Normal\",\"Theft\"],\n",
    "                               cmap=plt.cm.Blues,\n",
    "                               normalize=normalized)\n",
    "    disp.ax_.set_title(title)\n",
    "    print(title)\n",
    "    print(disp.confusion_matrix)\n",
    "    \n",
    "plt.show()"
   ]
  },
  {
   "cell_type": "code",
   "execution_count": null,
   "id": "57d16cb3-8bc0-4c0a-a9c3-2b23587fc74e",
   "metadata": {},
   "outputs": [],
   "source": []
  },
  {
   "cell_type": "code",
   "execution_count": null,
   "id": "0868d735-43ca-4594-8e6d-497e5bdb1b27",
   "metadata": {},
   "outputs": [],
   "source": []
  },
  {
   "cell_type": "code",
   "execution_count": null,
   "id": "80f5324e-2ca6-4307-9cb1-011a2e3286b5",
   "metadata": {},
   "outputs": [],
   "source": []
  },
  {
   "cell_type": "code",
   "execution_count": 47,
   "id": "e537e638-f720-4ad2-94b4-e9c0374d7530",
   "metadata": {},
   "outputs": [],
   "source": [
    "probs = model_grade.predict_proba(x_test)\n",
    "preds = probs[:,1]\n",
    "fpr,tpr,thresold = roc_curve(y_test,preds)\n",
    "roc_auc = auc(fpr,tpr)"
   ]
  },
  {
   "cell_type": "code",
   "execution_count": null,
   "id": "0a63976d-bd5e-498d-8f06-1ff5df0736ec",
   "metadata": {},
   "outputs": [],
   "source": []
  },
  {
   "cell_type": "code",
   "execution_count": null,
   "id": "8aa3f19e-d33c-43d6-942e-8b4530056745",
   "metadata": {},
   "outputs": [],
   "source": []
  },
  {
   "cell_type": "code",
   "execution_count": 48,
   "id": "81e13c7c-5ff8-45db-aa6f-a3e4df26e888",
   "metadata": {},
   "outputs": [
    {
     "data": {
      "image/png": "[encoded data removed]",
      "text/plain": [
       "<Figure size 432x288 with 1 Axes>"
      ]
     },
     "metadata": {
      "needs_background": "light"
     },
     "output_type": "display_data"
    }
   ],
   "source": [
    "plt.title(\"Receiver Operating Characteristic(ROC) Catboost @80\")\n",
    "plt.plot(fpr,tpr,\"b\",label=\"AUC = %0.4f\" %roc_auc)\n",
    "plt.legend(loc= \"lower right\")\n",
    "plt.plot([0,1],[0,1],\"r--\")\n",
    "plt.xlim([0,1])\n",
    "plt.ylim([0,1])\n",
    "plt.ylabel(\"True Positive Rate\")\n",
    "plt.xlabel(\"False Positive Rate\")\n",
    "plt.show()"
   ]
  },
  {
   "cell_type": "code",
   "execution_count": null,
   "id": "c7df45b1-bcc8-4605-b8c9-37a0bd3351a3",
   "metadata": {},
   "outputs": [],
   "source": []
  },
  {
   "cell_type": "code",
   "execution_count": null,
   "id": "88079a5d-1d22-490e-83ec-08fa1068250d",
   "metadata": {},
   "outputs": [],
   "source": []
  },
  {
   "cell_type": "code",
   "execution_count": null,
   "id": "7d88e4a1-82c6-4267-86a5-754c3d3c190b",
   "metadata": {},
   "outputs": [],
   "source": []
  },
  {
   "cell_type": "markdown",
   "id": "bff96bf8-78c8-40b8-a05c-b75468dd5ec8",
   "metadata": {},
   "source": [
    "## impplementing random undersampling with the model 100 %"
   ]
  },
  {
   "cell_type": "code",
   "execution_count": 12,
   "id": "51cd9a5c-e45f-4b71-9f41-8ecd317a253c",
   "metadata": {},
   "outputs": [],
   "source": [
    "#oversampling of minority class (imbalanced learning)\n",
    "rus_under = RandomUnderSampler(sampling_strategy=1,random_state=0)\n",
    "rus_x_train,rus_y_train = rus_under.fit_resample(X,y)"
   ]
  },
  {
   "cell_type": "code",
   "execution_count": 13,
   "id": "43236e5c-7b72-49a8-86b9-625e3ea8a944",
   "metadata": {},
   "outputs": [],
   "source": [
    "model_grade = CatBoostClassifier(verbose=0)"
   ]
  },
  {
   "cell_type": "code",
   "execution_count": 15,
   "id": "b38aff01-b3af-4537-86fe-a32954c67b5e",
   "metadata": {},
   "outputs": [
    {
     "data": {
      "text/plain": [
       "7158"
      ]
     },
     "execution_count": 15,
     "metadata": {},
     "output_type": "execute_result"
    }
   ],
   "source": [
    "len(rus_x_train)"
   ]
  },
  {
   "cell_type": "code",
   "execution_count": 16,
   "id": "6525191a-990d-42ee-833f-cd2b07ed0a24",
   "metadata": {},
   "outputs": [
    {
     "data": {
      "text/plain": [
       "7158"
      ]
     },
     "execution_count": 16,
     "metadata": {},
     "output_type": "execute_result"
    }
   ],
   "source": [
    "len(rus_y_train)"
   ]
  },
  {
   "cell_type": "code",
   "execution_count": 17,
   "id": "744fcf6b-37b8-48a4-9f29-14ab19cc6720",
   "metadata": {},
   "outputs": [],
   "source": [
    "x_train,x_test,y_train,y_test = train_test_split(rus_x_train,rus_y_train,test_size=0.20)"
   ]
  },
  {
   "cell_type": "code",
   "execution_count": 18,
   "id": "64300635-3213-447d-af25-0c6b4e61b550",
   "metadata": {},
   "outputs": [
    {
     "data": {
      "text/plain": [
       "<catboost.core.CatBoostClassifier at 0x178691105b0>"
      ]
     },
     "execution_count": 18,
     "metadata": {},
     "output_type": "execute_result"
    }
   ],
   "source": [
    "model_grade.fit(x_train,y_train)"
   ]
  },
  {
   "cell_type": "code",
   "execution_count": 19,
   "id": "08d38049-c677-469d-a445-77365a3e4032",
   "metadata": {},
   "outputs": [],
   "source": [
    "y_pred =model_grade.predict(x_test)"
   ]
  },
  {
   "cell_type": "code",
   "execution_count": 20,
   "id": "af0864d4-7525-4941-bd25-fab322829248",
   "metadata": {},
   "outputs": [
    {
     "name": "stdout",
     "output_type": "stream",
     "text": [
      "              precision    recall  f1-score   support\n",
      "\n",
      "           0       0.68      0.72      0.70       683\n",
      "           1       0.73      0.69      0.71       749\n",
      "\n",
      "    accuracy                           0.70      1432\n",
      "   macro avg       0.70      0.71      0.70      1432\n",
      "weighted avg       0.71      0.70      0.70      1432\n",
      "\n"
     ]
    }
   ],
   "source": [
    "print(classification_report(y_test,y_pred))"
   ]
  },
  {
   "cell_type": "code",
   "execution_count": 21,
   "id": "7a89e94c-795c-4f81-8d29-04b94fa9d8dc",
   "metadata": {},
   "outputs": [
    {
     "name": "stderr",
     "output_type": "stream",
     "text": [
      "C:\\ProgramData\\Anaconda3\\lib\\site-packages\\sklearn\\utils\\deprecation.py:87: FutureWarning: Function plot_confusion_matrix is deprecated; Function `plot_confusion_matrix` is deprecated in 1.0 and will be removed in 1.2. Use one of the class methods: ConfusionMatrixDisplay.from_predictions or ConfusionMatrixDisplay.from_estimator.\n",
      "  warnings.warn(msg, category=FutureWarning)\n",
      "C:\\ProgramData\\Anaconda3\\lib\\site-packages\\sklearn\\utils\\deprecation.py:87: FutureWarning: Function plot_confusion_matrix is deprecated; Function `plot_confusion_matrix` is deprecated in 1.0 and will be removed in 1.2. Use one of the class methods: ConfusionMatrixDisplay.from_predictions or ConfusionMatrixDisplay.from_estimator.\n",
      "  warnings.warn(msg, category=FutureWarning)\n"
     ]
    },
    {
     "name": "stdout",
     "output_type": "stream",
     "text": [
      "Confusion matrix CatBoost @80\n",
      "[[491 192]\n",
      " [231 518]]\n",
      "Normalized confusion matrix\n",
      "[[0.71888726 0.28111274]\n",
      " [0.30841121 0.69158879]]\n"
     ]
    },
    {
     "data": {
      "image/png": "[encoded data removed]",
      "text/plain": [
       "<Figure size 432x288 with 2 Axes>"
      ]
     },
     "metadata": {
      "needs_background": "light"
     },
     "output_type": "display_data"
    },
    {
     "data": {
      "image/png": "[encoded data removed]",
      "text/plain": [
       "<Figure size 432x288 with 2 Axes>"
      ]
     },
     "metadata": {
      "needs_background": "light"
     },
     "output_type": "display_data"
    }
   ],
   "source": [
    "#plotting non-normalized confusion matrix\n",
    "\n",
    "titles = [(\"Confusion matrix CatBoost @80\",None),\n",
    "         (\"Normalized confusion matrix\",\"true\")]\n",
    "\n",
    "for title , normalized in titles:\n",
    "    disp =plot_confusion_matrix(model_grade,x_test,y_test,\n",
    "                               display_labels=[\"Normal\",\"Theft\"],\n",
    "                               cmap=plt.cm.Blues,\n",
    "                               normalize=normalized)\n",
    "    disp.ax_.set_title(title)\n",
    "    print(title)\n",
    "    print(disp.confusion_matrix)\n",
    "    \n",
    "plt.show()"
   ]
  },
  {
   "cell_type": "code",
   "execution_count": null,
   "id": "56ae2b3b-13cd-4ef0-99bd-6961198987c9",
   "metadata": {},
   "outputs": [],
   "source": []
  },
  {
   "cell_type": "code",
   "execution_count": 22,
   "id": "cc043150-8d6c-4c62-bb54-181988879cde",
   "metadata": {},
   "outputs": [],
   "source": [
    "probs = model_grade.predict_proba(x_test)\n",
    "preds = probs[:,1]\n",
    "fpr,tpr,thresold = roc_curve(y_test,preds)\n",
    "roc_auc = auc(fpr,tpr)"
   ]
  },
  {
   "cell_type": "code",
   "execution_count": null,
   "id": "c2333e04-0152-4cf1-87fd-d1629ba6c109",
   "metadata": {},
   "outputs": [],
   "source": []
  },
  {
   "cell_type": "code",
   "execution_count": 23,
   "id": "8f59f44d-b4d4-4df9-9a38-2cbf8b4c6791",
   "metadata": {},
   "outputs": [
    {
     "data": {
      "image/png": "[encoded data removed]",
      "text/plain": [
       "<Figure size 432x288 with 1 Axes>"
      ]
     },
     "metadata": {
      "needs_background": "light"
     },
     "output_type": "display_data"
    }
   ],
   "source": [
    "plt.title(\"Receiver Operating Characteristic(ROC) Catboost @80\")\n",
    "plt.plot(fpr,tpr,\"b\",label=\"AUC = %0.4f\" %roc_auc)\n",
    "plt.legend(loc= \"lower right\")\n",
    "plt.plot([0,1],[0,1],\"r--\")\n",
    "plt.xlim([0,1])\n",
    "plt.ylim([0,1])\n",
    "plt.ylabel(\"True Positive Rate\")\n",
    "plt.xlabel(\"False Positive Rate\")\n",
    "plt.show()"
   ]
  },
  {
   "cell_type": "code",
   "execution_count": null,
   "id": "d5bca0b0-745a-4766-a047-2672c6741699",
   "metadata": {},
   "outputs": [],
   "source": []
  },
  {
   "cell_type": "code",
   "execution_count": null,
   "id": "f5bfd95f-1dc8-4eb8-b882-8235cd9ed9ae",
   "metadata": {},
   "outputs": [],
   "source": []
  },
  {
   "cell_type": "markdown",
   "id": "104a33aa-1a47-464f-8a99-e785320e566d",
   "metadata": {},
   "source": [
    "#### using the model in the hyper parameters "
   ]
  },
  {
   "cell_type": "code",
   "execution_count": 24,
   "id": "50040e35-6dc4-4b7e-bcbb-824f214f3f3f",
   "metadata": {},
   "outputs": [],
   "source": [
    "model_grade = CatBoostClassifier(max_depth=10,verbose=0)"
   ]
  },
  {
   "cell_type": "code",
   "execution_count": 25,
   "id": "b7d51e61-043d-495f-98bb-9a6f1a01ea7f",
   "metadata": {},
   "outputs": [
    {
     "data": {
      "text/plain": [
       "<catboost.core.CatBoostClassifier at 0x178687cdc40>"
      ]
     },
     "execution_count": 25,
     "metadata": {},
     "output_type": "execute_result"
    }
   ],
   "source": [
    "model_grade.fit(x_train,y_train)"
   ]
  },
  {
   "cell_type": "code",
   "execution_count": 26,
   "id": "1d42aef3-dec8-4d3a-8589-29ecaec5043d",
   "metadata": {},
   "outputs": [],
   "source": [
    "y_pred =model_grade.predict(x_test)"
   ]
  },
  {
   "cell_type": "code",
   "execution_count": 27,
   "id": "d47bed05-34cd-44b0-a065-00620b349ef7",
   "metadata": {},
   "outputs": [
    {
     "name": "stdout",
     "output_type": "stream",
     "text": [
      "              precision    recall  f1-score   support\n",
      "\n",
      "           0       0.68      0.72      0.70       683\n",
      "           1       0.73      0.70      0.71       749\n",
      "\n",
      "    accuracy                           0.71      1432\n",
      "   macro avg       0.71      0.71      0.71      1432\n",
      "weighted avg       0.71      0.71      0.71      1432\n",
      "\n"
     ]
    }
   ],
   "source": [
    "print(classification_report(y_test,y_pred))"
   ]
  },
  {
   "cell_type": "code",
   "execution_count": 28,
   "id": "12f70052-e37a-4d80-a59b-2126ede14cc6",
   "metadata": {},
   "outputs": [
    {
     "name": "stderr",
     "output_type": "stream",
     "text": [
      "C:\\ProgramData\\Anaconda3\\lib\\site-packages\\sklearn\\utils\\deprecation.py:87: FutureWarning: Function plot_confusion_matrix is deprecated; Function `plot_confusion_matrix` is deprecated in 1.0 and will be removed in 1.2. Use one of the class methods: ConfusionMatrixDisplay.from_predictions or ConfusionMatrixDisplay.from_estimator.\n",
      "  warnings.warn(msg, category=FutureWarning)\n",
      "C:\\ProgramData\\Anaconda3\\lib\\site-packages\\sklearn\\utils\\deprecation.py:87: FutureWarning: Function plot_confusion_matrix is deprecated; Function `plot_confusion_matrix` is deprecated in 1.0 and will be removed in 1.2. Use one of the class methods: ConfusionMatrixDisplay.from_predictions or ConfusionMatrixDisplay.from_estimator.\n",
      "  warnings.warn(msg, category=FutureWarning)\n"
     ]
    },
    {
     "name": "stdout",
     "output_type": "stream",
     "text": [
      "Confusion matrix CatBoost @80\n",
      "[[492 191]\n",
      " [227 522]]\n",
      "Normalized confusion matrix\n",
      "[[0.72035139 0.27964861]\n",
      " [0.30307076 0.69692924]]\n"
     ]
    },
    {
     "data": {
      "image/png": "[encoded data removed]",
      "text/plain": [
       "<Figure size 432x288 with 2 Axes>"
      ]
     },
     "metadata": {
      "needs_background": "light"
     },
     "output_type": "display_data"
    },
    {
     "data": {
      "image/png": "[encoded data removed]",
      "text/plain": [
       "<Figure size 432x288 with 2 Axes>"
      ]
     },
     "metadata": {
      "needs_background": "light"
     },
     "output_type": "display_data"
    }
   ],
   "source": [
    "#plotting non-normalized confusion matrix\n",
    "\n",
    "titles = [(\"Confusion matrix CatBoost @80\",None),\n",
    "         (\"Normalized confusion matrix\",\"true\")]\n",
    "\n",
    "for title , normalized in titles:\n",
    "    disp =plot_confusion_matrix(model_grade,x_test,y_test,\n",
    "                               display_labels=[\"Normal\",\"Theft\"],\n",
    "                               cmap=plt.cm.Blues,\n",
    "                               normalize=normalized)\n",
    "    disp.ax_.set_title(title)\n",
    "    print(title)\n",
    "    print(disp.confusion_matrix)\n",
    "    \n",
    "plt.show()"
   ]
  },
  {
   "cell_type": "code",
   "execution_count": 29,
   "id": "d69d23c1-5a91-4102-8513-8bf461ead7a9",
   "metadata": {},
   "outputs": [],
   "source": [
    "probs = model_grade.predict_proba(x_test)\n",
    "preds = probs[:,1]\n",
    "fpr,tpr,thresold = roc_curve(y_test,preds)\n",
    "roc_auc = auc(fpr,tpr)"
   ]
  },
  {
   "cell_type": "code",
   "execution_count": 30,
   "id": "a1898dd2-ce89-49dd-a38b-69c7595465a7",
   "metadata": {},
   "outputs": [
    {
     "data": {
      "image/png": "[encoded data removed]",
      "text/plain": [
       "<Figure size 432x288 with 1 Axes>"
      ]
     },
     "metadata": {
      "needs_background": "light"
     },
     "output_type": "display_data"
    }
   ],
   "source": [
    "plt.title(\"Receiver Operating Characteristic(ROC) Catboost @80\")\n",
    "plt.plot(fpr,tpr,\"b\",label=\"AUC = %0.4f\" %roc_auc)\n",
    "plt.legend(loc= \"lower right\")\n",
    "plt.plot([0,1],[0,1],\"r--\")\n",
    "plt.xlim([0,1])\n",
    "plt.ylim([0,1])\n",
    "plt.ylabel(\"True Positive Rate\")\n",
    "plt.xlabel(\"False Positive Rate\")\n",
    "plt.show()"
   ]
  },
  {
   "cell_type": "code",
   "execution_count": null,
   "id": "d96aabfc-2d00-4c5c-8021-9015fc3dd4ea",
   "metadata": {},
   "outputs": [],
   "source": []
  },
  {
   "cell_type": "code",
   "execution_count": null,
   "id": "894054cc-2332-4599-8cd7-96e30d6bca56",
   "metadata": {},
   "outputs": [],
   "source": []
  },
  {
   "cell_type": "markdown",
   "id": "105f86dd-1a8a-46a0-96c7-f2d777428275",
   "metadata": {},
   "source": [
    "## using Near Miss in cat"
   ]
  },
  {
   "cell_type": "code",
   "execution_count": 33,
   "id": "2e83822a-cb24-47f7-a7f4-c274ed589bcb",
   "metadata": {},
   "outputs": [],
   "source": [
    "#oversampling of minority class (imbalanced learning)\n",
    "near_under = NearMiss(sampling_strategy=1,n_jobs=-1)\n",
    "near_x_train,near_y_train = near_under.fit_resample(X,y)"
   ]
  },
  {
   "cell_type": "code",
   "execution_count": 34,
   "id": "2e78b993-6c1b-46d9-a720-5bbf06c49006",
   "metadata": {},
   "outputs": [],
   "source": [
    "x_train,x_test,y_train,y_test = train_test_split(near_x_train,near_y_train,test_size=0.20)"
   ]
  },
  {
   "cell_type": "code",
   "execution_count": 35,
   "id": "5c183aa5-0ad0-4604-9212-de03c09165ae",
   "metadata": {},
   "outputs": [],
   "source": [
    "model_grade = CatBoostClassifier(verbose=0)"
   ]
  },
  {
   "cell_type": "code",
   "execution_count": 36,
   "id": "2271400b-a23b-4779-91a1-a864e6f7491d",
   "metadata": {},
   "outputs": [
    {
     "data": {
      "text/plain": [
       "<catboost.core.CatBoostClassifier at 0x1787cc49610>"
      ]
     },
     "execution_count": 36,
     "metadata": {},
     "output_type": "execute_result"
    }
   ],
   "source": [
    "model_grade.fit(x_train,y_train)"
   ]
  },
  {
   "cell_type": "code",
   "execution_count": 37,
   "id": "1ed35aea-7daa-4791-b902-f27aae131564",
   "metadata": {},
   "outputs": [],
   "source": [
    "y_pred =model_grade.predict(x_test)"
   ]
  },
  {
   "cell_type": "code",
   "execution_count": 38,
   "id": "9448a61c-2a2a-4796-9664-4f66bab643f9",
   "metadata": {},
   "outputs": [
    {
     "name": "stdout",
     "output_type": "stream",
     "text": [
      "              precision    recall  f1-score   support\n",
      "\n",
      "           0       0.88      0.97      0.92       735\n",
      "           1       0.96      0.86      0.91       697\n",
      "\n",
      "    accuracy                           0.92      1432\n",
      "   macro avg       0.92      0.92      0.92      1432\n",
      "weighted avg       0.92      0.92      0.92      1432\n",
      "\n"
     ]
    }
   ],
   "source": [
    "print(classification_report(y_test,y_pred))"
   ]
  },
  {
   "cell_type": "code",
   "execution_count": 39,
   "id": "de45d7e4-fe8a-416f-9bde-692a1a7080ce",
   "metadata": {},
   "outputs": [
    {
     "name": "stderr",
     "output_type": "stream",
     "text": [
      "C:\\ProgramData\\Anaconda3\\lib\\site-packages\\sklearn\\utils\\deprecation.py:87: FutureWarning: Function plot_confusion_matrix is deprecated; Function `plot_confusion_matrix` is deprecated in 1.0 and will be removed in 1.2. Use one of the class methods: ConfusionMatrixDisplay.from_predictions or ConfusionMatrixDisplay.from_estimator.\n",
      "  warnings.warn(msg, category=FutureWarning)\n",
      "C:\\ProgramData\\Anaconda3\\lib\\site-packages\\sklearn\\utils\\deprecation.py:87: FutureWarning: Function plot_confusion_matrix is deprecated; Function `plot_confusion_matrix` is deprecated in 1.0 and will be removed in 1.2. Use one of the class methods: ConfusionMatrixDisplay.from_predictions or ConfusionMatrixDisplay.from_estimator.\n",
      "  warnings.warn(msg, category=FutureWarning)\n"
     ]
    },
    {
     "name": "stdout",
     "output_type": "stream",
     "text": [
      "Confusion matrix CatBoost @80\n",
      "[[713  22]\n",
      " [ 95 602]]\n",
      "Normalized confusion matrix\n",
      "[[0.97006803 0.02993197]\n",
      " [0.13629842 0.86370158]]\n"
     ]
    },
    {
     "data": {
      "image/png": "[encoded data removed]",
      "text/plain": [
       "<Figure size 432x288 with 2 Axes>"
      ]
     },
     "metadata": {
      "needs_background": "light"
     },
     "output_type": "display_data"
    },
    {
     "data": {
      "image/png": "[encoded data removed]",
      "text/plain": [
       "<Figure size 432x288 with 2 Axes>"
      ]
     },
     "metadata": {
      "needs_background": "light"
     },
     "output_type": "display_data"
    }
   ],
   "source": [
    "#plotting non-normalized confusion matrix\n",
    "\n",
    "titles = [(\"Confusion matrix CatBoost @80\",None),\n",
    "         (\"Normalized confusion matrix\",\"true\")]\n",
    "\n",
    "for title , normalized in titles:\n",
    "    disp =plot_confusion_matrix(model_grade,x_test,y_test,\n",
    "                               display_labels=[\"Normal\",\"Theft\"],\n",
    "                               cmap=plt.cm.Blues,\n",
    "                               normalize=normalized)\n",
    "    disp.ax_.set_title(title)\n",
    "    print(title)\n",
    "    print(disp.confusion_matrix)\n",
    "    \n",
    "plt.show()"
   ]
  },
  {
   "cell_type": "code",
   "execution_count": 40,
   "id": "5794ec47-0283-4c88-a0d2-fddb5bf3a2a4",
   "metadata": {},
   "outputs": [],
   "source": [
    "probs = model_grade.predict_proba(x_test)\n",
    "preds = probs[:,1]\n",
    "fpr,tpr,thresold = roc_curve(y_test,preds)\n",
    "roc_auc = auc(fpr,tpr)"
   ]
  },
  {
   "cell_type": "code",
   "execution_count": 41,
   "id": "b9785a70-c5f8-4cc9-9d57-acd32f2350c4",
   "metadata": {},
   "outputs": [
    {
     "data": {
      "image/png": "[encoded data removed]",
      "text/plain": [
       "<Figure size 432x288 with 1 Axes>"
      ]
     },
     "metadata": {
      "needs_background": "light"
     },
     "output_type": "display_data"
    }
   ],
   "source": [
    "plt.title(\"Receiver Operating Characteristic(ROC) Catboost @80\")\n",
    "plt.plot(fpr,tpr,\"b\",label=\"AUC = %0.4f\" %roc_auc)\n",
    "plt.legend(loc= \"lower right\")\n",
    "plt.plot([0,1],[0,1],\"r--\")\n",
    "plt.xlim([0,1])\n",
    "plt.ylim([0,1])\n",
    "plt.ylabel(\"True Positive Rate\")\n",
    "plt.xlabel(\"False Positive Rate\")\n",
    "plt.show()"
   ]
  },
  {
   "cell_type": "code",
   "execution_count": null,
   "id": "d5bc50d4-ada1-49c1-8328-2b2b33ff99c2",
   "metadata": {},
   "outputs": [],
   "source": []
  },
  {
   "cell_type": "markdown",
   "id": "fc256c47-7c49-473b-a6be-4a22b7326544",
   "metadata": {},
   "source": [
    "## using the model cat that i built"
   ]
  },
  {
   "cell_type": "code",
   "execution_count": 42,
   "id": "47790230-b250-4f34-b424-dec788871659",
   "metadata": {},
   "outputs": [],
   "source": [
    "#oversampling of minority class (imbalanced learning)\n",
    "near_under = NearMiss(sampling_strategy=1,n_jobs=-1)\n",
    "near_x_train,near_y_train = near_under.fit_resample(X,y)"
   ]
  },
  {
   "cell_type": "code",
   "execution_count": 43,
   "id": "3f00731d-1f03-4f1e-8471-eea3f95a6bff",
   "metadata": {},
   "outputs": [],
   "source": [
    "x_train,x_test,y_train,y_test = train_test_split(near_x_train,near_y_train,test_size=0.20)"
   ]
  },
  {
   "cell_type": "code",
   "execution_count": 44,
   "id": "a45afd6b-88ab-4d75-9dea-083bff82e34e",
   "metadata": {},
   "outputs": [],
   "source": [
    "model_grade = CatBoostClassifier(max_depth=10,verbose=0)"
   ]
  },
  {
   "cell_type": "code",
   "execution_count": 45,
   "id": "2ae56878-cd04-49d8-97c2-ab82c5e1252e",
   "metadata": {},
   "outputs": [
    {
     "data": {
      "text/plain": [
       "<catboost.core.CatBoostClassifier at 0x178789326a0>"
      ]
     },
     "execution_count": 45,
     "metadata": {},
     "output_type": "execute_result"
    }
   ],
   "source": [
    "model_grade.fit(x_train,y_train)"
   ]
  },
  {
   "cell_type": "code",
   "execution_count": 46,
   "id": "2c636fc9-7dc7-41fb-b0f9-39a482fe6d90",
   "metadata": {},
   "outputs": [
    {
     "name": "stdout",
     "output_type": "stream",
     "text": [
      "              precision    recall  f1-score   support\n",
      "\n",
      "           0       0.49      0.56      0.52       717\n",
      "           1       0.49      0.43      0.46       715\n",
      "\n",
      "    accuracy                           0.49      1432\n",
      "   macro avg       0.49      0.49      0.49      1432\n",
      "weighted avg       0.49      0.49      0.49      1432\n",
      "\n"
     ]
    }
   ],
   "source": [
    "print(classification_report(y_test,y_pred))"
   ]
  },
  {
   "cell_type": "code",
   "execution_count": null,
   "id": "84f6f818-907d-4d85-825c-0dc48f0ebc30",
   "metadata": {},
   "outputs": [],
   "source": []
  },
  {
   "cell_type": "code",
   "execution_count": 47,
   "id": "0e51c88d-2374-497b-85fc-265e9720edc8",
   "metadata": {},
   "outputs": [
    {
     "name": "stderr",
     "output_type": "stream",
     "text": [
      "C:\\ProgramData\\Anaconda3\\lib\\site-packages\\sklearn\\utils\\deprecation.py:87: FutureWarning: Function plot_confusion_matrix is deprecated; Function `plot_confusion_matrix` is deprecated in 1.0 and will be removed in 1.2. Use one of the class methods: ConfusionMatrixDisplay.from_predictions or ConfusionMatrixDisplay.from_estimator.\n",
      "  warnings.warn(msg, category=FutureWarning)\n",
      "C:\\ProgramData\\Anaconda3\\lib\\site-packages\\sklearn\\utils\\deprecation.py:87: FutureWarning: Function plot_confusion_matrix is deprecated; Function `plot_confusion_matrix` is deprecated in 1.0 and will be removed in 1.2. Use one of the class methods: ConfusionMatrixDisplay.from_predictions or ConfusionMatrixDisplay.from_estimator.\n",
      "  warnings.warn(msg, category=FutureWarning)\n"
     ]
    },
    {
     "name": "stdout",
     "output_type": "stream",
     "text": [
      "Confusion matrix CatBoost @80\n",
      "[[697  20]\n",
      " [101 614]]\n",
      "Normalized confusion matrix\n",
      "[[0.972106   0.027894  ]\n",
      " [0.14125874 0.85874126]]\n"
     ]
    },
    {
     "data": {
      "image/png": "[encoded data removed]",
      "text/plain": [
       "<Figure size 432x288 with 2 Axes>"
      ]
     },
     "metadata": {
      "needs_background": "light"
     },
     "output_type": "display_data"
    },
    {
     "data": {
      "image/png": "[encoded data removed]",
      "text/plain": [
       "<Figure size 432x288 with 2 Axes>"
      ]
     },
     "metadata": {
      "needs_background": "light"
     },
     "output_type": "display_data"
    }
   ],
   "source": [
    "#plotting non-normalized confusion matrix\n",
    "\n",
    "titles = [(\"Confusion matrix CatBoost @80\",None),\n",
    "         (\"Normalized confusion matrix\",\"true\")]\n",
    "\n",
    "for title , normalized in titles:\n",
    "    disp =plot_confusion_matrix(model_grade,x_test,y_test,\n",
    "                               display_labels=[\"Normal\",\"Theft\"],\n",
    "                               cmap=plt.cm.Blues,\n",
    "                               normalize=normalized)\n",
    "    disp.ax_.set_title(title)\n",
    "    print(title)\n",
    "    print(disp.confusion_matrix)\n",
    "    \n",
    "plt.show()"
   ]
  },
  {
   "cell_type": "code",
   "execution_count": 48,
   "id": "2365d3ea-ed79-479d-a475-86b6ddbe61a0",
   "metadata": {},
   "outputs": [],
   "source": [
    "probs = model_grade.predict_proba(x_test)\n",
    "preds = probs[:,1]\n",
    "fpr,tpr,thresold = roc_curve(y_test,preds)\n",
    "roc_auc = auc(fpr,tpr)"
   ]
  },
  {
   "cell_type": "code",
   "execution_count": 49,
   "id": "b99ca99c-ba54-48ec-85eb-28738a323817",
   "metadata": {},
   "outputs": [
    {
     "data": {
      "image/png": "[encoded data removed]",
      "text/plain": [
       "<Figure size 432x288 with 1 Axes>"
      ]
     },
     "metadata": {
      "needs_background": "light"
     },
     "output_type": "display_data"
    }
   ],
   "source": [
    "plt.title(\"Receiver Operating Characteristic(ROC) Catboost @80\")\n",
    "plt.plot(fpr,tpr,\"b\",label=\"AUC = %0.4f\" %roc_auc)\n",
    "plt.legend(loc= \"lower right\")\n",
    "plt.plot([0,1],[0,1],\"r--\")\n",
    "plt.xlim([0,1])\n",
    "plt.ylim([0,1])\n",
    "plt.ylabel(\"True Positive Rate\")\n",
    "plt.xlabel(\"False Positive Rate\")\n",
    "plt.show()"
   ]
  },
  {
   "cell_type": "code",
   "execution_count": null,
   "id": "d5ff1bf0-2dc6-4166-88e0-7c2911da04ce",
   "metadata": {},
   "outputs": [],
   "source": []
  }
 ],
 "metadata": {
  "kernelspec": {
   "display_name": "Python 3 (ipykernel)",
   "language": "python",
   "name": "python3"
  },
  "language_info": {
   "codemirror_mode": {
    "name": "ipython",
    "version": 3
   },
   "file_extension": ".py",
   "mimetype": "text/x-python",
   "name": "python",
   "nbconvert_exporter": "python",
   "pygments_lexer": "ipython3",
   "version": "3.9.15"
  }
 },
 "nbformat": 4,
 "nbformat_minor": 5
}
