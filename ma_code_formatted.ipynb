{
 "cells": [
  {
   "cell_type": "markdown",
   "id": "78042b5a-2aa5-4342-ade0-cf9416759549",
   "metadata": {},
   "source": [
    "## Data preprocessing stage"
   ]
  },
  {
   "cell_type": "code",
   "execution_count": 1,
   "id": "221efbb5-352c-411c-ab6e-b126d302e2ed",
   "metadata": {},
   "outputs": [],
   "source": [
    "import pandas as pd\n",
    "import numpy as np\n",
    "import matplotlib.pyplot as plt\n",
    "%matplotlib inline\n",
    "import seaborn as sns\n",
    "import time\n",
    "from sklearn.preprocessing import MinMaxScaler"
   ]
  },
  {
   "cell_type": "markdown",
   "id": "145da876-09c3-435b-99d9-69197e7a6faf",
   "metadata": {},
   "source": [
    "### Reading dataset and checking simple metrics"
   ]
  },
  {
   "cell_type": "code",
   "execution_count": null,
   "id": "9a81ae19-53d6-4df0-b736-3fe5ad276a65",
   "metadata": {},
   "outputs": [],
   "source": [
    "#reading the dataset\n",
    "df = pd.read_csv(\"../Datasets/china_data.csv\")\n",
    "#dataset simple overview\n",
    "df\n"
   ]
  }
 ],
 "metadata": {
  "kernelspec": {
   "display_name": "Python 3 (ipykernel)",
   "language": "python",
   "name": "python3"
  },
  "language_info": {
   "codemirror_mode": {
    "name": "ipython",
    "version": 3
   },
   "file_extension": ".py",
   "mimetype": "text/x-python",
   "name": "python",
   "nbconvert_exporter": "python",
   "pygments_lexer": "ipython3",
   "version": "3.9.15"
  }
 },
 "nbformat": 4,
 "nbformat_minor": 5
}
